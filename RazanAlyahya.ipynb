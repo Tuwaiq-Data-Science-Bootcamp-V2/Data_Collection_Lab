{
 "cells": [
  {
   "cell_type": "code",
   "execution_count": 120,
   "id": "d4eccf8b",
   "metadata": {},
   "outputs": [],
   "source": [
    "import snscrape.modules.twitter as sntwitter\n",
    "import pandas as pd\n",
    "import re\n",
    "from openpyxl.cell.cell import ILLEGAL_CHARACTERS_RE\n",
    "from openpyxl import *\n",
    "import warnings\n",
    "warnings.filterwarnings(\"ignore\")\n",
    "import pandas as pd\n",
    "import numpy as np\n",
    "import seaborn as sns\n",
    "import matplotlib.pyplot as plt\n",
    "%matplotlib inline\n",
    "import plotly.express as px"
   ]
  },
  {
   "cell_type": "markdown",
   "id": "065bd15e",
   "metadata": {},
   "source": [
    "# Web scraping"
   ]
  },
  {
   "cell_type": "code",
   "execution_count": 121,
   "id": "a3c7d77e",
   "metadata": {},
   "outputs": [
    {
     "data": {
      "text/plain": [
       "'https://www.imdb.com/chart/top'"
      ]
     },
     "execution_count": 121,
     "metadata": {},
     "output_type": "execute_result"
    }
   ],
   "source": [
    "url_link='https://www.imdb.com/chart/top'\n",
    "url=url_link\n",
    "url"
   ]
  },
  {
   "cell_type": "code",
   "execution_count": 122,
   "id": "ca41c185",
   "metadata": {},
   "outputs": [],
   "source": [
    "df = pd.read_html(url, header=0)"
   ]
  },
  {
   "cell_type": "code",
   "execution_count": 123,
   "id": "7a280717",
   "metadata": {
    "scrolled": false
   },
   "outputs": [
    {
     "data": {
      "text/html": [
       "<div>\n",
       "<style scoped>\n",
       "    .dataframe tbody tr th:only-of-type {\n",
       "        vertical-align: middle;\n",
       "    }\n",
       "\n",
       "    .dataframe tbody tr th {\n",
       "        vertical-align: top;\n",
       "    }\n",
       "\n",
       "    .dataframe thead th {\n",
       "        text-align: right;\n",
       "    }\n",
       "</style>\n",
       "<table border=\"1\" class=\"dataframe\">\n",
       "  <thead>\n",
       "    <tr style=\"text-align: right;\">\n",
       "      <th></th>\n",
       "      <th>Rank &amp; Title</th>\n",
       "      <th>IMDb Rating</th>\n",
       "    </tr>\n",
       "  </thead>\n",
       "  <tbody>\n",
       "    <tr>\n",
       "      <th>0</th>\n",
       "      <td>1.  The Shawshank Redemption  (1994)</td>\n",
       "      <td>9.2</td>\n",
       "    </tr>\n",
       "    <tr>\n",
       "      <th>1</th>\n",
       "      <td>2.  The Godfather  (1972)</td>\n",
       "      <td>9.2</td>\n",
       "    </tr>\n",
       "    <tr>\n",
       "      <th>2</th>\n",
       "      <td>3.  The Dark Knight  (2008)</td>\n",
       "      <td>9.0</td>\n",
       "    </tr>\n",
       "    <tr>\n",
       "      <th>3</th>\n",
       "      <td>4.  The Godfather Part II  (1974)</td>\n",
       "      <td>9.0</td>\n",
       "    </tr>\n",
       "    <tr>\n",
       "      <th>4</th>\n",
       "      <td>5.  12 Angry Men  (1957)</td>\n",
       "      <td>9.0</td>\n",
       "    </tr>\n",
       "    <tr>\n",
       "      <th>...</th>\n",
       "      <td>...</td>\n",
       "      <td>...</td>\n",
       "    </tr>\n",
       "    <tr>\n",
       "      <th>245</th>\n",
       "      <td>246.  Dersu Uzala  (1975)</td>\n",
       "      <td>8.0</td>\n",
       "    </tr>\n",
       "    <tr>\n",
       "      <th>246</th>\n",
       "      <td>247.  The Help  (2011)</td>\n",
       "      <td>8.0</td>\n",
       "    </tr>\n",
       "    <tr>\n",
       "      <th>247</th>\n",
       "      <td>248.  Aladdin  (1992)</td>\n",
       "      <td>8.0</td>\n",
       "    </tr>\n",
       "    <tr>\n",
       "      <th>248</th>\n",
       "      <td>249.  Gandhi  (1982)</td>\n",
       "      <td>8.0</td>\n",
       "    </tr>\n",
       "    <tr>\n",
       "      <th>249</th>\n",
       "      <td>250.  Dances with Wolves  (1990)</td>\n",
       "      <td>8.0</td>\n",
       "    </tr>\n",
       "  </tbody>\n",
       "</table>\n",
       "<p>250 rows × 2 columns</p>\n",
       "</div>"
      ],
      "text/plain": [
       "                             Rank & Title  IMDb Rating\n",
       "0    1.  The Shawshank Redemption  (1994)          9.2\n",
       "1               2.  The Godfather  (1972)          9.2\n",
       "2             3.  The Dark Knight  (2008)          9.0\n",
       "3       4.  The Godfather Part II  (1974)          9.0\n",
       "4                5.  12 Angry Men  (1957)          9.0\n",
       "..                                    ...          ...\n",
       "245             246.  Dersu Uzala  (1975)          8.0\n",
       "246                247.  The Help  (2011)          8.0\n",
       "247                 248.  Aladdin  (1992)          8.0\n",
       "248                  249.  Gandhi  (1982)          8.0\n",
       "249      250.  Dances with Wolves  (1990)          8.0\n",
       "\n",
       "[250 rows x 2 columns]"
      ]
     },
     "execution_count": 123,
     "metadata": {},
     "output_type": "execute_result"
    }
   ],
   "source": [
    "df=pd.DataFrame(df[0])\n",
    "df.drop(columns=['Unnamed: 0','Unnamed: 4','Your Rating'],inplace=True)\n",
    "df"
   ]
  },
  {
   "cell_type": "code",
   "execution_count": 124,
   "id": "07d4fbc1",
   "metadata": {},
   "outputs": [
    {
     "data": {
      "text/html": [
       "<div>\n",
       "<style scoped>\n",
       "    .dataframe tbody tr th:only-of-type {\n",
       "        vertical-align: middle;\n",
       "    }\n",
       "\n",
       "    .dataframe tbody tr th {\n",
       "        vertical-align: top;\n",
       "    }\n",
       "\n",
       "    .dataframe thead th {\n",
       "        text-align: right;\n",
       "    }\n",
       "</style>\n",
       "<table border=\"1\" class=\"dataframe\">\n",
       "  <thead>\n",
       "    <tr style=\"text-align: right;\">\n",
       "      <th></th>\n",
       "      <th>Rank &amp; Title</th>\n",
       "      <th>IMDb Rating</th>\n",
       "    </tr>\n",
       "  </thead>\n",
       "  <tbody>\n",
       "    <tr>\n",
       "      <th>0</th>\n",
       "      <td>1.  The Shawshank Redemption  (1994)</td>\n",
       "      <td>9.2</td>\n",
       "    </tr>\n",
       "    <tr>\n",
       "      <th>1</th>\n",
       "      <td>2.  The Godfather  (1972)</td>\n",
       "      <td>9.2</td>\n",
       "    </tr>\n",
       "    <tr>\n",
       "      <th>2</th>\n",
       "      <td>3.  The Dark Knight  (2008)</td>\n",
       "      <td>9.0</td>\n",
       "    </tr>\n",
       "    <tr>\n",
       "      <th>3</th>\n",
       "      <td>4.  The Godfather Part II  (1974)</td>\n",
       "      <td>9.0</td>\n",
       "    </tr>\n",
       "    <tr>\n",
       "      <th>4</th>\n",
       "      <td>5.  12 Angry Men  (1957)</td>\n",
       "      <td>9.0</td>\n",
       "    </tr>\n",
       "    <tr>\n",
       "      <th>5</th>\n",
       "      <td>6.  Schindler's List  (1993)</td>\n",
       "      <td>8.9</td>\n",
       "    </tr>\n",
       "    <tr>\n",
       "      <th>6</th>\n",
       "      <td>7.  The Lord of the Rings: The Return of the K...</td>\n",
       "      <td>8.9</td>\n",
       "    </tr>\n",
       "    <tr>\n",
       "      <th>7</th>\n",
       "      <td>8.  Pulp Fiction  (1994)</td>\n",
       "      <td>8.8</td>\n",
       "    </tr>\n",
       "    <tr>\n",
       "      <th>8</th>\n",
       "      <td>9.  The Lord of the Rings: The Fellowship of t...</td>\n",
       "      <td>8.8</td>\n",
       "    </tr>\n",
       "    <tr>\n",
       "      <th>9</th>\n",
       "      <td>10.  Il buono, il brutto, il cattivo  (1966)</td>\n",
       "      <td>8.8</td>\n",
       "    </tr>\n",
       "  </tbody>\n",
       "</table>\n",
       "</div>"
      ],
      "text/plain": [
       "                                        Rank & Title  IMDb Rating\n",
       "0               1.  The Shawshank Redemption  (1994)          9.2\n",
       "1                          2.  The Godfather  (1972)          9.2\n",
       "2                        3.  The Dark Knight  (2008)          9.0\n",
       "3                  4.  The Godfather Part II  (1974)          9.0\n",
       "4                           5.  12 Angry Men  (1957)          9.0\n",
       "5                       6.  Schindler's List  (1993)          8.9\n",
       "6  7.  The Lord of the Rings: The Return of the K...          8.9\n",
       "7                           8.  Pulp Fiction  (1994)          8.8\n",
       "8  9.  The Lord of the Rings: The Fellowship of t...          8.8\n",
       "9       10.  Il buono, il brutto, il cattivo  (1966)          8.8"
      ]
     },
     "execution_count": 124,
     "metadata": {},
     "output_type": "execute_result"
    }
   ],
   "source": [
    "df_sorted = df.sort_values(by='IMDb Rating',ascending=False).head(10)\n",
    "df_sorted"
   ]
  },
  {
   "cell_type": "code",
   "execution_count": 125,
   "id": "d1fe0516",
   "metadata": {
    "scrolled": false
   },
   "outputs": [
    {
     "data": {
      "application/vnd.plotly.v1+json": {
       "config": {
        "plotlyServerURL": "https://plot.ly"
       },
       "data": [
        {
         "alignmentgroup": "True",
         "hovertemplate": "الاسم=%{x}<br> تقييم=%{y}<extra></extra>",
         "legendgroup": "1.  The Shawshank Redemption  (1994)",
         "marker": {
          "color": "#636efa",
          "pattern": {
           "shape": ""
          }
         },
         "name": "1.  The Shawshank Redemption  (1994)",
         "offsetgroup": "1.  The Shawshank Redemption  (1994)",
         "orientation": "v",
         "showlegend": true,
         "textposition": "auto",
         "type": "bar",
         "x": [
          "1.  The Shawshank Redemption  (1994)"
         ],
         "xaxis": "x",
         "y": [
          9.2
         ],
         "yaxis": "y"
        },
        {
         "alignmentgroup": "True",
         "hovertemplate": "الاسم=%{x}<br> تقييم=%{y}<extra></extra>",
         "legendgroup": "2.  The Godfather  (1972)",
         "marker": {
          "color": "#EF553B",
          "pattern": {
           "shape": ""
          }
         },
         "name": "2.  The Godfather  (1972)",
         "offsetgroup": "2.  The Godfather  (1972)",
         "orientation": "v",
         "showlegend": true,
         "textposition": "auto",
         "type": "bar",
         "x": [
          "2.  The Godfather  (1972)"
         ],
         "xaxis": "x",
         "y": [
          9.2
         ],
         "yaxis": "y"
        },
        {
         "alignmentgroup": "True",
         "hovertemplate": "الاسم=%{x}<br> تقييم=%{y}<extra></extra>",
         "legendgroup": "3.  The Dark Knight  (2008)",
         "marker": {
          "color": "#00cc96",
          "pattern": {
           "shape": ""
          }
         },
         "name": "3.  The Dark Knight  (2008)",
         "offsetgroup": "3.  The Dark Knight  (2008)",
         "orientation": "v",
         "showlegend": true,
         "textposition": "auto",
         "type": "bar",
         "x": [
          "3.  The Dark Knight  (2008)"
         ],
         "xaxis": "x",
         "y": [
          9
         ],
         "yaxis": "y"
        },
        {
         "alignmentgroup": "True",
         "hovertemplate": "الاسم=%{x}<br> تقييم=%{y}<extra></extra>",
         "legendgroup": "4.  The Godfather Part II  (1974)",
         "marker": {
          "color": "#ab63fa",
          "pattern": {
           "shape": ""
          }
         },
         "name": "4.  The Godfather Part II  (1974)",
         "offsetgroup": "4.  The Godfather Part II  (1974)",
         "orientation": "v",
         "showlegend": true,
         "textposition": "auto",
         "type": "bar",
         "x": [
          "4.  The Godfather Part II  (1974)"
         ],
         "xaxis": "x",
         "y": [
          9
         ],
         "yaxis": "y"
        },
        {
         "alignmentgroup": "True",
         "hovertemplate": "الاسم=%{x}<br> تقييم=%{y}<extra></extra>",
         "legendgroup": "5.  12 Angry Men  (1957)",
         "marker": {
          "color": "#FFA15A",
          "pattern": {
           "shape": ""
          }
         },
         "name": "5.  12 Angry Men  (1957)",
         "offsetgroup": "5.  12 Angry Men  (1957)",
         "orientation": "v",
         "showlegend": true,
         "textposition": "auto",
         "type": "bar",
         "x": [
          "5.  12 Angry Men  (1957)"
         ],
         "xaxis": "x",
         "y": [
          9
         ],
         "yaxis": "y"
        },
        {
         "alignmentgroup": "True",
         "hovertemplate": "الاسم=%{x}<br> تقييم=%{y}<extra></extra>",
         "legendgroup": "6.  Schindler's List  (1993)",
         "marker": {
          "color": "#19d3f3",
          "pattern": {
           "shape": ""
          }
         },
         "name": "6.  Schindler's List  (1993)",
         "offsetgroup": "6.  Schindler's List  (1993)",
         "orientation": "v",
         "showlegend": true,
         "textposition": "auto",
         "type": "bar",
         "x": [
          "6.  Schindler's List  (1993)"
         ],
         "xaxis": "x",
         "y": [
          8.9
         ],
         "yaxis": "y"
        },
        {
         "alignmentgroup": "True",
         "hovertemplate": "الاسم=%{x}<br> تقييم=%{y}<extra></extra>",
         "legendgroup": "7.  The Lord of the Rings: The Return of the King  (2003)",
         "marker": {
          "color": "#FF6692",
          "pattern": {
           "shape": ""
          }
         },
         "name": "7.  The Lord of the Rings: The Return of the King  (2003)",
         "offsetgroup": "7.  The Lord of the Rings: The Return of the King  (2003)",
         "orientation": "v",
         "showlegend": true,
         "textposition": "auto",
         "type": "bar",
         "x": [
          "7.  The Lord of the Rings: The Return of the King  (2003)"
         ],
         "xaxis": "x",
         "y": [
          8.9
         ],
         "yaxis": "y"
        },
        {
         "alignmentgroup": "True",
         "hovertemplate": "الاسم=%{x}<br> تقييم=%{y}<extra></extra>",
         "legendgroup": "8.  Pulp Fiction  (1994)",
         "marker": {
          "color": "#B6E880",
          "pattern": {
           "shape": ""
          }
         },
         "name": "8.  Pulp Fiction  (1994)",
         "offsetgroup": "8.  Pulp Fiction  (1994)",
         "orientation": "v",
         "showlegend": true,
         "textposition": "auto",
         "type": "bar",
         "x": [
          "8.  Pulp Fiction  (1994)"
         ],
         "xaxis": "x",
         "y": [
          8.8
         ],
         "yaxis": "y"
        },
        {
         "alignmentgroup": "True",
         "hovertemplate": "الاسم=%{x}<br> تقييم=%{y}<extra></extra>",
         "legendgroup": "9.  The Lord of the Rings: The Fellowship of the Ring  (2001)",
         "marker": {
          "color": "#FF97FF",
          "pattern": {
           "shape": ""
          }
         },
         "name": "9.  The Lord of the Rings: The Fellowship of the Ring  (2001)",
         "offsetgroup": "9.  The Lord of the Rings: The Fellowship of the Ring  (2001)",
         "orientation": "v",
         "showlegend": true,
         "textposition": "auto",
         "type": "bar",
         "x": [
          "9.  The Lord of the Rings: The Fellowship of the Ring  (2001)"
         ],
         "xaxis": "x",
         "y": [
          8.8
         ],
         "yaxis": "y"
        },
        {
         "alignmentgroup": "True",
         "hovertemplate": "الاسم=%{x}<br> تقييم=%{y}<extra></extra>",
         "legendgroup": "10.  Il buono, il brutto, il cattivo  (1966)",
         "marker": {
          "color": "#FECB52",
          "pattern": {
           "shape": ""
          }
         },
         "name": "10.  Il buono, il brutto, il cattivo  (1966)",
         "offsetgroup": "10.  Il buono, il brutto, il cattivo  (1966)",
         "orientation": "v",
         "showlegend": true,
         "textposition": "auto",
         "type": "bar",
         "x": [
          "10.  Il buono, il brutto, il cattivo  (1966)"
         ],
         "xaxis": "x",
         "y": [
          8.8
         ],
         "yaxis": "y"
        }
       ],
       "layout": {
        "barmode": "relative",
        "legend": {
         "title": {
          "text": "الاسم"
         },
         "tracegroupgap": 0
        },
        "template": {
         "data": {
          "bar": [
           {
            "error_x": {
             "color": "#2a3f5f"
            },
            "error_y": {
             "color": "#2a3f5f"
            },
            "marker": {
             "line": {
              "color": "#E5ECF6",
              "width": 0.5
             },
             "pattern": {
              "fillmode": "overlay",
              "size": 10,
              "solidity": 0.2
             }
            },
            "type": "bar"
           }
          ],
          "barpolar": [
           {
            "marker": {
             "line": {
              "color": "#E5ECF6",
              "width": 0.5
             },
             "pattern": {
              "fillmode": "overlay",
              "size": 10,
              "solidity": 0.2
             }
            },
            "type": "barpolar"
           }
          ],
          "carpet": [
           {
            "aaxis": {
             "endlinecolor": "#2a3f5f",
             "gridcolor": "white",
             "linecolor": "white",
             "minorgridcolor": "white",
             "startlinecolor": "#2a3f5f"
            },
            "baxis": {
             "endlinecolor": "#2a3f5f",
             "gridcolor": "white",
             "linecolor": "white",
             "minorgridcolor": "white",
             "startlinecolor": "#2a3f5f"
            },
            "type": "carpet"
           }
          ],
          "choropleth": [
           {
            "colorbar": {
             "outlinewidth": 0,
             "ticks": ""
            },
            "type": "choropleth"
           }
          ],
          "contour": [
           {
            "colorbar": {
             "outlinewidth": 0,
             "ticks": ""
            },
            "colorscale": [
             [
              0,
              "#0d0887"
             ],
             [
              0.1111111111111111,
              "#46039f"
             ],
             [
              0.2222222222222222,
              "#7201a8"
             ],
             [
              0.3333333333333333,
              "#9c179e"
             ],
             [
              0.4444444444444444,
              "#bd3786"
             ],
             [
              0.5555555555555556,
              "#d8576b"
             ],
             [
              0.6666666666666666,
              "#ed7953"
             ],
             [
              0.7777777777777778,
              "#fb9f3a"
             ],
             [
              0.8888888888888888,
              "#fdca26"
             ],
             [
              1,
              "#f0f921"
             ]
            ],
            "type": "contour"
           }
          ],
          "contourcarpet": [
           {
            "colorbar": {
             "outlinewidth": 0,
             "ticks": ""
            },
            "type": "contourcarpet"
           }
          ],
          "heatmap": [
           {
            "colorbar": {
             "outlinewidth": 0,
             "ticks": ""
            },
            "colorscale": [
             [
              0,
              "#0d0887"
             ],
             [
              0.1111111111111111,
              "#46039f"
             ],
             [
              0.2222222222222222,
              "#7201a8"
             ],
             [
              0.3333333333333333,
              "#9c179e"
             ],
             [
              0.4444444444444444,
              "#bd3786"
             ],
             [
              0.5555555555555556,
              "#d8576b"
             ],
             [
              0.6666666666666666,
              "#ed7953"
             ],
             [
              0.7777777777777778,
              "#fb9f3a"
             ],
             [
              0.8888888888888888,
              "#fdca26"
             ],
             [
              1,
              "#f0f921"
             ]
            ],
            "type": "heatmap"
           }
          ],
          "heatmapgl": [
           {
            "colorbar": {
             "outlinewidth": 0,
             "ticks": ""
            },
            "colorscale": [
             [
              0,
              "#0d0887"
             ],
             [
              0.1111111111111111,
              "#46039f"
             ],
             [
              0.2222222222222222,
              "#7201a8"
             ],
             [
              0.3333333333333333,
              "#9c179e"
             ],
             [
              0.4444444444444444,
              "#bd3786"
             ],
             [
              0.5555555555555556,
              "#d8576b"
             ],
             [
              0.6666666666666666,
              "#ed7953"
             ],
             [
              0.7777777777777778,
              "#fb9f3a"
             ],
             [
              0.8888888888888888,
              "#fdca26"
             ],
             [
              1,
              "#f0f921"
             ]
            ],
            "type": "heatmapgl"
           }
          ],
          "histogram": [
           {
            "marker": {
             "pattern": {
              "fillmode": "overlay",
              "size": 10,
              "solidity": 0.2
             }
            },
            "type": "histogram"
           }
          ],
          "histogram2d": [
           {
            "colorbar": {
             "outlinewidth": 0,
             "ticks": ""
            },
            "colorscale": [
             [
              0,
              "#0d0887"
             ],
             [
              0.1111111111111111,
              "#46039f"
             ],
             [
              0.2222222222222222,
              "#7201a8"
             ],
             [
              0.3333333333333333,
              "#9c179e"
             ],
             [
              0.4444444444444444,
              "#bd3786"
             ],
             [
              0.5555555555555556,
              "#d8576b"
             ],
             [
              0.6666666666666666,
              "#ed7953"
             ],
             [
              0.7777777777777778,
              "#fb9f3a"
             ],
             [
              0.8888888888888888,
              "#fdca26"
             ],
             [
              1,
              "#f0f921"
             ]
            ],
            "type": "histogram2d"
           }
          ],
          "histogram2dcontour": [
           {
            "colorbar": {
             "outlinewidth": 0,
             "ticks": ""
            },
            "colorscale": [
             [
              0,
              "#0d0887"
             ],
             [
              0.1111111111111111,
              "#46039f"
             ],
             [
              0.2222222222222222,
              "#7201a8"
             ],
             [
              0.3333333333333333,
              "#9c179e"
             ],
             [
              0.4444444444444444,
              "#bd3786"
             ],
             [
              0.5555555555555556,
              "#d8576b"
             ],
             [
              0.6666666666666666,
              "#ed7953"
             ],
             [
              0.7777777777777778,
              "#fb9f3a"
             ],
             [
              0.8888888888888888,
              "#fdca26"
             ],
             [
              1,
              "#f0f921"
             ]
            ],
            "type": "histogram2dcontour"
           }
          ],
          "mesh3d": [
           {
            "colorbar": {
             "outlinewidth": 0,
             "ticks": ""
            },
            "type": "mesh3d"
           }
          ],
          "parcoords": [
           {
            "line": {
             "colorbar": {
              "outlinewidth": 0,
              "ticks": ""
             }
            },
            "type": "parcoords"
           }
          ],
          "pie": [
           {
            "automargin": true,
            "type": "pie"
           }
          ],
          "scatter": [
           {
            "fillpattern": {
             "fillmode": "overlay",
             "size": 10,
             "solidity": 0.2
            },
            "type": "scatter"
           }
          ],
          "scatter3d": [
           {
            "line": {
             "colorbar": {
              "outlinewidth": 0,
              "ticks": ""
             }
            },
            "marker": {
             "colorbar": {
              "outlinewidth": 0,
              "ticks": ""
             }
            },
            "type": "scatter3d"
           }
          ],
          "scattercarpet": [
           {
            "marker": {
             "colorbar": {
              "outlinewidth": 0,
              "ticks": ""
             }
            },
            "type": "scattercarpet"
           }
          ],
          "scattergeo": [
           {
            "marker": {
             "colorbar": {
              "outlinewidth": 0,
              "ticks": ""
             }
            },
            "type": "scattergeo"
           }
          ],
          "scattergl": [
           {
            "marker": {
             "colorbar": {
              "outlinewidth": 0,
              "ticks": ""
             }
            },
            "type": "scattergl"
           }
          ],
          "scattermapbox": [
           {
            "marker": {
             "colorbar": {
              "outlinewidth": 0,
              "ticks": ""
             }
            },
            "type": "scattermapbox"
           }
          ],
          "scatterpolar": [
           {
            "marker": {
             "colorbar": {
              "outlinewidth": 0,
              "ticks": ""
             }
            },
            "type": "scatterpolar"
           }
          ],
          "scatterpolargl": [
           {
            "marker": {
             "colorbar": {
              "outlinewidth": 0,
              "ticks": ""
             }
            },
            "type": "scatterpolargl"
           }
          ],
          "scatterternary": [
           {
            "marker": {
             "colorbar": {
              "outlinewidth": 0,
              "ticks": ""
             }
            },
            "type": "scatterternary"
           }
          ],
          "surface": [
           {
            "colorbar": {
             "outlinewidth": 0,
             "ticks": ""
            },
            "colorscale": [
             [
              0,
              "#0d0887"
             ],
             [
              0.1111111111111111,
              "#46039f"
             ],
             [
              0.2222222222222222,
              "#7201a8"
             ],
             [
              0.3333333333333333,
              "#9c179e"
             ],
             [
              0.4444444444444444,
              "#bd3786"
             ],
             [
              0.5555555555555556,
              "#d8576b"
             ],
             [
              0.6666666666666666,
              "#ed7953"
             ],
             [
              0.7777777777777778,
              "#fb9f3a"
             ],
             [
              0.8888888888888888,
              "#fdca26"
             ],
             [
              1,
              "#f0f921"
             ]
            ],
            "type": "surface"
           }
          ],
          "table": [
           {
            "cells": {
             "fill": {
              "color": "#EBF0F8"
             },
             "line": {
              "color": "white"
             }
            },
            "header": {
             "fill": {
              "color": "#C8D4E3"
             },
             "line": {
              "color": "white"
             }
            },
            "type": "table"
           }
          ]
         },
         "layout": {
          "annotationdefaults": {
           "arrowcolor": "#2a3f5f",
           "arrowhead": 0,
           "arrowwidth": 1
          },
          "autotypenumbers": "strict",
          "coloraxis": {
           "colorbar": {
            "outlinewidth": 0,
            "ticks": ""
           }
          },
          "colorscale": {
           "diverging": [
            [
             0,
             "#8e0152"
            ],
            [
             0.1,
             "#c51b7d"
            ],
            [
             0.2,
             "#de77ae"
            ],
            [
             0.3,
             "#f1b6da"
            ],
            [
             0.4,
             "#fde0ef"
            ],
            [
             0.5,
             "#f7f7f7"
            ],
            [
             0.6,
             "#e6f5d0"
            ],
            [
             0.7,
             "#b8e186"
            ],
            [
             0.8,
             "#7fbc41"
            ],
            [
             0.9,
             "#4d9221"
            ],
            [
             1,
             "#276419"
            ]
           ],
           "sequential": [
            [
             0,
             "#0d0887"
            ],
            [
             0.1111111111111111,
             "#46039f"
            ],
            [
             0.2222222222222222,
             "#7201a8"
            ],
            [
             0.3333333333333333,
             "#9c179e"
            ],
            [
             0.4444444444444444,
             "#bd3786"
            ],
            [
             0.5555555555555556,
             "#d8576b"
            ],
            [
             0.6666666666666666,
             "#ed7953"
            ],
            [
             0.7777777777777778,
             "#fb9f3a"
            ],
            [
             0.8888888888888888,
             "#fdca26"
            ],
            [
             1,
             "#f0f921"
            ]
           ],
           "sequentialminus": [
            [
             0,
             "#0d0887"
            ],
            [
             0.1111111111111111,
             "#46039f"
            ],
            [
             0.2222222222222222,
             "#7201a8"
            ],
            [
             0.3333333333333333,
             "#9c179e"
            ],
            [
             0.4444444444444444,
             "#bd3786"
            ],
            [
             0.5555555555555556,
             "#d8576b"
            ],
            [
             0.6666666666666666,
             "#ed7953"
            ],
            [
             0.7777777777777778,
             "#fb9f3a"
            ],
            [
             0.8888888888888888,
             "#fdca26"
            ],
            [
             1,
             "#f0f921"
            ]
           ]
          },
          "colorway": [
           "#636efa",
           "#EF553B",
           "#00cc96",
           "#ab63fa",
           "#FFA15A",
           "#19d3f3",
           "#FF6692",
           "#B6E880",
           "#FF97FF",
           "#FECB52"
          ],
          "font": {
           "color": "#2a3f5f"
          },
          "geo": {
           "bgcolor": "white",
           "lakecolor": "white",
           "landcolor": "#E5ECF6",
           "showlakes": true,
           "showland": true,
           "subunitcolor": "white"
          },
          "hoverlabel": {
           "align": "left"
          },
          "hovermode": "closest",
          "mapbox": {
           "style": "light"
          },
          "paper_bgcolor": "white",
          "plot_bgcolor": "#E5ECF6",
          "polar": {
           "angularaxis": {
            "gridcolor": "white",
            "linecolor": "white",
            "ticks": ""
           },
           "bgcolor": "#E5ECF6",
           "radialaxis": {
            "gridcolor": "white",
            "linecolor": "white",
            "ticks": ""
           }
          },
          "scene": {
           "xaxis": {
            "backgroundcolor": "#E5ECF6",
            "gridcolor": "white",
            "gridwidth": 2,
            "linecolor": "white",
            "showbackground": true,
            "ticks": "",
            "zerolinecolor": "white"
           },
           "yaxis": {
            "backgroundcolor": "#E5ECF6",
            "gridcolor": "white",
            "gridwidth": 2,
            "linecolor": "white",
            "showbackground": true,
            "ticks": "",
            "zerolinecolor": "white"
           },
           "zaxis": {
            "backgroundcolor": "#E5ECF6",
            "gridcolor": "white",
            "gridwidth": 2,
            "linecolor": "white",
            "showbackground": true,
            "ticks": "",
            "zerolinecolor": "white"
           }
          },
          "shapedefaults": {
           "line": {
            "color": "#2a3f5f"
           }
          },
          "ternary": {
           "aaxis": {
            "gridcolor": "white",
            "linecolor": "white",
            "ticks": ""
           },
           "baxis": {
            "gridcolor": "white",
            "linecolor": "white",
            "ticks": ""
           },
           "bgcolor": "#E5ECF6",
           "caxis": {
            "gridcolor": "white",
            "linecolor": "white",
            "ticks": ""
           }
          },
          "title": {
           "x": 0.05
          },
          "xaxis": {
           "automargin": true,
           "gridcolor": "white",
           "linecolor": "white",
           "ticks": "",
           "title": {
            "standoff": 15
           },
           "zerolinecolor": "white",
           "zerolinewidth": 2
          },
          "yaxis": {
           "automargin": true,
           "gridcolor": "white",
           "linecolor": "white",
           "ticks": "",
           "title": {
            "standoff": 15
           },
           "zerolinecolor": "white",
           "zerolinewidth": 2
          }
         }
        },
        "title": {
         "text": "اعلى عشر افلام"
        },
        "xaxis": {
         "anchor": "y",
         "categoryarray": [
          "1.  The Shawshank Redemption  (1994)",
          "2.  The Godfather  (1972)",
          "3.  The Dark Knight  (2008)",
          "4.  The Godfather Part II  (1974)",
          "5.  12 Angry Men  (1957)",
          "6.  Schindler's List  (1993)",
          "7.  The Lord of the Rings: The Return of the King  (2003)",
          "8.  Pulp Fiction  (1994)",
          "9.  The Lord of the Rings: The Fellowship of the Ring  (2001)",
          "10.  Il buono, il brutto, il cattivo  (1966)"
         ],
         "categoryorder": "array",
         "domain": [
          0,
          1
         ],
         "title": {
          "text": "الاسم"
         }
        },
        "yaxis": {
         "anchor": "x",
         "domain": [
          0,
          1
         ],
         "title": {
          "text": " تقييم"
         }
        }
       }
      },
      "text/html": [
       "<div>                            <div id=\"d1226a92-32af-4de0-bec2-ebf6891e7bc0\" class=\"plotly-graph-div\" style=\"height:525px; width:100%;\"></div>            <script type=\"text/javascript\">                require([\"plotly\"], function(Plotly) {                    window.PLOTLYENV=window.PLOTLYENV || {};                                    if (document.getElementById(\"d1226a92-32af-4de0-bec2-ebf6891e7bc0\")) {                    Plotly.newPlot(                        \"d1226a92-32af-4de0-bec2-ebf6891e7bc0\",                        [{\"alignmentgroup\":\"True\",\"hovertemplate\":\"\\u0627\\u0644\\u0627\\u0633\\u0645=%{x}<br> \\u062a\\u0642\\u064a\\u064a\\u0645=%{y}<extra></extra>\",\"legendgroup\":\"1.  The Shawshank Redemption  (1994)\",\"marker\":{\"color\":\"#636efa\",\"pattern\":{\"shape\":\"\"}},\"name\":\"1.  The Shawshank Redemption  (1994)\",\"offsetgroup\":\"1.  The Shawshank Redemption  (1994)\",\"orientation\":\"v\",\"showlegend\":true,\"textposition\":\"auto\",\"x\":[\"1.  The Shawshank Redemption  (1994)\"],\"xaxis\":\"x\",\"y\":[9.2],\"yaxis\":\"y\",\"type\":\"bar\"},{\"alignmentgroup\":\"True\",\"hovertemplate\":\"\\u0627\\u0644\\u0627\\u0633\\u0645=%{x}<br> \\u062a\\u0642\\u064a\\u064a\\u0645=%{y}<extra></extra>\",\"legendgroup\":\"2.  The Godfather  (1972)\",\"marker\":{\"color\":\"#EF553B\",\"pattern\":{\"shape\":\"\"}},\"name\":\"2.  The Godfather  (1972)\",\"offsetgroup\":\"2.  The Godfather  (1972)\",\"orientation\":\"v\",\"showlegend\":true,\"textposition\":\"auto\",\"x\":[\"2.  The Godfather  (1972)\"],\"xaxis\":\"x\",\"y\":[9.2],\"yaxis\":\"y\",\"type\":\"bar\"},{\"alignmentgroup\":\"True\",\"hovertemplate\":\"\\u0627\\u0644\\u0627\\u0633\\u0645=%{x}<br> \\u062a\\u0642\\u064a\\u064a\\u0645=%{y}<extra></extra>\",\"legendgroup\":\"3.  The Dark Knight  (2008)\",\"marker\":{\"color\":\"#00cc96\",\"pattern\":{\"shape\":\"\"}},\"name\":\"3.  The Dark Knight  (2008)\",\"offsetgroup\":\"3.  The Dark Knight  (2008)\",\"orientation\":\"v\",\"showlegend\":true,\"textposition\":\"auto\",\"x\":[\"3.  The Dark Knight  (2008)\"],\"xaxis\":\"x\",\"y\":[9.0],\"yaxis\":\"y\",\"type\":\"bar\"},{\"alignmentgroup\":\"True\",\"hovertemplate\":\"\\u0627\\u0644\\u0627\\u0633\\u0645=%{x}<br> \\u062a\\u0642\\u064a\\u064a\\u0645=%{y}<extra></extra>\",\"legendgroup\":\"4.  The Godfather Part II  (1974)\",\"marker\":{\"color\":\"#ab63fa\",\"pattern\":{\"shape\":\"\"}},\"name\":\"4.  The Godfather Part II  (1974)\",\"offsetgroup\":\"4.  The Godfather Part II  (1974)\",\"orientation\":\"v\",\"showlegend\":true,\"textposition\":\"auto\",\"x\":[\"4.  The Godfather Part II  (1974)\"],\"xaxis\":\"x\",\"y\":[9.0],\"yaxis\":\"y\",\"type\":\"bar\"},{\"alignmentgroup\":\"True\",\"hovertemplate\":\"\\u0627\\u0644\\u0627\\u0633\\u0645=%{x}<br> \\u062a\\u0642\\u064a\\u064a\\u0645=%{y}<extra></extra>\",\"legendgroup\":\"5.  12 Angry Men  (1957)\",\"marker\":{\"color\":\"#FFA15A\",\"pattern\":{\"shape\":\"\"}},\"name\":\"5.  12 Angry Men  (1957)\",\"offsetgroup\":\"5.  12 Angry Men  (1957)\",\"orientation\":\"v\",\"showlegend\":true,\"textposition\":\"auto\",\"x\":[\"5.  12 Angry Men  (1957)\"],\"xaxis\":\"x\",\"y\":[9.0],\"yaxis\":\"y\",\"type\":\"bar\"},{\"alignmentgroup\":\"True\",\"hovertemplate\":\"\\u0627\\u0644\\u0627\\u0633\\u0645=%{x}<br> \\u062a\\u0642\\u064a\\u064a\\u0645=%{y}<extra></extra>\",\"legendgroup\":\"6.  Schindler's List  (1993)\",\"marker\":{\"color\":\"#19d3f3\",\"pattern\":{\"shape\":\"\"}},\"name\":\"6.  Schindler's List  (1993)\",\"offsetgroup\":\"6.  Schindler's List  (1993)\",\"orientation\":\"v\",\"showlegend\":true,\"textposition\":\"auto\",\"x\":[\"6.  Schindler's List  (1993)\"],\"xaxis\":\"x\",\"y\":[8.9],\"yaxis\":\"y\",\"type\":\"bar\"},{\"alignmentgroup\":\"True\",\"hovertemplate\":\"\\u0627\\u0644\\u0627\\u0633\\u0645=%{x}<br> \\u062a\\u0642\\u064a\\u064a\\u0645=%{y}<extra></extra>\",\"legendgroup\":\"7.  The Lord of the Rings: The Return of the King  (2003)\",\"marker\":{\"color\":\"#FF6692\",\"pattern\":{\"shape\":\"\"}},\"name\":\"7.  The Lord of the Rings: The Return of the King  (2003)\",\"offsetgroup\":\"7.  The Lord of the Rings: The Return of the King  (2003)\",\"orientation\":\"v\",\"showlegend\":true,\"textposition\":\"auto\",\"x\":[\"7.  The Lord of the Rings: The Return of the King  (2003)\"],\"xaxis\":\"x\",\"y\":[8.9],\"yaxis\":\"y\",\"type\":\"bar\"},{\"alignmentgroup\":\"True\",\"hovertemplate\":\"\\u0627\\u0644\\u0627\\u0633\\u0645=%{x}<br> \\u062a\\u0642\\u064a\\u064a\\u0645=%{y}<extra></extra>\",\"legendgroup\":\"8.  Pulp Fiction  (1994)\",\"marker\":{\"color\":\"#B6E880\",\"pattern\":{\"shape\":\"\"}},\"name\":\"8.  Pulp Fiction  (1994)\",\"offsetgroup\":\"8.  Pulp Fiction  (1994)\",\"orientation\":\"v\",\"showlegend\":true,\"textposition\":\"auto\",\"x\":[\"8.  Pulp Fiction  (1994)\"],\"xaxis\":\"x\",\"y\":[8.8],\"yaxis\":\"y\",\"type\":\"bar\"},{\"alignmentgroup\":\"True\",\"hovertemplate\":\"\\u0627\\u0644\\u0627\\u0633\\u0645=%{x}<br> \\u062a\\u0642\\u064a\\u064a\\u0645=%{y}<extra></extra>\",\"legendgroup\":\"9.  The Lord of the Rings: The Fellowship of the Ring  (2001)\",\"marker\":{\"color\":\"#FF97FF\",\"pattern\":{\"shape\":\"\"}},\"name\":\"9.  The Lord of the Rings: The Fellowship of the Ring  (2001)\",\"offsetgroup\":\"9.  The Lord of the Rings: The Fellowship of the Ring  (2001)\",\"orientation\":\"v\",\"showlegend\":true,\"textposition\":\"auto\",\"x\":[\"9.  The Lord of the Rings: The Fellowship of the Ring  (2001)\"],\"xaxis\":\"x\",\"y\":[8.8],\"yaxis\":\"y\",\"type\":\"bar\"},{\"alignmentgroup\":\"True\",\"hovertemplate\":\"\\u0627\\u0644\\u0627\\u0633\\u0645=%{x}<br> \\u062a\\u0642\\u064a\\u064a\\u0645=%{y}<extra></extra>\",\"legendgroup\":\"10.  Il buono, il brutto, il cattivo  (1966)\",\"marker\":{\"color\":\"#FECB52\",\"pattern\":{\"shape\":\"\"}},\"name\":\"10.  Il buono, il brutto, il cattivo  (1966)\",\"offsetgroup\":\"10.  Il buono, il brutto, il cattivo  (1966)\",\"orientation\":\"v\",\"showlegend\":true,\"textposition\":\"auto\",\"x\":[\"10.  Il buono, il brutto, il cattivo  (1966)\"],\"xaxis\":\"x\",\"y\":[8.8],\"yaxis\":\"y\",\"type\":\"bar\"}],                        {\"template\":{\"data\":{\"histogram2dcontour\":[{\"type\":\"histogram2dcontour\",\"colorbar\":{\"outlinewidth\":0,\"ticks\":\"\"},\"colorscale\":[[0.0,\"#0d0887\"],[0.1111111111111111,\"#46039f\"],[0.2222222222222222,\"#7201a8\"],[0.3333333333333333,\"#9c179e\"],[0.4444444444444444,\"#bd3786\"],[0.5555555555555556,\"#d8576b\"],[0.6666666666666666,\"#ed7953\"],[0.7777777777777778,\"#fb9f3a\"],[0.8888888888888888,\"#fdca26\"],[1.0,\"#f0f921\"]]}],\"choropleth\":[{\"type\":\"choropleth\",\"colorbar\":{\"outlinewidth\":0,\"ticks\":\"\"}}],\"histogram2d\":[{\"type\":\"histogram2d\",\"colorbar\":{\"outlinewidth\":0,\"ticks\":\"\"},\"colorscale\":[[0.0,\"#0d0887\"],[0.1111111111111111,\"#46039f\"],[0.2222222222222222,\"#7201a8\"],[0.3333333333333333,\"#9c179e\"],[0.4444444444444444,\"#bd3786\"],[0.5555555555555556,\"#d8576b\"],[0.6666666666666666,\"#ed7953\"],[0.7777777777777778,\"#fb9f3a\"],[0.8888888888888888,\"#fdca26\"],[1.0,\"#f0f921\"]]}],\"heatmap\":[{\"type\":\"heatmap\",\"colorbar\":{\"outlinewidth\":0,\"ticks\":\"\"},\"colorscale\":[[0.0,\"#0d0887\"],[0.1111111111111111,\"#46039f\"],[0.2222222222222222,\"#7201a8\"],[0.3333333333333333,\"#9c179e\"],[0.4444444444444444,\"#bd3786\"],[0.5555555555555556,\"#d8576b\"],[0.6666666666666666,\"#ed7953\"],[0.7777777777777778,\"#fb9f3a\"],[0.8888888888888888,\"#fdca26\"],[1.0,\"#f0f921\"]]}],\"heatmapgl\":[{\"type\":\"heatmapgl\",\"colorbar\":{\"outlinewidth\":0,\"ticks\":\"\"},\"colorscale\":[[0.0,\"#0d0887\"],[0.1111111111111111,\"#46039f\"],[0.2222222222222222,\"#7201a8\"],[0.3333333333333333,\"#9c179e\"],[0.4444444444444444,\"#bd3786\"],[0.5555555555555556,\"#d8576b\"],[0.6666666666666666,\"#ed7953\"],[0.7777777777777778,\"#fb9f3a\"],[0.8888888888888888,\"#fdca26\"],[1.0,\"#f0f921\"]]}],\"contourcarpet\":[{\"type\":\"contourcarpet\",\"colorbar\":{\"outlinewidth\":0,\"ticks\":\"\"}}],\"contour\":[{\"type\":\"contour\",\"colorbar\":{\"outlinewidth\":0,\"ticks\":\"\"},\"colorscale\":[[0.0,\"#0d0887\"],[0.1111111111111111,\"#46039f\"],[0.2222222222222222,\"#7201a8\"],[0.3333333333333333,\"#9c179e\"],[0.4444444444444444,\"#bd3786\"],[0.5555555555555556,\"#d8576b\"],[0.6666666666666666,\"#ed7953\"],[0.7777777777777778,\"#fb9f3a\"],[0.8888888888888888,\"#fdca26\"],[1.0,\"#f0f921\"]]}],\"surface\":[{\"type\":\"surface\",\"colorbar\":{\"outlinewidth\":0,\"ticks\":\"\"},\"colorscale\":[[0.0,\"#0d0887\"],[0.1111111111111111,\"#46039f\"],[0.2222222222222222,\"#7201a8\"],[0.3333333333333333,\"#9c179e\"],[0.4444444444444444,\"#bd3786\"],[0.5555555555555556,\"#d8576b\"],[0.6666666666666666,\"#ed7953\"],[0.7777777777777778,\"#fb9f3a\"],[0.8888888888888888,\"#fdca26\"],[1.0,\"#f0f921\"]]}],\"mesh3d\":[{\"type\":\"mesh3d\",\"colorbar\":{\"outlinewidth\":0,\"ticks\":\"\"}}],\"scatter\":[{\"fillpattern\":{\"fillmode\":\"overlay\",\"size\":10,\"solidity\":0.2},\"type\":\"scatter\"}],\"parcoords\":[{\"type\":\"parcoords\",\"line\":{\"colorbar\":{\"outlinewidth\":0,\"ticks\":\"\"}}}],\"scatterpolargl\":[{\"type\":\"scatterpolargl\",\"marker\":{\"colorbar\":{\"outlinewidth\":0,\"ticks\":\"\"}}}],\"bar\":[{\"error_x\":{\"color\":\"#2a3f5f\"},\"error_y\":{\"color\":\"#2a3f5f\"},\"marker\":{\"line\":{\"color\":\"#E5ECF6\",\"width\":0.5},\"pattern\":{\"fillmode\":\"overlay\",\"size\":10,\"solidity\":0.2}},\"type\":\"bar\"}],\"scattergeo\":[{\"type\":\"scattergeo\",\"marker\":{\"colorbar\":{\"outlinewidth\":0,\"ticks\":\"\"}}}],\"scatterpolar\":[{\"type\":\"scatterpolar\",\"marker\":{\"colorbar\":{\"outlinewidth\":0,\"ticks\":\"\"}}}],\"histogram\":[{\"marker\":{\"pattern\":{\"fillmode\":\"overlay\",\"size\":10,\"solidity\":0.2}},\"type\":\"histogram\"}],\"scattergl\":[{\"type\":\"scattergl\",\"marker\":{\"colorbar\":{\"outlinewidth\":0,\"ticks\":\"\"}}}],\"scatter3d\":[{\"type\":\"scatter3d\",\"line\":{\"colorbar\":{\"outlinewidth\":0,\"ticks\":\"\"}},\"marker\":{\"colorbar\":{\"outlinewidth\":0,\"ticks\":\"\"}}}],\"scattermapbox\":[{\"type\":\"scattermapbox\",\"marker\":{\"colorbar\":{\"outlinewidth\":0,\"ticks\":\"\"}}}],\"scatterternary\":[{\"type\":\"scatterternary\",\"marker\":{\"colorbar\":{\"outlinewidth\":0,\"ticks\":\"\"}}}],\"scattercarpet\":[{\"type\":\"scattercarpet\",\"marker\":{\"colorbar\":{\"outlinewidth\":0,\"ticks\":\"\"}}}],\"carpet\":[{\"aaxis\":{\"endlinecolor\":\"#2a3f5f\",\"gridcolor\":\"white\",\"linecolor\":\"white\",\"minorgridcolor\":\"white\",\"startlinecolor\":\"#2a3f5f\"},\"baxis\":{\"endlinecolor\":\"#2a3f5f\",\"gridcolor\":\"white\",\"linecolor\":\"white\",\"minorgridcolor\":\"white\",\"startlinecolor\":\"#2a3f5f\"},\"type\":\"carpet\"}],\"table\":[{\"cells\":{\"fill\":{\"color\":\"#EBF0F8\"},\"line\":{\"color\":\"white\"}},\"header\":{\"fill\":{\"color\":\"#C8D4E3\"},\"line\":{\"color\":\"white\"}},\"type\":\"table\"}],\"barpolar\":[{\"marker\":{\"line\":{\"color\":\"#E5ECF6\",\"width\":0.5},\"pattern\":{\"fillmode\":\"overlay\",\"size\":10,\"solidity\":0.2}},\"type\":\"barpolar\"}],\"pie\":[{\"automargin\":true,\"type\":\"pie\"}]},\"layout\":{\"autotypenumbers\":\"strict\",\"colorway\":[\"#636efa\",\"#EF553B\",\"#00cc96\",\"#ab63fa\",\"#FFA15A\",\"#19d3f3\",\"#FF6692\",\"#B6E880\",\"#FF97FF\",\"#FECB52\"],\"font\":{\"color\":\"#2a3f5f\"},\"hovermode\":\"closest\",\"hoverlabel\":{\"align\":\"left\"},\"paper_bgcolor\":\"white\",\"plot_bgcolor\":\"#E5ECF6\",\"polar\":{\"bgcolor\":\"#E5ECF6\",\"angularaxis\":{\"gridcolor\":\"white\",\"linecolor\":\"white\",\"ticks\":\"\"},\"radialaxis\":{\"gridcolor\":\"white\",\"linecolor\":\"white\",\"ticks\":\"\"}},\"ternary\":{\"bgcolor\":\"#E5ECF6\",\"aaxis\":{\"gridcolor\":\"white\",\"linecolor\":\"white\",\"ticks\":\"\"},\"baxis\":{\"gridcolor\":\"white\",\"linecolor\":\"white\",\"ticks\":\"\"},\"caxis\":{\"gridcolor\":\"white\",\"linecolor\":\"white\",\"ticks\":\"\"}},\"coloraxis\":{\"colorbar\":{\"outlinewidth\":0,\"ticks\":\"\"}},\"colorscale\":{\"sequential\":[[0.0,\"#0d0887\"],[0.1111111111111111,\"#46039f\"],[0.2222222222222222,\"#7201a8\"],[0.3333333333333333,\"#9c179e\"],[0.4444444444444444,\"#bd3786\"],[0.5555555555555556,\"#d8576b\"],[0.6666666666666666,\"#ed7953\"],[0.7777777777777778,\"#fb9f3a\"],[0.8888888888888888,\"#fdca26\"],[1.0,\"#f0f921\"]],\"sequentialminus\":[[0.0,\"#0d0887\"],[0.1111111111111111,\"#46039f\"],[0.2222222222222222,\"#7201a8\"],[0.3333333333333333,\"#9c179e\"],[0.4444444444444444,\"#bd3786\"],[0.5555555555555556,\"#d8576b\"],[0.6666666666666666,\"#ed7953\"],[0.7777777777777778,\"#fb9f3a\"],[0.8888888888888888,\"#fdca26\"],[1.0,\"#f0f921\"]],\"diverging\":[[0,\"#8e0152\"],[0.1,\"#c51b7d\"],[0.2,\"#de77ae\"],[0.3,\"#f1b6da\"],[0.4,\"#fde0ef\"],[0.5,\"#f7f7f7\"],[0.6,\"#e6f5d0\"],[0.7,\"#b8e186\"],[0.8,\"#7fbc41\"],[0.9,\"#4d9221\"],[1,\"#276419\"]]},\"xaxis\":{\"gridcolor\":\"white\",\"linecolor\":\"white\",\"ticks\":\"\",\"title\":{\"standoff\":15},\"zerolinecolor\":\"white\",\"automargin\":true,\"zerolinewidth\":2},\"yaxis\":{\"gridcolor\":\"white\",\"linecolor\":\"white\",\"ticks\":\"\",\"title\":{\"standoff\":15},\"zerolinecolor\":\"white\",\"automargin\":true,\"zerolinewidth\":2},\"scene\":{\"xaxis\":{\"backgroundcolor\":\"#E5ECF6\",\"gridcolor\":\"white\",\"linecolor\":\"white\",\"showbackground\":true,\"ticks\":\"\",\"zerolinecolor\":\"white\",\"gridwidth\":2},\"yaxis\":{\"backgroundcolor\":\"#E5ECF6\",\"gridcolor\":\"white\",\"linecolor\":\"white\",\"showbackground\":true,\"ticks\":\"\",\"zerolinecolor\":\"white\",\"gridwidth\":2},\"zaxis\":{\"backgroundcolor\":\"#E5ECF6\",\"gridcolor\":\"white\",\"linecolor\":\"white\",\"showbackground\":true,\"ticks\":\"\",\"zerolinecolor\":\"white\",\"gridwidth\":2}},\"shapedefaults\":{\"line\":{\"color\":\"#2a3f5f\"}},\"annotationdefaults\":{\"arrowcolor\":\"#2a3f5f\",\"arrowhead\":0,\"arrowwidth\":1},\"geo\":{\"bgcolor\":\"white\",\"landcolor\":\"#E5ECF6\",\"subunitcolor\":\"white\",\"showland\":true,\"showlakes\":true,\"lakecolor\":\"white\"},\"title\":{\"x\":0.05},\"mapbox\":{\"style\":\"light\"}}},\"xaxis\":{\"anchor\":\"y\",\"domain\":[0.0,1.0],\"title\":{\"text\":\"\\u0627\\u0644\\u0627\\u0633\\u0645\"},\"categoryorder\":\"array\",\"categoryarray\":[\"1.  The Shawshank Redemption  (1994)\",\"2.  The Godfather  (1972)\",\"3.  The Dark Knight  (2008)\",\"4.  The Godfather Part II  (1974)\",\"5.  12 Angry Men  (1957)\",\"6.  Schindler's List  (1993)\",\"7.  The Lord of the Rings: The Return of the King  (2003)\",\"8.  Pulp Fiction  (1994)\",\"9.  The Lord of the Rings: The Fellowship of the Ring  (2001)\",\"10.  Il buono, il brutto, il cattivo  (1966)\"]},\"yaxis\":{\"anchor\":\"x\",\"domain\":[0.0,1.0],\"title\":{\"text\":\" \\u062a\\u0642\\u064a\\u064a\\u0645\"}},\"legend\":{\"title\":{\"text\":\"\\u0627\\u0644\\u0627\\u0633\\u0645\"},\"tracegroupgap\":0},\"title\":{\"text\":\"\\u0627\\u0639\\u0644\\u0649 \\u0639\\u0634\\u0631 \\u0627\\u0641\\u0644\\u0627\\u0645\"},\"barmode\":\"relative\"},                        {\"responsive\": true}                    ).then(function(){\n",
       "                            \n",
       "var gd = document.getElementById('d1226a92-32af-4de0-bec2-ebf6891e7bc0');\n",
       "var x = new MutationObserver(function (mutations, observer) {{\n",
       "        var display = window.getComputedStyle(gd).display;\n",
       "        if (!display || display === 'none') {{\n",
       "            console.log([gd, 'removed!']);\n",
       "            Plotly.purge(gd);\n",
       "            observer.disconnect();\n",
       "        }}\n",
       "}});\n",
       "\n",
       "// Listen for the removal of the full notebook cells\n",
       "var notebookContainer = gd.closest('#notebook-container');\n",
       "if (notebookContainer) {{\n",
       "    x.observe(notebookContainer, {childList: true});\n",
       "}}\n",
       "\n",
       "// Listen for the clearing of the current output cell\n",
       "var outputEl = gd.closest('.output');\n",
       "if (outputEl) {{\n",
       "    x.observe(outputEl, {childList: true});\n",
       "}}\n",
       "\n",
       "                        })                };                });            </script>        </div>"
      ]
     },
     "metadata": {},
     "output_type": "display_data"
    }
   ],
   "source": [
    "fig =px.bar(df_sorted,x='Rank & Title',y='IMDb Rating',color='Rank & Title',\n",
    "           labels={'Rank & Title':'الاسم', 'IMDb Rating':' تقييم'},\n",
    "           title='اعلى عشر افلام')\n",
    "fig.show()"
   ]
  },
  {
   "cell_type": "code",
   "execution_count": 126,
   "id": "ec2514bb",
   "metadata": {},
   "outputs": [
    {
     "data": {
      "text/html": [
       "<div>\n",
       "<style scoped>\n",
       "    .dataframe tbody tr th:only-of-type {\n",
       "        vertical-align: middle;\n",
       "    }\n",
       "\n",
       "    .dataframe tbody tr th {\n",
       "        vertical-align: top;\n",
       "    }\n",
       "\n",
       "    .dataframe thead th {\n",
       "        text-align: right;\n",
       "    }\n",
       "</style>\n",
       "<table border=\"1\" class=\"dataframe\">\n",
       "  <thead>\n",
       "    <tr style=\"text-align: right;\">\n",
       "      <th></th>\n",
       "      <th>Rank &amp; Title</th>\n",
       "      <th>IMDb Rating</th>\n",
       "    </tr>\n",
       "  </thead>\n",
       "  <tbody>\n",
       "    <tr>\n",
       "      <th>249</th>\n",
       "      <td>250.  Dances with Wolves  (1990)</td>\n",
       "      <td>8.0</td>\n",
       "    </tr>\n",
       "    <tr>\n",
       "      <th>225</th>\n",
       "      <td>226.  The Exorcist  (1973)</td>\n",
       "      <td>8.0</td>\n",
       "    </tr>\n",
       "    <tr>\n",
       "      <th>224</th>\n",
       "      <td>225.  The Best Years of Our Lives  (1946)</td>\n",
       "      <td>8.0</td>\n",
       "    </tr>\n",
       "    <tr>\n",
       "      <th>223</th>\n",
       "      <td>224.  Groundhog Day  (1993)</td>\n",
       "      <td>8.0</td>\n",
       "    </tr>\n",
       "    <tr>\n",
       "      <th>222</th>\n",
       "      <td>223.  Pather Panchali  (1955)</td>\n",
       "      <td>8.0</td>\n",
       "    </tr>\n",
       "    <tr>\n",
       "      <th>221</th>\n",
       "      <td>222.  The Wizard of Oz  (1939)</td>\n",
       "      <td>8.0</td>\n",
       "    </tr>\n",
       "    <tr>\n",
       "      <th>220</th>\n",
       "      <td>221.  Before Sunset  (2004)</td>\n",
       "      <td>8.0</td>\n",
       "    </tr>\n",
       "    <tr>\n",
       "      <th>219</th>\n",
       "      <td>220.  Into the Wild  (2007)</td>\n",
       "      <td>8.0</td>\n",
       "    </tr>\n",
       "    <tr>\n",
       "      <th>218</th>\n",
       "      <td>219.  Network  (1976)</td>\n",
       "      <td>8.0</td>\n",
       "    </tr>\n",
       "    <tr>\n",
       "      <th>226</th>\n",
       "      <td>227.  To Be or Not to Be  (1942)</td>\n",
       "      <td>8.0</td>\n",
       "    </tr>\n",
       "  </tbody>\n",
       "</table>\n",
       "</div>"
      ],
      "text/plain": [
       "                                  Rank & Title  IMDb Rating\n",
       "249           250.  Dances with Wolves  (1990)          8.0\n",
       "225                 226.  The Exorcist  (1973)          8.0\n",
       "224  225.  The Best Years of Our Lives  (1946)          8.0\n",
       "223                224.  Groundhog Day  (1993)          8.0\n",
       "222              223.  Pather Panchali  (1955)          8.0\n",
       "221             222.  The Wizard of Oz  (1939)          8.0\n",
       "220                221.  Before Sunset  (2004)          8.0\n",
       "219                220.  Into the Wild  (2007)          8.0\n",
       "218                      219.  Network  (1976)          8.0\n",
       "226           227.  To Be or Not to Be  (1942)          8.0"
      ]
     },
     "execution_count": 126,
     "metadata": {},
     "output_type": "execute_result"
    }
   ],
   "source": [
    "df_sorted = df.sort_values(by='IMDb Rating',ascending=True).head(10)\n",
    "df_sorted"
   ]
  },
  {
   "cell_type": "code",
   "execution_count": 127,
   "id": "6afaafee",
   "metadata": {},
   "outputs": [
    {
     "data": {
      "application/vnd.plotly.v1+json": {
       "config": {
        "plotlyServerURL": "https://plot.ly"
       },
       "data": [
        {
         "alignmentgroup": "True",
         "hovertemplate": "الاسم=%{x}<br> تقييم=%{y}<extra></extra>",
         "legendgroup": "250.  Dances with Wolves  (1990)",
         "marker": {
          "color": "#636efa",
          "pattern": {
           "shape": ""
          }
         },
         "name": "250.  Dances with Wolves  (1990)",
         "offsetgroup": "250.  Dances with Wolves  (1990)",
         "orientation": "v",
         "showlegend": true,
         "textposition": "auto",
         "type": "bar",
         "x": [
          "250.  Dances with Wolves  (1990)"
         ],
         "xaxis": "x",
         "y": [
          8
         ],
         "yaxis": "y"
        },
        {
         "alignmentgroup": "True",
         "hovertemplate": "الاسم=%{x}<br> تقييم=%{y}<extra></extra>",
         "legendgroup": "226.  The Exorcist  (1973)",
         "marker": {
          "color": "#EF553B",
          "pattern": {
           "shape": ""
          }
         },
         "name": "226.  The Exorcist  (1973)",
         "offsetgroup": "226.  The Exorcist  (1973)",
         "orientation": "v",
         "showlegend": true,
         "textposition": "auto",
         "type": "bar",
         "x": [
          "226.  The Exorcist  (1973)"
         ],
         "xaxis": "x",
         "y": [
          8
         ],
         "yaxis": "y"
        },
        {
         "alignmentgroup": "True",
         "hovertemplate": "الاسم=%{x}<br> تقييم=%{y}<extra></extra>",
         "legendgroup": "225.  The Best Years of Our Lives  (1946)",
         "marker": {
          "color": "#00cc96",
          "pattern": {
           "shape": ""
          }
         },
         "name": "225.  The Best Years of Our Lives  (1946)",
         "offsetgroup": "225.  The Best Years of Our Lives  (1946)",
         "orientation": "v",
         "showlegend": true,
         "textposition": "auto",
         "type": "bar",
         "x": [
          "225.  The Best Years of Our Lives  (1946)"
         ],
         "xaxis": "x",
         "y": [
          8
         ],
         "yaxis": "y"
        },
        {
         "alignmentgroup": "True",
         "hovertemplate": "الاسم=%{x}<br> تقييم=%{y}<extra></extra>",
         "legendgroup": "224.  Groundhog Day  (1993)",
         "marker": {
          "color": "#ab63fa",
          "pattern": {
           "shape": ""
          }
         },
         "name": "224.  Groundhog Day  (1993)",
         "offsetgroup": "224.  Groundhog Day  (1993)",
         "orientation": "v",
         "showlegend": true,
         "textposition": "auto",
         "type": "bar",
         "x": [
          "224.  Groundhog Day  (1993)"
         ],
         "xaxis": "x",
         "y": [
          8
         ],
         "yaxis": "y"
        },
        {
         "alignmentgroup": "True",
         "hovertemplate": "الاسم=%{x}<br> تقييم=%{y}<extra></extra>",
         "legendgroup": "223.  Pather Panchali  (1955)",
         "marker": {
          "color": "#FFA15A",
          "pattern": {
           "shape": ""
          }
         },
         "name": "223.  Pather Panchali  (1955)",
         "offsetgroup": "223.  Pather Panchali  (1955)",
         "orientation": "v",
         "showlegend": true,
         "textposition": "auto",
         "type": "bar",
         "x": [
          "223.  Pather Panchali  (1955)"
         ],
         "xaxis": "x",
         "y": [
          8
         ],
         "yaxis": "y"
        },
        {
         "alignmentgroup": "True",
         "hovertemplate": "الاسم=%{x}<br> تقييم=%{y}<extra></extra>",
         "legendgroup": "222.  The Wizard of Oz  (1939)",
         "marker": {
          "color": "#19d3f3",
          "pattern": {
           "shape": ""
          }
         },
         "name": "222.  The Wizard of Oz  (1939)",
         "offsetgroup": "222.  The Wizard of Oz  (1939)",
         "orientation": "v",
         "showlegend": true,
         "textposition": "auto",
         "type": "bar",
         "x": [
          "222.  The Wizard of Oz  (1939)"
         ],
         "xaxis": "x",
         "y": [
          8
         ],
         "yaxis": "y"
        },
        {
         "alignmentgroup": "True",
         "hovertemplate": "الاسم=%{x}<br> تقييم=%{y}<extra></extra>",
         "legendgroup": "221.  Before Sunset  (2004)",
         "marker": {
          "color": "#FF6692",
          "pattern": {
           "shape": ""
          }
         },
         "name": "221.  Before Sunset  (2004)",
         "offsetgroup": "221.  Before Sunset  (2004)",
         "orientation": "v",
         "showlegend": true,
         "textposition": "auto",
         "type": "bar",
         "x": [
          "221.  Before Sunset  (2004)"
         ],
         "xaxis": "x",
         "y": [
          8
         ],
         "yaxis": "y"
        },
        {
         "alignmentgroup": "True",
         "hovertemplate": "الاسم=%{x}<br> تقييم=%{y}<extra></extra>",
         "legendgroup": "220.  Into the Wild  (2007)",
         "marker": {
          "color": "#B6E880",
          "pattern": {
           "shape": ""
          }
         },
         "name": "220.  Into the Wild  (2007)",
         "offsetgroup": "220.  Into the Wild  (2007)",
         "orientation": "v",
         "showlegend": true,
         "textposition": "auto",
         "type": "bar",
         "x": [
          "220.  Into the Wild  (2007)"
         ],
         "xaxis": "x",
         "y": [
          8
         ],
         "yaxis": "y"
        },
        {
         "alignmentgroup": "True",
         "hovertemplate": "الاسم=%{x}<br> تقييم=%{y}<extra></extra>",
         "legendgroup": "219.  Network  (1976)",
         "marker": {
          "color": "#FF97FF",
          "pattern": {
           "shape": ""
          }
         },
         "name": "219.  Network  (1976)",
         "offsetgroup": "219.  Network  (1976)",
         "orientation": "v",
         "showlegend": true,
         "textposition": "auto",
         "type": "bar",
         "x": [
          "219.  Network  (1976)"
         ],
         "xaxis": "x",
         "y": [
          8
         ],
         "yaxis": "y"
        },
        {
         "alignmentgroup": "True",
         "hovertemplate": "الاسم=%{x}<br> تقييم=%{y}<extra></extra>",
         "legendgroup": "227.  To Be or Not to Be  (1942)",
         "marker": {
          "color": "#FECB52",
          "pattern": {
           "shape": ""
          }
         },
         "name": "227.  To Be or Not to Be  (1942)",
         "offsetgroup": "227.  To Be or Not to Be  (1942)",
         "orientation": "v",
         "showlegend": true,
         "textposition": "auto",
         "type": "bar",
         "x": [
          "227.  To Be or Not to Be  (1942)"
         ],
         "xaxis": "x",
         "y": [
          8
         ],
         "yaxis": "y"
        }
       ],
       "layout": {
        "barmode": "relative",
        "legend": {
         "title": {
          "text": "الاسم"
         },
         "tracegroupgap": 0
        },
        "template": {
         "data": {
          "bar": [
           {
            "error_x": {
             "color": "#2a3f5f"
            },
            "error_y": {
             "color": "#2a3f5f"
            },
            "marker": {
             "line": {
              "color": "#E5ECF6",
              "width": 0.5
             },
             "pattern": {
              "fillmode": "overlay",
              "size": 10,
              "solidity": 0.2
             }
            },
            "type": "bar"
           }
          ],
          "barpolar": [
           {
            "marker": {
             "line": {
              "color": "#E5ECF6",
              "width": 0.5
             },
             "pattern": {
              "fillmode": "overlay",
              "size": 10,
              "solidity": 0.2
             }
            },
            "type": "barpolar"
           }
          ],
          "carpet": [
           {
            "aaxis": {
             "endlinecolor": "#2a3f5f",
             "gridcolor": "white",
             "linecolor": "white",
             "minorgridcolor": "white",
             "startlinecolor": "#2a3f5f"
            },
            "baxis": {
             "endlinecolor": "#2a3f5f",
             "gridcolor": "white",
             "linecolor": "white",
             "minorgridcolor": "white",
             "startlinecolor": "#2a3f5f"
            },
            "type": "carpet"
           }
          ],
          "choropleth": [
           {
            "colorbar": {
             "outlinewidth": 0,
             "ticks": ""
            },
            "type": "choropleth"
           }
          ],
          "contour": [
           {
            "colorbar": {
             "outlinewidth": 0,
             "ticks": ""
            },
            "colorscale": [
             [
              0,
              "#0d0887"
             ],
             [
              0.1111111111111111,
              "#46039f"
             ],
             [
              0.2222222222222222,
              "#7201a8"
             ],
             [
              0.3333333333333333,
              "#9c179e"
             ],
             [
              0.4444444444444444,
              "#bd3786"
             ],
             [
              0.5555555555555556,
              "#d8576b"
             ],
             [
              0.6666666666666666,
              "#ed7953"
             ],
             [
              0.7777777777777778,
              "#fb9f3a"
             ],
             [
              0.8888888888888888,
              "#fdca26"
             ],
             [
              1,
              "#f0f921"
             ]
            ],
            "type": "contour"
           }
          ],
          "contourcarpet": [
           {
            "colorbar": {
             "outlinewidth": 0,
             "ticks": ""
            },
            "type": "contourcarpet"
           }
          ],
          "heatmap": [
           {
            "colorbar": {
             "outlinewidth": 0,
             "ticks": ""
            },
            "colorscale": [
             [
              0,
              "#0d0887"
             ],
             [
              0.1111111111111111,
              "#46039f"
             ],
             [
              0.2222222222222222,
              "#7201a8"
             ],
             [
              0.3333333333333333,
              "#9c179e"
             ],
             [
              0.4444444444444444,
              "#bd3786"
             ],
             [
              0.5555555555555556,
              "#d8576b"
             ],
             [
              0.6666666666666666,
              "#ed7953"
             ],
             [
              0.7777777777777778,
              "#fb9f3a"
             ],
             [
              0.8888888888888888,
              "#fdca26"
             ],
             [
              1,
              "#f0f921"
             ]
            ],
            "type": "heatmap"
           }
          ],
          "heatmapgl": [
           {
            "colorbar": {
             "outlinewidth": 0,
             "ticks": ""
            },
            "colorscale": [
             [
              0,
              "#0d0887"
             ],
             [
              0.1111111111111111,
              "#46039f"
             ],
             [
              0.2222222222222222,
              "#7201a8"
             ],
             [
              0.3333333333333333,
              "#9c179e"
             ],
             [
              0.4444444444444444,
              "#bd3786"
             ],
             [
              0.5555555555555556,
              "#d8576b"
             ],
             [
              0.6666666666666666,
              "#ed7953"
             ],
             [
              0.7777777777777778,
              "#fb9f3a"
             ],
             [
              0.8888888888888888,
              "#fdca26"
             ],
             [
              1,
              "#f0f921"
             ]
            ],
            "type": "heatmapgl"
           }
          ],
          "histogram": [
           {
            "marker": {
             "pattern": {
              "fillmode": "overlay",
              "size": 10,
              "solidity": 0.2
             }
            },
            "type": "histogram"
           }
          ],
          "histogram2d": [
           {
            "colorbar": {
             "outlinewidth": 0,
             "ticks": ""
            },
            "colorscale": [
             [
              0,
              "#0d0887"
             ],
             [
              0.1111111111111111,
              "#46039f"
             ],
             [
              0.2222222222222222,
              "#7201a8"
             ],
             [
              0.3333333333333333,
              "#9c179e"
             ],
             [
              0.4444444444444444,
              "#bd3786"
             ],
             [
              0.5555555555555556,
              "#d8576b"
             ],
             [
              0.6666666666666666,
              "#ed7953"
             ],
             [
              0.7777777777777778,
              "#fb9f3a"
             ],
             [
              0.8888888888888888,
              "#fdca26"
             ],
             [
              1,
              "#f0f921"
             ]
            ],
            "type": "histogram2d"
           }
          ],
          "histogram2dcontour": [
           {
            "colorbar": {
             "outlinewidth": 0,
             "ticks": ""
            },
            "colorscale": [
             [
              0,
              "#0d0887"
             ],
             [
              0.1111111111111111,
              "#46039f"
             ],
             [
              0.2222222222222222,
              "#7201a8"
             ],
             [
              0.3333333333333333,
              "#9c179e"
             ],
             [
              0.4444444444444444,
              "#bd3786"
             ],
             [
              0.5555555555555556,
              "#d8576b"
             ],
             [
              0.6666666666666666,
              "#ed7953"
             ],
             [
              0.7777777777777778,
              "#fb9f3a"
             ],
             [
              0.8888888888888888,
              "#fdca26"
             ],
             [
              1,
              "#f0f921"
             ]
            ],
            "type": "histogram2dcontour"
           }
          ],
          "mesh3d": [
           {
            "colorbar": {
             "outlinewidth": 0,
             "ticks": ""
            },
            "type": "mesh3d"
           }
          ],
          "parcoords": [
           {
            "line": {
             "colorbar": {
              "outlinewidth": 0,
              "ticks": ""
             }
            },
            "type": "parcoords"
           }
          ],
          "pie": [
           {
            "automargin": true,
            "type": "pie"
           }
          ],
          "scatter": [
           {
            "fillpattern": {
             "fillmode": "overlay",
             "size": 10,
             "solidity": 0.2
            },
            "type": "scatter"
           }
          ],
          "scatter3d": [
           {
            "line": {
             "colorbar": {
              "outlinewidth": 0,
              "ticks": ""
             }
            },
            "marker": {
             "colorbar": {
              "outlinewidth": 0,
              "ticks": ""
             }
            },
            "type": "scatter3d"
           }
          ],
          "scattercarpet": [
           {
            "marker": {
             "colorbar": {
              "outlinewidth": 0,
              "ticks": ""
             }
            },
            "type": "scattercarpet"
           }
          ],
          "scattergeo": [
           {
            "marker": {
             "colorbar": {
              "outlinewidth": 0,
              "ticks": ""
             }
            },
            "type": "scattergeo"
           }
          ],
          "scattergl": [
           {
            "marker": {
             "colorbar": {
              "outlinewidth": 0,
              "ticks": ""
             }
            },
            "type": "scattergl"
           }
          ],
          "scattermapbox": [
           {
            "marker": {
             "colorbar": {
              "outlinewidth": 0,
              "ticks": ""
             }
            },
            "type": "scattermapbox"
           }
          ],
          "scatterpolar": [
           {
            "marker": {
             "colorbar": {
              "outlinewidth": 0,
              "ticks": ""
             }
            },
            "type": "scatterpolar"
           }
          ],
          "scatterpolargl": [
           {
            "marker": {
             "colorbar": {
              "outlinewidth": 0,
              "ticks": ""
             }
            },
            "type": "scatterpolargl"
           }
          ],
          "scatterternary": [
           {
            "marker": {
             "colorbar": {
              "outlinewidth": 0,
              "ticks": ""
             }
            },
            "type": "scatterternary"
           }
          ],
          "surface": [
           {
            "colorbar": {
             "outlinewidth": 0,
             "ticks": ""
            },
            "colorscale": [
             [
              0,
              "#0d0887"
             ],
             [
              0.1111111111111111,
              "#46039f"
             ],
             [
              0.2222222222222222,
              "#7201a8"
             ],
             [
              0.3333333333333333,
              "#9c179e"
             ],
             [
              0.4444444444444444,
              "#bd3786"
             ],
             [
              0.5555555555555556,
              "#d8576b"
             ],
             [
              0.6666666666666666,
              "#ed7953"
             ],
             [
              0.7777777777777778,
              "#fb9f3a"
             ],
             [
              0.8888888888888888,
              "#fdca26"
             ],
             [
              1,
              "#f0f921"
             ]
            ],
            "type": "surface"
           }
          ],
          "table": [
           {
            "cells": {
             "fill": {
              "color": "#EBF0F8"
             },
             "line": {
              "color": "white"
             }
            },
            "header": {
             "fill": {
              "color": "#C8D4E3"
             },
             "line": {
              "color": "white"
             }
            },
            "type": "table"
           }
          ]
         },
         "layout": {
          "annotationdefaults": {
           "arrowcolor": "#2a3f5f",
           "arrowhead": 0,
           "arrowwidth": 1
          },
          "autotypenumbers": "strict",
          "coloraxis": {
           "colorbar": {
            "outlinewidth": 0,
            "ticks": ""
           }
          },
          "colorscale": {
           "diverging": [
            [
             0,
             "#8e0152"
            ],
            [
             0.1,
             "#c51b7d"
            ],
            [
             0.2,
             "#de77ae"
            ],
            [
             0.3,
             "#f1b6da"
            ],
            [
             0.4,
             "#fde0ef"
            ],
            [
             0.5,
             "#f7f7f7"
            ],
            [
             0.6,
             "#e6f5d0"
            ],
            [
             0.7,
             "#b8e186"
            ],
            [
             0.8,
             "#7fbc41"
            ],
            [
             0.9,
             "#4d9221"
            ],
            [
             1,
             "#276419"
            ]
           ],
           "sequential": [
            [
             0,
             "#0d0887"
            ],
            [
             0.1111111111111111,
             "#46039f"
            ],
            [
             0.2222222222222222,
             "#7201a8"
            ],
            [
             0.3333333333333333,
             "#9c179e"
            ],
            [
             0.4444444444444444,
             "#bd3786"
            ],
            [
             0.5555555555555556,
             "#d8576b"
            ],
            [
             0.6666666666666666,
             "#ed7953"
            ],
            [
             0.7777777777777778,
             "#fb9f3a"
            ],
            [
             0.8888888888888888,
             "#fdca26"
            ],
            [
             1,
             "#f0f921"
            ]
           ],
           "sequentialminus": [
            [
             0,
             "#0d0887"
            ],
            [
             0.1111111111111111,
             "#46039f"
            ],
            [
             0.2222222222222222,
             "#7201a8"
            ],
            [
             0.3333333333333333,
             "#9c179e"
            ],
            [
             0.4444444444444444,
             "#bd3786"
            ],
            [
             0.5555555555555556,
             "#d8576b"
            ],
            [
             0.6666666666666666,
             "#ed7953"
            ],
            [
             0.7777777777777778,
             "#fb9f3a"
            ],
            [
             0.8888888888888888,
             "#fdca26"
            ],
            [
             1,
             "#f0f921"
            ]
           ]
          },
          "colorway": [
           "#636efa",
           "#EF553B",
           "#00cc96",
           "#ab63fa",
           "#FFA15A",
           "#19d3f3",
           "#FF6692",
           "#B6E880",
           "#FF97FF",
           "#FECB52"
          ],
          "font": {
           "color": "#2a3f5f"
          },
          "geo": {
           "bgcolor": "white",
           "lakecolor": "white",
           "landcolor": "#E5ECF6",
           "showlakes": true,
           "showland": true,
           "subunitcolor": "white"
          },
          "hoverlabel": {
           "align": "left"
          },
          "hovermode": "closest",
          "mapbox": {
           "style": "light"
          },
          "paper_bgcolor": "white",
          "plot_bgcolor": "#E5ECF6",
          "polar": {
           "angularaxis": {
            "gridcolor": "white",
            "linecolor": "white",
            "ticks": ""
           },
           "bgcolor": "#E5ECF6",
           "radialaxis": {
            "gridcolor": "white",
            "linecolor": "white",
            "ticks": ""
           }
          },
          "scene": {
           "xaxis": {
            "backgroundcolor": "#E5ECF6",
            "gridcolor": "white",
            "gridwidth": 2,
            "linecolor": "white",
            "showbackground": true,
            "ticks": "",
            "zerolinecolor": "white"
           },
           "yaxis": {
            "backgroundcolor": "#E5ECF6",
            "gridcolor": "white",
            "gridwidth": 2,
            "linecolor": "white",
            "showbackground": true,
            "ticks": "",
            "zerolinecolor": "white"
           },
           "zaxis": {
            "backgroundcolor": "#E5ECF6",
            "gridcolor": "white",
            "gridwidth": 2,
            "linecolor": "white",
            "showbackground": true,
            "ticks": "",
            "zerolinecolor": "white"
           }
          },
          "shapedefaults": {
           "line": {
            "color": "#2a3f5f"
           }
          },
          "ternary": {
           "aaxis": {
            "gridcolor": "white",
            "linecolor": "white",
            "ticks": ""
           },
           "baxis": {
            "gridcolor": "white",
            "linecolor": "white",
            "ticks": ""
           },
           "bgcolor": "#E5ECF6",
           "caxis": {
            "gridcolor": "white",
            "linecolor": "white",
            "ticks": ""
           }
          },
          "title": {
           "x": 0.05
          },
          "xaxis": {
           "automargin": true,
           "gridcolor": "white",
           "linecolor": "white",
           "ticks": "",
           "title": {
            "standoff": 15
           },
           "zerolinecolor": "white",
           "zerolinewidth": 2
          },
          "yaxis": {
           "automargin": true,
           "gridcolor": "white",
           "linecolor": "white",
           "ticks": "",
           "title": {
            "standoff": 15
           },
           "zerolinecolor": "white",
           "zerolinewidth": 2
          }
         }
        },
        "title": {
         "text": "اقل عشر افلام"
        },
        "xaxis": {
         "anchor": "y",
         "categoryarray": [
          "250.  Dances with Wolves  (1990)",
          "226.  The Exorcist  (1973)",
          "225.  The Best Years of Our Lives  (1946)",
          "224.  Groundhog Day  (1993)",
          "223.  Pather Panchali  (1955)",
          "222.  The Wizard of Oz  (1939)",
          "221.  Before Sunset  (2004)",
          "220.  Into the Wild  (2007)",
          "219.  Network  (1976)",
          "227.  To Be or Not to Be  (1942)"
         ],
         "categoryorder": "array",
         "domain": [
          0,
          1
         ],
         "title": {
          "text": "الاسم"
         }
        },
        "yaxis": {
         "anchor": "x",
         "domain": [
          0,
          1
         ],
         "title": {
          "text": " تقييم"
         }
        }
       }
      },
      "text/html": [
       "<div>                            <div id=\"fbe145a2-bf87-4069-a576-93c7a42b4466\" class=\"plotly-graph-div\" style=\"height:525px; width:100%;\"></div>            <script type=\"text/javascript\">                require([\"plotly\"], function(Plotly) {                    window.PLOTLYENV=window.PLOTLYENV || {};                                    if (document.getElementById(\"fbe145a2-bf87-4069-a576-93c7a42b4466\")) {                    Plotly.newPlot(                        \"fbe145a2-bf87-4069-a576-93c7a42b4466\",                        [{\"alignmentgroup\":\"True\",\"hovertemplate\":\"\\u0627\\u0644\\u0627\\u0633\\u0645=%{x}<br> \\u062a\\u0642\\u064a\\u064a\\u0645=%{y}<extra></extra>\",\"legendgroup\":\"250.  Dances with Wolves  (1990)\",\"marker\":{\"color\":\"#636efa\",\"pattern\":{\"shape\":\"\"}},\"name\":\"250.  Dances with Wolves  (1990)\",\"offsetgroup\":\"250.  Dances with Wolves  (1990)\",\"orientation\":\"v\",\"showlegend\":true,\"textposition\":\"auto\",\"x\":[\"250.  Dances with Wolves  (1990)\"],\"xaxis\":\"x\",\"y\":[8.0],\"yaxis\":\"y\",\"type\":\"bar\"},{\"alignmentgroup\":\"True\",\"hovertemplate\":\"\\u0627\\u0644\\u0627\\u0633\\u0645=%{x}<br> \\u062a\\u0642\\u064a\\u064a\\u0645=%{y}<extra></extra>\",\"legendgroup\":\"226.  The Exorcist  (1973)\",\"marker\":{\"color\":\"#EF553B\",\"pattern\":{\"shape\":\"\"}},\"name\":\"226.  The Exorcist  (1973)\",\"offsetgroup\":\"226.  The Exorcist  (1973)\",\"orientation\":\"v\",\"showlegend\":true,\"textposition\":\"auto\",\"x\":[\"226.  The Exorcist  (1973)\"],\"xaxis\":\"x\",\"y\":[8.0],\"yaxis\":\"y\",\"type\":\"bar\"},{\"alignmentgroup\":\"True\",\"hovertemplate\":\"\\u0627\\u0644\\u0627\\u0633\\u0645=%{x}<br> \\u062a\\u0642\\u064a\\u064a\\u0645=%{y}<extra></extra>\",\"legendgroup\":\"225.  The Best Years of Our Lives  (1946)\",\"marker\":{\"color\":\"#00cc96\",\"pattern\":{\"shape\":\"\"}},\"name\":\"225.  The Best Years of Our Lives  (1946)\",\"offsetgroup\":\"225.  The Best Years of Our Lives  (1946)\",\"orientation\":\"v\",\"showlegend\":true,\"textposition\":\"auto\",\"x\":[\"225.  The Best Years of Our Lives  (1946)\"],\"xaxis\":\"x\",\"y\":[8.0],\"yaxis\":\"y\",\"type\":\"bar\"},{\"alignmentgroup\":\"True\",\"hovertemplate\":\"\\u0627\\u0644\\u0627\\u0633\\u0645=%{x}<br> \\u062a\\u0642\\u064a\\u064a\\u0645=%{y}<extra></extra>\",\"legendgroup\":\"224.  Groundhog Day  (1993)\",\"marker\":{\"color\":\"#ab63fa\",\"pattern\":{\"shape\":\"\"}},\"name\":\"224.  Groundhog Day  (1993)\",\"offsetgroup\":\"224.  Groundhog Day  (1993)\",\"orientation\":\"v\",\"showlegend\":true,\"textposition\":\"auto\",\"x\":[\"224.  Groundhog Day  (1993)\"],\"xaxis\":\"x\",\"y\":[8.0],\"yaxis\":\"y\",\"type\":\"bar\"},{\"alignmentgroup\":\"True\",\"hovertemplate\":\"\\u0627\\u0644\\u0627\\u0633\\u0645=%{x}<br> \\u062a\\u0642\\u064a\\u064a\\u0645=%{y}<extra></extra>\",\"legendgroup\":\"223.  Pather Panchali  (1955)\",\"marker\":{\"color\":\"#FFA15A\",\"pattern\":{\"shape\":\"\"}},\"name\":\"223.  Pather Panchali  (1955)\",\"offsetgroup\":\"223.  Pather Panchali  (1955)\",\"orientation\":\"v\",\"showlegend\":true,\"textposition\":\"auto\",\"x\":[\"223.  Pather Panchali  (1955)\"],\"xaxis\":\"x\",\"y\":[8.0],\"yaxis\":\"y\",\"type\":\"bar\"},{\"alignmentgroup\":\"True\",\"hovertemplate\":\"\\u0627\\u0644\\u0627\\u0633\\u0645=%{x}<br> \\u062a\\u0642\\u064a\\u064a\\u0645=%{y}<extra></extra>\",\"legendgroup\":\"222.  The Wizard of Oz  (1939)\",\"marker\":{\"color\":\"#19d3f3\",\"pattern\":{\"shape\":\"\"}},\"name\":\"222.  The Wizard of Oz  (1939)\",\"offsetgroup\":\"222.  The Wizard of Oz  (1939)\",\"orientation\":\"v\",\"showlegend\":true,\"textposition\":\"auto\",\"x\":[\"222.  The Wizard of Oz  (1939)\"],\"xaxis\":\"x\",\"y\":[8.0],\"yaxis\":\"y\",\"type\":\"bar\"},{\"alignmentgroup\":\"True\",\"hovertemplate\":\"\\u0627\\u0644\\u0627\\u0633\\u0645=%{x}<br> \\u062a\\u0642\\u064a\\u064a\\u0645=%{y}<extra></extra>\",\"legendgroup\":\"221.  Before Sunset  (2004)\",\"marker\":{\"color\":\"#FF6692\",\"pattern\":{\"shape\":\"\"}},\"name\":\"221.  Before Sunset  (2004)\",\"offsetgroup\":\"221.  Before Sunset  (2004)\",\"orientation\":\"v\",\"showlegend\":true,\"textposition\":\"auto\",\"x\":[\"221.  Before Sunset  (2004)\"],\"xaxis\":\"x\",\"y\":[8.0],\"yaxis\":\"y\",\"type\":\"bar\"},{\"alignmentgroup\":\"True\",\"hovertemplate\":\"\\u0627\\u0644\\u0627\\u0633\\u0645=%{x}<br> \\u062a\\u0642\\u064a\\u064a\\u0645=%{y}<extra></extra>\",\"legendgroup\":\"220.  Into the Wild  (2007)\",\"marker\":{\"color\":\"#B6E880\",\"pattern\":{\"shape\":\"\"}},\"name\":\"220.  Into the Wild  (2007)\",\"offsetgroup\":\"220.  Into the Wild  (2007)\",\"orientation\":\"v\",\"showlegend\":true,\"textposition\":\"auto\",\"x\":[\"220.  Into the Wild  (2007)\"],\"xaxis\":\"x\",\"y\":[8.0],\"yaxis\":\"y\",\"type\":\"bar\"},{\"alignmentgroup\":\"True\",\"hovertemplate\":\"\\u0627\\u0644\\u0627\\u0633\\u0645=%{x}<br> \\u062a\\u0642\\u064a\\u064a\\u0645=%{y}<extra></extra>\",\"legendgroup\":\"219.  Network  (1976)\",\"marker\":{\"color\":\"#FF97FF\",\"pattern\":{\"shape\":\"\"}},\"name\":\"219.  Network  (1976)\",\"offsetgroup\":\"219.  Network  (1976)\",\"orientation\":\"v\",\"showlegend\":true,\"textposition\":\"auto\",\"x\":[\"219.  Network  (1976)\"],\"xaxis\":\"x\",\"y\":[8.0],\"yaxis\":\"y\",\"type\":\"bar\"},{\"alignmentgroup\":\"True\",\"hovertemplate\":\"\\u0627\\u0644\\u0627\\u0633\\u0645=%{x}<br> \\u062a\\u0642\\u064a\\u064a\\u0645=%{y}<extra></extra>\",\"legendgroup\":\"227.  To Be or Not to Be  (1942)\",\"marker\":{\"color\":\"#FECB52\",\"pattern\":{\"shape\":\"\"}},\"name\":\"227.  To Be or Not to Be  (1942)\",\"offsetgroup\":\"227.  To Be or Not to Be  (1942)\",\"orientation\":\"v\",\"showlegend\":true,\"textposition\":\"auto\",\"x\":[\"227.  To Be or Not to Be  (1942)\"],\"xaxis\":\"x\",\"y\":[8.0],\"yaxis\":\"y\",\"type\":\"bar\"}],                        {\"template\":{\"data\":{\"histogram2dcontour\":[{\"type\":\"histogram2dcontour\",\"colorbar\":{\"outlinewidth\":0,\"ticks\":\"\"},\"colorscale\":[[0.0,\"#0d0887\"],[0.1111111111111111,\"#46039f\"],[0.2222222222222222,\"#7201a8\"],[0.3333333333333333,\"#9c179e\"],[0.4444444444444444,\"#bd3786\"],[0.5555555555555556,\"#d8576b\"],[0.6666666666666666,\"#ed7953\"],[0.7777777777777778,\"#fb9f3a\"],[0.8888888888888888,\"#fdca26\"],[1.0,\"#f0f921\"]]}],\"choropleth\":[{\"type\":\"choropleth\",\"colorbar\":{\"outlinewidth\":0,\"ticks\":\"\"}}],\"histogram2d\":[{\"type\":\"histogram2d\",\"colorbar\":{\"outlinewidth\":0,\"ticks\":\"\"},\"colorscale\":[[0.0,\"#0d0887\"],[0.1111111111111111,\"#46039f\"],[0.2222222222222222,\"#7201a8\"],[0.3333333333333333,\"#9c179e\"],[0.4444444444444444,\"#bd3786\"],[0.5555555555555556,\"#d8576b\"],[0.6666666666666666,\"#ed7953\"],[0.7777777777777778,\"#fb9f3a\"],[0.8888888888888888,\"#fdca26\"],[1.0,\"#f0f921\"]]}],\"heatmap\":[{\"type\":\"heatmap\",\"colorbar\":{\"outlinewidth\":0,\"ticks\":\"\"},\"colorscale\":[[0.0,\"#0d0887\"],[0.1111111111111111,\"#46039f\"],[0.2222222222222222,\"#7201a8\"],[0.3333333333333333,\"#9c179e\"],[0.4444444444444444,\"#bd3786\"],[0.5555555555555556,\"#d8576b\"],[0.6666666666666666,\"#ed7953\"],[0.7777777777777778,\"#fb9f3a\"],[0.8888888888888888,\"#fdca26\"],[1.0,\"#f0f921\"]]}],\"heatmapgl\":[{\"type\":\"heatmapgl\",\"colorbar\":{\"outlinewidth\":0,\"ticks\":\"\"},\"colorscale\":[[0.0,\"#0d0887\"],[0.1111111111111111,\"#46039f\"],[0.2222222222222222,\"#7201a8\"],[0.3333333333333333,\"#9c179e\"],[0.4444444444444444,\"#bd3786\"],[0.5555555555555556,\"#d8576b\"],[0.6666666666666666,\"#ed7953\"],[0.7777777777777778,\"#fb9f3a\"],[0.8888888888888888,\"#fdca26\"],[1.0,\"#f0f921\"]]}],\"contourcarpet\":[{\"type\":\"contourcarpet\",\"colorbar\":{\"outlinewidth\":0,\"ticks\":\"\"}}],\"contour\":[{\"type\":\"contour\",\"colorbar\":{\"outlinewidth\":0,\"ticks\":\"\"},\"colorscale\":[[0.0,\"#0d0887\"],[0.1111111111111111,\"#46039f\"],[0.2222222222222222,\"#7201a8\"],[0.3333333333333333,\"#9c179e\"],[0.4444444444444444,\"#bd3786\"],[0.5555555555555556,\"#d8576b\"],[0.6666666666666666,\"#ed7953\"],[0.7777777777777778,\"#fb9f3a\"],[0.8888888888888888,\"#fdca26\"],[1.0,\"#f0f921\"]]}],\"surface\":[{\"type\":\"surface\",\"colorbar\":{\"outlinewidth\":0,\"ticks\":\"\"},\"colorscale\":[[0.0,\"#0d0887\"],[0.1111111111111111,\"#46039f\"],[0.2222222222222222,\"#7201a8\"],[0.3333333333333333,\"#9c179e\"],[0.4444444444444444,\"#bd3786\"],[0.5555555555555556,\"#d8576b\"],[0.6666666666666666,\"#ed7953\"],[0.7777777777777778,\"#fb9f3a\"],[0.8888888888888888,\"#fdca26\"],[1.0,\"#f0f921\"]]}],\"mesh3d\":[{\"type\":\"mesh3d\",\"colorbar\":{\"outlinewidth\":0,\"ticks\":\"\"}}],\"scatter\":[{\"fillpattern\":{\"fillmode\":\"overlay\",\"size\":10,\"solidity\":0.2},\"type\":\"scatter\"}],\"parcoords\":[{\"type\":\"parcoords\",\"line\":{\"colorbar\":{\"outlinewidth\":0,\"ticks\":\"\"}}}],\"scatterpolargl\":[{\"type\":\"scatterpolargl\",\"marker\":{\"colorbar\":{\"outlinewidth\":0,\"ticks\":\"\"}}}],\"bar\":[{\"error_x\":{\"color\":\"#2a3f5f\"},\"error_y\":{\"color\":\"#2a3f5f\"},\"marker\":{\"line\":{\"color\":\"#E5ECF6\",\"width\":0.5},\"pattern\":{\"fillmode\":\"overlay\",\"size\":10,\"solidity\":0.2}},\"type\":\"bar\"}],\"scattergeo\":[{\"type\":\"scattergeo\",\"marker\":{\"colorbar\":{\"outlinewidth\":0,\"ticks\":\"\"}}}],\"scatterpolar\":[{\"type\":\"scatterpolar\",\"marker\":{\"colorbar\":{\"outlinewidth\":0,\"ticks\":\"\"}}}],\"histogram\":[{\"marker\":{\"pattern\":{\"fillmode\":\"overlay\",\"size\":10,\"solidity\":0.2}},\"type\":\"histogram\"}],\"scattergl\":[{\"type\":\"scattergl\",\"marker\":{\"colorbar\":{\"outlinewidth\":0,\"ticks\":\"\"}}}],\"scatter3d\":[{\"type\":\"scatter3d\",\"line\":{\"colorbar\":{\"outlinewidth\":0,\"ticks\":\"\"}},\"marker\":{\"colorbar\":{\"outlinewidth\":0,\"ticks\":\"\"}}}],\"scattermapbox\":[{\"type\":\"scattermapbox\",\"marker\":{\"colorbar\":{\"outlinewidth\":0,\"ticks\":\"\"}}}],\"scatterternary\":[{\"type\":\"scatterternary\",\"marker\":{\"colorbar\":{\"outlinewidth\":0,\"ticks\":\"\"}}}],\"scattercarpet\":[{\"type\":\"scattercarpet\",\"marker\":{\"colorbar\":{\"outlinewidth\":0,\"ticks\":\"\"}}}],\"carpet\":[{\"aaxis\":{\"endlinecolor\":\"#2a3f5f\",\"gridcolor\":\"white\",\"linecolor\":\"white\",\"minorgridcolor\":\"white\",\"startlinecolor\":\"#2a3f5f\"},\"baxis\":{\"endlinecolor\":\"#2a3f5f\",\"gridcolor\":\"white\",\"linecolor\":\"white\",\"minorgridcolor\":\"white\",\"startlinecolor\":\"#2a3f5f\"},\"type\":\"carpet\"}],\"table\":[{\"cells\":{\"fill\":{\"color\":\"#EBF0F8\"},\"line\":{\"color\":\"white\"}},\"header\":{\"fill\":{\"color\":\"#C8D4E3\"},\"line\":{\"color\":\"white\"}},\"type\":\"table\"}],\"barpolar\":[{\"marker\":{\"line\":{\"color\":\"#E5ECF6\",\"width\":0.5},\"pattern\":{\"fillmode\":\"overlay\",\"size\":10,\"solidity\":0.2}},\"type\":\"barpolar\"}],\"pie\":[{\"automargin\":true,\"type\":\"pie\"}]},\"layout\":{\"autotypenumbers\":\"strict\",\"colorway\":[\"#636efa\",\"#EF553B\",\"#00cc96\",\"#ab63fa\",\"#FFA15A\",\"#19d3f3\",\"#FF6692\",\"#B6E880\",\"#FF97FF\",\"#FECB52\"],\"font\":{\"color\":\"#2a3f5f\"},\"hovermode\":\"closest\",\"hoverlabel\":{\"align\":\"left\"},\"paper_bgcolor\":\"white\",\"plot_bgcolor\":\"#E5ECF6\",\"polar\":{\"bgcolor\":\"#E5ECF6\",\"angularaxis\":{\"gridcolor\":\"white\",\"linecolor\":\"white\",\"ticks\":\"\"},\"radialaxis\":{\"gridcolor\":\"white\",\"linecolor\":\"white\",\"ticks\":\"\"}},\"ternary\":{\"bgcolor\":\"#E5ECF6\",\"aaxis\":{\"gridcolor\":\"white\",\"linecolor\":\"white\",\"ticks\":\"\"},\"baxis\":{\"gridcolor\":\"white\",\"linecolor\":\"white\",\"ticks\":\"\"},\"caxis\":{\"gridcolor\":\"white\",\"linecolor\":\"white\",\"ticks\":\"\"}},\"coloraxis\":{\"colorbar\":{\"outlinewidth\":0,\"ticks\":\"\"}},\"colorscale\":{\"sequential\":[[0.0,\"#0d0887\"],[0.1111111111111111,\"#46039f\"],[0.2222222222222222,\"#7201a8\"],[0.3333333333333333,\"#9c179e\"],[0.4444444444444444,\"#bd3786\"],[0.5555555555555556,\"#d8576b\"],[0.6666666666666666,\"#ed7953\"],[0.7777777777777778,\"#fb9f3a\"],[0.8888888888888888,\"#fdca26\"],[1.0,\"#f0f921\"]],\"sequentialminus\":[[0.0,\"#0d0887\"],[0.1111111111111111,\"#46039f\"],[0.2222222222222222,\"#7201a8\"],[0.3333333333333333,\"#9c179e\"],[0.4444444444444444,\"#bd3786\"],[0.5555555555555556,\"#d8576b\"],[0.6666666666666666,\"#ed7953\"],[0.7777777777777778,\"#fb9f3a\"],[0.8888888888888888,\"#fdca26\"],[1.0,\"#f0f921\"]],\"diverging\":[[0,\"#8e0152\"],[0.1,\"#c51b7d\"],[0.2,\"#de77ae\"],[0.3,\"#f1b6da\"],[0.4,\"#fde0ef\"],[0.5,\"#f7f7f7\"],[0.6,\"#e6f5d0\"],[0.7,\"#b8e186\"],[0.8,\"#7fbc41\"],[0.9,\"#4d9221\"],[1,\"#276419\"]]},\"xaxis\":{\"gridcolor\":\"white\",\"linecolor\":\"white\",\"ticks\":\"\",\"title\":{\"standoff\":15},\"zerolinecolor\":\"white\",\"automargin\":true,\"zerolinewidth\":2},\"yaxis\":{\"gridcolor\":\"white\",\"linecolor\":\"white\",\"ticks\":\"\",\"title\":{\"standoff\":15},\"zerolinecolor\":\"white\",\"automargin\":true,\"zerolinewidth\":2},\"scene\":{\"xaxis\":{\"backgroundcolor\":\"#E5ECF6\",\"gridcolor\":\"white\",\"linecolor\":\"white\",\"showbackground\":true,\"ticks\":\"\",\"zerolinecolor\":\"white\",\"gridwidth\":2},\"yaxis\":{\"backgroundcolor\":\"#E5ECF6\",\"gridcolor\":\"white\",\"linecolor\":\"white\",\"showbackground\":true,\"ticks\":\"\",\"zerolinecolor\":\"white\",\"gridwidth\":2},\"zaxis\":{\"backgroundcolor\":\"#E5ECF6\",\"gridcolor\":\"white\",\"linecolor\":\"white\",\"showbackground\":true,\"ticks\":\"\",\"zerolinecolor\":\"white\",\"gridwidth\":2}},\"shapedefaults\":{\"line\":{\"color\":\"#2a3f5f\"}},\"annotationdefaults\":{\"arrowcolor\":\"#2a3f5f\",\"arrowhead\":0,\"arrowwidth\":1},\"geo\":{\"bgcolor\":\"white\",\"landcolor\":\"#E5ECF6\",\"subunitcolor\":\"white\",\"showland\":true,\"showlakes\":true,\"lakecolor\":\"white\"},\"title\":{\"x\":0.05},\"mapbox\":{\"style\":\"light\"}}},\"xaxis\":{\"anchor\":\"y\",\"domain\":[0.0,1.0],\"title\":{\"text\":\"\\u0627\\u0644\\u0627\\u0633\\u0645\"},\"categoryorder\":\"array\",\"categoryarray\":[\"250.  Dances with Wolves  (1990)\",\"226.  The Exorcist  (1973)\",\"225.  The Best Years of Our Lives  (1946)\",\"224.  Groundhog Day  (1993)\",\"223.  Pather Panchali  (1955)\",\"222.  The Wizard of Oz  (1939)\",\"221.  Before Sunset  (2004)\",\"220.  Into the Wild  (2007)\",\"219.  Network  (1976)\",\"227.  To Be or Not to Be  (1942)\"]},\"yaxis\":{\"anchor\":\"x\",\"domain\":[0.0,1.0],\"title\":{\"text\":\" \\u062a\\u0642\\u064a\\u064a\\u0645\"}},\"legend\":{\"title\":{\"text\":\"\\u0627\\u0644\\u0627\\u0633\\u0645\"},\"tracegroupgap\":0},\"title\":{\"text\":\"\\u0627\\u0642\\u0644 \\u0639\\u0634\\u0631 \\u0627\\u0641\\u0644\\u0627\\u0645\"},\"barmode\":\"relative\"},                        {\"responsive\": true}                    ).then(function(){\n",
       "                            \n",
       "var gd = document.getElementById('fbe145a2-bf87-4069-a576-93c7a42b4466');\n",
       "var x = new MutationObserver(function (mutations, observer) {{\n",
       "        var display = window.getComputedStyle(gd).display;\n",
       "        if (!display || display === 'none') {{\n",
       "            console.log([gd, 'removed!']);\n",
       "            Plotly.purge(gd);\n",
       "            observer.disconnect();\n",
       "        }}\n",
       "}});\n",
       "\n",
       "// Listen for the removal of the full notebook cells\n",
       "var notebookContainer = gd.closest('#notebook-container');\n",
       "if (notebookContainer) {{\n",
       "    x.observe(notebookContainer, {childList: true});\n",
       "}}\n",
       "\n",
       "// Listen for the clearing of the current output cell\n",
       "var outputEl = gd.closest('.output');\n",
       "if (outputEl) {{\n",
       "    x.observe(outputEl, {childList: true});\n",
       "}}\n",
       "\n",
       "                        })                };                });            </script>        </div>"
      ]
     },
     "metadata": {},
     "output_type": "display_data"
    }
   ],
   "source": [
    "fig =px.bar(df_sorted,x='Rank & Title',y='IMDb Rating',color='Rank & Title',\n",
    "           labels={'Rank & Title':'الاسم', 'IMDb Rating':' تقييم'},\n",
    "           title='اقل عشر افلام')\n",
    "fig.show()"
   ]
  },
  {
   "cell_type": "markdown",
   "id": "9c7507f8",
   "metadata": {},
   "source": [
    "# Scrape Twitter"
   ]
  },
  {
   "cell_type": "code",
   "execution_count": null,
   "id": "ccd29bea",
   "metadata": {},
   "outputs": [],
   "source": [
    "# Creating list to append tweet data to\n",
    "attributes_container = []\n",
    "\n",
    "# Using TwitterSearchScraper to scrape data and append tweets to list\n",
    "\n",
    "for i,tweet in enumerate(sntwitter.TwitterSearchScraper(\n",
    "    'كأس العالم للأندية until:2023-02-15 since:2023-01-01').get_items()):\n",
    "    if i>10000:\n",
    "        break\n",
    "    attributes_container.append([tweet.user.username,tweet.user.displayname , tweet.date, \n",
    "                                 tweet.likeCount, tweet.sourceLabel, tweet.content, \n",
    "                                 tweet.lang,tweet.coordinates, tweet.place])\n",
    "     \n",
    "# Creating a dataframe to load the list\n",
    "tweets_df = pd.DataFrame(attributes_container, columns=[\"User\", \"Name\", \"Date Created\", \n",
    "                                                        \"Number of Likes\", \"Source of Tweet\", \"Tweet\", \n",
    "                                                        \"Language\", \"Coordinates\",\"place\"])\n",
    "\n",
    "tweets_df[\"cleanTweet\"] = tweets_df[\"Tweet\"].apply(lambda s: re.sub(r'(?:\\@\\w+)','', s))# remove string like: @kmkk \n",
    "tweets_df[\"cleanTweet\"] = tweets_df[\"cleanTweet\"].apply(lambda s: re.sub(r'(?:[a-zA-Z]+)','', s))# remove english word\n",
    "tweets_df[\"cleanTweet\"] = tweets_df[\"cleanTweet\"].apply(lambda s: re.sub(  r'([$@&!~#^*+=-_]+)'    ,'', s)) \n",
    "tweets_df = tweets_df[tweets_df['Language'] ==  \"ar\"]\n",
    "tweets_df['Date Created'] = tweets_df['Date Created'].apply(lambda a: pd.to_datetime(a).date())\n",
    "print(tweets_df)\n",
    "tweets_df.to_excel('TwitterData3.xlsx')"
   ]
  },
  {
   "cell_type": "code",
   "execution_count": 149,
   "id": "158e546f",
   "metadata": {
    "scrolled": false
   },
   "outputs": [
    {
     "data": {
      "text/html": [
       "<div>\n",
       "<style scoped>\n",
       "    .dataframe tbody tr th:only-of-type {\n",
       "        vertical-align: middle;\n",
       "    }\n",
       "\n",
       "    .dataframe tbody tr th {\n",
       "        vertical-align: top;\n",
       "    }\n",
       "\n",
       "    .dataframe thead th {\n",
       "        text-align: right;\n",
       "    }\n",
       "</style>\n",
       "<table border=\"1\" class=\"dataframe\">\n",
       "  <thead>\n",
       "    <tr style=\"text-align: right;\">\n",
       "      <th></th>\n",
       "      <th>User</th>\n",
       "      <th>Name</th>\n",
       "      <th>Date Created</th>\n",
       "      <th>Number of Likes</th>\n",
       "      <th>Source of Tweet</th>\n",
       "      <th>Tweet</th>\n",
       "      <th>Language</th>\n",
       "      <th>Coordinates</th>\n",
       "      <th>place</th>\n",
       "      <th>cleanTweet</th>\n",
       "    </tr>\n",
       "  </thead>\n",
       "  <tbody>\n",
       "    <tr>\n",
       "      <th>0</th>\n",
       "      <td>AX98jfg8k94</td>\n",
       "      <td>SAMIII</td>\n",
       "      <td>2023-02-14</td>\n",
       "      <td>0</td>\n",
       "      <td>Twitter for iPhone</td>\n",
       "      <td>@iwamzyan 😂😂😂 كأس العالم للاندية هل تطن ان الم...</td>\n",
       "      <td>ar</td>\n",
       "      <td>NaN</td>\n",
       "      <td>NaN</td>\n",
       "      <td>😂😂😂 كأس العالم للاندية هل تطن ان المغرب قام ب...</td>\n",
       "    </tr>\n",
       "    <tr>\n",
       "      <th>1</th>\n",
       "      <td>hebasay39744927</td>\n",
       "      <td>🦅♥️🇪🇬 heba.sayed‏</td>\n",
       "      <td>2023-02-14</td>\n",
       "      <td>38</td>\n",
       "      <td>Twitter for Android</td>\n",
       "      <td>محمد شبانة: لما أعيش لليوم اللي الزمالك يلعب ف...</td>\n",
       "      <td>ar</td>\n",
       "      <td>NaN</td>\n",
       "      <td>NaN</td>\n",
       "      <td>محمد شبانة: لما أعيش لليوم اللي الزمالك يلعب ف...</td>\n",
       "    </tr>\n",
       "    <tr>\n",
       "      <th>2</th>\n",
       "      <td>2oios</td>\n",
       "      <td>-ﺎلسسَآطي ‏𖤐</td>\n",
       "      <td>2023-02-14</td>\n",
       "      <td>0</td>\n",
       "      <td>Twitter for iPhone</td>\n",
       "      <td>@toldo2002 @tooothy_ وبإذن الله ان التاسعة تتح...</td>\n",
       "      <td>ar</td>\n",
       "      <td>NaN</td>\n",
       "      <td>NaN</td>\n",
       "      <td>وبإذن الله ان التاسعة تتحق السنه ذي وكاس الع...</td>\n",
       "    </tr>\n",
       "    <tr>\n",
       "      <th>3</th>\n",
       "      <td>mohamed90108304</td>\n",
       "      <td>Mohamed Metwally Shaarawi ( ابو بـودئ )🇪🇬♥️🇸🇦</td>\n",
       "      <td>2023-02-14</td>\n",
       "      <td>1</td>\n",
       "      <td>Twitter for iPhone</td>\n",
       "      <td>أعلن الاتحاد الدولي لكرة القدم \"#فيفا\" تطبيق ن...</td>\n",
       "      <td>ar</td>\n",
       "      <td>NaN</td>\n",
       "      <td>NaN</td>\n",
       "      <td>أعلن الاتحاد الدولي لكرة القدم \"فيفا\" تطبيق نظ...</td>\n",
       "    </tr>\n",
       "    <tr>\n",
       "      <th>4</th>\n",
       "      <td>fstp1396</td>\n",
       "      <td>الزكرتي</td>\n",
       "      <td>2023-02-14</td>\n",
       "      <td>2</td>\n",
       "      <td>Twitter for iPhone</td>\n",
       "      <td>رايحين للاتحاد الاسيوي يبون ميدالية اللعب النظ...</td>\n",
       "      <td>ar</td>\n",
       "      <td>NaN</td>\n",
       "      <td>NaN</td>\n",
       "      <td>رايحين للاتحاد الاسيوي يبون ميدالية اللعب النظ...</td>\n",
       "    </tr>\n",
       "    <tr>\n",
       "      <th>...</th>\n",
       "      <td>...</td>\n",
       "      <td>...</td>\n",
       "      <td>...</td>\n",
       "      <td>...</td>\n",
       "      <td>...</td>\n",
       "      <td>...</td>\n",
       "      <td>...</td>\n",
       "      <td>...</td>\n",
       "      <td>...</td>\n",
       "      <td>...</td>\n",
       "    </tr>\n",
       "    <tr>\n",
       "      <th>9819</th>\n",
       "      <td>aljeban</td>\n",
       "      <td>أحمد | AHMED</td>\n",
       "      <td>2023-02-12</td>\n",
       "      <td>1</td>\n",
       "      <td>Twitter for iPhone</td>\n",
       "      <td>#ريال_مدريد بطل #كأس_العالم_للأندية 2022\\n    ...</td>\n",
       "      <td>ar</td>\n",
       "      <td>NaN</td>\n",
       "      <td>NaN</td>\n",
       "      <td>ريالمدريد بطل كأسالعالمللأندية 2022\\n         ...</td>\n",
       "    </tr>\n",
       "    <tr>\n",
       "      <th>9820</th>\n",
       "      <td>sayyidaty</td>\n",
       "      <td>برنامج سيدتي</td>\n",
       "      <td>2023-02-12</td>\n",
       "      <td>3</td>\n",
       "      <td>Twitter Media Studio - LiveCut</td>\n",
       "      <td>ماجد المهندس: مبروك للوطن هذا الإنجاز اللي مو ...</td>\n",
       "      <td>ar</td>\n",
       "      <td>NaN</td>\n",
       "      <td>NaN</td>\n",
       "      <td>ماجد المهندس: مبروك للوطن هذا الإنجاز اللي مو ...</td>\n",
       "    </tr>\n",
       "    <tr>\n",
       "      <th>9821</th>\n",
       "      <td>YaHalaShow</td>\n",
       "      <td>برنامج ياهلا</td>\n",
       "      <td>2023-02-12</td>\n",
       "      <td>1</td>\n",
       "      <td>Twitter Media Studio - LiveCut</td>\n",
       "      <td>ماجد المهندس: مبروك للوطن هذا الإنجاز اللي مو ...</td>\n",
       "      <td>ar</td>\n",
       "      <td>NaN</td>\n",
       "      <td>NaN</td>\n",
       "      <td>ماجد المهندس: مبروك للوطن هذا الإنجاز اللي مو ...</td>\n",
       "    </tr>\n",
       "    <tr>\n",
       "      <th>9822</th>\n",
       "      <td>sa3etshabab</td>\n",
       "      <td>ساعة شباب</td>\n",
       "      <td>2023-02-12</td>\n",
       "      <td>0</td>\n",
       "      <td>Twitter Media Studio - LiveCut</td>\n",
       "      <td>ماجد المهندس: مبروك للوطن هذا الإنجاز اللي مو ...</td>\n",
       "      <td>ar</td>\n",
       "      <td>NaN</td>\n",
       "      <td>NaN</td>\n",
       "      <td>ماجد المهندس: مبروك للوطن هذا الإنجاز اللي مو ...</td>\n",
       "    </tr>\n",
       "    <tr>\n",
       "      <th>9823</th>\n",
       "      <td>korarotana</td>\n",
       "      <td>برنامج كورة</td>\n",
       "      <td>2023-02-12</td>\n",
       "      <td>16</td>\n",
       "      <td>Twitter Media Studio - LiveCut</td>\n",
       "      <td>ماجد المهندس: مبروك للوطن هذا الإنجاز اللي مو ...</td>\n",
       "      <td>ar</td>\n",
       "      <td>NaN</td>\n",
       "      <td>NaN</td>\n",
       "      <td>ماجد المهندس: مبروك للوطن هذا الإنجاز اللي مو ...</td>\n",
       "    </tr>\n",
       "  </tbody>\n",
       "</table>\n",
       "<p>9824 rows × 10 columns</p>\n",
       "</div>"
      ],
      "text/plain": [
       "                 User                                           Name  \\\n",
       "0         AX98jfg8k94                                         SAMIII   \n",
       "1     hebasay39744927                              🦅♥️🇪🇬 heba.sayed‏   \n",
       "2               2oios                                   -ﺎلسسَآطي ‏𖤐   \n",
       "3     mohamed90108304  Mohamed Metwally Shaarawi ( ابو بـودئ )🇪🇬♥️🇸🇦   \n",
       "4            fstp1396                                        الزكرتي   \n",
       "...               ...                                            ...   \n",
       "9819          aljeban                                   أحمد | AHMED   \n",
       "9820        sayyidaty                                   برنامج سيدتي   \n",
       "9821       YaHalaShow                                   برنامج ياهلا   \n",
       "9822      sa3etshabab                                      ساعة شباب   \n",
       "9823       korarotana                                    برنامج كورة   \n",
       "\n",
       "     Date Created  Number of Likes                 Source of Tweet  \\\n",
       "0      2023-02-14                0              Twitter for iPhone   \n",
       "1      2023-02-14               38             Twitter for Android   \n",
       "2      2023-02-14                0              Twitter for iPhone   \n",
       "3      2023-02-14                1              Twitter for iPhone   \n",
       "4      2023-02-14                2              Twitter for iPhone   \n",
       "...           ...              ...                             ...   \n",
       "9819   2023-02-12                1              Twitter for iPhone   \n",
       "9820   2023-02-12                3  Twitter Media Studio - LiveCut   \n",
       "9821   2023-02-12                1  Twitter Media Studio - LiveCut   \n",
       "9822   2023-02-12                0  Twitter Media Studio - LiveCut   \n",
       "9823   2023-02-12               16  Twitter Media Studio - LiveCut   \n",
       "\n",
       "                                                  Tweet Language Coordinates  \\\n",
       "0     @iwamzyan 😂😂😂 كأس العالم للاندية هل تطن ان الم...       ar         NaN   \n",
       "1     محمد شبانة: لما أعيش لليوم اللي الزمالك يلعب ف...       ar         NaN   \n",
       "2     @toldo2002 @tooothy_ وبإذن الله ان التاسعة تتح...       ar         NaN   \n",
       "3     أعلن الاتحاد الدولي لكرة القدم \"#فيفا\" تطبيق ن...       ar         NaN   \n",
       "4     رايحين للاتحاد الاسيوي يبون ميدالية اللعب النظ...       ar         NaN   \n",
       "...                                                 ...      ...         ...   \n",
       "9819  #ريال_مدريد بطل #كأس_العالم_للأندية 2022\\n    ...       ar         NaN   \n",
       "9820  ماجد المهندس: مبروك للوطن هذا الإنجاز اللي مو ...       ar         NaN   \n",
       "9821  ماجد المهندس: مبروك للوطن هذا الإنجاز اللي مو ...       ar         NaN   \n",
       "9822  ماجد المهندس: مبروك للوطن هذا الإنجاز اللي مو ...       ar         NaN   \n",
       "9823  ماجد المهندس: مبروك للوطن هذا الإنجاز اللي مو ...       ar         NaN   \n",
       "\n",
       "     place                                         cleanTweet  \n",
       "0      NaN   😂😂😂 كأس العالم للاندية هل تطن ان المغرب قام ب...  \n",
       "1      NaN  محمد شبانة: لما أعيش لليوم اللي الزمالك يلعب ف...  \n",
       "2      NaN    وبإذن الله ان التاسعة تتحق السنه ذي وكاس الع...  \n",
       "3      NaN  أعلن الاتحاد الدولي لكرة القدم \"فيفا\" تطبيق نظ...  \n",
       "4      NaN  رايحين للاتحاد الاسيوي يبون ميدالية اللعب النظ...  \n",
       "...    ...                                                ...  \n",
       "9819   NaN  ريالمدريد بطل كأسالعالمللأندية 2022\\n         ...  \n",
       "9820   NaN  ماجد المهندس: مبروك للوطن هذا الإنجاز اللي مو ...  \n",
       "9821   NaN  ماجد المهندس: مبروك للوطن هذا الإنجاز اللي مو ...  \n",
       "9822   NaN  ماجد المهندس: مبروك للوطن هذا الإنجاز اللي مو ...  \n",
       "9823   NaN  ماجد المهندس: مبروك للوطن هذا الإنجاز اللي مو ...  \n",
       "\n",
       "[9824 rows x 10 columns]"
      ]
     },
     "execution_count": 149,
     "metadata": {},
     "output_type": "execute_result"
    }
   ],
   "source": [
    "df = pd.read_excel('TwitterData3.xlsx')\n",
    "df.drop(columns='Unnamed: 0',inplace=True)\n",
    "df"
   ]
  },
  {
   "cell_type": "code",
   "execution_count": 150,
   "id": "87f1e61e",
   "metadata": {
    "scrolled": true
   },
   "outputs": [
    {
     "data": {
      "text/plain": [
       "Index(['User', 'Name', 'Date Created', 'Number of Likes', 'Source of Tweet',\n",
       "       'Tweet', 'Language', 'Coordinates', 'place', 'cleanTweet'],\n",
       "      dtype='object')"
      ]
     },
     "execution_count": 150,
     "metadata": {},
     "output_type": "execute_result"
    }
   ],
   "source": [
    "df.columns"
   ]
  },
  {
   "cell_type": "code",
   "execution_count": 151,
   "id": "d947cc62",
   "metadata": {},
   "outputs": [],
   "source": [
    "df.columns=['User', 'Name', 'Date_Created', 'Number_of_Likes', 'Source_of_Tweet', 'Tweet',\n",
    "            'Language', 'Coordinates','place','cleanTweet']"
   ]
  },
  {
   "cell_type": "code",
   "execution_count": 152,
   "id": "f332ad62",
   "metadata": {},
   "outputs": [
    {
     "data": {
      "text/html": [
       "<div>\n",
       "<style scoped>\n",
       "    .dataframe tbody tr th:only-of-type {\n",
       "        vertical-align: middle;\n",
       "    }\n",
       "\n",
       "    .dataframe tbody tr th {\n",
       "        vertical-align: top;\n",
       "    }\n",
       "\n",
       "    .dataframe thead th {\n",
       "        text-align: right;\n",
       "    }\n",
       "</style>\n",
       "<table border=\"1\" class=\"dataframe\">\n",
       "  <thead>\n",
       "    <tr style=\"text-align: right;\">\n",
       "      <th></th>\n",
       "      <th>User</th>\n",
       "      <th>Name</th>\n",
       "      <th>Date_Created</th>\n",
       "      <th>Number_of_Likes</th>\n",
       "      <th>Source_of_Tweet</th>\n",
       "      <th>Tweet</th>\n",
       "      <th>Language</th>\n",
       "      <th>Coordinates</th>\n",
       "      <th>place</th>\n",
       "      <th>cleanTweet</th>\n",
       "    </tr>\n",
       "  </thead>\n",
       "  <tbody>\n",
       "    <tr>\n",
       "      <th>0</th>\n",
       "      <td>AX98jfg8k94</td>\n",
       "      <td>SAMIII</td>\n",
       "      <td>2023-02-14</td>\n",
       "      <td>0</td>\n",
       "      <td>Twitter for iPhone</td>\n",
       "      <td>@iwamzyan 😂😂😂 كأس العالم للاندية هل تطن ان الم...</td>\n",
       "      <td>ar</td>\n",
       "      <td>NaN</td>\n",
       "      <td>NaN</td>\n",
       "      <td>😂😂😂 كأس العالم للاندية هل تطن ان المغرب قام ب...</td>\n",
       "    </tr>\n",
       "    <tr>\n",
       "      <th>1</th>\n",
       "      <td>hebasay39744927</td>\n",
       "      <td>🦅♥️🇪🇬 heba.sayed‏</td>\n",
       "      <td>2023-02-14</td>\n",
       "      <td>38</td>\n",
       "      <td>Twitter for Android</td>\n",
       "      <td>محمد شبانة: لما أعيش لليوم اللي الزمالك يلعب ف...</td>\n",
       "      <td>ar</td>\n",
       "      <td>NaN</td>\n",
       "      <td>NaN</td>\n",
       "      <td>محمد شبانة: لما أعيش لليوم اللي الزمالك يلعب ف...</td>\n",
       "    </tr>\n",
       "    <tr>\n",
       "      <th>2</th>\n",
       "      <td>2oios</td>\n",
       "      <td>-ﺎلسسَآطي ‏𖤐</td>\n",
       "      <td>2023-02-14</td>\n",
       "      <td>0</td>\n",
       "      <td>Twitter for iPhone</td>\n",
       "      <td>@toldo2002 @tooothy_ وبإذن الله ان التاسعة تتح...</td>\n",
       "      <td>ar</td>\n",
       "      <td>NaN</td>\n",
       "      <td>NaN</td>\n",
       "      <td>وبإذن الله ان التاسعة تتحق السنه ذي وكاس الع...</td>\n",
       "    </tr>\n",
       "    <tr>\n",
       "      <th>3</th>\n",
       "      <td>mohamed90108304</td>\n",
       "      <td>Mohamed Metwally Shaarawi ( ابو بـودئ )🇪🇬♥️🇸🇦</td>\n",
       "      <td>2023-02-14</td>\n",
       "      <td>1</td>\n",
       "      <td>Twitter for iPhone</td>\n",
       "      <td>أعلن الاتحاد الدولي لكرة القدم \"#فيفا\" تطبيق ن...</td>\n",
       "      <td>ar</td>\n",
       "      <td>NaN</td>\n",
       "      <td>NaN</td>\n",
       "      <td>أعلن الاتحاد الدولي لكرة القدم \"فيفا\" تطبيق نظ...</td>\n",
       "    </tr>\n",
       "    <tr>\n",
       "      <th>4</th>\n",
       "      <td>fstp1396</td>\n",
       "      <td>الزكرتي</td>\n",
       "      <td>2023-02-14</td>\n",
       "      <td>2</td>\n",
       "      <td>Twitter for iPhone</td>\n",
       "      <td>رايحين للاتحاد الاسيوي يبون ميدالية اللعب النظ...</td>\n",
       "      <td>ar</td>\n",
       "      <td>NaN</td>\n",
       "      <td>NaN</td>\n",
       "      <td>رايحين للاتحاد الاسيوي يبون ميدالية اللعب النظ...</td>\n",
       "    </tr>\n",
       "    <tr>\n",
       "      <th>...</th>\n",
       "      <td>...</td>\n",
       "      <td>...</td>\n",
       "      <td>...</td>\n",
       "      <td>...</td>\n",
       "      <td>...</td>\n",
       "      <td>...</td>\n",
       "      <td>...</td>\n",
       "      <td>...</td>\n",
       "      <td>...</td>\n",
       "      <td>...</td>\n",
       "    </tr>\n",
       "    <tr>\n",
       "      <th>9819</th>\n",
       "      <td>aljeban</td>\n",
       "      <td>أحمد | AHMED</td>\n",
       "      <td>2023-02-12</td>\n",
       "      <td>1</td>\n",
       "      <td>Twitter for iPhone</td>\n",
       "      <td>#ريال_مدريد بطل #كأس_العالم_للأندية 2022\\n    ...</td>\n",
       "      <td>ar</td>\n",
       "      <td>NaN</td>\n",
       "      <td>NaN</td>\n",
       "      <td>ريالمدريد بطل كأسالعالمللأندية 2022\\n         ...</td>\n",
       "    </tr>\n",
       "    <tr>\n",
       "      <th>9820</th>\n",
       "      <td>sayyidaty</td>\n",
       "      <td>برنامج سيدتي</td>\n",
       "      <td>2023-02-12</td>\n",
       "      <td>3</td>\n",
       "      <td>Twitter Media Studio - LiveCut</td>\n",
       "      <td>ماجد المهندس: مبروك للوطن هذا الإنجاز اللي مو ...</td>\n",
       "      <td>ar</td>\n",
       "      <td>NaN</td>\n",
       "      <td>NaN</td>\n",
       "      <td>ماجد المهندس: مبروك للوطن هذا الإنجاز اللي مو ...</td>\n",
       "    </tr>\n",
       "    <tr>\n",
       "      <th>9821</th>\n",
       "      <td>YaHalaShow</td>\n",
       "      <td>برنامج ياهلا</td>\n",
       "      <td>2023-02-12</td>\n",
       "      <td>1</td>\n",
       "      <td>Twitter Media Studio - LiveCut</td>\n",
       "      <td>ماجد المهندس: مبروك للوطن هذا الإنجاز اللي مو ...</td>\n",
       "      <td>ar</td>\n",
       "      <td>NaN</td>\n",
       "      <td>NaN</td>\n",
       "      <td>ماجد المهندس: مبروك للوطن هذا الإنجاز اللي مو ...</td>\n",
       "    </tr>\n",
       "    <tr>\n",
       "      <th>9822</th>\n",
       "      <td>sa3etshabab</td>\n",
       "      <td>ساعة شباب</td>\n",
       "      <td>2023-02-12</td>\n",
       "      <td>0</td>\n",
       "      <td>Twitter Media Studio - LiveCut</td>\n",
       "      <td>ماجد المهندس: مبروك للوطن هذا الإنجاز اللي مو ...</td>\n",
       "      <td>ar</td>\n",
       "      <td>NaN</td>\n",
       "      <td>NaN</td>\n",
       "      <td>ماجد المهندس: مبروك للوطن هذا الإنجاز اللي مو ...</td>\n",
       "    </tr>\n",
       "    <tr>\n",
       "      <th>9823</th>\n",
       "      <td>korarotana</td>\n",
       "      <td>برنامج كورة</td>\n",
       "      <td>2023-02-12</td>\n",
       "      <td>16</td>\n",
       "      <td>Twitter Media Studio - LiveCut</td>\n",
       "      <td>ماجد المهندس: مبروك للوطن هذا الإنجاز اللي مو ...</td>\n",
       "      <td>ar</td>\n",
       "      <td>NaN</td>\n",
       "      <td>NaN</td>\n",
       "      <td>ماجد المهندس: مبروك للوطن هذا الإنجاز اللي مو ...</td>\n",
       "    </tr>\n",
       "  </tbody>\n",
       "</table>\n",
       "<p>9824 rows × 10 columns</p>\n",
       "</div>"
      ],
      "text/plain": [
       "                 User                                           Name  \\\n",
       "0         AX98jfg8k94                                         SAMIII   \n",
       "1     hebasay39744927                              🦅♥️🇪🇬 heba.sayed‏   \n",
       "2               2oios                                   -ﺎلسسَآطي ‏𖤐   \n",
       "3     mohamed90108304  Mohamed Metwally Shaarawi ( ابو بـودئ )🇪🇬♥️🇸🇦   \n",
       "4            fstp1396                                        الزكرتي   \n",
       "...               ...                                            ...   \n",
       "9819          aljeban                                   أحمد | AHMED   \n",
       "9820        sayyidaty                                   برنامج سيدتي   \n",
       "9821       YaHalaShow                                   برنامج ياهلا   \n",
       "9822      sa3etshabab                                      ساعة شباب   \n",
       "9823       korarotana                                    برنامج كورة   \n",
       "\n",
       "     Date_Created  Number_of_Likes                 Source_of_Tweet  \\\n",
       "0      2023-02-14                0              Twitter for iPhone   \n",
       "1      2023-02-14               38             Twitter for Android   \n",
       "2      2023-02-14                0              Twitter for iPhone   \n",
       "3      2023-02-14                1              Twitter for iPhone   \n",
       "4      2023-02-14                2              Twitter for iPhone   \n",
       "...           ...              ...                             ...   \n",
       "9819   2023-02-12                1              Twitter for iPhone   \n",
       "9820   2023-02-12                3  Twitter Media Studio - LiveCut   \n",
       "9821   2023-02-12                1  Twitter Media Studio - LiveCut   \n",
       "9822   2023-02-12                0  Twitter Media Studio - LiveCut   \n",
       "9823   2023-02-12               16  Twitter Media Studio - LiveCut   \n",
       "\n",
       "                                                  Tweet Language Coordinates  \\\n",
       "0     @iwamzyan 😂😂😂 كأس العالم للاندية هل تطن ان الم...       ar         NaN   \n",
       "1     محمد شبانة: لما أعيش لليوم اللي الزمالك يلعب ف...       ar         NaN   \n",
       "2     @toldo2002 @tooothy_ وبإذن الله ان التاسعة تتح...       ar         NaN   \n",
       "3     أعلن الاتحاد الدولي لكرة القدم \"#فيفا\" تطبيق ن...       ar         NaN   \n",
       "4     رايحين للاتحاد الاسيوي يبون ميدالية اللعب النظ...       ar         NaN   \n",
       "...                                                 ...      ...         ...   \n",
       "9819  #ريال_مدريد بطل #كأس_العالم_للأندية 2022\\n    ...       ar         NaN   \n",
       "9820  ماجد المهندس: مبروك للوطن هذا الإنجاز اللي مو ...       ar         NaN   \n",
       "9821  ماجد المهندس: مبروك للوطن هذا الإنجاز اللي مو ...       ar         NaN   \n",
       "9822  ماجد المهندس: مبروك للوطن هذا الإنجاز اللي مو ...       ar         NaN   \n",
       "9823  ماجد المهندس: مبروك للوطن هذا الإنجاز اللي مو ...       ar         NaN   \n",
       "\n",
       "     place                                         cleanTweet  \n",
       "0      NaN   😂😂😂 كأس العالم للاندية هل تطن ان المغرب قام ب...  \n",
       "1      NaN  محمد شبانة: لما أعيش لليوم اللي الزمالك يلعب ف...  \n",
       "2      NaN    وبإذن الله ان التاسعة تتحق السنه ذي وكاس الع...  \n",
       "3      NaN  أعلن الاتحاد الدولي لكرة القدم \"فيفا\" تطبيق نظ...  \n",
       "4      NaN  رايحين للاتحاد الاسيوي يبون ميدالية اللعب النظ...  \n",
       "...    ...                                                ...  \n",
       "9819   NaN  ريالمدريد بطل كأسالعالمللأندية 2022\\n         ...  \n",
       "9820   NaN  ماجد المهندس: مبروك للوطن هذا الإنجاز اللي مو ...  \n",
       "9821   NaN  ماجد المهندس: مبروك للوطن هذا الإنجاز اللي مو ...  \n",
       "9822   NaN  ماجد المهندس: مبروك للوطن هذا الإنجاز اللي مو ...  \n",
       "9823   NaN  ماجد المهندس: مبروك للوطن هذا الإنجاز اللي مو ...  \n",
       "\n",
       "[9824 rows x 10 columns]"
      ]
     },
     "execution_count": 152,
     "metadata": {},
     "output_type": "execute_result"
    }
   ],
   "source": [
    "df"
   ]
  },
  {
   "cell_type": "code",
   "execution_count": 153,
   "id": "1a078e04",
   "metadata": {
    "scrolled": false
   },
   "outputs": [
    {
     "data": {
      "application/vnd.plotly.v1+json": {
       "config": {
        "plotlyServerURL": "https://plot.ly"
       },
       "data": [
        {
         "alignmentgroup": "True",
         "customdata": [
          [
           "الاتحاد السعودي لكرة القدم",
           "الاتحاد الدولي لكرة القدم :\n\nالسعودية تستضيف كأس العالم للأندية 2023 🇸🇦\n\nمونديالالأنديةبالسعودية\n ://./2287"
          ]
         ],
         "hovertemplate": "المستخدم=%{x}<br>عدد الاعجاب=%{y}<br>Name=%{customdata[0]}<br>cleanTweet=%{customdata[1]}<extra></extra>",
         "legendgroup": "saudiFF",
         "marker": {
          "color": "#636efa",
          "pattern": {
           "shape": ""
          }
         },
         "name": "saudiFF",
         "offsetgroup": "saudiFF",
         "orientation": "v",
         "showlegend": true,
         "textposition": "auto",
         "type": "bar",
         "x": [
          "saudiFF"
         ],
         "xaxis": "x",
         "y": [
          5239
         ],
         "yaxis": "y"
        },
        {
         "alignmentgroup": "True",
         "customdata": [
          [
           "عبدالعزيز بن تركي الفيصل",
           "امتدادًا للنجاحات في تنظيم البطولات والأحداث العالمية بدعم قيادة وطننا الغالي🇸🇦\n\nنسعد اليوم بإعلان الفيفا  عن استضافة المملكة لبطولة كأس العالم للأندية 2023 \n\nمرحباً بالعالم في موطن الأحداث الرياضية🇸🇦\n\nمونديالالأنديةبالسعودية\n"
          ]
         ],
         "hovertemplate": "المستخدم=%{x}<br>عدد الاعجاب=%{y}<br>Name=%{customdata[0]}<br>cleanTweet=%{customdata[1]}<extra></extra>",
         "legendgroup": "AbdulazizTF",
         "marker": {
          "color": "#EF553B",
          "pattern": {
           "shape": ""
          }
         },
         "name": "AbdulazizTF",
         "offsetgroup": "AbdulazizTF",
         "orientation": "v",
         "showlegend": true,
         "textposition": "auto",
         "type": "bar",
         "x": [
          "AbdulazizTF"
         ],
         "xaxis": "x",
         "y": [
          4609
         ],
         "yaxis": "y"
        },
        {
         "alignmentgroup": "True",
         "customdata": [
          [
           "أخبار السعودية",
           "عاجل:\n\nرسميًا:\n\nالسعودية تستضيف كأس العالم للأندية 2023."
          ]
         ],
         "hovertemplate": "المستخدم=%{x}<br>عدد الاعجاب=%{y}<br>Name=%{customdata[0]}<br>cleanTweet=%{customdata[1]}<extra></extra>",
         "legendgroup": "SaudiNews50",
         "marker": {
          "color": "#00cc96",
          "pattern": {
           "shape": ""
          }
         },
         "name": "SaudiNews50",
         "offsetgroup": "SaudiNews50",
         "orientation": "v",
         "showlegend": true,
         "textposition": "auto",
         "type": "bar",
         "x": [
          "SaudiNews50"
         ],
         "xaxis": "x",
         "y": [
          3134
         ],
         "yaxis": "y"
        },
        {
         "alignmentgroup": "True",
         "customdata": [
          [
           "كأس العالم FIFA 🏆",
           "من كان أفضل قلب دفاع عربي في كأس العالم للأندية  المغرب 2022؟"
          ]
         ],
         "hovertemplate": "المستخدم=%{x}<br>عدد الاعجاب=%{y}<br>Name=%{customdata[0]}<br>cleanTweet=%{customdata[1]}<extra></extra>",
         "legendgroup": "fifaworldcup_ar",
         "marker": {
          "color": "#ab63fa",
          "pattern": {
           "shape": ""
          }
         },
         "name": "fifaworldcup_ar",
         "offsetgroup": "fifaworldcup_ar",
         "orientation": "v",
         "showlegend": true,
         "textposition": "auto",
         "type": "bar",
         "x": [
          "fifaworldcup_ar"
         ],
         "xaxis": "x",
         "y": [
          2784
         ],
         "yaxis": "y"
        },
        {
         "alignmentgroup": "True",
         "customdata": [
          [
           "Insider Real",
           "الفائز بدوري أبطال أوروبا\nالفائز في بالليغا\nالفائز بالسوبر الأوروبي\nالفائز بكأس العالم للأندية\nأفضل لاعب شاب في أوروبا\nأفضل لاعب في كأس العالم للأندية\nسجل 22 هدف وصنع 20\n\nغير مُرشح في تشكيلة  2022. ❌ ://./08"
          ]
         ],
         "hovertemplate": "المستخدم=%{x}<br>عدد الاعجاب=%{y}<br>Name=%{customdata[0]}<br>cleanTweet=%{customdata[1]}<extra></extra>",
         "legendgroup": "RMCFarab",
         "marker": {
          "color": "#FFA15A",
          "pattern": {
           "shape": ""
          }
         },
         "name": "RMCFarab",
         "offsetgroup": "RMCFarab",
         "orientation": "v",
         "showlegend": true,
         "textposition": "auto",
         "type": "bar",
         "x": [
          "RMCFarab"
         ],
         "xaxis": "x",
         "y": [
          2695
         ],
         "yaxis": "y"
        },
        {
         "alignmentgroup": "True",
         "customdata": [
          [
           "ستوديو الأهلي",
           "أبو تريكة في عام واحد فقط حقق كل ده .. عام ( 2006 ) :\n- كأس أمم أفريقيا\n- دوري أبطال أفريقيا\n- كأس السوبر الأفريقي\n- الدوري المصري\n- كأس مصر\n- السوبر المصري\n- برونزية كأس العالم للاندية\n- هداف كأس العالم للأندية أحرز 3 أهداف\n- هداف الدوري المصري أحرز 18 أهداف.\n-هدّاف بطولة دوري… ://./1759"
          ]
         ],
         "hovertemplate": "المستخدم=%{x}<br>عدد الاعجاب=%{y}<br>Name=%{customdata[0]}<br>cleanTweet=%{customdata[1]}<extra></extra>",
         "legendgroup": "Ahlystudio",
         "marker": {
          "color": "#19d3f3",
          "pattern": {
           "shape": ""
          }
         },
         "name": "Ahlystudio",
         "offsetgroup": "Ahlystudio",
         "orientation": "v",
         "showlegend": true,
         "textposition": "auto",
         "type": "bar",
         "x": [
          "Ahlystudio"
         ],
         "xaxis": "x",
         "y": [
          2633
         ],
         "yaxis": "y"
        },
        {
         "alignmentgroup": "True",
         "customdata": [
          [
           "hafid derradji حفيظ دراجي",
           "ألف مبروك للسعودية حصولها على تنظيم كأس العالم للأندية 2023 .\n العاقبة لمونديال ٢٠٣٠ باذن الله ://./53"
          ]
         ],
         "hovertemplate": "المستخدم=%{x}<br>عدد الاعجاب=%{y}<br>Name=%{customdata[0]}<br>cleanTweet=%{customdata[1]}<extra></extra>",
         "legendgroup": "derradjihafid",
         "marker": {
          "color": "#FF6692",
          "pattern": {
           "shape": ""
          }
         },
         "name": "derradjihafid",
         "offsetgroup": "derradjihafid",
         "orientation": "v",
         "showlegend": true,
         "textposition": "auto",
         "type": "bar",
         "x": [
          "derradjihafid"
         ],
         "xaxis": "x",
         "y": [
          2296
         ],
         "yaxis": "y"
        },
        {
         "alignmentgroup": "True",
         "customdata": [
          [
           "أخبار الهلال",
           "🚨 في حال تحقيق الهلال لبطولة دوري أبطال آسيا النسخة الحالية قد يضمن المشاركة في نسختين من كأس العالم للأندية 2022 و2025. ://./106"
          ]
         ],
         "hovertemplate": "المستخدم=%{x}<br>عدد الاعجاب=%{y}<br>Name=%{customdata[0]}<br>cleanTweet=%{customdata[1]}<extra></extra>",
         "legendgroup": "hilalstuff",
         "marker": {
          "color": "#B6E880",
          "pattern": {
           "shape": ""
          }
         },
         "name": "hilalstuff",
         "offsetgroup": "hilalstuff",
         "orientation": "v",
         "showlegend": true,
         "textposition": "auto",
         "type": "bar",
         "x": [
          "hilalstuff"
         ],
         "xaxis": "x",
         "y": [
          2262
         ],
         "yaxis": "y"
        },
        {
         "alignmentgroup": "True",
         "customdata": [
          [
           "سلطان",
           "فينسيوس في ٢٠٢٢\n\nسجل ٢٢ هدف - صنع ١٧ هدف - ساهم بـ٤٤ هدف\nًًحسم نهائي الابطال - حسم السوبر الاوروبي  حسم نهائي كأس العالم للانديه\nثاني هدافي الليجا\nثاني اكثر من صنع بالابطال - افضل لاعب شاب بالابطال\n\nوالحين ماهو مرشح لجوائز الفيفا ولا انصفوه، عار لا يوصف فينسيوس يستحق تقدير اكبر.. ://./1"
          ]
         ],
         "hovertemplate": "المستخدم=%{x}<br>عدد الاعجاب=%{y}<br>Name=%{customdata[0]}<br>cleanTweet=%{customdata[1]}<extra></extra>",
         "legendgroup": "_su6an",
         "marker": {
          "color": "#FF97FF",
          "pattern": {
           "shape": ""
          }
         },
         "name": "_su6an",
         "offsetgroup": "_su6an",
         "orientation": "v",
         "showlegend": true,
         "textposition": "auto",
         "type": "bar",
         "x": [
          "_su6an"
         ],
         "xaxis": "x",
         "y": [
          2086
         ],
         "yaxis": "y"
        },
        {
         "alignmentgroup": "True",
         "customdata": [
          [
           "سهم",
           "🚨🚨🚨🚨— عاااااجل \n\nبطولة كأس العالم للأندية 2023 ستقام في مدينة جدة 💚"
          ]
         ],
         "hovertemplate": "المستخدم=%{x}<br>عدد الاعجاب=%{y}<br>Name=%{customdata[0]}<br>cleanTweet=%{customdata[1]}<extra></extra>",
         "legendgroup": "1SMi_",
         "marker": {
          "color": "#FECB52",
          "pattern": {
           "shape": ""
          }
         },
         "name": "1SMi_",
         "offsetgroup": "1SMi_",
         "orientation": "v",
         "showlegend": true,
         "textposition": "auto",
         "type": "bar",
         "x": [
          "1SMi_"
         ],
         "xaxis": "x",
         "y": [
          2040
         ],
         "yaxis": "y"
        }
       ],
       "layout": {
        "barmode": "relative",
        "legend": {
         "title": {
          "text": "المستخدم"
         },
         "tracegroupgap": 0
        },
        "template": {
         "data": {
          "bar": [
           {
            "error_x": {
             "color": "#2a3f5f"
            },
            "error_y": {
             "color": "#2a3f5f"
            },
            "marker": {
             "line": {
              "color": "#E5ECF6",
              "width": 0.5
             },
             "pattern": {
              "fillmode": "overlay",
              "size": 10,
              "solidity": 0.2
             }
            },
            "type": "bar"
           }
          ],
          "barpolar": [
           {
            "marker": {
             "line": {
              "color": "#E5ECF6",
              "width": 0.5
             },
             "pattern": {
              "fillmode": "overlay",
              "size": 10,
              "solidity": 0.2
             }
            },
            "type": "barpolar"
           }
          ],
          "carpet": [
           {
            "aaxis": {
             "endlinecolor": "#2a3f5f",
             "gridcolor": "white",
             "linecolor": "white",
             "minorgridcolor": "white",
             "startlinecolor": "#2a3f5f"
            },
            "baxis": {
             "endlinecolor": "#2a3f5f",
             "gridcolor": "white",
             "linecolor": "white",
             "minorgridcolor": "white",
             "startlinecolor": "#2a3f5f"
            },
            "type": "carpet"
           }
          ],
          "choropleth": [
           {
            "colorbar": {
             "outlinewidth": 0,
             "ticks": ""
            },
            "type": "choropleth"
           }
          ],
          "contour": [
           {
            "colorbar": {
             "outlinewidth": 0,
             "ticks": ""
            },
            "colorscale": [
             [
              0,
              "#0d0887"
             ],
             [
              0.1111111111111111,
              "#46039f"
             ],
             [
              0.2222222222222222,
              "#7201a8"
             ],
             [
              0.3333333333333333,
              "#9c179e"
             ],
             [
              0.4444444444444444,
              "#bd3786"
             ],
             [
              0.5555555555555556,
              "#d8576b"
             ],
             [
              0.6666666666666666,
              "#ed7953"
             ],
             [
              0.7777777777777778,
              "#fb9f3a"
             ],
             [
              0.8888888888888888,
              "#fdca26"
             ],
             [
              1,
              "#f0f921"
             ]
            ],
            "type": "contour"
           }
          ],
          "contourcarpet": [
           {
            "colorbar": {
             "outlinewidth": 0,
             "ticks": ""
            },
            "type": "contourcarpet"
           }
          ],
          "heatmap": [
           {
            "colorbar": {
             "outlinewidth": 0,
             "ticks": ""
            },
            "colorscale": [
             [
              0,
              "#0d0887"
             ],
             [
              0.1111111111111111,
              "#46039f"
             ],
             [
              0.2222222222222222,
              "#7201a8"
             ],
             [
              0.3333333333333333,
              "#9c179e"
             ],
             [
              0.4444444444444444,
              "#bd3786"
             ],
             [
              0.5555555555555556,
              "#d8576b"
             ],
             [
              0.6666666666666666,
              "#ed7953"
             ],
             [
              0.7777777777777778,
              "#fb9f3a"
             ],
             [
              0.8888888888888888,
              "#fdca26"
             ],
             [
              1,
              "#f0f921"
             ]
            ],
            "type": "heatmap"
           }
          ],
          "heatmapgl": [
           {
            "colorbar": {
             "outlinewidth": 0,
             "ticks": ""
            },
            "colorscale": [
             [
              0,
              "#0d0887"
             ],
             [
              0.1111111111111111,
              "#46039f"
             ],
             [
              0.2222222222222222,
              "#7201a8"
             ],
             [
              0.3333333333333333,
              "#9c179e"
             ],
             [
              0.4444444444444444,
              "#bd3786"
             ],
             [
              0.5555555555555556,
              "#d8576b"
             ],
             [
              0.6666666666666666,
              "#ed7953"
             ],
             [
              0.7777777777777778,
              "#fb9f3a"
             ],
             [
              0.8888888888888888,
              "#fdca26"
             ],
             [
              1,
              "#f0f921"
             ]
            ],
            "type": "heatmapgl"
           }
          ],
          "histogram": [
           {
            "marker": {
             "pattern": {
              "fillmode": "overlay",
              "size": 10,
              "solidity": 0.2
             }
            },
            "type": "histogram"
           }
          ],
          "histogram2d": [
           {
            "colorbar": {
             "outlinewidth": 0,
             "ticks": ""
            },
            "colorscale": [
             [
              0,
              "#0d0887"
             ],
             [
              0.1111111111111111,
              "#46039f"
             ],
             [
              0.2222222222222222,
              "#7201a8"
             ],
             [
              0.3333333333333333,
              "#9c179e"
             ],
             [
              0.4444444444444444,
              "#bd3786"
             ],
             [
              0.5555555555555556,
              "#d8576b"
             ],
             [
              0.6666666666666666,
              "#ed7953"
             ],
             [
              0.7777777777777778,
              "#fb9f3a"
             ],
             [
              0.8888888888888888,
              "#fdca26"
             ],
             [
              1,
              "#f0f921"
             ]
            ],
            "type": "histogram2d"
           }
          ],
          "histogram2dcontour": [
           {
            "colorbar": {
             "outlinewidth": 0,
             "ticks": ""
            },
            "colorscale": [
             [
              0,
              "#0d0887"
             ],
             [
              0.1111111111111111,
              "#46039f"
             ],
             [
              0.2222222222222222,
              "#7201a8"
             ],
             [
              0.3333333333333333,
              "#9c179e"
             ],
             [
              0.4444444444444444,
              "#bd3786"
             ],
             [
              0.5555555555555556,
              "#d8576b"
             ],
             [
              0.6666666666666666,
              "#ed7953"
             ],
             [
              0.7777777777777778,
              "#fb9f3a"
             ],
             [
              0.8888888888888888,
              "#fdca26"
             ],
             [
              1,
              "#f0f921"
             ]
            ],
            "type": "histogram2dcontour"
           }
          ],
          "mesh3d": [
           {
            "colorbar": {
             "outlinewidth": 0,
             "ticks": ""
            },
            "type": "mesh3d"
           }
          ],
          "parcoords": [
           {
            "line": {
             "colorbar": {
              "outlinewidth": 0,
              "ticks": ""
             }
            },
            "type": "parcoords"
           }
          ],
          "pie": [
           {
            "automargin": true,
            "type": "pie"
           }
          ],
          "scatter": [
           {
            "fillpattern": {
             "fillmode": "overlay",
             "size": 10,
             "solidity": 0.2
            },
            "type": "scatter"
           }
          ],
          "scatter3d": [
           {
            "line": {
             "colorbar": {
              "outlinewidth": 0,
              "ticks": ""
             }
            },
            "marker": {
             "colorbar": {
              "outlinewidth": 0,
              "ticks": ""
             }
            },
            "type": "scatter3d"
           }
          ],
          "scattercarpet": [
           {
            "marker": {
             "colorbar": {
              "outlinewidth": 0,
              "ticks": ""
             }
            },
            "type": "scattercarpet"
           }
          ],
          "scattergeo": [
           {
            "marker": {
             "colorbar": {
              "outlinewidth": 0,
              "ticks": ""
             }
            },
            "type": "scattergeo"
           }
          ],
          "scattergl": [
           {
            "marker": {
             "colorbar": {
              "outlinewidth": 0,
              "ticks": ""
             }
            },
            "type": "scattergl"
           }
          ],
          "scattermapbox": [
           {
            "marker": {
             "colorbar": {
              "outlinewidth": 0,
              "ticks": ""
             }
            },
            "type": "scattermapbox"
           }
          ],
          "scatterpolar": [
           {
            "marker": {
             "colorbar": {
              "outlinewidth": 0,
              "ticks": ""
             }
            },
            "type": "scatterpolar"
           }
          ],
          "scatterpolargl": [
           {
            "marker": {
             "colorbar": {
              "outlinewidth": 0,
              "ticks": ""
             }
            },
            "type": "scatterpolargl"
           }
          ],
          "scatterternary": [
           {
            "marker": {
             "colorbar": {
              "outlinewidth": 0,
              "ticks": ""
             }
            },
            "type": "scatterternary"
           }
          ],
          "surface": [
           {
            "colorbar": {
             "outlinewidth": 0,
             "ticks": ""
            },
            "colorscale": [
             [
              0,
              "#0d0887"
             ],
             [
              0.1111111111111111,
              "#46039f"
             ],
             [
              0.2222222222222222,
              "#7201a8"
             ],
             [
              0.3333333333333333,
              "#9c179e"
             ],
             [
              0.4444444444444444,
              "#bd3786"
             ],
             [
              0.5555555555555556,
              "#d8576b"
             ],
             [
              0.6666666666666666,
              "#ed7953"
             ],
             [
              0.7777777777777778,
              "#fb9f3a"
             ],
             [
              0.8888888888888888,
              "#fdca26"
             ],
             [
              1,
              "#f0f921"
             ]
            ],
            "type": "surface"
           }
          ],
          "table": [
           {
            "cells": {
             "fill": {
              "color": "#EBF0F8"
             },
             "line": {
              "color": "white"
             }
            },
            "header": {
             "fill": {
              "color": "#C8D4E3"
             },
             "line": {
              "color": "white"
             }
            },
            "type": "table"
           }
          ]
         },
         "layout": {
          "annotationdefaults": {
           "arrowcolor": "#2a3f5f",
           "arrowhead": 0,
           "arrowwidth": 1
          },
          "autotypenumbers": "strict",
          "coloraxis": {
           "colorbar": {
            "outlinewidth": 0,
            "ticks": ""
           }
          },
          "colorscale": {
           "diverging": [
            [
             0,
             "#8e0152"
            ],
            [
             0.1,
             "#c51b7d"
            ],
            [
             0.2,
             "#de77ae"
            ],
            [
             0.3,
             "#f1b6da"
            ],
            [
             0.4,
             "#fde0ef"
            ],
            [
             0.5,
             "#f7f7f7"
            ],
            [
             0.6,
             "#e6f5d0"
            ],
            [
             0.7,
             "#b8e186"
            ],
            [
             0.8,
             "#7fbc41"
            ],
            [
             0.9,
             "#4d9221"
            ],
            [
             1,
             "#276419"
            ]
           ],
           "sequential": [
            [
             0,
             "#0d0887"
            ],
            [
             0.1111111111111111,
             "#46039f"
            ],
            [
             0.2222222222222222,
             "#7201a8"
            ],
            [
             0.3333333333333333,
             "#9c179e"
            ],
            [
             0.4444444444444444,
             "#bd3786"
            ],
            [
             0.5555555555555556,
             "#d8576b"
            ],
            [
             0.6666666666666666,
             "#ed7953"
            ],
            [
             0.7777777777777778,
             "#fb9f3a"
            ],
            [
             0.8888888888888888,
             "#fdca26"
            ],
            [
             1,
             "#f0f921"
            ]
           ],
           "sequentialminus": [
            [
             0,
             "#0d0887"
            ],
            [
             0.1111111111111111,
             "#46039f"
            ],
            [
             0.2222222222222222,
             "#7201a8"
            ],
            [
             0.3333333333333333,
             "#9c179e"
            ],
            [
             0.4444444444444444,
             "#bd3786"
            ],
            [
             0.5555555555555556,
             "#d8576b"
            ],
            [
             0.6666666666666666,
             "#ed7953"
            ],
            [
             0.7777777777777778,
             "#fb9f3a"
            ],
            [
             0.8888888888888888,
             "#fdca26"
            ],
            [
             1,
             "#f0f921"
            ]
           ]
          },
          "colorway": [
           "#636efa",
           "#EF553B",
           "#00cc96",
           "#ab63fa",
           "#FFA15A",
           "#19d3f3",
           "#FF6692",
           "#B6E880",
           "#FF97FF",
           "#FECB52"
          ],
          "font": {
           "color": "#2a3f5f"
          },
          "geo": {
           "bgcolor": "white",
           "lakecolor": "white",
           "landcolor": "#E5ECF6",
           "showlakes": true,
           "showland": true,
           "subunitcolor": "white"
          },
          "hoverlabel": {
           "align": "left"
          },
          "hovermode": "closest",
          "mapbox": {
           "style": "light"
          },
          "paper_bgcolor": "white",
          "plot_bgcolor": "#E5ECF6",
          "polar": {
           "angularaxis": {
            "gridcolor": "white",
            "linecolor": "white",
            "ticks": ""
           },
           "bgcolor": "#E5ECF6",
           "radialaxis": {
            "gridcolor": "white",
            "linecolor": "white",
            "ticks": ""
           }
          },
          "scene": {
           "xaxis": {
            "backgroundcolor": "#E5ECF6",
            "gridcolor": "white",
            "gridwidth": 2,
            "linecolor": "white",
            "showbackground": true,
            "ticks": "",
            "zerolinecolor": "white"
           },
           "yaxis": {
            "backgroundcolor": "#E5ECF6",
            "gridcolor": "white",
            "gridwidth": 2,
            "linecolor": "white",
            "showbackground": true,
            "ticks": "",
            "zerolinecolor": "white"
           },
           "zaxis": {
            "backgroundcolor": "#E5ECF6",
            "gridcolor": "white",
            "gridwidth": 2,
            "linecolor": "white",
            "showbackground": true,
            "ticks": "",
            "zerolinecolor": "white"
           }
          },
          "shapedefaults": {
           "line": {
            "color": "#2a3f5f"
           }
          },
          "ternary": {
           "aaxis": {
            "gridcolor": "white",
            "linecolor": "white",
            "ticks": ""
           },
           "baxis": {
            "gridcolor": "white",
            "linecolor": "white",
            "ticks": ""
           },
           "bgcolor": "#E5ECF6",
           "caxis": {
            "gridcolor": "white",
            "linecolor": "white",
            "ticks": ""
           }
          },
          "title": {
           "x": 0.05
          },
          "xaxis": {
           "automargin": true,
           "gridcolor": "white",
           "linecolor": "white",
           "ticks": "",
           "title": {
            "standoff": 15
           },
           "zerolinecolor": "white",
           "zerolinewidth": 2
          },
          "yaxis": {
           "automargin": true,
           "gridcolor": "white",
           "linecolor": "white",
           "ticks": "",
           "title": {
            "standoff": 15
           },
           "zerolinecolor": "white",
           "zerolinewidth": 2
          }
         }
        },
        "title": {
         "text": "اعلى عشر تغريدات حازت على اعجاب الاخرين"
        },
        "xaxis": {
         "anchor": "y",
         "categoryarray": [
          "saudiFF",
          "AbdulazizTF",
          "SaudiNews50",
          "fifaworldcup_ar",
          "RMCFarab",
          "Ahlystudio",
          "derradjihafid",
          "hilalstuff",
          "_su6an",
          "1SMi_"
         ],
         "categoryorder": "array",
         "domain": [
          0,
          1
         ],
         "title": {
          "text": "المستخدم"
         }
        },
        "yaxis": {
         "anchor": "x",
         "domain": [
          0,
          1
         ],
         "title": {
          "text": "عدد الاعجاب"
         }
        }
       }
      },
      "text/html": [
       "<div>                            <div id=\"188a0fc7-3c70-4a3b-82e2-dbd98b3e4777\" class=\"plotly-graph-div\" style=\"height:525px; width:100%;\"></div>            <script type=\"text/javascript\">                require([\"plotly\"], function(Plotly) {                    window.PLOTLYENV=window.PLOTLYENV || {};                                    if (document.getElementById(\"188a0fc7-3c70-4a3b-82e2-dbd98b3e4777\")) {                    Plotly.newPlot(                        \"188a0fc7-3c70-4a3b-82e2-dbd98b3e4777\",                        [{\"alignmentgroup\":\"True\",\"customdata\":[[\"\\u0627\\u0644\\u0627\\u062a\\u062d\\u0627\\u062f \\u0627\\u0644\\u0633\\u0639\\u0648\\u062f\\u064a \\u0644\\u0643\\u0631\\u0629 \\u0627\\u0644\\u0642\\u062f\\u0645\",\"\\u0627\\u0644\\u0627\\u062a\\u062d\\u0627\\u062f \\u0627\\u0644\\u062f\\u0648\\u0644\\u064a \\u0644\\u0643\\u0631\\u0629 \\u0627\\u0644\\u0642\\u062f\\u0645 :\\n\\n\\u0627\\u0644\\u0633\\u0639\\u0648\\u062f\\u064a\\u0629 \\u062a\\u0633\\u062a\\u0636\\u064a\\u0641 \\u0643\\u0623\\u0633 \\u0627\\u0644\\u0639\\u0627\\u0644\\u0645 \\u0644\\u0644\\u0623\\u0646\\u062f\\u064a\\u0629 2023 \\ud83c\\uddf8\\ud83c\\udde6\\n\\n\\u0645\\u0648\\u0646\\u062f\\u064a\\u0627\\u0644\\u0627\\u0644\\u0623\\u0646\\u062f\\u064a\\u0629\\u0628\\u0627\\u0644\\u0633\\u0639\\u0648\\u062f\\u064a\\u0629\\n ://./2287\"]],\"hovertemplate\":\"\\u0627\\u0644\\u0645\\u0633\\u062a\\u062e\\u062f\\u0645=%{x}<br>\\u0639\\u062f\\u062f \\u0627\\u0644\\u0627\\u0639\\u062c\\u0627\\u0628=%{y}<br>Name=%{customdata[0]}<br>cleanTweet=%{customdata[1]}<extra></extra>\",\"legendgroup\":\"saudiFF\",\"marker\":{\"color\":\"#636efa\",\"pattern\":{\"shape\":\"\"}},\"name\":\"saudiFF\",\"offsetgroup\":\"saudiFF\",\"orientation\":\"v\",\"showlegend\":true,\"textposition\":\"auto\",\"x\":[\"saudiFF\"],\"xaxis\":\"x\",\"y\":[5239],\"yaxis\":\"y\",\"type\":\"bar\"},{\"alignmentgroup\":\"True\",\"customdata\":[[\"\\u0639\\u0628\\u062f\\u0627\\u0644\\u0639\\u0632\\u064a\\u0632 \\u0628\\u0646 \\u062a\\u0631\\u0643\\u064a \\u0627\\u0644\\u0641\\u064a\\u0635\\u0644\",\"\\u0627\\u0645\\u062a\\u062f\\u0627\\u062f\\u064b\\u0627 \\u0644\\u0644\\u0646\\u062c\\u0627\\u062d\\u0627\\u062a \\u0641\\u064a \\u062a\\u0646\\u0638\\u064a\\u0645 \\u0627\\u0644\\u0628\\u0637\\u0648\\u0644\\u0627\\u062a \\u0648\\u0627\\u0644\\u0623\\u062d\\u062f\\u0627\\u062b \\u0627\\u0644\\u0639\\u0627\\u0644\\u0645\\u064a\\u0629 \\u0628\\u062f\\u0639\\u0645 \\u0642\\u064a\\u0627\\u062f\\u0629 \\u0648\\u0637\\u0646\\u0646\\u0627 \\u0627\\u0644\\u063a\\u0627\\u0644\\u064a\\ud83c\\uddf8\\ud83c\\udde6\\n\\n\\u0646\\u0633\\u0639\\u062f \\u0627\\u0644\\u064a\\u0648\\u0645 \\u0628\\u0625\\u0639\\u0644\\u0627\\u0646 \\u0627\\u0644\\u0641\\u064a\\u0641\\u0627  \\u0639\\u0646 \\u0627\\u0633\\u062a\\u0636\\u0627\\u0641\\u0629 \\u0627\\u0644\\u0645\\u0645\\u0644\\u0643\\u0629 \\u0644\\u0628\\u0637\\u0648\\u0644\\u0629 \\u0643\\u0623\\u0633 \\u0627\\u0644\\u0639\\u0627\\u0644\\u0645 \\u0644\\u0644\\u0623\\u0646\\u062f\\u064a\\u0629 2023 \\n\\n\\u0645\\u0631\\u062d\\u0628\\u0627\\u064b \\u0628\\u0627\\u0644\\u0639\\u0627\\u0644\\u0645 \\u0641\\u064a \\u0645\\u0648\\u0637\\u0646 \\u0627\\u0644\\u0623\\u062d\\u062f\\u0627\\u062b \\u0627\\u0644\\u0631\\u064a\\u0627\\u0636\\u064a\\u0629\\ud83c\\uddf8\\ud83c\\udde6\\n\\n\\u0645\\u0648\\u0646\\u062f\\u064a\\u0627\\u0644\\u0627\\u0644\\u0623\\u0646\\u062f\\u064a\\u0629\\u0628\\u0627\\u0644\\u0633\\u0639\\u0648\\u062f\\u064a\\u0629\\n\"]],\"hovertemplate\":\"\\u0627\\u0644\\u0645\\u0633\\u062a\\u062e\\u062f\\u0645=%{x}<br>\\u0639\\u062f\\u062f \\u0627\\u0644\\u0627\\u0639\\u062c\\u0627\\u0628=%{y}<br>Name=%{customdata[0]}<br>cleanTweet=%{customdata[1]}<extra></extra>\",\"legendgroup\":\"AbdulazizTF\",\"marker\":{\"color\":\"#EF553B\",\"pattern\":{\"shape\":\"\"}},\"name\":\"AbdulazizTF\",\"offsetgroup\":\"AbdulazizTF\",\"orientation\":\"v\",\"showlegend\":true,\"textposition\":\"auto\",\"x\":[\"AbdulazizTF\"],\"xaxis\":\"x\",\"y\":[4609],\"yaxis\":\"y\",\"type\":\"bar\"},{\"alignmentgroup\":\"True\",\"customdata\":[[\"\\u0623\\u062e\\u0628\\u0627\\u0631 \\u0627\\u0644\\u0633\\u0639\\u0648\\u062f\\u064a\\u0629\",\"\\u0639\\u0627\\u062c\\u0644:\\n\\n\\u0631\\u0633\\u0645\\u064a\\u064b\\u0627:\\n\\n\\u0627\\u0644\\u0633\\u0639\\u0648\\u062f\\u064a\\u0629 \\u062a\\u0633\\u062a\\u0636\\u064a\\u0641 \\u0643\\u0623\\u0633 \\u0627\\u0644\\u0639\\u0627\\u0644\\u0645 \\u0644\\u0644\\u0623\\u0646\\u062f\\u064a\\u0629 2023.\"]],\"hovertemplate\":\"\\u0627\\u0644\\u0645\\u0633\\u062a\\u062e\\u062f\\u0645=%{x}<br>\\u0639\\u062f\\u062f \\u0627\\u0644\\u0627\\u0639\\u062c\\u0627\\u0628=%{y}<br>Name=%{customdata[0]}<br>cleanTweet=%{customdata[1]}<extra></extra>\",\"legendgroup\":\"SaudiNews50\",\"marker\":{\"color\":\"#00cc96\",\"pattern\":{\"shape\":\"\"}},\"name\":\"SaudiNews50\",\"offsetgroup\":\"SaudiNews50\",\"orientation\":\"v\",\"showlegend\":true,\"textposition\":\"auto\",\"x\":[\"SaudiNews50\"],\"xaxis\":\"x\",\"y\":[3134],\"yaxis\":\"y\",\"type\":\"bar\"},{\"alignmentgroup\":\"True\",\"customdata\":[[\"\\u0643\\u0623\\u0633 \\u0627\\u0644\\u0639\\u0627\\u0644\\u0645 FIFA \\ud83c\\udfc6\",\"\\u0645\\u0646 \\u0643\\u0627\\u0646 \\u0623\\u0641\\u0636\\u0644 \\u0642\\u0644\\u0628 \\u062f\\u0641\\u0627\\u0639 \\u0639\\u0631\\u0628\\u064a \\u0641\\u064a \\u0643\\u0623\\u0633 \\u0627\\u0644\\u0639\\u0627\\u0644\\u0645 \\u0644\\u0644\\u0623\\u0646\\u062f\\u064a\\u0629  \\u0627\\u0644\\u0645\\u063a\\u0631\\u0628 2022\\u061f\"]],\"hovertemplate\":\"\\u0627\\u0644\\u0645\\u0633\\u062a\\u062e\\u062f\\u0645=%{x}<br>\\u0639\\u062f\\u062f \\u0627\\u0644\\u0627\\u0639\\u062c\\u0627\\u0628=%{y}<br>Name=%{customdata[0]}<br>cleanTweet=%{customdata[1]}<extra></extra>\",\"legendgroup\":\"fifaworldcup_ar\",\"marker\":{\"color\":\"#ab63fa\",\"pattern\":{\"shape\":\"\"}},\"name\":\"fifaworldcup_ar\",\"offsetgroup\":\"fifaworldcup_ar\",\"orientation\":\"v\",\"showlegend\":true,\"textposition\":\"auto\",\"x\":[\"fifaworldcup_ar\"],\"xaxis\":\"x\",\"y\":[2784],\"yaxis\":\"y\",\"type\":\"bar\"},{\"alignmentgroup\":\"True\",\"customdata\":[[\"Insider Real\",\"\\u0627\\u0644\\u0641\\u0627\\u0626\\u0632 \\u0628\\u062f\\u0648\\u0631\\u064a \\u0623\\u0628\\u0637\\u0627\\u0644 \\u0623\\u0648\\u0631\\u0648\\u0628\\u0627\\n\\u0627\\u0644\\u0641\\u0627\\u0626\\u0632 \\u0641\\u064a \\u0628\\u0627\\u0644\\u0644\\u064a\\u063a\\u0627\\n\\u0627\\u0644\\u0641\\u0627\\u0626\\u0632 \\u0628\\u0627\\u0644\\u0633\\u0648\\u0628\\u0631 \\u0627\\u0644\\u0623\\u0648\\u0631\\u0648\\u0628\\u064a\\n\\u0627\\u0644\\u0641\\u0627\\u0626\\u0632 \\u0628\\u0643\\u0623\\u0633 \\u0627\\u0644\\u0639\\u0627\\u0644\\u0645 \\u0644\\u0644\\u0623\\u0646\\u062f\\u064a\\u0629\\n\\u0623\\u0641\\u0636\\u0644 \\u0644\\u0627\\u0639\\u0628 \\u0634\\u0627\\u0628 \\u0641\\u064a \\u0623\\u0648\\u0631\\u0648\\u0628\\u0627\\n\\u0623\\u0641\\u0636\\u0644 \\u0644\\u0627\\u0639\\u0628 \\u0641\\u064a \\u0643\\u0623\\u0633 \\u0627\\u0644\\u0639\\u0627\\u0644\\u0645 \\u0644\\u0644\\u0623\\u0646\\u062f\\u064a\\u0629\\n\\u0633\\u062c\\u0644 22 \\u0647\\u062f\\u0641 \\u0648\\u0635\\u0646\\u0639 20\\n\\n\\u063a\\u064a\\u0631 \\u0645\\u064f\\u0631\\u0634\\u062d \\u0641\\u064a \\u062a\\u0634\\u0643\\u064a\\u0644\\u0629  2022. \\u274c ://./08\"]],\"hovertemplate\":\"\\u0627\\u0644\\u0645\\u0633\\u062a\\u062e\\u062f\\u0645=%{x}<br>\\u0639\\u062f\\u062f \\u0627\\u0644\\u0627\\u0639\\u062c\\u0627\\u0628=%{y}<br>Name=%{customdata[0]}<br>cleanTweet=%{customdata[1]}<extra></extra>\",\"legendgroup\":\"RMCFarab\",\"marker\":{\"color\":\"#FFA15A\",\"pattern\":{\"shape\":\"\"}},\"name\":\"RMCFarab\",\"offsetgroup\":\"RMCFarab\",\"orientation\":\"v\",\"showlegend\":true,\"textposition\":\"auto\",\"x\":[\"RMCFarab\"],\"xaxis\":\"x\",\"y\":[2695],\"yaxis\":\"y\",\"type\":\"bar\"},{\"alignmentgroup\":\"True\",\"customdata\":[[\"\\u0633\\u062a\\u0648\\u062f\\u064a\\u0648 \\u0627\\u0644\\u0623\\u0647\\u0644\\u064a\",\"\\u0623\\u0628\\u0648 \\u062a\\u0631\\u064a\\u0643\\u0629 \\u0641\\u064a \\u0639\\u0627\\u0645 \\u0648\\u0627\\u062d\\u062f \\u0641\\u0642\\u0637 \\u062d\\u0642\\u0642 \\u0643\\u0644 \\u062f\\u0647 .. \\u0639\\u0627\\u0645 ( 2006 ) :\\n- \\u0643\\u0623\\u0633 \\u0623\\u0645\\u0645 \\u0623\\u0641\\u0631\\u064a\\u0642\\u064a\\u0627\\n- \\u062f\\u0648\\u0631\\u064a \\u0623\\u0628\\u0637\\u0627\\u0644 \\u0623\\u0641\\u0631\\u064a\\u0642\\u064a\\u0627\\n- \\u0643\\u0623\\u0633 \\u0627\\u0644\\u0633\\u0648\\u0628\\u0631 \\u0627\\u0644\\u0623\\u0641\\u0631\\u064a\\u0642\\u064a\\n- \\u0627\\u0644\\u062f\\u0648\\u0631\\u064a \\u0627\\u0644\\u0645\\u0635\\u0631\\u064a\\n- \\u0643\\u0623\\u0633 \\u0645\\u0635\\u0631\\n- \\u0627\\u0644\\u0633\\u0648\\u0628\\u0631 \\u0627\\u0644\\u0645\\u0635\\u0631\\u064a\\n- \\u0628\\u0631\\u0648\\u0646\\u0632\\u064a\\u0629 \\u0643\\u0623\\u0633 \\u0627\\u0644\\u0639\\u0627\\u0644\\u0645 \\u0644\\u0644\\u0627\\u0646\\u062f\\u064a\\u0629\\n- \\u0647\\u062f\\u0627\\u0641 \\u0643\\u0623\\u0633 \\u0627\\u0644\\u0639\\u0627\\u0644\\u0645 \\u0644\\u0644\\u0623\\u0646\\u062f\\u064a\\u0629 \\u0623\\u062d\\u0631\\u0632 3 \\u0623\\u0647\\u062f\\u0627\\u0641\\n- \\u0647\\u062f\\u0627\\u0641 \\u0627\\u0644\\u062f\\u0648\\u0631\\u064a \\u0627\\u0644\\u0645\\u0635\\u0631\\u064a \\u0623\\u062d\\u0631\\u0632 18 \\u0623\\u0647\\u062f\\u0627\\u0641.\\n-\\u0647\\u062f\\u0651\\u0627\\u0641 \\u0628\\u0637\\u0648\\u0644\\u0629 \\u062f\\u0648\\u0631\\u064a\\u2026 ://./1759\"]],\"hovertemplate\":\"\\u0627\\u0644\\u0645\\u0633\\u062a\\u062e\\u062f\\u0645=%{x}<br>\\u0639\\u062f\\u062f \\u0627\\u0644\\u0627\\u0639\\u062c\\u0627\\u0628=%{y}<br>Name=%{customdata[0]}<br>cleanTweet=%{customdata[1]}<extra></extra>\",\"legendgroup\":\"Ahlystudio\",\"marker\":{\"color\":\"#19d3f3\",\"pattern\":{\"shape\":\"\"}},\"name\":\"Ahlystudio\",\"offsetgroup\":\"Ahlystudio\",\"orientation\":\"v\",\"showlegend\":true,\"textposition\":\"auto\",\"x\":[\"Ahlystudio\"],\"xaxis\":\"x\",\"y\":[2633],\"yaxis\":\"y\",\"type\":\"bar\"},{\"alignmentgroup\":\"True\",\"customdata\":[[\"hafid derradji \\u062d\\u0641\\u064a\\u0638 \\u062f\\u0631\\u0627\\u062c\\u064a\",\"\\u0623\\u0644\\u0641 \\u0645\\u0628\\u0631\\u0648\\u0643 \\u0644\\u0644\\u0633\\u0639\\u0648\\u062f\\u064a\\u0629 \\u062d\\u0635\\u0648\\u0644\\u0647\\u0627 \\u0639\\u0644\\u0649 \\u062a\\u0646\\u0638\\u064a\\u0645 \\u0643\\u0623\\u0633 \\u0627\\u0644\\u0639\\u0627\\u0644\\u0645 \\u0644\\u0644\\u0623\\u0646\\u062f\\u064a\\u0629 2023 .\\n \\u0627\\u0644\\u0639\\u0627\\u0642\\u0628\\u0629 \\u0644\\u0645\\u0648\\u0646\\u062f\\u064a\\u0627\\u0644 \\u0662\\u0660\\u0663\\u0660 \\u0628\\u0627\\u0630\\u0646 \\u0627\\u0644\\u0644\\u0647 ://./53\"]],\"hovertemplate\":\"\\u0627\\u0644\\u0645\\u0633\\u062a\\u062e\\u062f\\u0645=%{x}<br>\\u0639\\u062f\\u062f \\u0627\\u0644\\u0627\\u0639\\u062c\\u0627\\u0628=%{y}<br>Name=%{customdata[0]}<br>cleanTweet=%{customdata[1]}<extra></extra>\",\"legendgroup\":\"derradjihafid\",\"marker\":{\"color\":\"#FF6692\",\"pattern\":{\"shape\":\"\"}},\"name\":\"derradjihafid\",\"offsetgroup\":\"derradjihafid\",\"orientation\":\"v\",\"showlegend\":true,\"textposition\":\"auto\",\"x\":[\"derradjihafid\"],\"xaxis\":\"x\",\"y\":[2296],\"yaxis\":\"y\",\"type\":\"bar\"},{\"alignmentgroup\":\"True\",\"customdata\":[[\"\\u0623\\u062e\\u0628\\u0627\\u0631 \\u0627\\u0644\\u0647\\u0644\\u0627\\u0644\",\"\\ud83d\\udea8 \\u0641\\u064a \\u062d\\u0627\\u0644 \\u062a\\u062d\\u0642\\u064a\\u0642 \\u0627\\u0644\\u0647\\u0644\\u0627\\u0644 \\u0644\\u0628\\u0637\\u0648\\u0644\\u0629 \\u062f\\u0648\\u0631\\u064a \\u0623\\u0628\\u0637\\u0627\\u0644 \\u0622\\u0633\\u064a\\u0627 \\u0627\\u0644\\u0646\\u0633\\u062e\\u0629 \\u0627\\u0644\\u062d\\u0627\\u0644\\u064a\\u0629 \\u0642\\u062f \\u064a\\u0636\\u0645\\u0646 \\u0627\\u0644\\u0645\\u0634\\u0627\\u0631\\u0643\\u0629 \\u0641\\u064a \\u0646\\u0633\\u062e\\u062a\\u064a\\u0646 \\u0645\\u0646 \\u0643\\u0623\\u0633 \\u0627\\u0644\\u0639\\u0627\\u0644\\u0645 \\u0644\\u0644\\u0623\\u0646\\u062f\\u064a\\u0629 2022 \\u06482025. ://./106\"]],\"hovertemplate\":\"\\u0627\\u0644\\u0645\\u0633\\u062a\\u062e\\u062f\\u0645=%{x}<br>\\u0639\\u062f\\u062f \\u0627\\u0644\\u0627\\u0639\\u062c\\u0627\\u0628=%{y}<br>Name=%{customdata[0]}<br>cleanTweet=%{customdata[1]}<extra></extra>\",\"legendgroup\":\"hilalstuff\",\"marker\":{\"color\":\"#B6E880\",\"pattern\":{\"shape\":\"\"}},\"name\":\"hilalstuff\",\"offsetgroup\":\"hilalstuff\",\"orientation\":\"v\",\"showlegend\":true,\"textposition\":\"auto\",\"x\":[\"hilalstuff\"],\"xaxis\":\"x\",\"y\":[2262],\"yaxis\":\"y\",\"type\":\"bar\"},{\"alignmentgroup\":\"True\",\"customdata\":[[\"\\u0633\\u0644\\u0637\\u0627\\u0646\",\"\\u0641\\u064a\\u0646\\u0633\\u064a\\u0648\\u0633 \\u0641\\u064a \\u0662\\u0660\\u0662\\u0662\\n\\n\\u0633\\u062c\\u0644 \\u0662\\u0662 \\u0647\\u062f\\u0641 - \\u0635\\u0646\\u0639 \\u0661\\u0667 \\u0647\\u062f\\u0641 - \\u0633\\u0627\\u0647\\u0645 \\u0628\\u0640\\u0664\\u0664 \\u0647\\u062f\\u0641\\n\\u064b\\u064b\\u062d\\u0633\\u0645 \\u0646\\u0647\\u0627\\u0626\\u064a \\u0627\\u0644\\u0627\\u0628\\u0637\\u0627\\u0644 - \\u062d\\u0633\\u0645 \\u0627\\u0644\\u0633\\u0648\\u0628\\u0631 \\u0627\\u0644\\u0627\\u0648\\u0631\\u0648\\u0628\\u064a  \\u062d\\u0633\\u0645 \\u0646\\u0647\\u0627\\u0626\\u064a \\u0643\\u0623\\u0633 \\u0627\\u0644\\u0639\\u0627\\u0644\\u0645 \\u0644\\u0644\\u0627\\u0646\\u062f\\u064a\\u0647\\n\\u062b\\u0627\\u0646\\u064a \\u0647\\u062f\\u0627\\u0641\\u064a \\u0627\\u0644\\u0644\\u064a\\u062c\\u0627\\n\\u062b\\u0627\\u0646\\u064a \\u0627\\u0643\\u062b\\u0631 \\u0645\\u0646 \\u0635\\u0646\\u0639 \\u0628\\u0627\\u0644\\u0627\\u0628\\u0637\\u0627\\u0644 - \\u0627\\u0641\\u0636\\u0644 \\u0644\\u0627\\u0639\\u0628 \\u0634\\u0627\\u0628 \\u0628\\u0627\\u0644\\u0627\\u0628\\u0637\\u0627\\u0644\\n\\n\\u0648\\u0627\\u0644\\u062d\\u064a\\u0646 \\u0645\\u0627\\u0647\\u0648 \\u0645\\u0631\\u0634\\u062d \\u0644\\u062c\\u0648\\u0627\\u0626\\u0632 \\u0627\\u0644\\u0641\\u064a\\u0641\\u0627 \\u0648\\u0644\\u0627 \\u0627\\u0646\\u0635\\u0641\\u0648\\u0647\\u060c \\u0639\\u0627\\u0631 \\u0644\\u0627 \\u064a\\u0648\\u0635\\u0641 \\u0641\\u064a\\u0646\\u0633\\u064a\\u0648\\u0633 \\u064a\\u0633\\u062a\\u062d\\u0642 \\u062a\\u0642\\u062f\\u064a\\u0631 \\u0627\\u0643\\u0628\\u0631.. ://./1\"]],\"hovertemplate\":\"\\u0627\\u0644\\u0645\\u0633\\u062a\\u062e\\u062f\\u0645=%{x}<br>\\u0639\\u062f\\u062f \\u0627\\u0644\\u0627\\u0639\\u062c\\u0627\\u0628=%{y}<br>Name=%{customdata[0]}<br>cleanTweet=%{customdata[1]}<extra></extra>\",\"legendgroup\":\"_su6an\",\"marker\":{\"color\":\"#FF97FF\",\"pattern\":{\"shape\":\"\"}},\"name\":\"_su6an\",\"offsetgroup\":\"_su6an\",\"orientation\":\"v\",\"showlegend\":true,\"textposition\":\"auto\",\"x\":[\"_su6an\"],\"xaxis\":\"x\",\"y\":[2086],\"yaxis\":\"y\",\"type\":\"bar\"},{\"alignmentgroup\":\"True\",\"customdata\":[[\"\\u0633\\u0647\\u0645\",\"\\ud83d\\udea8\\ud83d\\udea8\\ud83d\\udea8\\ud83d\\udea8\\u2014 \\u0639\\u0627\\u0627\\u0627\\u0627\\u0627\\u062c\\u0644 \\n\\n\\u0628\\u0637\\u0648\\u0644\\u0629 \\u0643\\u0623\\u0633 \\u0627\\u0644\\u0639\\u0627\\u0644\\u0645 \\u0644\\u0644\\u0623\\u0646\\u062f\\u064a\\u0629 2023 \\u0633\\u062a\\u0642\\u0627\\u0645 \\u0641\\u064a \\u0645\\u062f\\u064a\\u0646\\u0629 \\u062c\\u062f\\u0629 \\ud83d\\udc9a\"]],\"hovertemplate\":\"\\u0627\\u0644\\u0645\\u0633\\u062a\\u062e\\u062f\\u0645=%{x}<br>\\u0639\\u062f\\u062f \\u0627\\u0644\\u0627\\u0639\\u062c\\u0627\\u0628=%{y}<br>Name=%{customdata[0]}<br>cleanTweet=%{customdata[1]}<extra></extra>\",\"legendgroup\":\"1SMi_\",\"marker\":{\"color\":\"#FECB52\",\"pattern\":{\"shape\":\"\"}},\"name\":\"1SMi_\",\"offsetgroup\":\"1SMi_\",\"orientation\":\"v\",\"showlegend\":true,\"textposition\":\"auto\",\"x\":[\"1SMi_\"],\"xaxis\":\"x\",\"y\":[2040],\"yaxis\":\"y\",\"type\":\"bar\"}],                        {\"template\":{\"data\":{\"histogram2dcontour\":[{\"type\":\"histogram2dcontour\",\"colorbar\":{\"outlinewidth\":0,\"ticks\":\"\"},\"colorscale\":[[0.0,\"#0d0887\"],[0.1111111111111111,\"#46039f\"],[0.2222222222222222,\"#7201a8\"],[0.3333333333333333,\"#9c179e\"],[0.4444444444444444,\"#bd3786\"],[0.5555555555555556,\"#d8576b\"],[0.6666666666666666,\"#ed7953\"],[0.7777777777777778,\"#fb9f3a\"],[0.8888888888888888,\"#fdca26\"],[1.0,\"#f0f921\"]]}],\"choropleth\":[{\"type\":\"choropleth\",\"colorbar\":{\"outlinewidth\":0,\"ticks\":\"\"}}],\"histogram2d\":[{\"type\":\"histogram2d\",\"colorbar\":{\"outlinewidth\":0,\"ticks\":\"\"},\"colorscale\":[[0.0,\"#0d0887\"],[0.1111111111111111,\"#46039f\"],[0.2222222222222222,\"#7201a8\"],[0.3333333333333333,\"#9c179e\"],[0.4444444444444444,\"#bd3786\"],[0.5555555555555556,\"#d8576b\"],[0.6666666666666666,\"#ed7953\"],[0.7777777777777778,\"#fb9f3a\"],[0.8888888888888888,\"#fdca26\"],[1.0,\"#f0f921\"]]}],\"heatmap\":[{\"type\":\"heatmap\",\"colorbar\":{\"outlinewidth\":0,\"ticks\":\"\"},\"colorscale\":[[0.0,\"#0d0887\"],[0.1111111111111111,\"#46039f\"],[0.2222222222222222,\"#7201a8\"],[0.3333333333333333,\"#9c179e\"],[0.4444444444444444,\"#bd3786\"],[0.5555555555555556,\"#d8576b\"],[0.6666666666666666,\"#ed7953\"],[0.7777777777777778,\"#fb9f3a\"],[0.8888888888888888,\"#fdca26\"],[1.0,\"#f0f921\"]]}],\"heatmapgl\":[{\"type\":\"heatmapgl\",\"colorbar\":{\"outlinewidth\":0,\"ticks\":\"\"},\"colorscale\":[[0.0,\"#0d0887\"],[0.1111111111111111,\"#46039f\"],[0.2222222222222222,\"#7201a8\"],[0.3333333333333333,\"#9c179e\"],[0.4444444444444444,\"#bd3786\"],[0.5555555555555556,\"#d8576b\"],[0.6666666666666666,\"#ed7953\"],[0.7777777777777778,\"#fb9f3a\"],[0.8888888888888888,\"#fdca26\"],[1.0,\"#f0f921\"]]}],\"contourcarpet\":[{\"type\":\"contourcarpet\",\"colorbar\":{\"outlinewidth\":0,\"ticks\":\"\"}}],\"contour\":[{\"type\":\"contour\",\"colorbar\":{\"outlinewidth\":0,\"ticks\":\"\"},\"colorscale\":[[0.0,\"#0d0887\"],[0.1111111111111111,\"#46039f\"],[0.2222222222222222,\"#7201a8\"],[0.3333333333333333,\"#9c179e\"],[0.4444444444444444,\"#bd3786\"],[0.5555555555555556,\"#d8576b\"],[0.6666666666666666,\"#ed7953\"],[0.7777777777777778,\"#fb9f3a\"],[0.8888888888888888,\"#fdca26\"],[1.0,\"#f0f921\"]]}],\"surface\":[{\"type\":\"surface\",\"colorbar\":{\"outlinewidth\":0,\"ticks\":\"\"},\"colorscale\":[[0.0,\"#0d0887\"],[0.1111111111111111,\"#46039f\"],[0.2222222222222222,\"#7201a8\"],[0.3333333333333333,\"#9c179e\"],[0.4444444444444444,\"#bd3786\"],[0.5555555555555556,\"#d8576b\"],[0.6666666666666666,\"#ed7953\"],[0.7777777777777778,\"#fb9f3a\"],[0.8888888888888888,\"#fdca26\"],[1.0,\"#f0f921\"]]}],\"mesh3d\":[{\"type\":\"mesh3d\",\"colorbar\":{\"outlinewidth\":0,\"ticks\":\"\"}}],\"scatter\":[{\"fillpattern\":{\"fillmode\":\"overlay\",\"size\":10,\"solidity\":0.2},\"type\":\"scatter\"}],\"parcoords\":[{\"type\":\"parcoords\",\"line\":{\"colorbar\":{\"outlinewidth\":0,\"ticks\":\"\"}}}],\"scatterpolargl\":[{\"type\":\"scatterpolargl\",\"marker\":{\"colorbar\":{\"outlinewidth\":0,\"ticks\":\"\"}}}],\"bar\":[{\"error_x\":{\"color\":\"#2a3f5f\"},\"error_y\":{\"color\":\"#2a3f5f\"},\"marker\":{\"line\":{\"color\":\"#E5ECF6\",\"width\":0.5},\"pattern\":{\"fillmode\":\"overlay\",\"size\":10,\"solidity\":0.2}},\"type\":\"bar\"}],\"scattergeo\":[{\"type\":\"scattergeo\",\"marker\":{\"colorbar\":{\"outlinewidth\":0,\"ticks\":\"\"}}}],\"scatterpolar\":[{\"type\":\"scatterpolar\",\"marker\":{\"colorbar\":{\"outlinewidth\":0,\"ticks\":\"\"}}}],\"histogram\":[{\"marker\":{\"pattern\":{\"fillmode\":\"overlay\",\"size\":10,\"solidity\":0.2}},\"type\":\"histogram\"}],\"scattergl\":[{\"type\":\"scattergl\",\"marker\":{\"colorbar\":{\"outlinewidth\":0,\"ticks\":\"\"}}}],\"scatter3d\":[{\"type\":\"scatter3d\",\"line\":{\"colorbar\":{\"outlinewidth\":0,\"ticks\":\"\"}},\"marker\":{\"colorbar\":{\"outlinewidth\":0,\"ticks\":\"\"}}}],\"scattermapbox\":[{\"type\":\"scattermapbox\",\"marker\":{\"colorbar\":{\"outlinewidth\":0,\"ticks\":\"\"}}}],\"scatterternary\":[{\"type\":\"scatterternary\",\"marker\":{\"colorbar\":{\"outlinewidth\":0,\"ticks\":\"\"}}}],\"scattercarpet\":[{\"type\":\"scattercarpet\",\"marker\":{\"colorbar\":{\"outlinewidth\":0,\"ticks\":\"\"}}}],\"carpet\":[{\"aaxis\":{\"endlinecolor\":\"#2a3f5f\",\"gridcolor\":\"white\",\"linecolor\":\"white\",\"minorgridcolor\":\"white\",\"startlinecolor\":\"#2a3f5f\"},\"baxis\":{\"endlinecolor\":\"#2a3f5f\",\"gridcolor\":\"white\",\"linecolor\":\"white\",\"minorgridcolor\":\"white\",\"startlinecolor\":\"#2a3f5f\"},\"type\":\"carpet\"}],\"table\":[{\"cells\":{\"fill\":{\"color\":\"#EBF0F8\"},\"line\":{\"color\":\"white\"}},\"header\":{\"fill\":{\"color\":\"#C8D4E3\"},\"line\":{\"color\":\"white\"}},\"type\":\"table\"}],\"barpolar\":[{\"marker\":{\"line\":{\"color\":\"#E5ECF6\",\"width\":0.5},\"pattern\":{\"fillmode\":\"overlay\",\"size\":10,\"solidity\":0.2}},\"type\":\"barpolar\"}],\"pie\":[{\"automargin\":true,\"type\":\"pie\"}]},\"layout\":{\"autotypenumbers\":\"strict\",\"colorway\":[\"#636efa\",\"#EF553B\",\"#00cc96\",\"#ab63fa\",\"#FFA15A\",\"#19d3f3\",\"#FF6692\",\"#B6E880\",\"#FF97FF\",\"#FECB52\"],\"font\":{\"color\":\"#2a3f5f\"},\"hovermode\":\"closest\",\"hoverlabel\":{\"align\":\"left\"},\"paper_bgcolor\":\"white\",\"plot_bgcolor\":\"#E5ECF6\",\"polar\":{\"bgcolor\":\"#E5ECF6\",\"angularaxis\":{\"gridcolor\":\"white\",\"linecolor\":\"white\",\"ticks\":\"\"},\"radialaxis\":{\"gridcolor\":\"white\",\"linecolor\":\"white\",\"ticks\":\"\"}},\"ternary\":{\"bgcolor\":\"#E5ECF6\",\"aaxis\":{\"gridcolor\":\"white\",\"linecolor\":\"white\",\"ticks\":\"\"},\"baxis\":{\"gridcolor\":\"white\",\"linecolor\":\"white\",\"ticks\":\"\"},\"caxis\":{\"gridcolor\":\"white\",\"linecolor\":\"white\",\"ticks\":\"\"}},\"coloraxis\":{\"colorbar\":{\"outlinewidth\":0,\"ticks\":\"\"}},\"colorscale\":{\"sequential\":[[0.0,\"#0d0887\"],[0.1111111111111111,\"#46039f\"],[0.2222222222222222,\"#7201a8\"],[0.3333333333333333,\"#9c179e\"],[0.4444444444444444,\"#bd3786\"],[0.5555555555555556,\"#d8576b\"],[0.6666666666666666,\"#ed7953\"],[0.7777777777777778,\"#fb9f3a\"],[0.8888888888888888,\"#fdca26\"],[1.0,\"#f0f921\"]],\"sequentialminus\":[[0.0,\"#0d0887\"],[0.1111111111111111,\"#46039f\"],[0.2222222222222222,\"#7201a8\"],[0.3333333333333333,\"#9c179e\"],[0.4444444444444444,\"#bd3786\"],[0.5555555555555556,\"#d8576b\"],[0.6666666666666666,\"#ed7953\"],[0.7777777777777778,\"#fb9f3a\"],[0.8888888888888888,\"#fdca26\"],[1.0,\"#f0f921\"]],\"diverging\":[[0,\"#8e0152\"],[0.1,\"#c51b7d\"],[0.2,\"#de77ae\"],[0.3,\"#f1b6da\"],[0.4,\"#fde0ef\"],[0.5,\"#f7f7f7\"],[0.6,\"#e6f5d0\"],[0.7,\"#b8e186\"],[0.8,\"#7fbc41\"],[0.9,\"#4d9221\"],[1,\"#276419\"]]},\"xaxis\":{\"gridcolor\":\"white\",\"linecolor\":\"white\",\"ticks\":\"\",\"title\":{\"standoff\":15},\"zerolinecolor\":\"white\",\"automargin\":true,\"zerolinewidth\":2},\"yaxis\":{\"gridcolor\":\"white\",\"linecolor\":\"white\",\"ticks\":\"\",\"title\":{\"standoff\":15},\"zerolinecolor\":\"white\",\"automargin\":true,\"zerolinewidth\":2},\"scene\":{\"xaxis\":{\"backgroundcolor\":\"#E5ECF6\",\"gridcolor\":\"white\",\"linecolor\":\"white\",\"showbackground\":true,\"ticks\":\"\",\"zerolinecolor\":\"white\",\"gridwidth\":2},\"yaxis\":{\"backgroundcolor\":\"#E5ECF6\",\"gridcolor\":\"white\",\"linecolor\":\"white\",\"showbackground\":true,\"ticks\":\"\",\"zerolinecolor\":\"white\",\"gridwidth\":2},\"zaxis\":{\"backgroundcolor\":\"#E5ECF6\",\"gridcolor\":\"white\",\"linecolor\":\"white\",\"showbackground\":true,\"ticks\":\"\",\"zerolinecolor\":\"white\",\"gridwidth\":2}},\"shapedefaults\":{\"line\":{\"color\":\"#2a3f5f\"}},\"annotationdefaults\":{\"arrowcolor\":\"#2a3f5f\",\"arrowhead\":0,\"arrowwidth\":1},\"geo\":{\"bgcolor\":\"white\",\"landcolor\":\"#E5ECF6\",\"subunitcolor\":\"white\",\"showland\":true,\"showlakes\":true,\"lakecolor\":\"white\"},\"title\":{\"x\":0.05},\"mapbox\":{\"style\":\"light\"}}},\"xaxis\":{\"anchor\":\"y\",\"domain\":[0.0,1.0],\"title\":{\"text\":\"\\u0627\\u0644\\u0645\\u0633\\u062a\\u062e\\u062f\\u0645\"},\"categoryorder\":\"array\",\"categoryarray\":[\"saudiFF\",\"AbdulazizTF\",\"SaudiNews50\",\"fifaworldcup_ar\",\"RMCFarab\",\"Ahlystudio\",\"derradjihafid\",\"hilalstuff\",\"_su6an\",\"1SMi_\"]},\"yaxis\":{\"anchor\":\"x\",\"domain\":[0.0,1.0],\"title\":{\"text\":\"\\u0639\\u062f\\u062f \\u0627\\u0644\\u0627\\u0639\\u062c\\u0627\\u0628\"}},\"legend\":{\"title\":{\"text\":\"\\u0627\\u0644\\u0645\\u0633\\u062a\\u062e\\u062f\\u0645\"},\"tracegroupgap\":0},\"title\":{\"text\":\"\\u0627\\u0639\\u0644\\u0649 \\u0639\\u0634\\u0631 \\u062a\\u063a\\u0631\\u064a\\u062f\\u0627\\u062a \\u062d\\u0627\\u0632\\u062a \\u0639\\u0644\\u0649 \\u0627\\u0639\\u062c\\u0627\\u0628 \\u0627\\u0644\\u0627\\u062e\\u0631\\u064a\\u0646\"},\"barmode\":\"relative\"},                        {\"responsive\": true}                    ).then(function(){\n",
       "                            \n",
       "var gd = document.getElementById('188a0fc7-3c70-4a3b-82e2-dbd98b3e4777');\n",
       "var x = new MutationObserver(function (mutations, observer) {{\n",
       "        var display = window.getComputedStyle(gd).display;\n",
       "        if (!display || display === 'none') {{\n",
       "            console.log([gd, 'removed!']);\n",
       "            Plotly.purge(gd);\n",
       "            observer.disconnect();\n",
       "        }}\n",
       "}});\n",
       "\n",
       "// Listen for the removal of the full notebook cells\n",
       "var notebookContainer = gd.closest('#notebook-container');\n",
       "if (notebookContainer) {{\n",
       "    x.observe(notebookContainer, {childList: true});\n",
       "}}\n",
       "\n",
       "// Listen for the clearing of the current output cell\n",
       "var outputEl = gd.closest('.output');\n",
       "if (outputEl) {{\n",
       "    x.observe(outputEl, {childList: true});\n",
       "}}\n",
       "\n",
       "                        })                };                });            </script>        </div>"
      ]
     },
     "metadata": {},
     "output_type": "display_data"
    }
   ],
   "source": [
    "df_sorted = df.sort_values(by='Number_of_Likes',ascending=False).head(10)\n",
    "fig =px.bar(df_sorted,x='User',y='Number_of_Likes',hover_data=['User', 'Name','cleanTweet'],color='User',\n",
    "           labels={'User':'المستخدم', 'Number_of_Likes':'عدد الاعجاب'},\n",
    "           title='اعلى عشر تغريدات حازت على اعجاب الاخرين')\n",
    "fig.show()"
   ]
  },
  {
   "cell_type": "markdown",
   "id": "d5711631",
   "metadata": {},
   "source": [
    "- The highest tweet was about (Saudi Arabia will host the 2023 Club World Cup 🇸🇦)"
   ]
  },
  {
   "cell_type": "code",
   "execution_count": 154,
   "id": "921cd175",
   "metadata": {},
   "outputs": [],
   "source": [
    "df['Total_of_Likes'] = df.groupby(['User']).Number_of_Likes.transform('sum')"
   ]
  },
  {
   "cell_type": "code",
   "execution_count": 155,
   "id": "ff3e24c9",
   "metadata": {
    "scrolled": false
   },
   "outputs": [
    {
     "data": {
      "text/html": [
       "<div>\n",
       "<style scoped>\n",
       "    .dataframe tbody tr th:only-of-type {\n",
       "        vertical-align: middle;\n",
       "    }\n",
       "\n",
       "    .dataframe tbody tr th {\n",
       "        vertical-align: top;\n",
       "    }\n",
       "\n",
       "    .dataframe thead th {\n",
       "        text-align: right;\n",
       "    }\n",
       "</style>\n",
       "<table border=\"1\" class=\"dataframe\">\n",
       "  <thead>\n",
       "    <tr style=\"text-align: right;\">\n",
       "      <th></th>\n",
       "      <th>User</th>\n",
       "      <th>Name</th>\n",
       "      <th>Date_Created</th>\n",
       "      <th>Number_of_Likes</th>\n",
       "      <th>Source_of_Tweet</th>\n",
       "      <th>Tweet</th>\n",
       "      <th>Language</th>\n",
       "      <th>Coordinates</th>\n",
       "      <th>place</th>\n",
       "      <th>cleanTweet</th>\n",
       "      <th>Total_of_Likes</th>\n",
       "    </tr>\n",
       "  </thead>\n",
       "  <tbody>\n",
       "    <tr>\n",
       "      <th>0</th>\n",
       "      <td>AX98jfg8k94</td>\n",
       "      <td>SAMIII</td>\n",
       "      <td>2023-02-14</td>\n",
       "      <td>0</td>\n",
       "      <td>Twitter for iPhone</td>\n",
       "      <td>@iwamzyan 😂😂😂 كأس العالم للاندية هل تطن ان الم...</td>\n",
       "      <td>ar</td>\n",
       "      <td>NaN</td>\n",
       "      <td>NaN</td>\n",
       "      <td>😂😂😂 كأس العالم للاندية هل تطن ان المغرب قام ب...</td>\n",
       "      <td>0</td>\n",
       "    </tr>\n",
       "    <tr>\n",
       "      <th>1</th>\n",
       "      <td>hebasay39744927</td>\n",
       "      <td>🦅♥️🇪🇬 heba.sayed‏</td>\n",
       "      <td>2023-02-14</td>\n",
       "      <td>38</td>\n",
       "      <td>Twitter for Android</td>\n",
       "      <td>محمد شبانة: لما أعيش لليوم اللي الزمالك يلعب ف...</td>\n",
       "      <td>ar</td>\n",
       "      <td>NaN</td>\n",
       "      <td>NaN</td>\n",
       "      <td>محمد شبانة: لما أعيش لليوم اللي الزمالك يلعب ف...</td>\n",
       "      <td>40</td>\n",
       "    </tr>\n",
       "    <tr>\n",
       "      <th>2</th>\n",
       "      <td>2oios</td>\n",
       "      <td>-ﺎلسسَآطي ‏𖤐</td>\n",
       "      <td>2023-02-14</td>\n",
       "      <td>0</td>\n",
       "      <td>Twitter for iPhone</td>\n",
       "      <td>@toldo2002 @tooothy_ وبإذن الله ان التاسعة تتح...</td>\n",
       "      <td>ar</td>\n",
       "      <td>NaN</td>\n",
       "      <td>NaN</td>\n",
       "      <td>وبإذن الله ان التاسعة تتحق السنه ذي وكاس الع...</td>\n",
       "      <td>0</td>\n",
       "    </tr>\n",
       "    <tr>\n",
       "      <th>3</th>\n",
       "      <td>mohamed90108304</td>\n",
       "      <td>Mohamed Metwally Shaarawi ( ابو بـودئ )🇪🇬♥️🇸🇦</td>\n",
       "      <td>2023-02-14</td>\n",
       "      <td>1</td>\n",
       "      <td>Twitter for iPhone</td>\n",
       "      <td>أعلن الاتحاد الدولي لكرة القدم \"#فيفا\" تطبيق ن...</td>\n",
       "      <td>ar</td>\n",
       "      <td>NaN</td>\n",
       "      <td>NaN</td>\n",
       "      <td>أعلن الاتحاد الدولي لكرة القدم \"فيفا\" تطبيق نظ...</td>\n",
       "      <td>1</td>\n",
       "    </tr>\n",
       "    <tr>\n",
       "      <th>4</th>\n",
       "      <td>fstp1396</td>\n",
       "      <td>الزكرتي</td>\n",
       "      <td>2023-02-14</td>\n",
       "      <td>2</td>\n",
       "      <td>Twitter for iPhone</td>\n",
       "      <td>رايحين للاتحاد الاسيوي يبون ميدالية اللعب النظ...</td>\n",
       "      <td>ar</td>\n",
       "      <td>NaN</td>\n",
       "      <td>NaN</td>\n",
       "      <td>رايحين للاتحاد الاسيوي يبون ميدالية اللعب النظ...</td>\n",
       "      <td>2</td>\n",
       "    </tr>\n",
       "    <tr>\n",
       "      <th>...</th>\n",
       "      <td>...</td>\n",
       "      <td>...</td>\n",
       "      <td>...</td>\n",
       "      <td>...</td>\n",
       "      <td>...</td>\n",
       "      <td>...</td>\n",
       "      <td>...</td>\n",
       "      <td>...</td>\n",
       "      <td>...</td>\n",
       "      <td>...</td>\n",
       "      <td>...</td>\n",
       "    </tr>\n",
       "    <tr>\n",
       "      <th>9819</th>\n",
       "      <td>aljeban</td>\n",
       "      <td>أحمد | AHMED</td>\n",
       "      <td>2023-02-12</td>\n",
       "      <td>1</td>\n",
       "      <td>Twitter for iPhone</td>\n",
       "      <td>#ريال_مدريد بطل #كأس_العالم_للأندية 2022\\n    ...</td>\n",
       "      <td>ar</td>\n",
       "      <td>NaN</td>\n",
       "      <td>NaN</td>\n",
       "      <td>ريالمدريد بطل كأسالعالمللأندية 2022\\n         ...</td>\n",
       "      <td>1</td>\n",
       "    </tr>\n",
       "    <tr>\n",
       "      <th>9820</th>\n",
       "      <td>sayyidaty</td>\n",
       "      <td>برنامج سيدتي</td>\n",
       "      <td>2023-02-12</td>\n",
       "      <td>3</td>\n",
       "      <td>Twitter Media Studio - LiveCut</td>\n",
       "      <td>ماجد المهندس: مبروك للوطن هذا الإنجاز اللي مو ...</td>\n",
       "      <td>ar</td>\n",
       "      <td>NaN</td>\n",
       "      <td>NaN</td>\n",
       "      <td>ماجد المهندس: مبروك للوطن هذا الإنجاز اللي مو ...</td>\n",
       "      <td>4</td>\n",
       "    </tr>\n",
       "    <tr>\n",
       "      <th>9821</th>\n",
       "      <td>YaHalaShow</td>\n",
       "      <td>برنامج ياهلا</td>\n",
       "      <td>2023-02-12</td>\n",
       "      <td>1</td>\n",
       "      <td>Twitter Media Studio - LiveCut</td>\n",
       "      <td>ماجد المهندس: مبروك للوطن هذا الإنجاز اللي مو ...</td>\n",
       "      <td>ar</td>\n",
       "      <td>NaN</td>\n",
       "      <td>NaN</td>\n",
       "      <td>ماجد المهندس: مبروك للوطن هذا الإنجاز اللي مو ...</td>\n",
       "      <td>37</td>\n",
       "    </tr>\n",
       "    <tr>\n",
       "      <th>9822</th>\n",
       "      <td>sa3etshabab</td>\n",
       "      <td>ساعة شباب</td>\n",
       "      <td>2023-02-12</td>\n",
       "      <td>0</td>\n",
       "      <td>Twitter Media Studio - LiveCut</td>\n",
       "      <td>ماجد المهندس: مبروك للوطن هذا الإنجاز اللي مو ...</td>\n",
       "      <td>ar</td>\n",
       "      <td>NaN</td>\n",
       "      <td>NaN</td>\n",
       "      <td>ماجد المهندس: مبروك للوطن هذا الإنجاز اللي مو ...</td>\n",
       "      <td>2</td>\n",
       "    </tr>\n",
       "    <tr>\n",
       "      <th>9823</th>\n",
       "      <td>korarotana</td>\n",
       "      <td>برنامج كورة</td>\n",
       "      <td>2023-02-12</td>\n",
       "      <td>16</td>\n",
       "      <td>Twitter Media Studio - LiveCut</td>\n",
       "      <td>ماجد المهندس: مبروك للوطن هذا الإنجاز اللي مو ...</td>\n",
       "      <td>ar</td>\n",
       "      <td>NaN</td>\n",
       "      <td>NaN</td>\n",
       "      <td>ماجد المهندس: مبروك للوطن هذا الإنجاز اللي مو ...</td>\n",
       "      <td>366</td>\n",
       "    </tr>\n",
       "  </tbody>\n",
       "</table>\n",
       "<p>9824 rows × 11 columns</p>\n",
       "</div>"
      ],
      "text/plain": [
       "                 User                                           Name  \\\n",
       "0         AX98jfg8k94                                         SAMIII   \n",
       "1     hebasay39744927                              🦅♥️🇪🇬 heba.sayed‏   \n",
       "2               2oios                                   -ﺎلسسَآطي ‏𖤐   \n",
       "3     mohamed90108304  Mohamed Metwally Shaarawi ( ابو بـودئ )🇪🇬♥️🇸🇦   \n",
       "4            fstp1396                                        الزكرتي   \n",
       "...               ...                                            ...   \n",
       "9819          aljeban                                   أحمد | AHMED   \n",
       "9820        sayyidaty                                   برنامج سيدتي   \n",
       "9821       YaHalaShow                                   برنامج ياهلا   \n",
       "9822      sa3etshabab                                      ساعة شباب   \n",
       "9823       korarotana                                    برنامج كورة   \n",
       "\n",
       "     Date_Created  Number_of_Likes                 Source_of_Tweet  \\\n",
       "0      2023-02-14                0              Twitter for iPhone   \n",
       "1      2023-02-14               38             Twitter for Android   \n",
       "2      2023-02-14                0              Twitter for iPhone   \n",
       "3      2023-02-14                1              Twitter for iPhone   \n",
       "4      2023-02-14                2              Twitter for iPhone   \n",
       "...           ...              ...                             ...   \n",
       "9819   2023-02-12                1              Twitter for iPhone   \n",
       "9820   2023-02-12                3  Twitter Media Studio - LiveCut   \n",
       "9821   2023-02-12                1  Twitter Media Studio - LiveCut   \n",
       "9822   2023-02-12                0  Twitter Media Studio - LiveCut   \n",
       "9823   2023-02-12               16  Twitter Media Studio - LiveCut   \n",
       "\n",
       "                                                  Tweet Language Coordinates  \\\n",
       "0     @iwamzyan 😂😂😂 كأس العالم للاندية هل تطن ان الم...       ar         NaN   \n",
       "1     محمد شبانة: لما أعيش لليوم اللي الزمالك يلعب ف...       ar         NaN   \n",
       "2     @toldo2002 @tooothy_ وبإذن الله ان التاسعة تتح...       ar         NaN   \n",
       "3     أعلن الاتحاد الدولي لكرة القدم \"#فيفا\" تطبيق ن...       ar         NaN   \n",
       "4     رايحين للاتحاد الاسيوي يبون ميدالية اللعب النظ...       ar         NaN   \n",
       "...                                                 ...      ...         ...   \n",
       "9819  #ريال_مدريد بطل #كأس_العالم_للأندية 2022\\n    ...       ar         NaN   \n",
       "9820  ماجد المهندس: مبروك للوطن هذا الإنجاز اللي مو ...       ar         NaN   \n",
       "9821  ماجد المهندس: مبروك للوطن هذا الإنجاز اللي مو ...       ar         NaN   \n",
       "9822  ماجد المهندس: مبروك للوطن هذا الإنجاز اللي مو ...       ar         NaN   \n",
       "9823  ماجد المهندس: مبروك للوطن هذا الإنجاز اللي مو ...       ar         NaN   \n",
       "\n",
       "     place                                         cleanTweet  Total_of_Likes  \n",
       "0      NaN   😂😂😂 كأس العالم للاندية هل تطن ان المغرب قام ب...               0  \n",
       "1      NaN  محمد شبانة: لما أعيش لليوم اللي الزمالك يلعب ف...              40  \n",
       "2      NaN    وبإذن الله ان التاسعة تتحق السنه ذي وكاس الع...               0  \n",
       "3      NaN  أعلن الاتحاد الدولي لكرة القدم \"فيفا\" تطبيق نظ...               1  \n",
       "4      NaN  رايحين للاتحاد الاسيوي يبون ميدالية اللعب النظ...               2  \n",
       "...    ...                                                ...             ...  \n",
       "9819   NaN  ريالمدريد بطل كأسالعالمللأندية 2022\\n         ...               1  \n",
       "9820   NaN  ماجد المهندس: مبروك للوطن هذا الإنجاز اللي مو ...               4  \n",
       "9821   NaN  ماجد المهندس: مبروك للوطن هذا الإنجاز اللي مو ...              37  \n",
       "9822   NaN  ماجد المهندس: مبروك للوطن هذا الإنجاز اللي مو ...               2  \n",
       "9823   NaN  ماجد المهندس: مبروك للوطن هذا الإنجاز اللي مو ...             366  \n",
       "\n",
       "[9824 rows x 11 columns]"
      ]
     },
     "execution_count": 155,
     "metadata": {},
     "output_type": "execute_result"
    }
   ],
   "source": [
    "df"
   ]
  },
  {
   "cell_type": "code",
   "execution_count": 156,
   "id": "23d3d18f",
   "metadata": {},
   "outputs": [
    {
     "data": {
      "text/html": [
       "<div>\n",
       "<style scoped>\n",
       "    .dataframe tbody tr th:only-of-type {\n",
       "        vertical-align: middle;\n",
       "    }\n",
       "\n",
       "    .dataframe tbody tr th {\n",
       "        vertical-align: top;\n",
       "    }\n",
       "\n",
       "    .dataframe thead th {\n",
       "        text-align: right;\n",
       "    }\n",
       "</style>\n",
       "<table border=\"1\" class=\"dataframe\">\n",
       "  <thead>\n",
       "    <tr style=\"text-align: right;\">\n",
       "      <th></th>\n",
       "      <th>User</th>\n",
       "      <th>Name</th>\n",
       "      <th>Total_of_Likes</th>\n",
       "    </tr>\n",
       "  </thead>\n",
       "  <tbody>\n",
       "    <tr>\n",
       "      <th>1527</th>\n",
       "      <td>football_ll55</td>\n",
       "      <td>نواف الآسيوي 🇸🇦</td>\n",
       "      <td>8139</td>\n",
       "    </tr>\n",
       "    <tr>\n",
       "      <th>646</th>\n",
       "      <td>hilalstuff</td>\n",
       "      <td>أخبار الهلال</td>\n",
       "      <td>7877</td>\n",
       "    </tr>\n",
       "    <tr>\n",
       "      <th>8847</th>\n",
       "      <td>fifaworldcup_ar</td>\n",
       "      <td>كأس العالم FIFA 🏆</td>\n",
       "      <td>7691</td>\n",
       "    </tr>\n",
       "    <tr>\n",
       "      <th>634</th>\n",
       "      <td>MnbrAlhilal</td>\n",
       "      <td>منبر الهلال</td>\n",
       "      <td>5840</td>\n",
       "    </tr>\n",
       "    <tr>\n",
       "      <th>4764</th>\n",
       "      <td>saudiFF</td>\n",
       "      <td>الاتحاد السعودي لكرة القدم</td>\n",
       "      <td>5756</td>\n",
       "    </tr>\n",
       "    <tr>\n",
       "      <th>...</th>\n",
       "      <td>...</td>\n",
       "      <td>...</td>\n",
       "      <td>...</td>\n",
       "    </tr>\n",
       "    <tr>\n",
       "      <th>5597</th>\n",
       "      <td>azooozyy_</td>\n",
       "      <td>عز</td>\n",
       "      <td>0</td>\n",
       "    </tr>\n",
       "    <tr>\n",
       "      <th>5596</th>\n",
       "      <td>wmn120</td>\n",
       "      <td>maha</td>\n",
       "      <td>0</td>\n",
       "    </tr>\n",
       "    <tr>\n",
       "      <th>1655</th>\n",
       "      <td>Jaber00515</td>\n",
       "      <td>ابو فيصل</td>\n",
       "      <td>0</td>\n",
       "    </tr>\n",
       "    <tr>\n",
       "      <th>5594</th>\n",
       "      <td>ahmd88524189</td>\n",
       "      <td>احمد القحطاني</td>\n",
       "      <td>0</td>\n",
       "    </tr>\n",
       "    <tr>\n",
       "      <th>0</th>\n",
       "      <td>AX98jfg8k94</td>\n",
       "      <td>SAMIII</td>\n",
       "      <td>0</td>\n",
       "    </tr>\n",
       "  </tbody>\n",
       "</table>\n",
       "<p>7259 rows × 3 columns</p>\n",
       "</div>"
      ],
      "text/plain": [
       "                 User                        Name  Total_of_Likes\n",
       "1527    football_ll55             نواف الآسيوي 🇸🇦            8139\n",
       "646        hilalstuff                أخبار الهلال            7877\n",
       "8847  fifaworldcup_ar           كأس العالم FIFA 🏆            7691\n",
       "634       MnbrAlhilal                 منبر الهلال            5840\n",
       "4764          saudiFF  الاتحاد السعودي لكرة القدم            5756\n",
       "...               ...                         ...             ...\n",
       "5597        azooozyy_                          عز               0\n",
       "5596           wmn120                        maha               0\n",
       "1655       Jaber00515                    ابو فيصل               0\n",
       "5594     ahmd88524189               احمد القحطاني               0\n",
       "0         AX98jfg8k94                      SAMIII               0\n",
       "\n",
       "[7259 rows x 3 columns]"
      ]
     },
     "execution_count": 156,
     "metadata": {},
     "output_type": "execute_result"
    }
   ],
   "source": [
    "df_sorted = df.sort_values(by='Total_of_Likes',ascending=False)\n",
    "df_sorted.drop(columns=['Date_Created', 'Number_of_Likes', 'Source_of_Tweet', 'Tweet',\n",
    "            'Language', 'Coordinates','place','cleanTweet'],inplace=True)\n",
    "df_sorted.drop_duplicates(inplace=True)\n",
    "df_sorted"
   ]
  },
  {
   "cell_type": "code",
   "execution_count": 157,
   "id": "4d0739bc",
   "metadata": {},
   "outputs": [
    {
     "data": {
      "application/vnd.plotly.v1+json": {
       "config": {
        "plotlyServerURL": "https://plot.ly"
       },
       "data": [
        {
         "alignmentgroup": "True",
         "hovertemplate": "المستخدم=%{x}<br>عدد الاعجاب=%{y}<extra></extra>",
         "legendgroup": "نواف الآسيوي 🇸🇦",
         "marker": {
          "color": "#636efa",
          "pattern": {
           "shape": ""
          }
         },
         "name": "نواف الآسيوي 🇸🇦",
         "offsetgroup": "نواف الآسيوي 🇸🇦",
         "orientation": "v",
         "showlegend": true,
         "textposition": "auto",
         "type": "bar",
         "x": [
          "نواف الآسيوي 🇸🇦"
         ],
         "xaxis": "x",
         "y": [
          8139
         ],
         "yaxis": "y"
        },
        {
         "alignmentgroup": "True",
         "hovertemplate": "المستخدم=%{x}<br>عدد الاعجاب=%{y}<extra></extra>",
         "legendgroup": "أخبار الهلال",
         "marker": {
          "color": "#EF553B",
          "pattern": {
           "shape": ""
          }
         },
         "name": "أخبار الهلال",
         "offsetgroup": "أخبار الهلال",
         "orientation": "v",
         "showlegend": true,
         "textposition": "auto",
         "type": "bar",
         "x": [
          "أخبار الهلال"
         ],
         "xaxis": "x",
         "y": [
          7877
         ],
         "yaxis": "y"
        },
        {
         "alignmentgroup": "True",
         "hovertemplate": "المستخدم=%{x}<br>عدد الاعجاب=%{y}<extra></extra>",
         "legendgroup": "كأس العالم FIFA 🏆",
         "marker": {
          "color": "#00cc96",
          "pattern": {
           "shape": ""
          }
         },
         "name": "كأس العالم FIFA 🏆",
         "offsetgroup": "كأس العالم FIFA 🏆",
         "orientation": "v",
         "showlegend": true,
         "textposition": "auto",
         "type": "bar",
         "x": [
          "كأس العالم FIFA 🏆"
         ],
         "xaxis": "x",
         "y": [
          7691
         ],
         "yaxis": "y"
        },
        {
         "alignmentgroup": "True",
         "hovertemplate": "المستخدم=%{x}<br>عدد الاعجاب=%{y}<extra></extra>",
         "legendgroup": "منبر الهلال",
         "marker": {
          "color": "#ab63fa",
          "pattern": {
           "shape": ""
          }
         },
         "name": "منبر الهلال",
         "offsetgroup": "منبر الهلال",
         "orientation": "v",
         "showlegend": true,
         "textposition": "auto",
         "type": "bar",
         "x": [
          "منبر الهلال"
         ],
         "xaxis": "x",
         "y": [
          5840
         ],
         "yaxis": "y"
        },
        {
         "alignmentgroup": "True",
         "hovertemplate": "المستخدم=%{x}<br>عدد الاعجاب=%{y}<extra></extra>",
         "legendgroup": "الاتحاد السعودي لكرة القدم",
         "marker": {
          "color": "#FFA15A",
          "pattern": {
           "shape": ""
          }
         },
         "name": "الاتحاد السعودي لكرة القدم",
         "offsetgroup": "الاتحاد السعودي لكرة القدم",
         "orientation": "v",
         "showlegend": true,
         "textposition": "auto",
         "type": "bar",
         "x": [
          "الاتحاد السعودي لكرة القدم"
         ],
         "xaxis": "x",
         "y": [
          5756
         ],
         "yaxis": "y"
        }
       ],
       "layout": {
        "barmode": "relative",
        "legend": {
         "title": {
          "text": "المستخدم"
         },
         "tracegroupgap": 0
        },
        "template": {
         "data": {
          "bar": [
           {
            "error_x": {
             "color": "#2a3f5f"
            },
            "error_y": {
             "color": "#2a3f5f"
            },
            "marker": {
             "line": {
              "color": "#E5ECF6",
              "width": 0.5
             },
             "pattern": {
              "fillmode": "overlay",
              "size": 10,
              "solidity": 0.2
             }
            },
            "type": "bar"
           }
          ],
          "barpolar": [
           {
            "marker": {
             "line": {
              "color": "#E5ECF6",
              "width": 0.5
             },
             "pattern": {
              "fillmode": "overlay",
              "size": 10,
              "solidity": 0.2
             }
            },
            "type": "barpolar"
           }
          ],
          "carpet": [
           {
            "aaxis": {
             "endlinecolor": "#2a3f5f",
             "gridcolor": "white",
             "linecolor": "white",
             "minorgridcolor": "white",
             "startlinecolor": "#2a3f5f"
            },
            "baxis": {
             "endlinecolor": "#2a3f5f",
             "gridcolor": "white",
             "linecolor": "white",
             "minorgridcolor": "white",
             "startlinecolor": "#2a3f5f"
            },
            "type": "carpet"
           }
          ],
          "choropleth": [
           {
            "colorbar": {
             "outlinewidth": 0,
             "ticks": ""
            },
            "type": "choropleth"
           }
          ],
          "contour": [
           {
            "colorbar": {
             "outlinewidth": 0,
             "ticks": ""
            },
            "colorscale": [
             [
              0,
              "#0d0887"
             ],
             [
              0.1111111111111111,
              "#46039f"
             ],
             [
              0.2222222222222222,
              "#7201a8"
             ],
             [
              0.3333333333333333,
              "#9c179e"
             ],
             [
              0.4444444444444444,
              "#bd3786"
             ],
             [
              0.5555555555555556,
              "#d8576b"
             ],
             [
              0.6666666666666666,
              "#ed7953"
             ],
             [
              0.7777777777777778,
              "#fb9f3a"
             ],
             [
              0.8888888888888888,
              "#fdca26"
             ],
             [
              1,
              "#f0f921"
             ]
            ],
            "type": "contour"
           }
          ],
          "contourcarpet": [
           {
            "colorbar": {
             "outlinewidth": 0,
             "ticks": ""
            },
            "type": "contourcarpet"
           }
          ],
          "heatmap": [
           {
            "colorbar": {
             "outlinewidth": 0,
             "ticks": ""
            },
            "colorscale": [
             [
              0,
              "#0d0887"
             ],
             [
              0.1111111111111111,
              "#46039f"
             ],
             [
              0.2222222222222222,
              "#7201a8"
             ],
             [
              0.3333333333333333,
              "#9c179e"
             ],
             [
              0.4444444444444444,
              "#bd3786"
             ],
             [
              0.5555555555555556,
              "#d8576b"
             ],
             [
              0.6666666666666666,
              "#ed7953"
             ],
             [
              0.7777777777777778,
              "#fb9f3a"
             ],
             [
              0.8888888888888888,
              "#fdca26"
             ],
             [
              1,
              "#f0f921"
             ]
            ],
            "type": "heatmap"
           }
          ],
          "heatmapgl": [
           {
            "colorbar": {
             "outlinewidth": 0,
             "ticks": ""
            },
            "colorscale": [
             [
              0,
              "#0d0887"
             ],
             [
              0.1111111111111111,
              "#46039f"
             ],
             [
              0.2222222222222222,
              "#7201a8"
             ],
             [
              0.3333333333333333,
              "#9c179e"
             ],
             [
              0.4444444444444444,
              "#bd3786"
             ],
             [
              0.5555555555555556,
              "#d8576b"
             ],
             [
              0.6666666666666666,
              "#ed7953"
             ],
             [
              0.7777777777777778,
              "#fb9f3a"
             ],
             [
              0.8888888888888888,
              "#fdca26"
             ],
             [
              1,
              "#f0f921"
             ]
            ],
            "type": "heatmapgl"
           }
          ],
          "histogram": [
           {
            "marker": {
             "pattern": {
              "fillmode": "overlay",
              "size": 10,
              "solidity": 0.2
             }
            },
            "type": "histogram"
           }
          ],
          "histogram2d": [
           {
            "colorbar": {
             "outlinewidth": 0,
             "ticks": ""
            },
            "colorscale": [
             [
              0,
              "#0d0887"
             ],
             [
              0.1111111111111111,
              "#46039f"
             ],
             [
              0.2222222222222222,
              "#7201a8"
             ],
             [
              0.3333333333333333,
              "#9c179e"
             ],
             [
              0.4444444444444444,
              "#bd3786"
             ],
             [
              0.5555555555555556,
              "#d8576b"
             ],
             [
              0.6666666666666666,
              "#ed7953"
             ],
             [
              0.7777777777777778,
              "#fb9f3a"
             ],
             [
              0.8888888888888888,
              "#fdca26"
             ],
             [
              1,
              "#f0f921"
             ]
            ],
            "type": "histogram2d"
           }
          ],
          "histogram2dcontour": [
           {
            "colorbar": {
             "outlinewidth": 0,
             "ticks": ""
            },
            "colorscale": [
             [
              0,
              "#0d0887"
             ],
             [
              0.1111111111111111,
              "#46039f"
             ],
             [
              0.2222222222222222,
              "#7201a8"
             ],
             [
              0.3333333333333333,
              "#9c179e"
             ],
             [
              0.4444444444444444,
              "#bd3786"
             ],
             [
              0.5555555555555556,
              "#d8576b"
             ],
             [
              0.6666666666666666,
              "#ed7953"
             ],
             [
              0.7777777777777778,
              "#fb9f3a"
             ],
             [
              0.8888888888888888,
              "#fdca26"
             ],
             [
              1,
              "#f0f921"
             ]
            ],
            "type": "histogram2dcontour"
           }
          ],
          "mesh3d": [
           {
            "colorbar": {
             "outlinewidth": 0,
             "ticks": ""
            },
            "type": "mesh3d"
           }
          ],
          "parcoords": [
           {
            "line": {
             "colorbar": {
              "outlinewidth": 0,
              "ticks": ""
             }
            },
            "type": "parcoords"
           }
          ],
          "pie": [
           {
            "automargin": true,
            "type": "pie"
           }
          ],
          "scatter": [
           {
            "fillpattern": {
             "fillmode": "overlay",
             "size": 10,
             "solidity": 0.2
            },
            "type": "scatter"
           }
          ],
          "scatter3d": [
           {
            "line": {
             "colorbar": {
              "outlinewidth": 0,
              "ticks": ""
             }
            },
            "marker": {
             "colorbar": {
              "outlinewidth": 0,
              "ticks": ""
             }
            },
            "type": "scatter3d"
           }
          ],
          "scattercarpet": [
           {
            "marker": {
             "colorbar": {
              "outlinewidth": 0,
              "ticks": ""
             }
            },
            "type": "scattercarpet"
           }
          ],
          "scattergeo": [
           {
            "marker": {
             "colorbar": {
              "outlinewidth": 0,
              "ticks": ""
             }
            },
            "type": "scattergeo"
           }
          ],
          "scattergl": [
           {
            "marker": {
             "colorbar": {
              "outlinewidth": 0,
              "ticks": ""
             }
            },
            "type": "scattergl"
           }
          ],
          "scattermapbox": [
           {
            "marker": {
             "colorbar": {
              "outlinewidth": 0,
              "ticks": ""
             }
            },
            "type": "scattermapbox"
           }
          ],
          "scatterpolar": [
           {
            "marker": {
             "colorbar": {
              "outlinewidth": 0,
              "ticks": ""
             }
            },
            "type": "scatterpolar"
           }
          ],
          "scatterpolargl": [
           {
            "marker": {
             "colorbar": {
              "outlinewidth": 0,
              "ticks": ""
             }
            },
            "type": "scatterpolargl"
           }
          ],
          "scatterternary": [
           {
            "marker": {
             "colorbar": {
              "outlinewidth": 0,
              "ticks": ""
             }
            },
            "type": "scatterternary"
           }
          ],
          "surface": [
           {
            "colorbar": {
             "outlinewidth": 0,
             "ticks": ""
            },
            "colorscale": [
             [
              0,
              "#0d0887"
             ],
             [
              0.1111111111111111,
              "#46039f"
             ],
             [
              0.2222222222222222,
              "#7201a8"
             ],
             [
              0.3333333333333333,
              "#9c179e"
             ],
             [
              0.4444444444444444,
              "#bd3786"
             ],
             [
              0.5555555555555556,
              "#d8576b"
             ],
             [
              0.6666666666666666,
              "#ed7953"
             ],
             [
              0.7777777777777778,
              "#fb9f3a"
             ],
             [
              0.8888888888888888,
              "#fdca26"
             ],
             [
              1,
              "#f0f921"
             ]
            ],
            "type": "surface"
           }
          ],
          "table": [
           {
            "cells": {
             "fill": {
              "color": "#EBF0F8"
             },
             "line": {
              "color": "white"
             }
            },
            "header": {
             "fill": {
              "color": "#C8D4E3"
             },
             "line": {
              "color": "white"
             }
            },
            "type": "table"
           }
          ]
         },
         "layout": {
          "annotationdefaults": {
           "arrowcolor": "#2a3f5f",
           "arrowhead": 0,
           "arrowwidth": 1
          },
          "autotypenumbers": "strict",
          "coloraxis": {
           "colorbar": {
            "outlinewidth": 0,
            "ticks": ""
           }
          },
          "colorscale": {
           "diverging": [
            [
             0,
             "#8e0152"
            ],
            [
             0.1,
             "#c51b7d"
            ],
            [
             0.2,
             "#de77ae"
            ],
            [
             0.3,
             "#f1b6da"
            ],
            [
             0.4,
             "#fde0ef"
            ],
            [
             0.5,
             "#f7f7f7"
            ],
            [
             0.6,
             "#e6f5d0"
            ],
            [
             0.7,
             "#b8e186"
            ],
            [
             0.8,
             "#7fbc41"
            ],
            [
             0.9,
             "#4d9221"
            ],
            [
             1,
             "#276419"
            ]
           ],
           "sequential": [
            [
             0,
             "#0d0887"
            ],
            [
             0.1111111111111111,
             "#46039f"
            ],
            [
             0.2222222222222222,
             "#7201a8"
            ],
            [
             0.3333333333333333,
             "#9c179e"
            ],
            [
             0.4444444444444444,
             "#bd3786"
            ],
            [
             0.5555555555555556,
             "#d8576b"
            ],
            [
             0.6666666666666666,
             "#ed7953"
            ],
            [
             0.7777777777777778,
             "#fb9f3a"
            ],
            [
             0.8888888888888888,
             "#fdca26"
            ],
            [
             1,
             "#f0f921"
            ]
           ],
           "sequentialminus": [
            [
             0,
             "#0d0887"
            ],
            [
             0.1111111111111111,
             "#46039f"
            ],
            [
             0.2222222222222222,
             "#7201a8"
            ],
            [
             0.3333333333333333,
             "#9c179e"
            ],
            [
             0.4444444444444444,
             "#bd3786"
            ],
            [
             0.5555555555555556,
             "#d8576b"
            ],
            [
             0.6666666666666666,
             "#ed7953"
            ],
            [
             0.7777777777777778,
             "#fb9f3a"
            ],
            [
             0.8888888888888888,
             "#fdca26"
            ],
            [
             1,
             "#f0f921"
            ]
           ]
          },
          "colorway": [
           "#636efa",
           "#EF553B",
           "#00cc96",
           "#ab63fa",
           "#FFA15A",
           "#19d3f3",
           "#FF6692",
           "#B6E880",
           "#FF97FF",
           "#FECB52"
          ],
          "font": {
           "color": "#2a3f5f"
          },
          "geo": {
           "bgcolor": "white",
           "lakecolor": "white",
           "landcolor": "#E5ECF6",
           "showlakes": true,
           "showland": true,
           "subunitcolor": "white"
          },
          "hoverlabel": {
           "align": "left"
          },
          "hovermode": "closest",
          "mapbox": {
           "style": "light"
          },
          "paper_bgcolor": "white",
          "plot_bgcolor": "#E5ECF6",
          "polar": {
           "angularaxis": {
            "gridcolor": "white",
            "linecolor": "white",
            "ticks": ""
           },
           "bgcolor": "#E5ECF6",
           "radialaxis": {
            "gridcolor": "white",
            "linecolor": "white",
            "ticks": ""
           }
          },
          "scene": {
           "xaxis": {
            "backgroundcolor": "#E5ECF6",
            "gridcolor": "white",
            "gridwidth": 2,
            "linecolor": "white",
            "showbackground": true,
            "ticks": "",
            "zerolinecolor": "white"
           },
           "yaxis": {
            "backgroundcolor": "#E5ECF6",
            "gridcolor": "white",
            "gridwidth": 2,
            "linecolor": "white",
            "showbackground": true,
            "ticks": "",
            "zerolinecolor": "white"
           },
           "zaxis": {
            "backgroundcolor": "#E5ECF6",
            "gridcolor": "white",
            "gridwidth": 2,
            "linecolor": "white",
            "showbackground": true,
            "ticks": "",
            "zerolinecolor": "white"
           }
          },
          "shapedefaults": {
           "line": {
            "color": "#2a3f5f"
           }
          },
          "ternary": {
           "aaxis": {
            "gridcolor": "white",
            "linecolor": "white",
            "ticks": ""
           },
           "baxis": {
            "gridcolor": "white",
            "linecolor": "white",
            "ticks": ""
           },
           "bgcolor": "#E5ECF6",
           "caxis": {
            "gridcolor": "white",
            "linecolor": "white",
            "ticks": ""
           }
          },
          "title": {
           "x": 0.05
          },
          "xaxis": {
           "automargin": true,
           "gridcolor": "white",
           "linecolor": "white",
           "ticks": "",
           "title": {
            "standoff": 15
           },
           "zerolinecolor": "white",
           "zerolinewidth": 2
          },
          "yaxis": {
           "automargin": true,
           "gridcolor": "white",
           "linecolor": "white",
           "ticks": "",
           "title": {
            "standoff": 15
           },
           "zerolinecolor": "white",
           "zerolinewidth": 2
          }
         }
        },
        "title": {
         "text": "اعلى خمس حسابات حازت على اعجاب الاخرين"
        },
        "xaxis": {
         "anchor": "y",
         "categoryarray": [
          "نواف الآسيوي 🇸🇦",
          "أخبار الهلال",
          "كأس العالم FIFA 🏆",
          "منبر الهلال",
          "الاتحاد السعودي لكرة القدم"
         ],
         "categoryorder": "array",
         "domain": [
          0,
          1
         ],
         "title": {
          "text": "المستخدم"
         }
        },
        "yaxis": {
         "anchor": "x",
         "domain": [
          0,
          1
         ],
         "title": {
          "text": "عدد الاعجاب"
         }
        }
       }
      },
      "text/html": [
       "<div>                            <div id=\"7a75a968-020c-4f6b-beff-9c91386de4a4\" class=\"plotly-graph-div\" style=\"height:525px; width:100%;\"></div>            <script type=\"text/javascript\">                require([\"plotly\"], function(Plotly) {                    window.PLOTLYENV=window.PLOTLYENV || {};                                    if (document.getElementById(\"7a75a968-020c-4f6b-beff-9c91386de4a4\")) {                    Plotly.newPlot(                        \"7a75a968-020c-4f6b-beff-9c91386de4a4\",                        [{\"alignmentgroup\":\"True\",\"hovertemplate\":\"\\u0627\\u0644\\u0645\\u0633\\u062a\\u062e\\u062f\\u0645=%{x}<br>\\u0639\\u062f\\u062f \\u0627\\u0644\\u0627\\u0639\\u062c\\u0627\\u0628=%{y}<extra></extra>\",\"legendgroup\":\"\\u0646\\u0648\\u0627\\u0641 \\u0627\\u0644\\u0622\\u0633\\u064a\\u0648\\u064a \\ud83c\\uddf8\\ud83c\\udde6\",\"marker\":{\"color\":\"#636efa\",\"pattern\":{\"shape\":\"\"}},\"name\":\"\\u0646\\u0648\\u0627\\u0641 \\u0627\\u0644\\u0622\\u0633\\u064a\\u0648\\u064a \\ud83c\\uddf8\\ud83c\\udde6\",\"offsetgroup\":\"\\u0646\\u0648\\u0627\\u0641 \\u0627\\u0644\\u0622\\u0633\\u064a\\u0648\\u064a \\ud83c\\uddf8\\ud83c\\udde6\",\"orientation\":\"v\",\"showlegend\":true,\"textposition\":\"auto\",\"x\":[\"\\u0646\\u0648\\u0627\\u0641 \\u0627\\u0644\\u0622\\u0633\\u064a\\u0648\\u064a \\ud83c\\uddf8\\ud83c\\udde6\"],\"xaxis\":\"x\",\"y\":[8139],\"yaxis\":\"y\",\"type\":\"bar\"},{\"alignmentgroup\":\"True\",\"hovertemplate\":\"\\u0627\\u0644\\u0645\\u0633\\u062a\\u062e\\u062f\\u0645=%{x}<br>\\u0639\\u062f\\u062f \\u0627\\u0644\\u0627\\u0639\\u062c\\u0627\\u0628=%{y}<extra></extra>\",\"legendgroup\":\"\\u0623\\u062e\\u0628\\u0627\\u0631 \\u0627\\u0644\\u0647\\u0644\\u0627\\u0644\",\"marker\":{\"color\":\"#EF553B\",\"pattern\":{\"shape\":\"\"}},\"name\":\"\\u0623\\u062e\\u0628\\u0627\\u0631 \\u0627\\u0644\\u0647\\u0644\\u0627\\u0644\",\"offsetgroup\":\"\\u0623\\u062e\\u0628\\u0627\\u0631 \\u0627\\u0644\\u0647\\u0644\\u0627\\u0644\",\"orientation\":\"v\",\"showlegend\":true,\"textposition\":\"auto\",\"x\":[\"\\u0623\\u062e\\u0628\\u0627\\u0631 \\u0627\\u0644\\u0647\\u0644\\u0627\\u0644\"],\"xaxis\":\"x\",\"y\":[7877],\"yaxis\":\"y\",\"type\":\"bar\"},{\"alignmentgroup\":\"True\",\"hovertemplate\":\"\\u0627\\u0644\\u0645\\u0633\\u062a\\u062e\\u062f\\u0645=%{x}<br>\\u0639\\u062f\\u062f \\u0627\\u0644\\u0627\\u0639\\u062c\\u0627\\u0628=%{y}<extra></extra>\",\"legendgroup\":\"\\u0643\\u0623\\u0633 \\u0627\\u0644\\u0639\\u0627\\u0644\\u0645 FIFA \\ud83c\\udfc6\",\"marker\":{\"color\":\"#00cc96\",\"pattern\":{\"shape\":\"\"}},\"name\":\"\\u0643\\u0623\\u0633 \\u0627\\u0644\\u0639\\u0627\\u0644\\u0645 FIFA \\ud83c\\udfc6\",\"offsetgroup\":\"\\u0643\\u0623\\u0633 \\u0627\\u0644\\u0639\\u0627\\u0644\\u0645 FIFA \\ud83c\\udfc6\",\"orientation\":\"v\",\"showlegend\":true,\"textposition\":\"auto\",\"x\":[\"\\u0643\\u0623\\u0633 \\u0627\\u0644\\u0639\\u0627\\u0644\\u0645 FIFA \\ud83c\\udfc6\"],\"xaxis\":\"x\",\"y\":[7691],\"yaxis\":\"y\",\"type\":\"bar\"},{\"alignmentgroup\":\"True\",\"hovertemplate\":\"\\u0627\\u0644\\u0645\\u0633\\u062a\\u062e\\u062f\\u0645=%{x}<br>\\u0639\\u062f\\u062f \\u0627\\u0644\\u0627\\u0639\\u062c\\u0627\\u0628=%{y}<extra></extra>\",\"legendgroup\":\"\\u0645\\u0646\\u0628\\u0631 \\u0627\\u0644\\u0647\\u0644\\u0627\\u0644\",\"marker\":{\"color\":\"#ab63fa\",\"pattern\":{\"shape\":\"\"}},\"name\":\"\\u0645\\u0646\\u0628\\u0631 \\u0627\\u0644\\u0647\\u0644\\u0627\\u0644\",\"offsetgroup\":\"\\u0645\\u0646\\u0628\\u0631 \\u0627\\u0644\\u0647\\u0644\\u0627\\u0644\",\"orientation\":\"v\",\"showlegend\":true,\"textposition\":\"auto\",\"x\":[\"\\u0645\\u0646\\u0628\\u0631 \\u0627\\u0644\\u0647\\u0644\\u0627\\u0644\"],\"xaxis\":\"x\",\"y\":[5840],\"yaxis\":\"y\",\"type\":\"bar\"},{\"alignmentgroup\":\"True\",\"hovertemplate\":\"\\u0627\\u0644\\u0645\\u0633\\u062a\\u062e\\u062f\\u0645=%{x}<br>\\u0639\\u062f\\u062f \\u0627\\u0644\\u0627\\u0639\\u062c\\u0627\\u0628=%{y}<extra></extra>\",\"legendgroup\":\"\\u0627\\u0644\\u0627\\u062a\\u062d\\u0627\\u062f \\u0627\\u0644\\u0633\\u0639\\u0648\\u062f\\u064a \\u0644\\u0643\\u0631\\u0629 \\u0627\\u0644\\u0642\\u062f\\u0645\",\"marker\":{\"color\":\"#FFA15A\",\"pattern\":{\"shape\":\"\"}},\"name\":\"\\u0627\\u0644\\u0627\\u062a\\u062d\\u0627\\u062f \\u0627\\u0644\\u0633\\u0639\\u0648\\u062f\\u064a \\u0644\\u0643\\u0631\\u0629 \\u0627\\u0644\\u0642\\u062f\\u0645\",\"offsetgroup\":\"\\u0627\\u0644\\u0627\\u062a\\u062d\\u0627\\u062f \\u0627\\u0644\\u0633\\u0639\\u0648\\u062f\\u064a \\u0644\\u0643\\u0631\\u0629 \\u0627\\u0644\\u0642\\u062f\\u0645\",\"orientation\":\"v\",\"showlegend\":true,\"textposition\":\"auto\",\"x\":[\"\\u0627\\u0644\\u0627\\u062a\\u062d\\u0627\\u062f \\u0627\\u0644\\u0633\\u0639\\u0648\\u062f\\u064a \\u0644\\u0643\\u0631\\u0629 \\u0627\\u0644\\u0642\\u062f\\u0645\"],\"xaxis\":\"x\",\"y\":[5756],\"yaxis\":\"y\",\"type\":\"bar\"}],                        {\"template\":{\"data\":{\"histogram2dcontour\":[{\"type\":\"histogram2dcontour\",\"colorbar\":{\"outlinewidth\":0,\"ticks\":\"\"},\"colorscale\":[[0.0,\"#0d0887\"],[0.1111111111111111,\"#46039f\"],[0.2222222222222222,\"#7201a8\"],[0.3333333333333333,\"#9c179e\"],[0.4444444444444444,\"#bd3786\"],[0.5555555555555556,\"#d8576b\"],[0.6666666666666666,\"#ed7953\"],[0.7777777777777778,\"#fb9f3a\"],[0.8888888888888888,\"#fdca26\"],[1.0,\"#f0f921\"]]}],\"choropleth\":[{\"type\":\"choropleth\",\"colorbar\":{\"outlinewidth\":0,\"ticks\":\"\"}}],\"histogram2d\":[{\"type\":\"histogram2d\",\"colorbar\":{\"outlinewidth\":0,\"ticks\":\"\"},\"colorscale\":[[0.0,\"#0d0887\"],[0.1111111111111111,\"#46039f\"],[0.2222222222222222,\"#7201a8\"],[0.3333333333333333,\"#9c179e\"],[0.4444444444444444,\"#bd3786\"],[0.5555555555555556,\"#d8576b\"],[0.6666666666666666,\"#ed7953\"],[0.7777777777777778,\"#fb9f3a\"],[0.8888888888888888,\"#fdca26\"],[1.0,\"#f0f921\"]]}],\"heatmap\":[{\"type\":\"heatmap\",\"colorbar\":{\"outlinewidth\":0,\"ticks\":\"\"},\"colorscale\":[[0.0,\"#0d0887\"],[0.1111111111111111,\"#46039f\"],[0.2222222222222222,\"#7201a8\"],[0.3333333333333333,\"#9c179e\"],[0.4444444444444444,\"#bd3786\"],[0.5555555555555556,\"#d8576b\"],[0.6666666666666666,\"#ed7953\"],[0.7777777777777778,\"#fb9f3a\"],[0.8888888888888888,\"#fdca26\"],[1.0,\"#f0f921\"]]}],\"heatmapgl\":[{\"type\":\"heatmapgl\",\"colorbar\":{\"outlinewidth\":0,\"ticks\":\"\"},\"colorscale\":[[0.0,\"#0d0887\"],[0.1111111111111111,\"#46039f\"],[0.2222222222222222,\"#7201a8\"],[0.3333333333333333,\"#9c179e\"],[0.4444444444444444,\"#bd3786\"],[0.5555555555555556,\"#d8576b\"],[0.6666666666666666,\"#ed7953\"],[0.7777777777777778,\"#fb9f3a\"],[0.8888888888888888,\"#fdca26\"],[1.0,\"#f0f921\"]]}],\"contourcarpet\":[{\"type\":\"contourcarpet\",\"colorbar\":{\"outlinewidth\":0,\"ticks\":\"\"}}],\"contour\":[{\"type\":\"contour\",\"colorbar\":{\"outlinewidth\":0,\"ticks\":\"\"},\"colorscale\":[[0.0,\"#0d0887\"],[0.1111111111111111,\"#46039f\"],[0.2222222222222222,\"#7201a8\"],[0.3333333333333333,\"#9c179e\"],[0.4444444444444444,\"#bd3786\"],[0.5555555555555556,\"#d8576b\"],[0.6666666666666666,\"#ed7953\"],[0.7777777777777778,\"#fb9f3a\"],[0.8888888888888888,\"#fdca26\"],[1.0,\"#f0f921\"]]}],\"surface\":[{\"type\":\"surface\",\"colorbar\":{\"outlinewidth\":0,\"ticks\":\"\"},\"colorscale\":[[0.0,\"#0d0887\"],[0.1111111111111111,\"#46039f\"],[0.2222222222222222,\"#7201a8\"],[0.3333333333333333,\"#9c179e\"],[0.4444444444444444,\"#bd3786\"],[0.5555555555555556,\"#d8576b\"],[0.6666666666666666,\"#ed7953\"],[0.7777777777777778,\"#fb9f3a\"],[0.8888888888888888,\"#fdca26\"],[1.0,\"#f0f921\"]]}],\"mesh3d\":[{\"type\":\"mesh3d\",\"colorbar\":{\"outlinewidth\":0,\"ticks\":\"\"}}],\"scatter\":[{\"fillpattern\":{\"fillmode\":\"overlay\",\"size\":10,\"solidity\":0.2},\"type\":\"scatter\"}],\"parcoords\":[{\"type\":\"parcoords\",\"line\":{\"colorbar\":{\"outlinewidth\":0,\"ticks\":\"\"}}}],\"scatterpolargl\":[{\"type\":\"scatterpolargl\",\"marker\":{\"colorbar\":{\"outlinewidth\":0,\"ticks\":\"\"}}}],\"bar\":[{\"error_x\":{\"color\":\"#2a3f5f\"},\"error_y\":{\"color\":\"#2a3f5f\"},\"marker\":{\"line\":{\"color\":\"#E5ECF6\",\"width\":0.5},\"pattern\":{\"fillmode\":\"overlay\",\"size\":10,\"solidity\":0.2}},\"type\":\"bar\"}],\"scattergeo\":[{\"type\":\"scattergeo\",\"marker\":{\"colorbar\":{\"outlinewidth\":0,\"ticks\":\"\"}}}],\"scatterpolar\":[{\"type\":\"scatterpolar\",\"marker\":{\"colorbar\":{\"outlinewidth\":0,\"ticks\":\"\"}}}],\"histogram\":[{\"marker\":{\"pattern\":{\"fillmode\":\"overlay\",\"size\":10,\"solidity\":0.2}},\"type\":\"histogram\"}],\"scattergl\":[{\"type\":\"scattergl\",\"marker\":{\"colorbar\":{\"outlinewidth\":0,\"ticks\":\"\"}}}],\"scatter3d\":[{\"type\":\"scatter3d\",\"line\":{\"colorbar\":{\"outlinewidth\":0,\"ticks\":\"\"}},\"marker\":{\"colorbar\":{\"outlinewidth\":0,\"ticks\":\"\"}}}],\"scattermapbox\":[{\"type\":\"scattermapbox\",\"marker\":{\"colorbar\":{\"outlinewidth\":0,\"ticks\":\"\"}}}],\"scatterternary\":[{\"type\":\"scatterternary\",\"marker\":{\"colorbar\":{\"outlinewidth\":0,\"ticks\":\"\"}}}],\"scattercarpet\":[{\"type\":\"scattercarpet\",\"marker\":{\"colorbar\":{\"outlinewidth\":0,\"ticks\":\"\"}}}],\"carpet\":[{\"aaxis\":{\"endlinecolor\":\"#2a3f5f\",\"gridcolor\":\"white\",\"linecolor\":\"white\",\"minorgridcolor\":\"white\",\"startlinecolor\":\"#2a3f5f\"},\"baxis\":{\"endlinecolor\":\"#2a3f5f\",\"gridcolor\":\"white\",\"linecolor\":\"white\",\"minorgridcolor\":\"white\",\"startlinecolor\":\"#2a3f5f\"},\"type\":\"carpet\"}],\"table\":[{\"cells\":{\"fill\":{\"color\":\"#EBF0F8\"},\"line\":{\"color\":\"white\"}},\"header\":{\"fill\":{\"color\":\"#C8D4E3\"},\"line\":{\"color\":\"white\"}},\"type\":\"table\"}],\"barpolar\":[{\"marker\":{\"line\":{\"color\":\"#E5ECF6\",\"width\":0.5},\"pattern\":{\"fillmode\":\"overlay\",\"size\":10,\"solidity\":0.2}},\"type\":\"barpolar\"}],\"pie\":[{\"automargin\":true,\"type\":\"pie\"}]},\"layout\":{\"autotypenumbers\":\"strict\",\"colorway\":[\"#636efa\",\"#EF553B\",\"#00cc96\",\"#ab63fa\",\"#FFA15A\",\"#19d3f3\",\"#FF6692\",\"#B6E880\",\"#FF97FF\",\"#FECB52\"],\"font\":{\"color\":\"#2a3f5f\"},\"hovermode\":\"closest\",\"hoverlabel\":{\"align\":\"left\"},\"paper_bgcolor\":\"white\",\"plot_bgcolor\":\"#E5ECF6\",\"polar\":{\"bgcolor\":\"#E5ECF6\",\"angularaxis\":{\"gridcolor\":\"white\",\"linecolor\":\"white\",\"ticks\":\"\"},\"radialaxis\":{\"gridcolor\":\"white\",\"linecolor\":\"white\",\"ticks\":\"\"}},\"ternary\":{\"bgcolor\":\"#E5ECF6\",\"aaxis\":{\"gridcolor\":\"white\",\"linecolor\":\"white\",\"ticks\":\"\"},\"baxis\":{\"gridcolor\":\"white\",\"linecolor\":\"white\",\"ticks\":\"\"},\"caxis\":{\"gridcolor\":\"white\",\"linecolor\":\"white\",\"ticks\":\"\"}},\"coloraxis\":{\"colorbar\":{\"outlinewidth\":0,\"ticks\":\"\"}},\"colorscale\":{\"sequential\":[[0.0,\"#0d0887\"],[0.1111111111111111,\"#46039f\"],[0.2222222222222222,\"#7201a8\"],[0.3333333333333333,\"#9c179e\"],[0.4444444444444444,\"#bd3786\"],[0.5555555555555556,\"#d8576b\"],[0.6666666666666666,\"#ed7953\"],[0.7777777777777778,\"#fb9f3a\"],[0.8888888888888888,\"#fdca26\"],[1.0,\"#f0f921\"]],\"sequentialminus\":[[0.0,\"#0d0887\"],[0.1111111111111111,\"#46039f\"],[0.2222222222222222,\"#7201a8\"],[0.3333333333333333,\"#9c179e\"],[0.4444444444444444,\"#bd3786\"],[0.5555555555555556,\"#d8576b\"],[0.6666666666666666,\"#ed7953\"],[0.7777777777777778,\"#fb9f3a\"],[0.8888888888888888,\"#fdca26\"],[1.0,\"#f0f921\"]],\"diverging\":[[0,\"#8e0152\"],[0.1,\"#c51b7d\"],[0.2,\"#de77ae\"],[0.3,\"#f1b6da\"],[0.4,\"#fde0ef\"],[0.5,\"#f7f7f7\"],[0.6,\"#e6f5d0\"],[0.7,\"#b8e186\"],[0.8,\"#7fbc41\"],[0.9,\"#4d9221\"],[1,\"#276419\"]]},\"xaxis\":{\"gridcolor\":\"white\",\"linecolor\":\"white\",\"ticks\":\"\",\"title\":{\"standoff\":15},\"zerolinecolor\":\"white\",\"automargin\":true,\"zerolinewidth\":2},\"yaxis\":{\"gridcolor\":\"white\",\"linecolor\":\"white\",\"ticks\":\"\",\"title\":{\"standoff\":15},\"zerolinecolor\":\"white\",\"automargin\":true,\"zerolinewidth\":2},\"scene\":{\"xaxis\":{\"backgroundcolor\":\"#E5ECF6\",\"gridcolor\":\"white\",\"linecolor\":\"white\",\"showbackground\":true,\"ticks\":\"\",\"zerolinecolor\":\"white\",\"gridwidth\":2},\"yaxis\":{\"backgroundcolor\":\"#E5ECF6\",\"gridcolor\":\"white\",\"linecolor\":\"white\",\"showbackground\":true,\"ticks\":\"\",\"zerolinecolor\":\"white\",\"gridwidth\":2},\"zaxis\":{\"backgroundcolor\":\"#E5ECF6\",\"gridcolor\":\"white\",\"linecolor\":\"white\",\"showbackground\":true,\"ticks\":\"\",\"zerolinecolor\":\"white\",\"gridwidth\":2}},\"shapedefaults\":{\"line\":{\"color\":\"#2a3f5f\"}},\"annotationdefaults\":{\"arrowcolor\":\"#2a3f5f\",\"arrowhead\":0,\"arrowwidth\":1},\"geo\":{\"bgcolor\":\"white\",\"landcolor\":\"#E5ECF6\",\"subunitcolor\":\"white\",\"showland\":true,\"showlakes\":true,\"lakecolor\":\"white\"},\"title\":{\"x\":0.05},\"mapbox\":{\"style\":\"light\"}}},\"xaxis\":{\"anchor\":\"y\",\"domain\":[0.0,1.0],\"title\":{\"text\":\"\\u0627\\u0644\\u0645\\u0633\\u062a\\u062e\\u062f\\u0645\"},\"categoryorder\":\"array\",\"categoryarray\":[\"\\u0646\\u0648\\u0627\\u0641 \\u0627\\u0644\\u0622\\u0633\\u064a\\u0648\\u064a \\ud83c\\uddf8\\ud83c\\udde6\",\"\\u0623\\u062e\\u0628\\u0627\\u0631 \\u0627\\u0644\\u0647\\u0644\\u0627\\u0644\",\"\\u0643\\u0623\\u0633 \\u0627\\u0644\\u0639\\u0627\\u0644\\u0645 FIFA \\ud83c\\udfc6\",\"\\u0645\\u0646\\u0628\\u0631 \\u0627\\u0644\\u0647\\u0644\\u0627\\u0644\",\"\\u0627\\u0644\\u0627\\u062a\\u062d\\u0627\\u062f \\u0627\\u0644\\u0633\\u0639\\u0648\\u062f\\u064a \\u0644\\u0643\\u0631\\u0629 \\u0627\\u0644\\u0642\\u062f\\u0645\"]},\"yaxis\":{\"anchor\":\"x\",\"domain\":[0.0,1.0],\"title\":{\"text\":\"\\u0639\\u062f\\u062f \\u0627\\u0644\\u0627\\u0639\\u062c\\u0627\\u0628\"}},\"legend\":{\"title\":{\"text\":\"\\u0627\\u0644\\u0645\\u0633\\u062a\\u062e\\u062f\\u0645\"},\"tracegroupgap\":0},\"title\":{\"text\":\"\\u0627\\u0639\\u0644\\u0649 \\u062e\\u0645\\u0633 \\u062d\\u0633\\u0627\\u0628\\u0627\\u062a \\u062d\\u0627\\u0632\\u062a \\u0639\\u0644\\u0649 \\u0627\\u0639\\u062c\\u0627\\u0628 \\u0627\\u0644\\u0627\\u062e\\u0631\\u064a\\u0646\"},\"barmode\":\"relative\"},                        {\"responsive\": true}                    ).then(function(){\n",
       "                            \n",
       "var gd = document.getElementById('7a75a968-020c-4f6b-beff-9c91386de4a4');\n",
       "var x = new MutationObserver(function (mutations, observer) {{\n",
       "        var display = window.getComputedStyle(gd).display;\n",
       "        if (!display || display === 'none') {{\n",
       "            console.log([gd, 'removed!']);\n",
       "            Plotly.purge(gd);\n",
       "            observer.disconnect();\n",
       "        }}\n",
       "}});\n",
       "\n",
       "// Listen for the removal of the full notebook cells\n",
       "var notebookContainer = gd.closest('#notebook-container');\n",
       "if (notebookContainer) {{\n",
       "    x.observe(notebookContainer, {childList: true});\n",
       "}}\n",
       "\n",
       "// Listen for the clearing of the current output cell\n",
       "var outputEl = gd.closest('.output');\n",
       "if (outputEl) {{\n",
       "    x.observe(outputEl, {childList: true});\n",
       "}}\n",
       "\n",
       "                        })                };                });            </script>        </div>"
      ]
     },
     "metadata": {},
     "output_type": "display_data"
    }
   ],
   "source": [
    "fig =px.bar(df_sorted.head(),x='Name',y='Total_of_Likes',color='Name',\n",
    "           labels={'Name':'المستخدم', 'Total_of_Likes':'عدد الاعجاب'},\n",
    "           title='اعلى خمس حسابات حازت على اعجاب الاخرين')\n",
    "fig.show()"
   ]
  },
  {
   "cell_type": "code",
   "execution_count": 158,
   "id": "d022ea4c",
   "metadata": {},
   "outputs": [],
   "source": [
    "Data=pd.DataFrame(df['Source_of_Tweet'].value_counts()).head()"
   ]
  },
  {
   "cell_type": "code",
   "execution_count": 159,
   "id": "49bf61e0",
   "metadata": {},
   "outputs": [
    {
     "data": {
      "application/vnd.plotly.v1+json": {
       "config": {
        "plotlyServerURL": "https://plot.ly"
       },
       "data": [
        {
         "domain": {
          "x": [
           0,
           1
          ],
          "y": [
           0,
           1
          ]
         },
         "hovertemplate": "index=%{label}<br>Source_of_Tweet=%{value}<extra></extra>",
         "labels": [
          "Twitter for iPhone",
          "Twitter for Android",
          "Twitter Web App",
          "TweetDeck",
          "Hootsuite Inc."
         ],
         "legendgroup": "",
         "name": "",
         "showlegend": true,
         "type": "pie",
         "values": [
          5515,
          2909,
          723,
          172,
          60
         ]
        }
       ],
       "layout": {
        "legend": {
         "tracegroupgap": 0
        },
        "template": {
         "data": {
          "bar": [
           {
            "error_x": {
             "color": "#2a3f5f"
            },
            "error_y": {
             "color": "#2a3f5f"
            },
            "marker": {
             "line": {
              "color": "#E5ECF6",
              "width": 0.5
             },
             "pattern": {
              "fillmode": "overlay",
              "size": 10,
              "solidity": 0.2
             }
            },
            "type": "bar"
           }
          ],
          "barpolar": [
           {
            "marker": {
             "line": {
              "color": "#E5ECF6",
              "width": 0.5
             },
             "pattern": {
              "fillmode": "overlay",
              "size": 10,
              "solidity": 0.2
             }
            },
            "type": "barpolar"
           }
          ],
          "carpet": [
           {
            "aaxis": {
             "endlinecolor": "#2a3f5f",
             "gridcolor": "white",
             "linecolor": "white",
             "minorgridcolor": "white",
             "startlinecolor": "#2a3f5f"
            },
            "baxis": {
             "endlinecolor": "#2a3f5f",
             "gridcolor": "white",
             "linecolor": "white",
             "minorgridcolor": "white",
             "startlinecolor": "#2a3f5f"
            },
            "type": "carpet"
           }
          ],
          "choropleth": [
           {
            "colorbar": {
             "outlinewidth": 0,
             "ticks": ""
            },
            "type": "choropleth"
           }
          ],
          "contour": [
           {
            "colorbar": {
             "outlinewidth": 0,
             "ticks": ""
            },
            "colorscale": [
             [
              0,
              "#0d0887"
             ],
             [
              0.1111111111111111,
              "#46039f"
             ],
             [
              0.2222222222222222,
              "#7201a8"
             ],
             [
              0.3333333333333333,
              "#9c179e"
             ],
             [
              0.4444444444444444,
              "#bd3786"
             ],
             [
              0.5555555555555556,
              "#d8576b"
             ],
             [
              0.6666666666666666,
              "#ed7953"
             ],
             [
              0.7777777777777778,
              "#fb9f3a"
             ],
             [
              0.8888888888888888,
              "#fdca26"
             ],
             [
              1,
              "#f0f921"
             ]
            ],
            "type": "contour"
           }
          ],
          "contourcarpet": [
           {
            "colorbar": {
             "outlinewidth": 0,
             "ticks": ""
            },
            "type": "contourcarpet"
           }
          ],
          "heatmap": [
           {
            "colorbar": {
             "outlinewidth": 0,
             "ticks": ""
            },
            "colorscale": [
             [
              0,
              "#0d0887"
             ],
             [
              0.1111111111111111,
              "#46039f"
             ],
             [
              0.2222222222222222,
              "#7201a8"
             ],
             [
              0.3333333333333333,
              "#9c179e"
             ],
             [
              0.4444444444444444,
              "#bd3786"
             ],
             [
              0.5555555555555556,
              "#d8576b"
             ],
             [
              0.6666666666666666,
              "#ed7953"
             ],
             [
              0.7777777777777778,
              "#fb9f3a"
             ],
             [
              0.8888888888888888,
              "#fdca26"
             ],
             [
              1,
              "#f0f921"
             ]
            ],
            "type": "heatmap"
           }
          ],
          "heatmapgl": [
           {
            "colorbar": {
             "outlinewidth": 0,
             "ticks": ""
            },
            "colorscale": [
             [
              0,
              "#0d0887"
             ],
             [
              0.1111111111111111,
              "#46039f"
             ],
             [
              0.2222222222222222,
              "#7201a8"
             ],
             [
              0.3333333333333333,
              "#9c179e"
             ],
             [
              0.4444444444444444,
              "#bd3786"
             ],
             [
              0.5555555555555556,
              "#d8576b"
             ],
             [
              0.6666666666666666,
              "#ed7953"
             ],
             [
              0.7777777777777778,
              "#fb9f3a"
             ],
             [
              0.8888888888888888,
              "#fdca26"
             ],
             [
              1,
              "#f0f921"
             ]
            ],
            "type": "heatmapgl"
           }
          ],
          "histogram": [
           {
            "marker": {
             "pattern": {
              "fillmode": "overlay",
              "size": 10,
              "solidity": 0.2
             }
            },
            "type": "histogram"
           }
          ],
          "histogram2d": [
           {
            "colorbar": {
             "outlinewidth": 0,
             "ticks": ""
            },
            "colorscale": [
             [
              0,
              "#0d0887"
             ],
             [
              0.1111111111111111,
              "#46039f"
             ],
             [
              0.2222222222222222,
              "#7201a8"
             ],
             [
              0.3333333333333333,
              "#9c179e"
             ],
             [
              0.4444444444444444,
              "#bd3786"
             ],
             [
              0.5555555555555556,
              "#d8576b"
             ],
             [
              0.6666666666666666,
              "#ed7953"
             ],
             [
              0.7777777777777778,
              "#fb9f3a"
             ],
             [
              0.8888888888888888,
              "#fdca26"
             ],
             [
              1,
              "#f0f921"
             ]
            ],
            "type": "histogram2d"
           }
          ],
          "histogram2dcontour": [
           {
            "colorbar": {
             "outlinewidth": 0,
             "ticks": ""
            },
            "colorscale": [
             [
              0,
              "#0d0887"
             ],
             [
              0.1111111111111111,
              "#46039f"
             ],
             [
              0.2222222222222222,
              "#7201a8"
             ],
             [
              0.3333333333333333,
              "#9c179e"
             ],
             [
              0.4444444444444444,
              "#bd3786"
             ],
             [
              0.5555555555555556,
              "#d8576b"
             ],
             [
              0.6666666666666666,
              "#ed7953"
             ],
             [
              0.7777777777777778,
              "#fb9f3a"
             ],
             [
              0.8888888888888888,
              "#fdca26"
             ],
             [
              1,
              "#f0f921"
             ]
            ],
            "type": "histogram2dcontour"
           }
          ],
          "mesh3d": [
           {
            "colorbar": {
             "outlinewidth": 0,
             "ticks": ""
            },
            "type": "mesh3d"
           }
          ],
          "parcoords": [
           {
            "line": {
             "colorbar": {
              "outlinewidth": 0,
              "ticks": ""
             }
            },
            "type": "parcoords"
           }
          ],
          "pie": [
           {
            "automargin": true,
            "type": "pie"
           }
          ],
          "scatter": [
           {
            "fillpattern": {
             "fillmode": "overlay",
             "size": 10,
             "solidity": 0.2
            },
            "type": "scatter"
           }
          ],
          "scatter3d": [
           {
            "line": {
             "colorbar": {
              "outlinewidth": 0,
              "ticks": ""
             }
            },
            "marker": {
             "colorbar": {
              "outlinewidth": 0,
              "ticks": ""
             }
            },
            "type": "scatter3d"
           }
          ],
          "scattercarpet": [
           {
            "marker": {
             "colorbar": {
              "outlinewidth": 0,
              "ticks": ""
             }
            },
            "type": "scattercarpet"
           }
          ],
          "scattergeo": [
           {
            "marker": {
             "colorbar": {
              "outlinewidth": 0,
              "ticks": ""
             }
            },
            "type": "scattergeo"
           }
          ],
          "scattergl": [
           {
            "marker": {
             "colorbar": {
              "outlinewidth": 0,
              "ticks": ""
             }
            },
            "type": "scattergl"
           }
          ],
          "scattermapbox": [
           {
            "marker": {
             "colorbar": {
              "outlinewidth": 0,
              "ticks": ""
             }
            },
            "type": "scattermapbox"
           }
          ],
          "scatterpolar": [
           {
            "marker": {
             "colorbar": {
              "outlinewidth": 0,
              "ticks": ""
             }
            },
            "type": "scatterpolar"
           }
          ],
          "scatterpolargl": [
           {
            "marker": {
             "colorbar": {
              "outlinewidth": 0,
              "ticks": ""
             }
            },
            "type": "scatterpolargl"
           }
          ],
          "scatterternary": [
           {
            "marker": {
             "colorbar": {
              "outlinewidth": 0,
              "ticks": ""
             }
            },
            "type": "scatterternary"
           }
          ],
          "surface": [
           {
            "colorbar": {
             "outlinewidth": 0,
             "ticks": ""
            },
            "colorscale": [
             [
              0,
              "#0d0887"
             ],
             [
              0.1111111111111111,
              "#46039f"
             ],
             [
              0.2222222222222222,
              "#7201a8"
             ],
             [
              0.3333333333333333,
              "#9c179e"
             ],
             [
              0.4444444444444444,
              "#bd3786"
             ],
             [
              0.5555555555555556,
              "#d8576b"
             ],
             [
              0.6666666666666666,
              "#ed7953"
             ],
             [
              0.7777777777777778,
              "#fb9f3a"
             ],
             [
              0.8888888888888888,
              "#fdca26"
             ],
             [
              1,
              "#f0f921"
             ]
            ],
            "type": "surface"
           }
          ],
          "table": [
           {
            "cells": {
             "fill": {
              "color": "#EBF0F8"
             },
             "line": {
              "color": "white"
             }
            },
            "header": {
             "fill": {
              "color": "#C8D4E3"
             },
             "line": {
              "color": "white"
             }
            },
            "type": "table"
           }
          ]
         },
         "layout": {
          "annotationdefaults": {
           "arrowcolor": "#2a3f5f",
           "arrowhead": 0,
           "arrowwidth": 1
          },
          "autotypenumbers": "strict",
          "coloraxis": {
           "colorbar": {
            "outlinewidth": 0,
            "ticks": ""
           }
          },
          "colorscale": {
           "diverging": [
            [
             0,
             "#8e0152"
            ],
            [
             0.1,
             "#c51b7d"
            ],
            [
             0.2,
             "#de77ae"
            ],
            [
             0.3,
             "#f1b6da"
            ],
            [
             0.4,
             "#fde0ef"
            ],
            [
             0.5,
             "#f7f7f7"
            ],
            [
             0.6,
             "#e6f5d0"
            ],
            [
             0.7,
             "#b8e186"
            ],
            [
             0.8,
             "#7fbc41"
            ],
            [
             0.9,
             "#4d9221"
            ],
            [
             1,
             "#276419"
            ]
           ],
           "sequential": [
            [
             0,
             "#0d0887"
            ],
            [
             0.1111111111111111,
             "#46039f"
            ],
            [
             0.2222222222222222,
             "#7201a8"
            ],
            [
             0.3333333333333333,
             "#9c179e"
            ],
            [
             0.4444444444444444,
             "#bd3786"
            ],
            [
             0.5555555555555556,
             "#d8576b"
            ],
            [
             0.6666666666666666,
             "#ed7953"
            ],
            [
             0.7777777777777778,
             "#fb9f3a"
            ],
            [
             0.8888888888888888,
             "#fdca26"
            ],
            [
             1,
             "#f0f921"
            ]
           ],
           "sequentialminus": [
            [
             0,
             "#0d0887"
            ],
            [
             0.1111111111111111,
             "#46039f"
            ],
            [
             0.2222222222222222,
             "#7201a8"
            ],
            [
             0.3333333333333333,
             "#9c179e"
            ],
            [
             0.4444444444444444,
             "#bd3786"
            ],
            [
             0.5555555555555556,
             "#d8576b"
            ],
            [
             0.6666666666666666,
             "#ed7953"
            ],
            [
             0.7777777777777778,
             "#fb9f3a"
            ],
            [
             0.8888888888888888,
             "#fdca26"
            ],
            [
             1,
             "#f0f921"
            ]
           ]
          },
          "colorway": [
           "#636efa",
           "#EF553B",
           "#00cc96",
           "#ab63fa",
           "#FFA15A",
           "#19d3f3",
           "#FF6692",
           "#B6E880",
           "#FF97FF",
           "#FECB52"
          ],
          "font": {
           "color": "#2a3f5f"
          },
          "geo": {
           "bgcolor": "white",
           "lakecolor": "white",
           "landcolor": "#E5ECF6",
           "showlakes": true,
           "showland": true,
           "subunitcolor": "white"
          },
          "hoverlabel": {
           "align": "left"
          },
          "hovermode": "closest",
          "mapbox": {
           "style": "light"
          },
          "paper_bgcolor": "white",
          "plot_bgcolor": "#E5ECF6",
          "polar": {
           "angularaxis": {
            "gridcolor": "white",
            "linecolor": "white",
            "ticks": ""
           },
           "bgcolor": "#E5ECF6",
           "radialaxis": {
            "gridcolor": "white",
            "linecolor": "white",
            "ticks": ""
           }
          },
          "scene": {
           "xaxis": {
            "backgroundcolor": "#E5ECF6",
            "gridcolor": "white",
            "gridwidth": 2,
            "linecolor": "white",
            "showbackground": true,
            "ticks": "",
            "zerolinecolor": "white"
           },
           "yaxis": {
            "backgroundcolor": "#E5ECF6",
            "gridcolor": "white",
            "gridwidth": 2,
            "linecolor": "white",
            "showbackground": true,
            "ticks": "",
            "zerolinecolor": "white"
           },
           "zaxis": {
            "backgroundcolor": "#E5ECF6",
            "gridcolor": "white",
            "gridwidth": 2,
            "linecolor": "white",
            "showbackground": true,
            "ticks": "",
            "zerolinecolor": "white"
           }
          },
          "shapedefaults": {
           "line": {
            "color": "#2a3f5f"
           }
          },
          "ternary": {
           "aaxis": {
            "gridcolor": "white",
            "linecolor": "white",
            "ticks": ""
           },
           "baxis": {
            "gridcolor": "white",
            "linecolor": "white",
            "ticks": ""
           },
           "bgcolor": "#E5ECF6",
           "caxis": {
            "gridcolor": "white",
            "linecolor": "white",
            "ticks": ""
           }
          },
          "title": {
           "x": 0.05
          },
          "xaxis": {
           "automargin": true,
           "gridcolor": "white",
           "linecolor": "white",
           "ticks": "",
           "title": {
            "standoff": 15
           },
           "zerolinecolor": "white",
           "zerolinewidth": 2
          },
          "yaxis": {
           "automargin": true,
           "gridcolor": "white",
           "linecolor": "white",
           "ticks": "",
           "title": {
            "standoff": 15
           },
           "zerolinecolor": "white",
           "zerolinewidth": 2
          }
         }
        },
        "title": {
         "text": "اعلى خمس مصادر للتغريدة"
        }
       }
      },
      "text/html": [
       "<div>                            <div id=\"2fb4ebe6-2dc1-404b-9aa1-71ee553bc8a7\" class=\"plotly-graph-div\" style=\"height:525px; width:100%;\"></div>            <script type=\"text/javascript\">                require([\"plotly\"], function(Plotly) {                    window.PLOTLYENV=window.PLOTLYENV || {};                                    if (document.getElementById(\"2fb4ebe6-2dc1-404b-9aa1-71ee553bc8a7\")) {                    Plotly.newPlot(                        \"2fb4ebe6-2dc1-404b-9aa1-71ee553bc8a7\",                        [{\"domain\":{\"x\":[0.0,1.0],\"y\":[0.0,1.0]},\"hovertemplate\":\"index=%{label}<br>Source_of_Tweet=%{value}<extra></extra>\",\"labels\":[\"Twitter for iPhone\",\"Twitter for Android\",\"Twitter Web App\",\"TweetDeck\",\"Hootsuite Inc.\"],\"legendgroup\":\"\",\"name\":\"\",\"showlegend\":true,\"values\":[5515,2909,723,172,60],\"type\":\"pie\"}],                        {\"template\":{\"data\":{\"histogram2dcontour\":[{\"type\":\"histogram2dcontour\",\"colorbar\":{\"outlinewidth\":0,\"ticks\":\"\"},\"colorscale\":[[0.0,\"#0d0887\"],[0.1111111111111111,\"#46039f\"],[0.2222222222222222,\"#7201a8\"],[0.3333333333333333,\"#9c179e\"],[0.4444444444444444,\"#bd3786\"],[0.5555555555555556,\"#d8576b\"],[0.6666666666666666,\"#ed7953\"],[0.7777777777777778,\"#fb9f3a\"],[0.8888888888888888,\"#fdca26\"],[1.0,\"#f0f921\"]]}],\"choropleth\":[{\"type\":\"choropleth\",\"colorbar\":{\"outlinewidth\":0,\"ticks\":\"\"}}],\"histogram2d\":[{\"type\":\"histogram2d\",\"colorbar\":{\"outlinewidth\":0,\"ticks\":\"\"},\"colorscale\":[[0.0,\"#0d0887\"],[0.1111111111111111,\"#46039f\"],[0.2222222222222222,\"#7201a8\"],[0.3333333333333333,\"#9c179e\"],[0.4444444444444444,\"#bd3786\"],[0.5555555555555556,\"#d8576b\"],[0.6666666666666666,\"#ed7953\"],[0.7777777777777778,\"#fb9f3a\"],[0.8888888888888888,\"#fdca26\"],[1.0,\"#f0f921\"]]}],\"heatmap\":[{\"type\":\"heatmap\",\"colorbar\":{\"outlinewidth\":0,\"ticks\":\"\"},\"colorscale\":[[0.0,\"#0d0887\"],[0.1111111111111111,\"#46039f\"],[0.2222222222222222,\"#7201a8\"],[0.3333333333333333,\"#9c179e\"],[0.4444444444444444,\"#bd3786\"],[0.5555555555555556,\"#d8576b\"],[0.6666666666666666,\"#ed7953\"],[0.7777777777777778,\"#fb9f3a\"],[0.8888888888888888,\"#fdca26\"],[1.0,\"#f0f921\"]]}],\"heatmapgl\":[{\"type\":\"heatmapgl\",\"colorbar\":{\"outlinewidth\":0,\"ticks\":\"\"},\"colorscale\":[[0.0,\"#0d0887\"],[0.1111111111111111,\"#46039f\"],[0.2222222222222222,\"#7201a8\"],[0.3333333333333333,\"#9c179e\"],[0.4444444444444444,\"#bd3786\"],[0.5555555555555556,\"#d8576b\"],[0.6666666666666666,\"#ed7953\"],[0.7777777777777778,\"#fb9f3a\"],[0.8888888888888888,\"#fdca26\"],[1.0,\"#f0f921\"]]}],\"contourcarpet\":[{\"type\":\"contourcarpet\",\"colorbar\":{\"outlinewidth\":0,\"ticks\":\"\"}}],\"contour\":[{\"type\":\"contour\",\"colorbar\":{\"outlinewidth\":0,\"ticks\":\"\"},\"colorscale\":[[0.0,\"#0d0887\"],[0.1111111111111111,\"#46039f\"],[0.2222222222222222,\"#7201a8\"],[0.3333333333333333,\"#9c179e\"],[0.4444444444444444,\"#bd3786\"],[0.5555555555555556,\"#d8576b\"],[0.6666666666666666,\"#ed7953\"],[0.7777777777777778,\"#fb9f3a\"],[0.8888888888888888,\"#fdca26\"],[1.0,\"#f0f921\"]]}],\"surface\":[{\"type\":\"surface\",\"colorbar\":{\"outlinewidth\":0,\"ticks\":\"\"},\"colorscale\":[[0.0,\"#0d0887\"],[0.1111111111111111,\"#46039f\"],[0.2222222222222222,\"#7201a8\"],[0.3333333333333333,\"#9c179e\"],[0.4444444444444444,\"#bd3786\"],[0.5555555555555556,\"#d8576b\"],[0.6666666666666666,\"#ed7953\"],[0.7777777777777778,\"#fb9f3a\"],[0.8888888888888888,\"#fdca26\"],[1.0,\"#f0f921\"]]}],\"mesh3d\":[{\"type\":\"mesh3d\",\"colorbar\":{\"outlinewidth\":0,\"ticks\":\"\"}}],\"scatter\":[{\"fillpattern\":{\"fillmode\":\"overlay\",\"size\":10,\"solidity\":0.2},\"type\":\"scatter\"}],\"parcoords\":[{\"type\":\"parcoords\",\"line\":{\"colorbar\":{\"outlinewidth\":0,\"ticks\":\"\"}}}],\"scatterpolargl\":[{\"type\":\"scatterpolargl\",\"marker\":{\"colorbar\":{\"outlinewidth\":0,\"ticks\":\"\"}}}],\"bar\":[{\"error_x\":{\"color\":\"#2a3f5f\"},\"error_y\":{\"color\":\"#2a3f5f\"},\"marker\":{\"line\":{\"color\":\"#E5ECF6\",\"width\":0.5},\"pattern\":{\"fillmode\":\"overlay\",\"size\":10,\"solidity\":0.2}},\"type\":\"bar\"}],\"scattergeo\":[{\"type\":\"scattergeo\",\"marker\":{\"colorbar\":{\"outlinewidth\":0,\"ticks\":\"\"}}}],\"scatterpolar\":[{\"type\":\"scatterpolar\",\"marker\":{\"colorbar\":{\"outlinewidth\":0,\"ticks\":\"\"}}}],\"histogram\":[{\"marker\":{\"pattern\":{\"fillmode\":\"overlay\",\"size\":10,\"solidity\":0.2}},\"type\":\"histogram\"}],\"scattergl\":[{\"type\":\"scattergl\",\"marker\":{\"colorbar\":{\"outlinewidth\":0,\"ticks\":\"\"}}}],\"scatter3d\":[{\"type\":\"scatter3d\",\"line\":{\"colorbar\":{\"outlinewidth\":0,\"ticks\":\"\"}},\"marker\":{\"colorbar\":{\"outlinewidth\":0,\"ticks\":\"\"}}}],\"scattermapbox\":[{\"type\":\"scattermapbox\",\"marker\":{\"colorbar\":{\"outlinewidth\":0,\"ticks\":\"\"}}}],\"scatterternary\":[{\"type\":\"scatterternary\",\"marker\":{\"colorbar\":{\"outlinewidth\":0,\"ticks\":\"\"}}}],\"scattercarpet\":[{\"type\":\"scattercarpet\",\"marker\":{\"colorbar\":{\"outlinewidth\":0,\"ticks\":\"\"}}}],\"carpet\":[{\"aaxis\":{\"endlinecolor\":\"#2a3f5f\",\"gridcolor\":\"white\",\"linecolor\":\"white\",\"minorgridcolor\":\"white\",\"startlinecolor\":\"#2a3f5f\"},\"baxis\":{\"endlinecolor\":\"#2a3f5f\",\"gridcolor\":\"white\",\"linecolor\":\"white\",\"minorgridcolor\":\"white\",\"startlinecolor\":\"#2a3f5f\"},\"type\":\"carpet\"}],\"table\":[{\"cells\":{\"fill\":{\"color\":\"#EBF0F8\"},\"line\":{\"color\":\"white\"}},\"header\":{\"fill\":{\"color\":\"#C8D4E3\"},\"line\":{\"color\":\"white\"}},\"type\":\"table\"}],\"barpolar\":[{\"marker\":{\"line\":{\"color\":\"#E5ECF6\",\"width\":0.5},\"pattern\":{\"fillmode\":\"overlay\",\"size\":10,\"solidity\":0.2}},\"type\":\"barpolar\"}],\"pie\":[{\"automargin\":true,\"type\":\"pie\"}]},\"layout\":{\"autotypenumbers\":\"strict\",\"colorway\":[\"#636efa\",\"#EF553B\",\"#00cc96\",\"#ab63fa\",\"#FFA15A\",\"#19d3f3\",\"#FF6692\",\"#B6E880\",\"#FF97FF\",\"#FECB52\"],\"font\":{\"color\":\"#2a3f5f\"},\"hovermode\":\"closest\",\"hoverlabel\":{\"align\":\"left\"},\"paper_bgcolor\":\"white\",\"plot_bgcolor\":\"#E5ECF6\",\"polar\":{\"bgcolor\":\"#E5ECF6\",\"angularaxis\":{\"gridcolor\":\"white\",\"linecolor\":\"white\",\"ticks\":\"\"},\"radialaxis\":{\"gridcolor\":\"white\",\"linecolor\":\"white\",\"ticks\":\"\"}},\"ternary\":{\"bgcolor\":\"#E5ECF6\",\"aaxis\":{\"gridcolor\":\"white\",\"linecolor\":\"white\",\"ticks\":\"\"},\"baxis\":{\"gridcolor\":\"white\",\"linecolor\":\"white\",\"ticks\":\"\"},\"caxis\":{\"gridcolor\":\"white\",\"linecolor\":\"white\",\"ticks\":\"\"}},\"coloraxis\":{\"colorbar\":{\"outlinewidth\":0,\"ticks\":\"\"}},\"colorscale\":{\"sequential\":[[0.0,\"#0d0887\"],[0.1111111111111111,\"#46039f\"],[0.2222222222222222,\"#7201a8\"],[0.3333333333333333,\"#9c179e\"],[0.4444444444444444,\"#bd3786\"],[0.5555555555555556,\"#d8576b\"],[0.6666666666666666,\"#ed7953\"],[0.7777777777777778,\"#fb9f3a\"],[0.8888888888888888,\"#fdca26\"],[1.0,\"#f0f921\"]],\"sequentialminus\":[[0.0,\"#0d0887\"],[0.1111111111111111,\"#46039f\"],[0.2222222222222222,\"#7201a8\"],[0.3333333333333333,\"#9c179e\"],[0.4444444444444444,\"#bd3786\"],[0.5555555555555556,\"#d8576b\"],[0.6666666666666666,\"#ed7953\"],[0.7777777777777778,\"#fb9f3a\"],[0.8888888888888888,\"#fdca26\"],[1.0,\"#f0f921\"]],\"diverging\":[[0,\"#8e0152\"],[0.1,\"#c51b7d\"],[0.2,\"#de77ae\"],[0.3,\"#f1b6da\"],[0.4,\"#fde0ef\"],[0.5,\"#f7f7f7\"],[0.6,\"#e6f5d0\"],[0.7,\"#b8e186\"],[0.8,\"#7fbc41\"],[0.9,\"#4d9221\"],[1,\"#276419\"]]},\"xaxis\":{\"gridcolor\":\"white\",\"linecolor\":\"white\",\"ticks\":\"\",\"title\":{\"standoff\":15},\"zerolinecolor\":\"white\",\"automargin\":true,\"zerolinewidth\":2},\"yaxis\":{\"gridcolor\":\"white\",\"linecolor\":\"white\",\"ticks\":\"\",\"title\":{\"standoff\":15},\"zerolinecolor\":\"white\",\"automargin\":true,\"zerolinewidth\":2},\"scene\":{\"xaxis\":{\"backgroundcolor\":\"#E5ECF6\",\"gridcolor\":\"white\",\"linecolor\":\"white\",\"showbackground\":true,\"ticks\":\"\",\"zerolinecolor\":\"white\",\"gridwidth\":2},\"yaxis\":{\"backgroundcolor\":\"#E5ECF6\",\"gridcolor\":\"white\",\"linecolor\":\"white\",\"showbackground\":true,\"ticks\":\"\",\"zerolinecolor\":\"white\",\"gridwidth\":2},\"zaxis\":{\"backgroundcolor\":\"#E5ECF6\",\"gridcolor\":\"white\",\"linecolor\":\"white\",\"showbackground\":true,\"ticks\":\"\",\"zerolinecolor\":\"white\",\"gridwidth\":2}},\"shapedefaults\":{\"line\":{\"color\":\"#2a3f5f\"}},\"annotationdefaults\":{\"arrowcolor\":\"#2a3f5f\",\"arrowhead\":0,\"arrowwidth\":1},\"geo\":{\"bgcolor\":\"white\",\"landcolor\":\"#E5ECF6\",\"subunitcolor\":\"white\",\"showland\":true,\"showlakes\":true,\"lakecolor\":\"white\"},\"title\":{\"x\":0.05},\"mapbox\":{\"style\":\"light\"}}},\"legend\":{\"tracegroupgap\":0},\"title\":{\"text\":\"\\u0627\\u0639\\u0644\\u0649 \\u062e\\u0645\\u0633 \\u0645\\u0635\\u0627\\u062f\\u0631 \\u0644\\u0644\\u062a\\u063a\\u0631\\u064a\\u062f\\u0629\"}},                        {\"responsive\": true}                    ).then(function(){\n",
       "                            \n",
       "var gd = document.getElementById('2fb4ebe6-2dc1-404b-9aa1-71ee553bc8a7');\n",
       "var x = new MutationObserver(function (mutations, observer) {{\n",
       "        var display = window.getComputedStyle(gd).display;\n",
       "        if (!display || display === 'none') {{\n",
       "            console.log([gd, 'removed!']);\n",
       "            Plotly.purge(gd);\n",
       "            observer.disconnect();\n",
       "        }}\n",
       "}});\n",
       "\n",
       "// Listen for the removal of the full notebook cells\n",
       "var notebookContainer = gd.closest('#notebook-container');\n",
       "if (notebookContainer) {{\n",
       "    x.observe(notebookContainer, {childList: true});\n",
       "}}\n",
       "\n",
       "// Listen for the clearing of the current output cell\n",
       "var outputEl = gd.closest('.output');\n",
       "if (outputEl) {{\n",
       "    x.observe(outputEl, {childList: true});\n",
       "}}\n",
       "\n",
       "                        })                };                });            </script>        </div>"
      ]
     },
     "metadata": {},
     "output_type": "display_data"
    }
   ],
   "source": [
    "fig = px.pie(Data, values='Source_of_Tweet', names=Data.index, title='اعلى خمس مصادر للتغريدة')\n",
    "fig.show()"
   ]
  },
  {
   "cell_type": "markdown",
   "id": "dc86ad44",
   "metadata": {},
   "source": [
    "- Top Source of Tweet is Twitter for iphone"
   ]
  },
  {
   "cell_type": "code",
   "execution_count": null,
   "id": "a6e337b1",
   "metadata": {},
   "outputs": [],
   "source": [
    "# Creating list to append tweet data to\n",
    "attributes_container = []\n",
    "\n",
    "# Using TwitterSearchScraper to scrape data and append tweets to list\n",
    "\n",
    "for i,tweet in enumerate(sntwitter.TwitterSearchScraper(\n",
    "    'يوم التاسيس until:2023-02-15 since:2023-02-01').get_items()):\n",
    "    if i>1000:\n",
    "        break\n",
    "    attributes_container.append([tweet.user.username,tweet.user.displayname , tweet.date, \n",
    "                                 tweet.likeCount, tweet.sourceLabel, tweet.content, \n",
    "                                 tweet.lang,tweet.coordinates, tweet.place])\n",
    "     \n",
    "# Creating a dataframe to load the list\n",
    "tweets_df = pd.DataFrame(attributes_container, columns=[\"User\", \"Name\", \"Date Created\", \n",
    "                                                        \"Number of Likes\", \"Source of Tweet\", \"Tweet\", \n",
    "                                                        \"Language\", \"Coordinates\",\"place\"])\n",
    "\n",
    "tweets_df[\"cleanTweet\"] = tweets_df[\"Tweet\"].apply(lambda s: re.sub(r'(?:\\@\\w+)','', s))# remove string like: @kmkk \n",
    "tweets_df[\"cleanTweet\"] = tweets_df[\"cleanTweet\"].apply(lambda s: re.sub(r'(?:[a-zA-Z]+)','', s))# remove english word\n",
    "tweets_df[\"cleanTweet\"] = tweets_df[\"cleanTweet\"].apply(lambda s: re.sub(  r'([$@&!~#^*+=-_]+)'    ,'', s)) \n",
    "tweets_df = tweets_df[tweets_df['Language'] ==  \"ar\"]\n",
    "tweets_df['Date Created'] = tweets_df['Date Created'].apply(lambda a: pd.to_datetime(a).date())\n",
    "print(tweets_df)\n",
    "tweets_df.to_excel('TwitterData2.xlsx')"
   ]
  },
  {
   "cell_type": "code",
   "execution_count": 160,
   "id": "9ef7d461",
   "metadata": {},
   "outputs": [
    {
     "data": {
      "text/plain": [
       "Index(['Unnamed: 0', 'User', 'Name', 'Date Created', 'Number of Likes',\n",
       "       'Source of Tweet', 'Tweet', 'Language', 'Coordinates', 'place',\n",
       "       'cleanTweet'],\n",
       "      dtype='object')"
      ]
     },
     "execution_count": 160,
     "metadata": {},
     "output_type": "execute_result"
    }
   ],
   "source": [
    "df = pd.read_excel('TwitterData2.xlsx')\n",
    "df.columns"
   ]
  },
  {
   "cell_type": "code",
   "execution_count": 161,
   "id": "90be288e",
   "metadata": {},
   "outputs": [
    {
     "data": {
      "text/html": [
       "<div>\n",
       "<style scoped>\n",
       "    .dataframe tbody tr th:only-of-type {\n",
       "        vertical-align: middle;\n",
       "    }\n",
       "\n",
       "    .dataframe tbody tr th {\n",
       "        vertical-align: top;\n",
       "    }\n",
       "\n",
       "    .dataframe thead th {\n",
       "        text-align: right;\n",
       "    }\n",
       "</style>\n",
       "<table border=\"1\" class=\"dataframe\">\n",
       "  <thead>\n",
       "    <tr style=\"text-align: right;\">\n",
       "      <th></th>\n",
       "      <th>Unnamed: 0</th>\n",
       "      <th>User</th>\n",
       "      <th>Name</th>\n",
       "      <th>Date Created</th>\n",
       "      <th>Number of Likes</th>\n",
       "      <th>Source of Tweet</th>\n",
       "      <th>Tweet</th>\n",
       "      <th>Language</th>\n",
       "      <th>Coordinates</th>\n",
       "      <th>place</th>\n",
       "      <th>cleanTweet</th>\n",
       "    </tr>\n",
       "  </thead>\n",
       "  <tbody>\n",
       "    <tr>\n",
       "      <th>0</th>\n",
       "      <td>0</td>\n",
       "      <td>askc3r</td>\n",
       "      <td>اسأل عن سيارتك</td>\n",
       "      <td>2023-02-14</td>\n",
       "      <td>1</td>\n",
       "      <td>Twitter for iPhone</td>\n",
       "      <td>🎈✉️من الـخـاص✉️🎈 \\n\\nسلام عليكم ،  وش افضل الش...</td>\n",
       "      <td>ar</td>\n",
       "      <td>NaN</td>\n",
       "      <td>NaN</td>\n",
       "      <td>🎈✉️من الـخـاص✉️🎈 \\n\\nسلام عليكم ،  وش افضل الش...</td>\n",
       "    </tr>\n",
       "    <tr>\n",
       "      <th>1</th>\n",
       "      <td>1</td>\n",
       "      <td>no44il</td>\n",
       "      <td>سُكرة🤍</td>\n",
       "      <td>2023-02-14</td>\n",
       "      <td>0</td>\n",
       "      <td>Twitter for iPhone</td>\n",
       "      <td>@AzizbagBag يوم التاسيس السعودي تختصر \\nمشاعر ...</td>\n",
       "      <td>ar</td>\n",
       "      <td>NaN</td>\n",
       "      <td>NaN</td>\n",
       "      <td>يوم التاسيس السعودي تختصر \\nمشاعر الحبّ والان...</td>\n",
       "    </tr>\n",
       "    <tr>\n",
       "      <th>2</th>\n",
       "      <td>2</td>\n",
       "      <td>masdarak1</td>\n",
       "      <td>عبدالرحمن</td>\n",
       "      <td>2023-02-14</td>\n",
       "      <td>0</td>\n",
       "      <td>Twitter for Android</td>\n",
       "      <td>@najeebauto الجواب \\nيرمز الى أصول الدولة السع...</td>\n",
       "      <td>ar</td>\n",
       "      <td>NaN</td>\n",
       "      <td>NaN</td>\n",
       "      <td>الجواب \\nيرمز الى أصول الدولة السعودية بعراقت...</td>\n",
       "    </tr>\n",
       "    <tr>\n",
       "      <th>3</th>\n",
       "      <td>3</td>\n",
       "      <td>MKKX_407</td>\n",
       "      <td>👑♥️.NOUFAH.👑♥️</td>\n",
       "      <td>2023-02-14</td>\n",
       "      <td>0</td>\n",
       "      <td>Twitter for iPhone</td>\n",
       "      <td>@WoC1h ٧ ملوك 🇸🇦💗\\n\\n.\\n#مسابقة_يوم_التأسيس</td>\n",
       "      <td>ar</td>\n",
       "      <td>NaN</td>\n",
       "      <td>NaN</td>\n",
       "      <td>٧ ملوك 🇸🇦💗\\n\\n.\\nمسابقةيومالتأسيس</td>\n",
       "    </tr>\n",
       "    <tr>\n",
       "      <th>4</th>\n",
       "      <td>4</td>\n",
       "      <td>Malak3234</td>\n",
       "      <td>ملاك الشهري</td>\n",
       "      <td>2023-02-14</td>\n",
       "      <td>0</td>\n",
       "      <td>Twitter for iPhone</td>\n",
       "      <td>@smco_sa #يوم_التاسيس \\n\\nالخدمات الإنسانية ال...</td>\n",
       "      <td>ar</td>\n",
       "      <td>NaN</td>\n",
       "      <td>NaN</td>\n",
       "      <td>يومالتاسيس \\n\\nالخدمات الإنسانية التي تقدمها ...</td>\n",
       "    </tr>\n",
       "    <tr>\n",
       "      <th>...</th>\n",
       "      <td>...</td>\n",
       "      <td>...</td>\n",
       "      <td>...</td>\n",
       "      <td>...</td>\n",
       "      <td>...</td>\n",
       "      <td>...</td>\n",
       "      <td>...</td>\n",
       "      <td>...</td>\n",
       "      <td>...</td>\n",
       "      <td>...</td>\n",
       "      <td>...</td>\n",
       "    </tr>\n",
       "    <tr>\n",
       "      <th>886</th>\n",
       "      <td>995</td>\n",
       "      <td>Officially40</td>\n",
       "      <td>📜</td>\n",
       "      <td>2023-02-14</td>\n",
       "      <td>0</td>\n",
       "      <td>Twitter for iPhone</td>\n",
       "      <td>وين يوم التأسيس مجهزه فديو كليب وانا امشي على ...</td>\n",
       "      <td>ar</td>\n",
       "      <td>NaN</td>\n",
       "      <td>NaN</td>\n",
       "      <td>وين يوم التأسيس مجهزه فديو كليب وانا امشي على ...</td>\n",
       "    </tr>\n",
       "    <tr>\n",
       "      <th>887</th>\n",
       "      <td>996</td>\n",
       "      <td>Moe_mkh_07_0009</td>\n",
       "      <td>مدرسة إبتدائية غامد للبنات</td>\n",
       "      <td>2023-02-14</td>\n",
       "      <td>0</td>\n",
       "      <td>Twitter for iPhone</td>\n",
       "      <td>من شرقها لغربها فنون تنوعت وعكست ثقافة وهوية.....</td>\n",
       "      <td>ar</td>\n",
       "      <td>NaN</td>\n",
       "      <td>NaN</td>\n",
       "      <td>من شرقها لغربها فنون تنوعت وعكست ثقافة وهوية.....</td>\n",
       "    </tr>\n",
       "    <tr>\n",
       "      <th>888</th>\n",
       "      <td>997</td>\n",
       "      <td>MOE_ARP_08_0091</td>\n",
       "      <td>المتوسطة الثالثة للبنات بأبها</td>\n",
       "      <td>2023-02-14</td>\n",
       "      <td>0</td>\n",
       "      <td>Twitter for Android</td>\n",
       "      <td>شاركت الإبتدائيه و المتوسطة الثالثة للبنات بأب...</td>\n",
       "      <td>ar</td>\n",
       "      <td>NaN</td>\n",
       "      <td>NaN</td>\n",
       "      <td>شاركت الإبتدائيه و المتوسطة الثالثة للبنات بأب...</td>\n",
       "    </tr>\n",
       "    <tr>\n",
       "      <th>889</th>\n",
       "      <td>999</td>\n",
       "      <td>MOE_ARP_09_0095</td>\n",
       "      <td>متوسطة الرونه الأولى</td>\n",
       "      <td>2023-02-14</td>\n",
       "      <td>0</td>\n",
       "      <td>Twitter for iPhone</td>\n",
       "      <td>مشاركات طالبات الصف الثاني متوسط تحت اشراف رائ...</td>\n",
       "      <td>ar</td>\n",
       "      <td>NaN</td>\n",
       "      <td>NaN</td>\n",
       "      <td>مشاركات طالبات الصف الثاني متوسط تحت اشراف رائ...</td>\n",
       "    </tr>\n",
       "    <tr>\n",
       "      <th>890</th>\n",
       "      <td>1000</td>\n",
       "      <td>nenoneno112</td>\n",
       "      <td>متفـائلـة🕊️</td>\n",
       "      <td>2023-02-14</td>\n",
       "      <td>0</td>\n",
       "      <td>Twitter for Android</td>\n",
       "      <td>@Riyadah_alfeker مؤسس الدولة السعودية الأولى :...</td>\n",
       "      <td>ar</td>\n",
       "      <td>NaN</td>\n",
       "      <td>NaN</td>\n",
       "      <td>مؤسس الدولة السعودية الأولى :\\n\\nالامام : محم...</td>\n",
       "    </tr>\n",
       "  </tbody>\n",
       "</table>\n",
       "<p>891 rows × 11 columns</p>\n",
       "</div>"
      ],
      "text/plain": [
       "     Unnamed: 0             User                           Name Date Created  \\\n",
       "0             0           askc3r                 اسأل عن سيارتك   2023-02-14   \n",
       "1             1           no44il                         سُكرة🤍   2023-02-14   \n",
       "2             2        masdarak1                      عبدالرحمن   2023-02-14   \n",
       "3             3         MKKX_407                 👑♥️.NOUFAH.👑♥️   2023-02-14   \n",
       "4             4        Malak3234                    ملاك الشهري   2023-02-14   \n",
       "..          ...              ...                            ...          ...   \n",
       "886         995     Officially40                              📜   2023-02-14   \n",
       "887         996  Moe_mkh_07_0009     مدرسة إبتدائية غامد للبنات   2023-02-14   \n",
       "888         997  MOE_ARP_08_0091  المتوسطة الثالثة للبنات بأبها   2023-02-14   \n",
       "889         999  MOE_ARP_09_0095           متوسطة الرونه الأولى   2023-02-14   \n",
       "890        1000      nenoneno112                    متفـائلـة🕊️   2023-02-14   \n",
       "\n",
       "     Number of Likes      Source of Tweet  \\\n",
       "0                  1   Twitter for iPhone   \n",
       "1                  0   Twitter for iPhone   \n",
       "2                  0  Twitter for Android   \n",
       "3                  0   Twitter for iPhone   \n",
       "4                  0   Twitter for iPhone   \n",
       "..               ...                  ...   \n",
       "886                0   Twitter for iPhone   \n",
       "887                0   Twitter for iPhone   \n",
       "888                0  Twitter for Android   \n",
       "889                0   Twitter for iPhone   \n",
       "890                0  Twitter for Android   \n",
       "\n",
       "                                                 Tweet Language Coordinates  \\\n",
       "0    🎈✉️من الـخـاص✉️🎈 \\n\\nسلام عليكم ،  وش افضل الش...       ar         NaN   \n",
       "1    @AzizbagBag يوم التاسيس السعودي تختصر \\nمشاعر ...       ar         NaN   \n",
       "2    @najeebauto الجواب \\nيرمز الى أصول الدولة السع...       ar         NaN   \n",
       "3          @WoC1h ٧ ملوك 🇸🇦💗\\n\\n.\\n#مسابقة_يوم_التأسيس       ar         NaN   \n",
       "4    @smco_sa #يوم_التاسيس \\n\\nالخدمات الإنسانية ال...       ar         NaN   \n",
       "..                                                 ...      ...         ...   \n",
       "886  وين يوم التأسيس مجهزه فديو كليب وانا امشي على ...       ar         NaN   \n",
       "887  من شرقها لغربها فنون تنوعت وعكست ثقافة وهوية.....       ar         NaN   \n",
       "888  شاركت الإبتدائيه و المتوسطة الثالثة للبنات بأب...       ar         NaN   \n",
       "889  مشاركات طالبات الصف الثاني متوسط تحت اشراف رائ...       ar         NaN   \n",
       "890  @Riyadah_alfeker مؤسس الدولة السعودية الأولى :...       ar         NaN   \n",
       "\n",
       "    place                                         cleanTweet  \n",
       "0     NaN  🎈✉️من الـخـاص✉️🎈 \\n\\nسلام عليكم ،  وش افضل الش...  \n",
       "1     NaN   يوم التاسيس السعودي تختصر \\nمشاعر الحبّ والان...  \n",
       "2     NaN   الجواب \\nيرمز الى أصول الدولة السعودية بعراقت...  \n",
       "3     NaN                  ٧ ملوك 🇸🇦💗\\n\\n.\\nمسابقةيومالتأسيس  \n",
       "4     NaN   يومالتاسيس \\n\\nالخدمات الإنسانية التي تقدمها ...  \n",
       "..    ...                                                ...  \n",
       "886   NaN  وين يوم التأسيس مجهزه فديو كليب وانا امشي على ...  \n",
       "887   NaN  من شرقها لغربها فنون تنوعت وعكست ثقافة وهوية.....  \n",
       "888   NaN  شاركت الإبتدائيه و المتوسطة الثالثة للبنات بأب...  \n",
       "889   NaN  مشاركات طالبات الصف الثاني متوسط تحت اشراف رائ...  \n",
       "890   NaN   مؤسس الدولة السعودية الأولى :\\n\\nالامام : محم...  \n",
       "\n",
       "[891 rows x 11 columns]"
      ]
     },
     "execution_count": 161,
     "metadata": {},
     "output_type": "execute_result"
    }
   ],
   "source": [
    "df"
   ]
  },
  {
   "cell_type": "code",
   "execution_count": 162,
   "id": "390722d7",
   "metadata": {},
   "outputs": [],
   "source": [
    "df=pd.DataFrame(df)\n",
    "df.drop(columns='Unnamed: 0',inplace=True)"
   ]
  },
  {
   "cell_type": "code",
   "execution_count": 163,
   "id": "126059e7",
   "metadata": {},
   "outputs": [],
   "source": [
    "df.columns=['User', 'Name', 'Date_Created', 'Number_of_Likes', 'Source_of_Tweet', 'Tweet',\n",
    "            'Language', 'Coordinates','place','cleanTweet']"
   ]
  },
  {
   "cell_type": "code",
   "execution_count": 164,
   "id": "15eb04cf",
   "metadata": {
    "scrolled": true
   },
   "outputs": [
    {
     "name": "stdout",
     "output_type": "stream",
     "text": [
      "<class 'pandas.core.frame.DataFrame'>\n",
      "RangeIndex: 891 entries, 0 to 890\n",
      "Data columns (total 10 columns):\n",
      " #   Column           Non-Null Count  Dtype         \n",
      "---  ------           --------------  -----         \n",
      " 0   User             891 non-null    object        \n",
      " 1   Name             891 non-null    object        \n",
      " 2   Date_Created     891 non-null    datetime64[ns]\n",
      " 3   Number_of_Likes  891 non-null    int64         \n",
      " 4   Source_of_Tweet  891 non-null    object        \n",
      " 5   Tweet            891 non-null    object        \n",
      " 6   Language         891 non-null    object        \n",
      " 7   Coordinates      13 non-null     object        \n",
      " 8   place            13 non-null     object        \n",
      " 9   cleanTweet       891 non-null    object        \n",
      "dtypes: datetime64[ns](1), int64(1), object(8)\n",
      "memory usage: 69.7+ KB\n"
     ]
    }
   ],
   "source": [
    "df.info()"
   ]
  },
  {
   "cell_type": "code",
   "execution_count": 165,
   "id": "0ef9351d",
   "metadata": {
    "scrolled": false
   },
   "outputs": [
    {
     "data": {
      "application/vnd.plotly.v1+json": {
       "config": {
        "plotlyServerURL": "https://plot.ly"
       },
       "data": [
        {
         "alignmentgroup": "True",
         "customdata": [
          [
           "░ځـٌٌـٌٌالُـِـِِـِِِـِِـِـڊ البل ░ k̯͡s̯͡a̯͡",
           " \nيد العطاء الممدودة \nبقلمي اهداء لاخي الغالي ابن الوطن البار\n(عبدالعزيز احمد بغلف ) \n يومالتاسيس ://./94"
          ]
         ],
         "hovertemplate": "المستخدم=%{x}<br>عدد الاعجاب=%{y}<br>Name=%{customdata[0]}<br>cleanTweet=%{customdata[1]}<extra></extra>",
         "legendgroup": "Fksa40",
         "marker": {
          "color": "#636efa",
          "pattern": {
           "shape": ""
          }
         },
         "name": "Fksa40",
         "offsetgroup": "Fksa40",
         "orientation": "v",
         "showlegend": true,
         "textposition": "auto",
         "type": "bar",
         "x": [
          "Fksa40"
         ],
         "xaxis": "x",
         "y": [
          161
         ],
         "yaxis": "y"
        },
        {
         "alignmentgroup": "True",
         "customdata": [
          [
           "umwael",
           "هذا زي الصوفية العثمانية..لاعلاقة لنا به في الحجاز\nيرتديه صوفية الازهر و صوفية الاسد واردوغان\nمن خلف هذا التزوير؟🤔👇\nاقحامه هو اعتراف بأن الحجاز صوفي عثماني الهوى والهوية\nيومالتاسيس2023\n\nعنايتكم\n\n\n\n\n\n ://./8"
          ],
          [
           "umwael",
           "هذا تراث و زي وطني يرتديه حكامنا والشعب السعودي الاصيل لامجال فيه للعبث..من خلف هذه الدنفسة؟🤔👇\nيومالتاسيس2023 \nعنايتكم\n \n \n \n \n ://./"
          ]
         ],
         "hovertemplate": "المستخدم=%{x}<br>عدد الاعجاب=%{y}<br>Name=%{customdata[0]}<br>cleanTweet=%{customdata[1]}<extra></extra>",
         "legendgroup": "umwail99",
         "marker": {
          "color": "#EF553B",
          "pattern": {
           "shape": ""
          }
         },
         "name": "umwail99",
         "offsetgroup": "umwail99",
         "orientation": "v",
         "showlegend": true,
         "textposition": "auto",
         "type": "bar",
         "x": [
          "umwail99",
          "umwail99"
         ],
         "xaxis": "x",
         "y": [
          97,
          92
         ],
         "yaxis": "y"
        },
        {
         "alignmentgroup": "True",
         "customdata": [
          [
           "نوال الريس🇸🇦👑👑١٧٢٧م🐪",
           "يومالتاسيس \nاللباس رمز لهوية اي وطن فكيف بلباس اعظم وطن  السعوديةالعظمى  لذا نتمنى من مقام   اتخاذ اللازم اتجاه هذا الاستهتار  والعبث والتشويه الساخر للباس ملوكنا واجدادنا وابائنا كما يتضح في تلك الصورة المُهينة التي لاتحمل اي ذرة احترام وتقدير ://./"
          ]
         ],
         "hovertemplate": "المستخدم=%{x}<br>عدد الاعجاب=%{y}<br>Name=%{customdata[0]}<br>cleanTweet=%{customdata[1]}<extra></extra>",
         "legendgroup": "Nawal_raiyes",
         "marker": {
          "color": "#00cc96",
          "pattern": {
           "shape": ""
          }
         },
         "name": "Nawal_raiyes",
         "offsetgroup": "Nawal_raiyes",
         "orientation": "v",
         "showlegend": true,
         "textposition": "auto",
         "type": "bar",
         "x": [
          "Nawal_raiyes"
         ],
         "xaxis": "x",
         "y": [
          48
         ],
         "yaxis": "y"
        },
        {
         "alignmentgroup": "True",
         "customdata": [
          [
           "online store",
           "برنامجطلهالمطيري\nدوريابطالاوروبا\nالاسيويهالتاسعهزرقاءهلاليه\nمعرضالوظائف\nامطارالكويت\nعيدالحب\nبين الطرب وأنغامه 🎶⁣\nينتظركم الفنان عبدالله المانع بحفلة في يوم التأسيس بـ ذاجروفز 🇸🇦🎤⁣\nيوم 22 فبراير 🗓 ⁣\nاحجز واستمتع بالأجواء👇 ✨⁣\n\n://./ ://./25"
          ]
         ],
         "hovertemplate": "المستخدم=%{x}<br>عدد الاعجاب=%{y}<br>Name=%{customdata[0]}<br>cleanTweet=%{customdata[1]}<extra></extra>",
         "legendgroup": "Trend_ksu",
         "marker": {
          "color": "#ab63fa",
          "pattern": {
           "shape": ""
          }
         },
         "name": "Trend_ksu",
         "offsetgroup": "Trend_ksu",
         "orientation": "v",
         "showlegend": true,
         "textposition": "auto",
         "type": "bar",
         "x": [
          "Trend_ksu"
         ],
         "xaxis": "x",
         "y": [
          43
         ],
         "yaxis": "y"
        },
        {
         "alignmentgroup": "True",
         "customdata": [
          [
           "𝑺𝑬𝑯𝑨𝑴🤍SoسوسوSo🤍",
           "      🤍\n\nالابداع الحقيقي لايقاس باانبهار\nالاخرين بل بمستوى انبهارك انت\nبهذا الانجاز 👍🏻🌹\n\nننتظـر الابداع في اجمل المساحات 👍🏻🇸🇦\n\nشكـرا من القلب لهم 🌹\n\n \n \n \n \n \n\nوكل الشكر لك ابن الوطن البار \nع دعمك اللامحـدود\n\n 🌹\nيومالتاسيس ://./3"
          ]
         ],
         "hovertemplate": "المستخدم=%{x}<br>عدد الاعجاب=%{y}<br>Name=%{customdata[0]}<br>cleanTweet=%{customdata[1]}<extra></extra>",
         "legendgroup": "soso30440120",
         "marker": {
          "color": "#FFA15A",
          "pattern": {
           "shape": ""
          }
         },
         "name": "soso30440120",
         "offsetgroup": "soso30440120",
         "orientation": "v",
         "showlegend": true,
         "textposition": "auto",
         "type": "bar",
         "x": [
          "soso30440120"
         ],
         "xaxis": "x",
         "y": [
          31
         ],
         "yaxis": "y"
        },
        {
         "alignmentgroup": "True",
         "customdata": [
          [
           "الأمن الصحي | Health Security",
           "يومي الأربعاء والخميس 22-23 فبراير 2023م إجازة رسمية لجميع منسوبي الوزارة بمناسبة ذكرى يومالتأسيس الذي يمثل لحظة مهمة في تاريخنا ://./499603"
          ]
         ],
         "hovertemplate": "المستخدم=%{x}<br>عدد الاعجاب=%{y}<br>Name=%{customdata[0]}<br>cleanTweet=%{customdata[1]}<extra></extra>",
         "legendgroup": "Schs_3",
         "marker": {
          "color": "#19d3f3",
          "pattern": {
           "shape": ""
          }
         },
         "name": "Schs_3",
         "offsetgroup": "Schs_3",
         "orientation": "v",
         "showlegend": true,
         "textposition": "auto",
         "type": "bar",
         "x": [
          "Schs_3"
         ],
         "xaxis": "x",
         "y": [
          27
         ],
         "yaxis": "y"
        },
        {
         "alignmentgroup": "True",
         "customdata": [
          [
           "#نيلز_الرياض |🍔☕️",
           "اماكن توفر لبس يوم التأسيس 🇸🇦🤩\n•التعمير \n•المعليقه\n•الثميري \n•اسواق طيبة\n•اسواق الشرقي\nكلها موفرينها باسعار حلوه ومكميات كبيره وبرضو العقال مقصبوالبس البناتي والعيال \nانزلو السوق ترا الاسعار  احسن وافكار كثيرة\nيوم التأسيس يوم 22 فبراير🇸🇦🤩 ://./12"
          ]
         ],
         "hovertemplate": "المستخدم=%{x}<br>عدد الاعجاب=%{y}<br>Name=%{customdata[0]}<br>cleanTweet=%{customdata[1]}<extra></extra>",
         "legendgroup": "7_sh23",
         "marker": {
          "color": "#FF6692",
          "pattern": {
           "shape": ""
          }
         },
         "name": "7_sh23",
         "offsetgroup": "7_sh23",
         "orientation": "v",
         "showlegend": true,
         "textposition": "auto",
         "type": "bar",
         "x": [
          "7_sh23"
         ],
         "xaxis": "x",
         "y": [
          25
         ],
         "yaxis": "y"
        },
        {
         "alignmentgroup": "True",
         "customdata": [
          [
           "Amani Alhanahi",
           " احلى شي يوم التأسيس في الروضة احجامهم تفتح النفس 🥲🦋\n\n- ماشاء الله تبارك الله . ://./9"
          ]
         ],
         "hovertemplate": "المستخدم=%{x}<br>عدد الاعجاب=%{y}<br>Name=%{customdata[0]}<br>cleanTweet=%{customdata[1]}<extra></extra>",
         "legendgroup": "AlhanahiAmani",
         "marker": {
          "color": "#B6E880",
          "pattern": {
           "shape": ""
          }
         },
         "name": "AlhanahiAmani",
         "offsetgroup": "AlhanahiAmani",
         "orientation": "v",
         "showlegend": true,
         "textposition": "auto",
         "type": "bar",
         "x": [
          "AlhanahiAmani"
         ],
         "xaxis": "x",
         "y": [
          25
         ],
         "yaxis": "y"
        },
        {
         "alignmentgroup": "True",
         "customdata": [
          [
           "ميرفت محفوظ",
           "يومالتاسيس\nالسعوديةالعظمى \nشعروشعور كلماتالشاعروهجالحاتم\nاكسبلورالشاعرةالصغيرةشهدعسيري\nماشاءاللهاذكرواالله🇸🇦💚 ://./0471"
          ]
         ],
         "hovertemplate": "المستخدم=%{x}<br>عدد الاعجاب=%{y}<br>Name=%{customdata[0]}<br>cleanTweet=%{customdata[1]}<extra></extra>",
         "legendgroup": "maimahfouze",
         "marker": {
          "color": "#FF97FF",
          "pattern": {
           "shape": ""
          }
         },
         "name": "maimahfouze",
         "offsetgroup": "maimahfouze",
         "orientation": "v",
         "showlegend": true,
         "textposition": "auto",
         "type": "bar",
         "x": [
          "maimahfouze"
         ],
         "xaxis": "x",
         "y": [
          24
         ],
         "yaxis": "y"
        }
       ],
       "layout": {
        "barmode": "relative",
        "legend": {
         "title": {
          "text": "المستخدم"
         },
         "tracegroupgap": 0
        },
        "template": {
         "data": {
          "bar": [
           {
            "error_x": {
             "color": "#2a3f5f"
            },
            "error_y": {
             "color": "#2a3f5f"
            },
            "marker": {
             "line": {
              "color": "#E5ECF6",
              "width": 0.5
             },
             "pattern": {
              "fillmode": "overlay",
              "size": 10,
              "solidity": 0.2
             }
            },
            "type": "bar"
           }
          ],
          "barpolar": [
           {
            "marker": {
             "line": {
              "color": "#E5ECF6",
              "width": 0.5
             },
             "pattern": {
              "fillmode": "overlay",
              "size": 10,
              "solidity": 0.2
             }
            },
            "type": "barpolar"
           }
          ],
          "carpet": [
           {
            "aaxis": {
             "endlinecolor": "#2a3f5f",
             "gridcolor": "white",
             "linecolor": "white",
             "minorgridcolor": "white",
             "startlinecolor": "#2a3f5f"
            },
            "baxis": {
             "endlinecolor": "#2a3f5f",
             "gridcolor": "white",
             "linecolor": "white",
             "minorgridcolor": "white",
             "startlinecolor": "#2a3f5f"
            },
            "type": "carpet"
           }
          ],
          "choropleth": [
           {
            "colorbar": {
             "outlinewidth": 0,
             "ticks": ""
            },
            "type": "choropleth"
           }
          ],
          "contour": [
           {
            "colorbar": {
             "outlinewidth": 0,
             "ticks": ""
            },
            "colorscale": [
             [
              0,
              "#0d0887"
             ],
             [
              0.1111111111111111,
              "#46039f"
             ],
             [
              0.2222222222222222,
              "#7201a8"
             ],
             [
              0.3333333333333333,
              "#9c179e"
             ],
             [
              0.4444444444444444,
              "#bd3786"
             ],
             [
              0.5555555555555556,
              "#d8576b"
             ],
             [
              0.6666666666666666,
              "#ed7953"
             ],
             [
              0.7777777777777778,
              "#fb9f3a"
             ],
             [
              0.8888888888888888,
              "#fdca26"
             ],
             [
              1,
              "#f0f921"
             ]
            ],
            "type": "contour"
           }
          ],
          "contourcarpet": [
           {
            "colorbar": {
             "outlinewidth": 0,
             "ticks": ""
            },
            "type": "contourcarpet"
           }
          ],
          "heatmap": [
           {
            "colorbar": {
             "outlinewidth": 0,
             "ticks": ""
            },
            "colorscale": [
             [
              0,
              "#0d0887"
             ],
             [
              0.1111111111111111,
              "#46039f"
             ],
             [
              0.2222222222222222,
              "#7201a8"
             ],
             [
              0.3333333333333333,
              "#9c179e"
             ],
             [
              0.4444444444444444,
              "#bd3786"
             ],
             [
              0.5555555555555556,
              "#d8576b"
             ],
             [
              0.6666666666666666,
              "#ed7953"
             ],
             [
              0.7777777777777778,
              "#fb9f3a"
             ],
             [
              0.8888888888888888,
              "#fdca26"
             ],
             [
              1,
              "#f0f921"
             ]
            ],
            "type": "heatmap"
           }
          ],
          "heatmapgl": [
           {
            "colorbar": {
             "outlinewidth": 0,
             "ticks": ""
            },
            "colorscale": [
             [
              0,
              "#0d0887"
             ],
             [
              0.1111111111111111,
              "#46039f"
             ],
             [
              0.2222222222222222,
              "#7201a8"
             ],
             [
              0.3333333333333333,
              "#9c179e"
             ],
             [
              0.4444444444444444,
              "#bd3786"
             ],
             [
              0.5555555555555556,
              "#d8576b"
             ],
             [
              0.6666666666666666,
              "#ed7953"
             ],
             [
              0.7777777777777778,
              "#fb9f3a"
             ],
             [
              0.8888888888888888,
              "#fdca26"
             ],
             [
              1,
              "#f0f921"
             ]
            ],
            "type": "heatmapgl"
           }
          ],
          "histogram": [
           {
            "marker": {
             "pattern": {
              "fillmode": "overlay",
              "size": 10,
              "solidity": 0.2
             }
            },
            "type": "histogram"
           }
          ],
          "histogram2d": [
           {
            "colorbar": {
             "outlinewidth": 0,
             "ticks": ""
            },
            "colorscale": [
             [
              0,
              "#0d0887"
             ],
             [
              0.1111111111111111,
              "#46039f"
             ],
             [
              0.2222222222222222,
              "#7201a8"
             ],
             [
              0.3333333333333333,
              "#9c179e"
             ],
             [
              0.4444444444444444,
              "#bd3786"
             ],
             [
              0.5555555555555556,
              "#d8576b"
             ],
             [
              0.6666666666666666,
              "#ed7953"
             ],
             [
              0.7777777777777778,
              "#fb9f3a"
             ],
             [
              0.8888888888888888,
              "#fdca26"
             ],
             [
              1,
              "#f0f921"
             ]
            ],
            "type": "histogram2d"
           }
          ],
          "histogram2dcontour": [
           {
            "colorbar": {
             "outlinewidth": 0,
             "ticks": ""
            },
            "colorscale": [
             [
              0,
              "#0d0887"
             ],
             [
              0.1111111111111111,
              "#46039f"
             ],
             [
              0.2222222222222222,
              "#7201a8"
             ],
             [
              0.3333333333333333,
              "#9c179e"
             ],
             [
              0.4444444444444444,
              "#bd3786"
             ],
             [
              0.5555555555555556,
              "#d8576b"
             ],
             [
              0.6666666666666666,
              "#ed7953"
             ],
             [
              0.7777777777777778,
              "#fb9f3a"
             ],
             [
              0.8888888888888888,
              "#fdca26"
             ],
             [
              1,
              "#f0f921"
             ]
            ],
            "type": "histogram2dcontour"
           }
          ],
          "mesh3d": [
           {
            "colorbar": {
             "outlinewidth": 0,
             "ticks": ""
            },
            "type": "mesh3d"
           }
          ],
          "parcoords": [
           {
            "line": {
             "colorbar": {
              "outlinewidth": 0,
              "ticks": ""
             }
            },
            "type": "parcoords"
           }
          ],
          "pie": [
           {
            "automargin": true,
            "type": "pie"
           }
          ],
          "scatter": [
           {
            "fillpattern": {
             "fillmode": "overlay",
             "size": 10,
             "solidity": 0.2
            },
            "type": "scatter"
           }
          ],
          "scatter3d": [
           {
            "line": {
             "colorbar": {
              "outlinewidth": 0,
              "ticks": ""
             }
            },
            "marker": {
             "colorbar": {
              "outlinewidth": 0,
              "ticks": ""
             }
            },
            "type": "scatter3d"
           }
          ],
          "scattercarpet": [
           {
            "marker": {
             "colorbar": {
              "outlinewidth": 0,
              "ticks": ""
             }
            },
            "type": "scattercarpet"
           }
          ],
          "scattergeo": [
           {
            "marker": {
             "colorbar": {
              "outlinewidth": 0,
              "ticks": ""
             }
            },
            "type": "scattergeo"
           }
          ],
          "scattergl": [
           {
            "marker": {
             "colorbar": {
              "outlinewidth": 0,
              "ticks": ""
             }
            },
            "type": "scattergl"
           }
          ],
          "scattermapbox": [
           {
            "marker": {
             "colorbar": {
              "outlinewidth": 0,
              "ticks": ""
             }
            },
            "type": "scattermapbox"
           }
          ],
          "scatterpolar": [
           {
            "marker": {
             "colorbar": {
              "outlinewidth": 0,
              "ticks": ""
             }
            },
            "type": "scatterpolar"
           }
          ],
          "scatterpolargl": [
           {
            "marker": {
             "colorbar": {
              "outlinewidth": 0,
              "ticks": ""
             }
            },
            "type": "scatterpolargl"
           }
          ],
          "scatterternary": [
           {
            "marker": {
             "colorbar": {
              "outlinewidth": 0,
              "ticks": ""
             }
            },
            "type": "scatterternary"
           }
          ],
          "surface": [
           {
            "colorbar": {
             "outlinewidth": 0,
             "ticks": ""
            },
            "colorscale": [
             [
              0,
              "#0d0887"
             ],
             [
              0.1111111111111111,
              "#46039f"
             ],
             [
              0.2222222222222222,
              "#7201a8"
             ],
             [
              0.3333333333333333,
              "#9c179e"
             ],
             [
              0.4444444444444444,
              "#bd3786"
             ],
             [
              0.5555555555555556,
              "#d8576b"
             ],
             [
              0.6666666666666666,
              "#ed7953"
             ],
             [
              0.7777777777777778,
              "#fb9f3a"
             ],
             [
              0.8888888888888888,
              "#fdca26"
             ],
             [
              1,
              "#f0f921"
             ]
            ],
            "type": "surface"
           }
          ],
          "table": [
           {
            "cells": {
             "fill": {
              "color": "#EBF0F8"
             },
             "line": {
              "color": "white"
             }
            },
            "header": {
             "fill": {
              "color": "#C8D4E3"
             },
             "line": {
              "color": "white"
             }
            },
            "type": "table"
           }
          ]
         },
         "layout": {
          "annotationdefaults": {
           "arrowcolor": "#2a3f5f",
           "arrowhead": 0,
           "arrowwidth": 1
          },
          "autotypenumbers": "strict",
          "coloraxis": {
           "colorbar": {
            "outlinewidth": 0,
            "ticks": ""
           }
          },
          "colorscale": {
           "diverging": [
            [
             0,
             "#8e0152"
            ],
            [
             0.1,
             "#c51b7d"
            ],
            [
             0.2,
             "#de77ae"
            ],
            [
             0.3,
             "#f1b6da"
            ],
            [
             0.4,
             "#fde0ef"
            ],
            [
             0.5,
             "#f7f7f7"
            ],
            [
             0.6,
             "#e6f5d0"
            ],
            [
             0.7,
             "#b8e186"
            ],
            [
             0.8,
             "#7fbc41"
            ],
            [
             0.9,
             "#4d9221"
            ],
            [
             1,
             "#276419"
            ]
           ],
           "sequential": [
            [
             0,
             "#0d0887"
            ],
            [
             0.1111111111111111,
             "#46039f"
            ],
            [
             0.2222222222222222,
             "#7201a8"
            ],
            [
             0.3333333333333333,
             "#9c179e"
            ],
            [
             0.4444444444444444,
             "#bd3786"
            ],
            [
             0.5555555555555556,
             "#d8576b"
            ],
            [
             0.6666666666666666,
             "#ed7953"
            ],
            [
             0.7777777777777778,
             "#fb9f3a"
            ],
            [
             0.8888888888888888,
             "#fdca26"
            ],
            [
             1,
             "#f0f921"
            ]
           ],
           "sequentialminus": [
            [
             0,
             "#0d0887"
            ],
            [
             0.1111111111111111,
             "#46039f"
            ],
            [
             0.2222222222222222,
             "#7201a8"
            ],
            [
             0.3333333333333333,
             "#9c179e"
            ],
            [
             0.4444444444444444,
             "#bd3786"
            ],
            [
             0.5555555555555556,
             "#d8576b"
            ],
            [
             0.6666666666666666,
             "#ed7953"
            ],
            [
             0.7777777777777778,
             "#fb9f3a"
            ],
            [
             0.8888888888888888,
             "#fdca26"
            ],
            [
             1,
             "#f0f921"
            ]
           ]
          },
          "colorway": [
           "#636efa",
           "#EF553B",
           "#00cc96",
           "#ab63fa",
           "#FFA15A",
           "#19d3f3",
           "#FF6692",
           "#B6E880",
           "#FF97FF",
           "#FECB52"
          ],
          "font": {
           "color": "#2a3f5f"
          },
          "geo": {
           "bgcolor": "white",
           "lakecolor": "white",
           "landcolor": "#E5ECF6",
           "showlakes": true,
           "showland": true,
           "subunitcolor": "white"
          },
          "hoverlabel": {
           "align": "left"
          },
          "hovermode": "closest",
          "mapbox": {
           "style": "light"
          },
          "paper_bgcolor": "white",
          "plot_bgcolor": "#E5ECF6",
          "polar": {
           "angularaxis": {
            "gridcolor": "white",
            "linecolor": "white",
            "ticks": ""
           },
           "bgcolor": "#E5ECF6",
           "radialaxis": {
            "gridcolor": "white",
            "linecolor": "white",
            "ticks": ""
           }
          },
          "scene": {
           "xaxis": {
            "backgroundcolor": "#E5ECF6",
            "gridcolor": "white",
            "gridwidth": 2,
            "linecolor": "white",
            "showbackground": true,
            "ticks": "",
            "zerolinecolor": "white"
           },
           "yaxis": {
            "backgroundcolor": "#E5ECF6",
            "gridcolor": "white",
            "gridwidth": 2,
            "linecolor": "white",
            "showbackground": true,
            "ticks": "",
            "zerolinecolor": "white"
           },
           "zaxis": {
            "backgroundcolor": "#E5ECF6",
            "gridcolor": "white",
            "gridwidth": 2,
            "linecolor": "white",
            "showbackground": true,
            "ticks": "",
            "zerolinecolor": "white"
           }
          },
          "shapedefaults": {
           "line": {
            "color": "#2a3f5f"
           }
          },
          "ternary": {
           "aaxis": {
            "gridcolor": "white",
            "linecolor": "white",
            "ticks": ""
           },
           "baxis": {
            "gridcolor": "white",
            "linecolor": "white",
            "ticks": ""
           },
           "bgcolor": "#E5ECF6",
           "caxis": {
            "gridcolor": "white",
            "linecolor": "white",
            "ticks": ""
           }
          },
          "title": {
           "x": 0.05
          },
          "xaxis": {
           "automargin": true,
           "gridcolor": "white",
           "linecolor": "white",
           "ticks": "",
           "title": {
            "standoff": 15
           },
           "zerolinecolor": "white",
           "zerolinewidth": 2
          },
          "yaxis": {
           "automargin": true,
           "gridcolor": "white",
           "linecolor": "white",
           "ticks": "",
           "title": {
            "standoff": 15
           },
           "zerolinecolor": "white",
           "zerolinewidth": 2
          }
         }
        },
        "title": {
         "text": "اعلى عشر تغريدات حازت على اعجاب الاخرين"
        },
        "xaxis": {
         "anchor": "y",
         "categoryarray": [
          "Fksa40",
          "umwail99",
          "Nawal_raiyes",
          "Trend_ksu",
          "soso30440120",
          "Schs_3",
          "7_sh23",
          "AlhanahiAmani",
          "maimahfouze"
         ],
         "categoryorder": "array",
         "domain": [
          0,
          1
         ],
         "title": {
          "text": "المستخدم"
         }
        },
        "yaxis": {
         "anchor": "x",
         "domain": [
          0,
          1
         ],
         "title": {
          "text": "عدد الاعجاب"
         }
        }
       }
      },
      "text/html": [
       "<div>                            <div id=\"d2cf9778-3c00-44a9-8961-e0e92ebc2ae2\" class=\"plotly-graph-div\" style=\"height:525px; width:100%;\"></div>            <script type=\"text/javascript\">                require([\"plotly\"], function(Plotly) {                    window.PLOTLYENV=window.PLOTLYENV || {};                                    if (document.getElementById(\"d2cf9778-3c00-44a9-8961-e0e92ebc2ae2\")) {                    Plotly.newPlot(                        \"d2cf9778-3c00-44a9-8961-e0e92ebc2ae2\",                        [{\"alignmentgroup\":\"True\",\"customdata\":[[\"\\u2591\\u0681\\u0640\\u064c\\u064c\\u0640\\u064c\\u064c\\u0627\\u0644\\u064f\\u0640\\u0650\\u0640\\u0650\\u0650\\u0640\\u0650\\u0650\\u0650\\u0640\\u0650\\u0650\\u0640\\u0650\\u0640\\u068a \\u0627\\u0644\\u0628\\u0644 \\u2591 k\\u0361\\u032fs\\u0361\\u032fa\\u0361\\u032f\",\" \\n\\u064a\\u062f \\u0627\\u0644\\u0639\\u0637\\u0627\\u0621 \\u0627\\u0644\\u0645\\u0645\\u062f\\u0648\\u062f\\u0629 \\n\\u0628\\u0642\\u0644\\u0645\\u064a \\u0627\\u0647\\u062f\\u0627\\u0621 \\u0644\\u0627\\u062e\\u064a \\u0627\\u0644\\u063a\\u0627\\u0644\\u064a \\u0627\\u0628\\u0646 \\u0627\\u0644\\u0648\\u0637\\u0646 \\u0627\\u0644\\u0628\\u0627\\u0631\\n(\\u0639\\u0628\\u062f\\u0627\\u0644\\u0639\\u0632\\u064a\\u0632 \\u0627\\u062d\\u0645\\u062f \\u0628\\u063a\\u0644\\u0641 ) \\n \\u064a\\u0648\\u0645\\u0627\\u0644\\u062a\\u0627\\u0633\\u064a\\u0633 ://./94\"]],\"hovertemplate\":\"\\u0627\\u0644\\u0645\\u0633\\u062a\\u062e\\u062f\\u0645=%{x}<br>\\u0639\\u062f\\u062f \\u0627\\u0644\\u0627\\u0639\\u062c\\u0627\\u0628=%{y}<br>Name=%{customdata[0]}<br>cleanTweet=%{customdata[1]}<extra></extra>\",\"legendgroup\":\"Fksa40\",\"marker\":{\"color\":\"#636efa\",\"pattern\":{\"shape\":\"\"}},\"name\":\"Fksa40\",\"offsetgroup\":\"Fksa40\",\"orientation\":\"v\",\"showlegend\":true,\"textposition\":\"auto\",\"x\":[\"Fksa40\"],\"xaxis\":\"x\",\"y\":[161],\"yaxis\":\"y\",\"type\":\"bar\"},{\"alignmentgroup\":\"True\",\"customdata\":[[\"umwael\",\"\\u0647\\u0630\\u0627 \\u0632\\u064a \\u0627\\u0644\\u0635\\u0648\\u0641\\u064a\\u0629 \\u0627\\u0644\\u0639\\u062b\\u0645\\u0627\\u0646\\u064a\\u0629..\\u0644\\u0627\\u0639\\u0644\\u0627\\u0642\\u0629 \\u0644\\u0646\\u0627 \\u0628\\u0647 \\u0641\\u064a \\u0627\\u0644\\u062d\\u062c\\u0627\\u0632\\n\\u064a\\u0631\\u062a\\u062f\\u064a\\u0647 \\u0635\\u0648\\u0641\\u064a\\u0629 \\u0627\\u0644\\u0627\\u0632\\u0647\\u0631 \\u0648 \\u0635\\u0648\\u0641\\u064a\\u0629 \\u0627\\u0644\\u0627\\u0633\\u062f \\u0648\\u0627\\u0631\\u062f\\u0648\\u063a\\u0627\\u0646\\n\\u0645\\u0646 \\u062e\\u0644\\u0641 \\u0647\\u0630\\u0627 \\u0627\\u0644\\u062a\\u0632\\u0648\\u064a\\u0631\\u061f\\ud83e\\udd14\\ud83d\\udc47\\n\\u0627\\u0642\\u062d\\u0627\\u0645\\u0647 \\u0647\\u0648 \\u0627\\u0639\\u062a\\u0631\\u0627\\u0641 \\u0628\\u0623\\u0646 \\u0627\\u0644\\u062d\\u062c\\u0627\\u0632 \\u0635\\u0648\\u0641\\u064a \\u0639\\u062b\\u0645\\u0627\\u0646\\u064a \\u0627\\u0644\\u0647\\u0648\\u0649 \\u0648\\u0627\\u0644\\u0647\\u0648\\u064a\\u0629\\n\\u064a\\u0648\\u0645\\u0627\\u0644\\u062a\\u0627\\u0633\\u064a\\u06332023\\n\\n\\u0639\\u0646\\u0627\\u064a\\u062a\\u0643\\u0645\\n\\n\\n\\n\\n\\n ://./8\"],[\"umwael\",\"\\u0647\\u0630\\u0627 \\u062a\\u0631\\u0627\\u062b \\u0648 \\u0632\\u064a \\u0648\\u0637\\u0646\\u064a \\u064a\\u0631\\u062a\\u062f\\u064a\\u0647 \\u062d\\u0643\\u0627\\u0645\\u0646\\u0627 \\u0648\\u0627\\u0644\\u0634\\u0639\\u0628 \\u0627\\u0644\\u0633\\u0639\\u0648\\u062f\\u064a \\u0627\\u0644\\u0627\\u0635\\u064a\\u0644 \\u0644\\u0627\\u0645\\u062c\\u0627\\u0644 \\u0641\\u064a\\u0647 \\u0644\\u0644\\u0639\\u0628\\u062b..\\u0645\\u0646 \\u062e\\u0644\\u0641 \\u0647\\u0630\\u0647 \\u0627\\u0644\\u062f\\u0646\\u0641\\u0633\\u0629\\u061f\\ud83e\\udd14\\ud83d\\udc47\\n\\u064a\\u0648\\u0645\\u0627\\u0644\\u062a\\u0627\\u0633\\u064a\\u06332023 \\n\\u0639\\u0646\\u0627\\u064a\\u062a\\u0643\\u0645\\n \\n \\n \\n \\n ://./\"]],\"hovertemplate\":\"\\u0627\\u0644\\u0645\\u0633\\u062a\\u062e\\u062f\\u0645=%{x}<br>\\u0639\\u062f\\u062f \\u0627\\u0644\\u0627\\u0639\\u062c\\u0627\\u0628=%{y}<br>Name=%{customdata[0]}<br>cleanTweet=%{customdata[1]}<extra></extra>\",\"legendgroup\":\"umwail99\",\"marker\":{\"color\":\"#EF553B\",\"pattern\":{\"shape\":\"\"}},\"name\":\"umwail99\",\"offsetgroup\":\"umwail99\",\"orientation\":\"v\",\"showlegend\":true,\"textposition\":\"auto\",\"x\":[\"umwail99\",\"umwail99\"],\"xaxis\":\"x\",\"y\":[97,92],\"yaxis\":\"y\",\"type\":\"bar\"},{\"alignmentgroup\":\"True\",\"customdata\":[[\"\\u0646\\u0648\\u0627\\u0644 \\u0627\\u0644\\u0631\\u064a\\u0633\\ud83c\\uddf8\\ud83c\\udde6\\ud83d\\udc51\\ud83d\\udc51\\u0661\\u0667\\u0662\\u0667\\u0645\\ud83d\\udc2a\",\"\\u064a\\u0648\\u0645\\u0627\\u0644\\u062a\\u0627\\u0633\\u064a\\u0633 \\n\\u0627\\u0644\\u0644\\u0628\\u0627\\u0633 \\u0631\\u0645\\u0632 \\u0644\\u0647\\u0648\\u064a\\u0629 \\u0627\\u064a \\u0648\\u0637\\u0646 \\u0641\\u0643\\u064a\\u0641 \\u0628\\u0644\\u0628\\u0627\\u0633 \\u0627\\u0639\\u0638\\u0645 \\u0648\\u0637\\u0646  \\u0627\\u0644\\u0633\\u0639\\u0648\\u062f\\u064a\\u0629\\u0627\\u0644\\u0639\\u0638\\u0645\\u0649  \\u0644\\u0630\\u0627 \\u0646\\u062a\\u0645\\u0646\\u0649 \\u0645\\u0646 \\u0645\\u0642\\u0627\\u0645   \\u0627\\u062a\\u062e\\u0627\\u0630 \\u0627\\u0644\\u0644\\u0627\\u0632\\u0645 \\u0627\\u062a\\u062c\\u0627\\u0647 \\u0647\\u0630\\u0627 \\u0627\\u0644\\u0627\\u0633\\u062a\\u0647\\u062a\\u0627\\u0631  \\u0648\\u0627\\u0644\\u0639\\u0628\\u062b \\u0648\\u0627\\u0644\\u062a\\u0634\\u0648\\u064a\\u0647 \\u0627\\u0644\\u0633\\u0627\\u062e\\u0631 \\u0644\\u0644\\u0628\\u0627\\u0633 \\u0645\\u0644\\u0648\\u0643\\u0646\\u0627 \\u0648\\u0627\\u062c\\u062f\\u0627\\u062f\\u0646\\u0627 \\u0648\\u0627\\u0628\\u0627\\u0626\\u0646\\u0627 \\u0643\\u0645\\u0627 \\u064a\\u062a\\u0636\\u062d \\u0641\\u064a \\u062a\\u0644\\u0643 \\u0627\\u0644\\u0635\\u0648\\u0631\\u0629 \\u0627\\u0644\\u0645\\u064f\\u0647\\u064a\\u0646\\u0629 \\u0627\\u0644\\u062a\\u064a \\u0644\\u0627\\u062a\\u062d\\u0645\\u0644 \\u0627\\u064a \\u0630\\u0631\\u0629 \\u0627\\u062d\\u062a\\u0631\\u0627\\u0645 \\u0648\\u062a\\u0642\\u062f\\u064a\\u0631 ://./\"]],\"hovertemplate\":\"\\u0627\\u0644\\u0645\\u0633\\u062a\\u062e\\u062f\\u0645=%{x}<br>\\u0639\\u062f\\u062f \\u0627\\u0644\\u0627\\u0639\\u062c\\u0627\\u0628=%{y}<br>Name=%{customdata[0]}<br>cleanTweet=%{customdata[1]}<extra></extra>\",\"legendgroup\":\"Nawal_raiyes\",\"marker\":{\"color\":\"#00cc96\",\"pattern\":{\"shape\":\"\"}},\"name\":\"Nawal_raiyes\",\"offsetgroup\":\"Nawal_raiyes\",\"orientation\":\"v\",\"showlegend\":true,\"textposition\":\"auto\",\"x\":[\"Nawal_raiyes\"],\"xaxis\":\"x\",\"y\":[48],\"yaxis\":\"y\",\"type\":\"bar\"},{\"alignmentgroup\":\"True\",\"customdata\":[[\"online store\",\"\\u0628\\u0631\\u0646\\u0627\\u0645\\u062c\\u0637\\u0644\\u0647\\u0627\\u0644\\u0645\\u0637\\u064a\\u0631\\u064a\\n\\u062f\\u0648\\u0631\\u064a\\u0627\\u0628\\u0637\\u0627\\u0644\\u0627\\u0648\\u0631\\u0648\\u0628\\u0627\\n\\u0627\\u0644\\u0627\\u0633\\u064a\\u0648\\u064a\\u0647\\u0627\\u0644\\u062a\\u0627\\u0633\\u0639\\u0647\\u0632\\u0631\\u0642\\u0627\\u0621\\u0647\\u0644\\u0627\\u0644\\u064a\\u0647\\n\\u0645\\u0639\\u0631\\u0636\\u0627\\u0644\\u0648\\u0638\\u0627\\u0626\\u0641\\n\\u0627\\u0645\\u0637\\u0627\\u0631\\u0627\\u0644\\u0643\\u0648\\u064a\\u062a\\n\\u0639\\u064a\\u062f\\u0627\\u0644\\u062d\\u0628\\n\\u0628\\u064a\\u0646 \\u0627\\u0644\\u0637\\u0631\\u0628 \\u0648\\u0623\\u0646\\u063a\\u0627\\u0645\\u0647 \\ud83c\\udfb6\\u2063\\n\\u064a\\u0646\\u062a\\u0638\\u0631\\u0643\\u0645 \\u0627\\u0644\\u0641\\u0646\\u0627\\u0646 \\u0639\\u0628\\u062f\\u0627\\u0644\\u0644\\u0647 \\u0627\\u0644\\u0645\\u0627\\u0646\\u0639 \\u0628\\u062d\\u0641\\u0644\\u0629 \\u0641\\u064a \\u064a\\u0648\\u0645 \\u0627\\u0644\\u062a\\u0623\\u0633\\u064a\\u0633 \\u0628\\u0640 \\u0630\\u0627\\u062c\\u0631\\u0648\\u0641\\u0632 \\ud83c\\uddf8\\ud83c\\udde6\\ud83c\\udfa4\\u2063\\n\\u064a\\u0648\\u0645 22 \\u0641\\u0628\\u0631\\u0627\\u064a\\u0631 \\ud83d\\uddd3 \\u2063\\n\\u0627\\u062d\\u062c\\u0632 \\u0648\\u0627\\u0633\\u062a\\u0645\\u062a\\u0639 \\u0628\\u0627\\u0644\\u0623\\u062c\\u0648\\u0627\\u0621\\ud83d\\udc47 \\u2728\\u2063\\n\\n://./ ://./25\"]],\"hovertemplate\":\"\\u0627\\u0644\\u0645\\u0633\\u062a\\u062e\\u062f\\u0645=%{x}<br>\\u0639\\u062f\\u062f \\u0627\\u0644\\u0627\\u0639\\u062c\\u0627\\u0628=%{y}<br>Name=%{customdata[0]}<br>cleanTweet=%{customdata[1]}<extra></extra>\",\"legendgroup\":\"Trend_ksu\",\"marker\":{\"color\":\"#ab63fa\",\"pattern\":{\"shape\":\"\"}},\"name\":\"Trend_ksu\",\"offsetgroup\":\"Trend_ksu\",\"orientation\":\"v\",\"showlegend\":true,\"textposition\":\"auto\",\"x\":[\"Trend_ksu\"],\"xaxis\":\"x\",\"y\":[43],\"yaxis\":\"y\",\"type\":\"bar\"},{\"alignmentgroup\":\"True\",\"customdata\":[[\"\\ud835\\udc7a\\ud835\\udc6c\\ud835\\udc6f\\ud835\\udc68\\ud835\\udc74\\ud83e\\udd0dSo\\u0633\\u0648\\u0633\\u0648So\\ud83e\\udd0d\",\"      \\ud83e\\udd0d\\n\\n\\u0627\\u0644\\u0627\\u0628\\u062f\\u0627\\u0639 \\u0627\\u0644\\u062d\\u0642\\u064a\\u0642\\u064a \\u0644\\u0627\\u064a\\u0642\\u0627\\u0633 \\u0628\\u0627\\u0627\\u0646\\u0628\\u0647\\u0627\\u0631\\n\\u0627\\u0644\\u0627\\u062e\\u0631\\u064a\\u0646 \\u0628\\u0644 \\u0628\\u0645\\u0633\\u062a\\u0648\\u0649 \\u0627\\u0646\\u0628\\u0647\\u0627\\u0631\\u0643 \\u0627\\u0646\\u062a\\n\\u0628\\u0647\\u0630\\u0627 \\u0627\\u0644\\u0627\\u0646\\u062c\\u0627\\u0632 \\ud83d\\udc4d\\ud83c\\udffb\\ud83c\\udf39\\n\\n\\u0646\\u0646\\u062a\\u0638\\u0640\\u0631 \\u0627\\u0644\\u0627\\u0628\\u062f\\u0627\\u0639 \\u0641\\u064a \\u0627\\u062c\\u0645\\u0644 \\u0627\\u0644\\u0645\\u0633\\u0627\\u062d\\u0627\\u062a \\ud83d\\udc4d\\ud83c\\udffb\\ud83c\\uddf8\\ud83c\\udde6\\n\\n\\u0634\\u0643\\u0640\\u0631\\u0627 \\u0645\\u0646 \\u0627\\u0644\\u0642\\u0644\\u0628 \\u0644\\u0647\\u0645 \\ud83c\\udf39\\n\\n \\n \\n \\n \\n \\n\\n\\u0648\\u0643\\u0644 \\u0627\\u0644\\u0634\\u0643\\u0631 \\u0644\\u0643 \\u0627\\u0628\\u0646 \\u0627\\u0644\\u0648\\u0637\\u0646 \\u0627\\u0644\\u0628\\u0627\\u0631 \\n\\u0639 \\u062f\\u0639\\u0645\\u0643 \\u0627\\u0644\\u0644\\u0627\\u0645\\u062d\\u0640\\u062f\\u0648\\u062f\\n\\n \\ud83c\\udf39\\n\\u064a\\u0648\\u0645\\u0627\\u0644\\u062a\\u0627\\u0633\\u064a\\u0633 ://./3\"]],\"hovertemplate\":\"\\u0627\\u0644\\u0645\\u0633\\u062a\\u062e\\u062f\\u0645=%{x}<br>\\u0639\\u062f\\u062f \\u0627\\u0644\\u0627\\u0639\\u062c\\u0627\\u0628=%{y}<br>Name=%{customdata[0]}<br>cleanTweet=%{customdata[1]}<extra></extra>\",\"legendgroup\":\"soso30440120\",\"marker\":{\"color\":\"#FFA15A\",\"pattern\":{\"shape\":\"\"}},\"name\":\"soso30440120\",\"offsetgroup\":\"soso30440120\",\"orientation\":\"v\",\"showlegend\":true,\"textposition\":\"auto\",\"x\":[\"soso30440120\"],\"xaxis\":\"x\",\"y\":[31],\"yaxis\":\"y\",\"type\":\"bar\"},{\"alignmentgroup\":\"True\",\"customdata\":[[\"\\u0627\\u0644\\u0623\\u0645\\u0646 \\u0627\\u0644\\u0635\\u062d\\u064a | Health Security\",\"\\u064a\\u0648\\u0645\\u064a \\u0627\\u0644\\u0623\\u0631\\u0628\\u0639\\u0627\\u0621 \\u0648\\u0627\\u0644\\u062e\\u0645\\u064a\\u0633 22-23 \\u0641\\u0628\\u0631\\u0627\\u064a\\u0631 2023\\u0645 \\u0625\\u062c\\u0627\\u0632\\u0629 \\u0631\\u0633\\u0645\\u064a\\u0629 \\u0644\\u062c\\u0645\\u064a\\u0639 \\u0645\\u0646\\u0633\\u0648\\u0628\\u064a \\u0627\\u0644\\u0648\\u0632\\u0627\\u0631\\u0629 \\u0628\\u0645\\u0646\\u0627\\u0633\\u0628\\u0629 \\u0630\\u0643\\u0631\\u0649 \\u064a\\u0648\\u0645\\u0627\\u0644\\u062a\\u0623\\u0633\\u064a\\u0633 \\u0627\\u0644\\u0630\\u064a \\u064a\\u0645\\u062b\\u0644 \\u0644\\u062d\\u0638\\u0629 \\u0645\\u0647\\u0645\\u0629 \\u0641\\u064a \\u062a\\u0627\\u0631\\u064a\\u062e\\u0646\\u0627 ://./499603\"]],\"hovertemplate\":\"\\u0627\\u0644\\u0645\\u0633\\u062a\\u062e\\u062f\\u0645=%{x}<br>\\u0639\\u062f\\u062f \\u0627\\u0644\\u0627\\u0639\\u062c\\u0627\\u0628=%{y}<br>Name=%{customdata[0]}<br>cleanTweet=%{customdata[1]}<extra></extra>\",\"legendgroup\":\"Schs_3\",\"marker\":{\"color\":\"#19d3f3\",\"pattern\":{\"shape\":\"\"}},\"name\":\"Schs_3\",\"offsetgroup\":\"Schs_3\",\"orientation\":\"v\",\"showlegend\":true,\"textposition\":\"auto\",\"x\":[\"Schs_3\"],\"xaxis\":\"x\",\"y\":[27],\"yaxis\":\"y\",\"type\":\"bar\"},{\"alignmentgroup\":\"True\",\"customdata\":[[\"#\\u0646\\u064a\\u0644\\u0632_\\u0627\\u0644\\u0631\\u064a\\u0627\\u0636 |\\ud83c\\udf54\\u2615\\ufe0f\",\"\\u0627\\u0645\\u0627\\u0643\\u0646 \\u062a\\u0648\\u0641\\u0631 \\u0644\\u0628\\u0633 \\u064a\\u0648\\u0645 \\u0627\\u0644\\u062a\\u0623\\u0633\\u064a\\u0633 \\ud83c\\uddf8\\ud83c\\udde6\\ud83e\\udd29\\n\\u2022\\u0627\\u0644\\u062a\\u0639\\u0645\\u064a\\u0631 \\n\\u2022\\u0627\\u0644\\u0645\\u0639\\u0644\\u064a\\u0642\\u0647\\n\\u2022\\u0627\\u0644\\u062b\\u0645\\u064a\\u0631\\u064a \\n\\u2022\\u0627\\u0633\\u0648\\u0627\\u0642 \\u0637\\u064a\\u0628\\u0629\\n\\u2022\\u0627\\u0633\\u0648\\u0627\\u0642 \\u0627\\u0644\\u0634\\u0631\\u0642\\u064a\\n\\u0643\\u0644\\u0647\\u0627 \\u0645\\u0648\\u0641\\u0631\\u064a\\u0646\\u0647\\u0627 \\u0628\\u0627\\u0633\\u0639\\u0627\\u0631 \\u062d\\u0644\\u0648\\u0647 \\u0648\\u0645\\u0643\\u0645\\u064a\\u0627\\u062a \\u0643\\u0628\\u064a\\u0631\\u0647 \\u0648\\u0628\\u0631\\u0636\\u0648 \\u0627\\u0644\\u0639\\u0642\\u0627\\u0644 \\u0645\\u0642\\u0635\\u0628\\u0648\\u0627\\u0644\\u0628\\u0633 \\u0627\\u0644\\u0628\\u0646\\u0627\\u062a\\u064a \\u0648\\u0627\\u0644\\u0639\\u064a\\u0627\\u0644 \\n\\u0627\\u0646\\u0632\\u0644\\u0648 \\u0627\\u0644\\u0633\\u0648\\u0642 \\u062a\\u0631\\u0627 \\u0627\\u0644\\u0627\\u0633\\u0639\\u0627\\u0631  \\u0627\\u062d\\u0633\\u0646 \\u0648\\u0627\\u0641\\u0643\\u0627\\u0631 \\u0643\\u062b\\u064a\\u0631\\u0629\\n\\u064a\\u0648\\u0645 \\u0627\\u0644\\u062a\\u0623\\u0633\\u064a\\u0633 \\u064a\\u0648\\u0645 22 \\u0641\\u0628\\u0631\\u0627\\u064a\\u0631\\ud83c\\uddf8\\ud83c\\udde6\\ud83e\\udd29 ://./12\"]],\"hovertemplate\":\"\\u0627\\u0644\\u0645\\u0633\\u062a\\u062e\\u062f\\u0645=%{x}<br>\\u0639\\u062f\\u062f \\u0627\\u0644\\u0627\\u0639\\u062c\\u0627\\u0628=%{y}<br>Name=%{customdata[0]}<br>cleanTweet=%{customdata[1]}<extra></extra>\",\"legendgroup\":\"7_sh23\",\"marker\":{\"color\":\"#FF6692\",\"pattern\":{\"shape\":\"\"}},\"name\":\"7_sh23\",\"offsetgroup\":\"7_sh23\",\"orientation\":\"v\",\"showlegend\":true,\"textposition\":\"auto\",\"x\":[\"7_sh23\"],\"xaxis\":\"x\",\"y\":[25],\"yaxis\":\"y\",\"type\":\"bar\"},{\"alignmentgroup\":\"True\",\"customdata\":[[\"Amani Alhanahi\",\" \\u0627\\u062d\\u0644\\u0649 \\u0634\\u064a \\u064a\\u0648\\u0645 \\u0627\\u0644\\u062a\\u0623\\u0633\\u064a\\u0633 \\u0641\\u064a \\u0627\\u0644\\u0631\\u0648\\u0636\\u0629 \\u0627\\u062d\\u062c\\u0627\\u0645\\u0647\\u0645 \\u062a\\u0641\\u062a\\u062d \\u0627\\u0644\\u0646\\u0641\\u0633 \\ud83e\\udd72\\ud83e\\udd8b\\n\\n- \\u0645\\u0627\\u0634\\u0627\\u0621 \\u0627\\u0644\\u0644\\u0647 \\u062a\\u0628\\u0627\\u0631\\u0643 \\u0627\\u0644\\u0644\\u0647 . ://./9\"]],\"hovertemplate\":\"\\u0627\\u0644\\u0645\\u0633\\u062a\\u062e\\u062f\\u0645=%{x}<br>\\u0639\\u062f\\u062f \\u0627\\u0644\\u0627\\u0639\\u062c\\u0627\\u0628=%{y}<br>Name=%{customdata[0]}<br>cleanTweet=%{customdata[1]}<extra></extra>\",\"legendgroup\":\"AlhanahiAmani\",\"marker\":{\"color\":\"#B6E880\",\"pattern\":{\"shape\":\"\"}},\"name\":\"AlhanahiAmani\",\"offsetgroup\":\"AlhanahiAmani\",\"orientation\":\"v\",\"showlegend\":true,\"textposition\":\"auto\",\"x\":[\"AlhanahiAmani\"],\"xaxis\":\"x\",\"y\":[25],\"yaxis\":\"y\",\"type\":\"bar\"},{\"alignmentgroup\":\"True\",\"customdata\":[[\"\\u0645\\u064a\\u0631\\u0641\\u062a \\u0645\\u062d\\u0641\\u0648\\u0638\",\"\\u064a\\u0648\\u0645\\u0627\\u0644\\u062a\\u0627\\u0633\\u064a\\u0633\\n\\u0627\\u0644\\u0633\\u0639\\u0648\\u062f\\u064a\\u0629\\u0627\\u0644\\u0639\\u0638\\u0645\\u0649 \\n\\u0634\\u0639\\u0631\\u0648\\u0634\\u0639\\u0648\\u0631 \\u0643\\u0644\\u0645\\u0627\\u062a\\u0627\\u0644\\u0634\\u0627\\u0639\\u0631\\u0648\\u0647\\u062c\\u0627\\u0644\\u062d\\u0627\\u062a\\u0645\\n\\u0627\\u0643\\u0633\\u0628\\u0644\\u0648\\u0631\\u0627\\u0644\\u0634\\u0627\\u0639\\u0631\\u0629\\u0627\\u0644\\u0635\\u063a\\u064a\\u0631\\u0629\\u0634\\u0647\\u062f\\u0639\\u0633\\u064a\\u0631\\u064a\\n\\u0645\\u0627\\u0634\\u0627\\u0621\\u0627\\u0644\\u0644\\u0647\\u0627\\u0630\\u0643\\u0631\\u0648\\u0627\\u0627\\u0644\\u0644\\u0647\\ud83c\\uddf8\\ud83c\\udde6\\ud83d\\udc9a ://./0471\"]],\"hovertemplate\":\"\\u0627\\u0644\\u0645\\u0633\\u062a\\u062e\\u062f\\u0645=%{x}<br>\\u0639\\u062f\\u062f \\u0627\\u0644\\u0627\\u0639\\u062c\\u0627\\u0628=%{y}<br>Name=%{customdata[0]}<br>cleanTweet=%{customdata[1]}<extra></extra>\",\"legendgroup\":\"maimahfouze\",\"marker\":{\"color\":\"#FF97FF\",\"pattern\":{\"shape\":\"\"}},\"name\":\"maimahfouze\",\"offsetgroup\":\"maimahfouze\",\"orientation\":\"v\",\"showlegend\":true,\"textposition\":\"auto\",\"x\":[\"maimahfouze\"],\"xaxis\":\"x\",\"y\":[24],\"yaxis\":\"y\",\"type\":\"bar\"}],                        {\"template\":{\"data\":{\"histogram2dcontour\":[{\"type\":\"histogram2dcontour\",\"colorbar\":{\"outlinewidth\":0,\"ticks\":\"\"},\"colorscale\":[[0.0,\"#0d0887\"],[0.1111111111111111,\"#46039f\"],[0.2222222222222222,\"#7201a8\"],[0.3333333333333333,\"#9c179e\"],[0.4444444444444444,\"#bd3786\"],[0.5555555555555556,\"#d8576b\"],[0.6666666666666666,\"#ed7953\"],[0.7777777777777778,\"#fb9f3a\"],[0.8888888888888888,\"#fdca26\"],[1.0,\"#f0f921\"]]}],\"choropleth\":[{\"type\":\"choropleth\",\"colorbar\":{\"outlinewidth\":0,\"ticks\":\"\"}}],\"histogram2d\":[{\"type\":\"histogram2d\",\"colorbar\":{\"outlinewidth\":0,\"ticks\":\"\"},\"colorscale\":[[0.0,\"#0d0887\"],[0.1111111111111111,\"#46039f\"],[0.2222222222222222,\"#7201a8\"],[0.3333333333333333,\"#9c179e\"],[0.4444444444444444,\"#bd3786\"],[0.5555555555555556,\"#d8576b\"],[0.6666666666666666,\"#ed7953\"],[0.7777777777777778,\"#fb9f3a\"],[0.8888888888888888,\"#fdca26\"],[1.0,\"#f0f921\"]]}],\"heatmap\":[{\"type\":\"heatmap\",\"colorbar\":{\"outlinewidth\":0,\"ticks\":\"\"},\"colorscale\":[[0.0,\"#0d0887\"],[0.1111111111111111,\"#46039f\"],[0.2222222222222222,\"#7201a8\"],[0.3333333333333333,\"#9c179e\"],[0.4444444444444444,\"#bd3786\"],[0.5555555555555556,\"#d8576b\"],[0.6666666666666666,\"#ed7953\"],[0.7777777777777778,\"#fb9f3a\"],[0.8888888888888888,\"#fdca26\"],[1.0,\"#f0f921\"]]}],\"heatmapgl\":[{\"type\":\"heatmapgl\",\"colorbar\":{\"outlinewidth\":0,\"ticks\":\"\"},\"colorscale\":[[0.0,\"#0d0887\"],[0.1111111111111111,\"#46039f\"],[0.2222222222222222,\"#7201a8\"],[0.3333333333333333,\"#9c179e\"],[0.4444444444444444,\"#bd3786\"],[0.5555555555555556,\"#d8576b\"],[0.6666666666666666,\"#ed7953\"],[0.7777777777777778,\"#fb9f3a\"],[0.8888888888888888,\"#fdca26\"],[1.0,\"#f0f921\"]]}],\"contourcarpet\":[{\"type\":\"contourcarpet\",\"colorbar\":{\"outlinewidth\":0,\"ticks\":\"\"}}],\"contour\":[{\"type\":\"contour\",\"colorbar\":{\"outlinewidth\":0,\"ticks\":\"\"},\"colorscale\":[[0.0,\"#0d0887\"],[0.1111111111111111,\"#46039f\"],[0.2222222222222222,\"#7201a8\"],[0.3333333333333333,\"#9c179e\"],[0.4444444444444444,\"#bd3786\"],[0.5555555555555556,\"#d8576b\"],[0.6666666666666666,\"#ed7953\"],[0.7777777777777778,\"#fb9f3a\"],[0.8888888888888888,\"#fdca26\"],[1.0,\"#f0f921\"]]}],\"surface\":[{\"type\":\"surface\",\"colorbar\":{\"outlinewidth\":0,\"ticks\":\"\"},\"colorscale\":[[0.0,\"#0d0887\"],[0.1111111111111111,\"#46039f\"],[0.2222222222222222,\"#7201a8\"],[0.3333333333333333,\"#9c179e\"],[0.4444444444444444,\"#bd3786\"],[0.5555555555555556,\"#d8576b\"],[0.6666666666666666,\"#ed7953\"],[0.7777777777777778,\"#fb9f3a\"],[0.8888888888888888,\"#fdca26\"],[1.0,\"#f0f921\"]]}],\"mesh3d\":[{\"type\":\"mesh3d\",\"colorbar\":{\"outlinewidth\":0,\"ticks\":\"\"}}],\"scatter\":[{\"fillpattern\":{\"fillmode\":\"overlay\",\"size\":10,\"solidity\":0.2},\"type\":\"scatter\"}],\"parcoords\":[{\"type\":\"parcoords\",\"line\":{\"colorbar\":{\"outlinewidth\":0,\"ticks\":\"\"}}}],\"scatterpolargl\":[{\"type\":\"scatterpolargl\",\"marker\":{\"colorbar\":{\"outlinewidth\":0,\"ticks\":\"\"}}}],\"bar\":[{\"error_x\":{\"color\":\"#2a3f5f\"},\"error_y\":{\"color\":\"#2a3f5f\"},\"marker\":{\"line\":{\"color\":\"#E5ECF6\",\"width\":0.5},\"pattern\":{\"fillmode\":\"overlay\",\"size\":10,\"solidity\":0.2}},\"type\":\"bar\"}],\"scattergeo\":[{\"type\":\"scattergeo\",\"marker\":{\"colorbar\":{\"outlinewidth\":0,\"ticks\":\"\"}}}],\"scatterpolar\":[{\"type\":\"scatterpolar\",\"marker\":{\"colorbar\":{\"outlinewidth\":0,\"ticks\":\"\"}}}],\"histogram\":[{\"marker\":{\"pattern\":{\"fillmode\":\"overlay\",\"size\":10,\"solidity\":0.2}},\"type\":\"histogram\"}],\"scattergl\":[{\"type\":\"scattergl\",\"marker\":{\"colorbar\":{\"outlinewidth\":0,\"ticks\":\"\"}}}],\"scatter3d\":[{\"type\":\"scatter3d\",\"line\":{\"colorbar\":{\"outlinewidth\":0,\"ticks\":\"\"}},\"marker\":{\"colorbar\":{\"outlinewidth\":0,\"ticks\":\"\"}}}],\"scattermapbox\":[{\"type\":\"scattermapbox\",\"marker\":{\"colorbar\":{\"outlinewidth\":0,\"ticks\":\"\"}}}],\"scatterternary\":[{\"type\":\"scatterternary\",\"marker\":{\"colorbar\":{\"outlinewidth\":0,\"ticks\":\"\"}}}],\"scattercarpet\":[{\"type\":\"scattercarpet\",\"marker\":{\"colorbar\":{\"outlinewidth\":0,\"ticks\":\"\"}}}],\"carpet\":[{\"aaxis\":{\"endlinecolor\":\"#2a3f5f\",\"gridcolor\":\"white\",\"linecolor\":\"white\",\"minorgridcolor\":\"white\",\"startlinecolor\":\"#2a3f5f\"},\"baxis\":{\"endlinecolor\":\"#2a3f5f\",\"gridcolor\":\"white\",\"linecolor\":\"white\",\"minorgridcolor\":\"white\",\"startlinecolor\":\"#2a3f5f\"},\"type\":\"carpet\"}],\"table\":[{\"cells\":{\"fill\":{\"color\":\"#EBF0F8\"},\"line\":{\"color\":\"white\"}},\"header\":{\"fill\":{\"color\":\"#C8D4E3\"},\"line\":{\"color\":\"white\"}},\"type\":\"table\"}],\"barpolar\":[{\"marker\":{\"line\":{\"color\":\"#E5ECF6\",\"width\":0.5},\"pattern\":{\"fillmode\":\"overlay\",\"size\":10,\"solidity\":0.2}},\"type\":\"barpolar\"}],\"pie\":[{\"automargin\":true,\"type\":\"pie\"}]},\"layout\":{\"autotypenumbers\":\"strict\",\"colorway\":[\"#636efa\",\"#EF553B\",\"#00cc96\",\"#ab63fa\",\"#FFA15A\",\"#19d3f3\",\"#FF6692\",\"#B6E880\",\"#FF97FF\",\"#FECB52\"],\"font\":{\"color\":\"#2a3f5f\"},\"hovermode\":\"closest\",\"hoverlabel\":{\"align\":\"left\"},\"paper_bgcolor\":\"white\",\"plot_bgcolor\":\"#E5ECF6\",\"polar\":{\"bgcolor\":\"#E5ECF6\",\"angularaxis\":{\"gridcolor\":\"white\",\"linecolor\":\"white\",\"ticks\":\"\"},\"radialaxis\":{\"gridcolor\":\"white\",\"linecolor\":\"white\",\"ticks\":\"\"}},\"ternary\":{\"bgcolor\":\"#E5ECF6\",\"aaxis\":{\"gridcolor\":\"white\",\"linecolor\":\"white\",\"ticks\":\"\"},\"baxis\":{\"gridcolor\":\"white\",\"linecolor\":\"white\",\"ticks\":\"\"},\"caxis\":{\"gridcolor\":\"white\",\"linecolor\":\"white\",\"ticks\":\"\"}},\"coloraxis\":{\"colorbar\":{\"outlinewidth\":0,\"ticks\":\"\"}},\"colorscale\":{\"sequential\":[[0.0,\"#0d0887\"],[0.1111111111111111,\"#46039f\"],[0.2222222222222222,\"#7201a8\"],[0.3333333333333333,\"#9c179e\"],[0.4444444444444444,\"#bd3786\"],[0.5555555555555556,\"#d8576b\"],[0.6666666666666666,\"#ed7953\"],[0.7777777777777778,\"#fb9f3a\"],[0.8888888888888888,\"#fdca26\"],[1.0,\"#f0f921\"]],\"sequentialminus\":[[0.0,\"#0d0887\"],[0.1111111111111111,\"#46039f\"],[0.2222222222222222,\"#7201a8\"],[0.3333333333333333,\"#9c179e\"],[0.4444444444444444,\"#bd3786\"],[0.5555555555555556,\"#d8576b\"],[0.6666666666666666,\"#ed7953\"],[0.7777777777777778,\"#fb9f3a\"],[0.8888888888888888,\"#fdca26\"],[1.0,\"#f0f921\"]],\"diverging\":[[0,\"#8e0152\"],[0.1,\"#c51b7d\"],[0.2,\"#de77ae\"],[0.3,\"#f1b6da\"],[0.4,\"#fde0ef\"],[0.5,\"#f7f7f7\"],[0.6,\"#e6f5d0\"],[0.7,\"#b8e186\"],[0.8,\"#7fbc41\"],[0.9,\"#4d9221\"],[1,\"#276419\"]]},\"xaxis\":{\"gridcolor\":\"white\",\"linecolor\":\"white\",\"ticks\":\"\",\"title\":{\"standoff\":15},\"zerolinecolor\":\"white\",\"automargin\":true,\"zerolinewidth\":2},\"yaxis\":{\"gridcolor\":\"white\",\"linecolor\":\"white\",\"ticks\":\"\",\"title\":{\"standoff\":15},\"zerolinecolor\":\"white\",\"automargin\":true,\"zerolinewidth\":2},\"scene\":{\"xaxis\":{\"backgroundcolor\":\"#E5ECF6\",\"gridcolor\":\"white\",\"linecolor\":\"white\",\"showbackground\":true,\"ticks\":\"\",\"zerolinecolor\":\"white\",\"gridwidth\":2},\"yaxis\":{\"backgroundcolor\":\"#E5ECF6\",\"gridcolor\":\"white\",\"linecolor\":\"white\",\"showbackground\":true,\"ticks\":\"\",\"zerolinecolor\":\"white\",\"gridwidth\":2},\"zaxis\":{\"backgroundcolor\":\"#E5ECF6\",\"gridcolor\":\"white\",\"linecolor\":\"white\",\"showbackground\":true,\"ticks\":\"\",\"zerolinecolor\":\"white\",\"gridwidth\":2}},\"shapedefaults\":{\"line\":{\"color\":\"#2a3f5f\"}},\"annotationdefaults\":{\"arrowcolor\":\"#2a3f5f\",\"arrowhead\":0,\"arrowwidth\":1},\"geo\":{\"bgcolor\":\"white\",\"landcolor\":\"#E5ECF6\",\"subunitcolor\":\"white\",\"showland\":true,\"showlakes\":true,\"lakecolor\":\"white\"},\"title\":{\"x\":0.05},\"mapbox\":{\"style\":\"light\"}}},\"xaxis\":{\"anchor\":\"y\",\"domain\":[0.0,1.0],\"title\":{\"text\":\"\\u0627\\u0644\\u0645\\u0633\\u062a\\u062e\\u062f\\u0645\"},\"categoryorder\":\"array\",\"categoryarray\":[\"Fksa40\",\"umwail99\",\"Nawal_raiyes\",\"Trend_ksu\",\"soso30440120\",\"Schs_3\",\"7_sh23\",\"AlhanahiAmani\",\"maimahfouze\"]},\"yaxis\":{\"anchor\":\"x\",\"domain\":[0.0,1.0],\"title\":{\"text\":\"\\u0639\\u062f\\u062f \\u0627\\u0644\\u0627\\u0639\\u062c\\u0627\\u0628\"}},\"legend\":{\"title\":{\"text\":\"\\u0627\\u0644\\u0645\\u0633\\u062a\\u062e\\u062f\\u0645\"},\"tracegroupgap\":0},\"title\":{\"text\":\"\\u0627\\u0639\\u0644\\u0649 \\u0639\\u0634\\u0631 \\u062a\\u063a\\u0631\\u064a\\u062f\\u0627\\u062a \\u062d\\u0627\\u0632\\u062a \\u0639\\u0644\\u0649 \\u0627\\u0639\\u062c\\u0627\\u0628 \\u0627\\u0644\\u0627\\u062e\\u0631\\u064a\\u0646\"},\"barmode\":\"relative\"},                        {\"responsive\": true}                    ).then(function(){\n",
       "                            \n",
       "var gd = document.getElementById('d2cf9778-3c00-44a9-8961-e0e92ebc2ae2');\n",
       "var x = new MutationObserver(function (mutations, observer) {{\n",
       "        var display = window.getComputedStyle(gd).display;\n",
       "        if (!display || display === 'none') {{\n",
       "            console.log([gd, 'removed!']);\n",
       "            Plotly.purge(gd);\n",
       "            observer.disconnect();\n",
       "        }}\n",
       "}});\n",
       "\n",
       "// Listen for the removal of the full notebook cells\n",
       "var notebookContainer = gd.closest('#notebook-container');\n",
       "if (notebookContainer) {{\n",
       "    x.observe(notebookContainer, {childList: true});\n",
       "}}\n",
       "\n",
       "// Listen for the clearing of the current output cell\n",
       "var outputEl = gd.closest('.output');\n",
       "if (outputEl) {{\n",
       "    x.observe(outputEl, {childList: true});\n",
       "}}\n",
       "\n",
       "                        })                };                });            </script>        </div>"
      ]
     },
     "metadata": {},
     "output_type": "display_data"
    }
   ],
   "source": [
    "df_sorted = df.sort_values(by='Number_of_Likes',ascending=False).head(10)\n",
    "fig =px.bar(df_sorted,x='User',y='Number_of_Likes',hover_data=['User', 'Name','cleanTweet'],color='User',\n",
    "           labels={'User':'المستخدم', 'Number_of_Likes':'عدد الاعجاب'},\n",
    "           title='اعلى عشر تغريدات حازت على اعجاب الاخرين')\n",
    "fig.show()"
   ]
  },
  {
   "cell_type": "code",
   "execution_count": 166,
   "id": "83cea1ce",
   "metadata": {},
   "outputs": [],
   "source": [
    "Data=pd.DataFrame(df['Source_of_Tweet'].value_counts()).head()"
   ]
  },
  {
   "cell_type": "code",
   "execution_count": 167,
   "id": "2d5713c8",
   "metadata": {
    "scrolled": false
   },
   "outputs": [
    {
     "data": {
      "application/vnd.plotly.v1+json": {
       "config": {
        "plotlyServerURL": "https://plot.ly"
       },
       "data": [
        {
         "domain": {
          "x": [
           0,
           1
          ],
          "y": [
           0,
           1
          ]
         },
         "hovertemplate": "index=%{label}<br>Source_of_Tweet=%{value}<extra></extra>",
         "labels": [
          "Twitter for iPhone",
          "Twitter for Android",
          "Twitter Web App",
          "Twitter for Advertisers",
          "Twitter for iPad"
         ],
         "legendgroup": "",
         "name": "",
         "showlegend": true,
         "type": "pie",
         "values": [
          559,
          249,
          71,
          3,
          2
         ]
        }
       ],
       "layout": {
        "legend": {
         "tracegroupgap": 0
        },
        "template": {
         "data": {
          "bar": [
           {
            "error_x": {
             "color": "#2a3f5f"
            },
            "error_y": {
             "color": "#2a3f5f"
            },
            "marker": {
             "line": {
              "color": "#E5ECF6",
              "width": 0.5
             },
             "pattern": {
              "fillmode": "overlay",
              "size": 10,
              "solidity": 0.2
             }
            },
            "type": "bar"
           }
          ],
          "barpolar": [
           {
            "marker": {
             "line": {
              "color": "#E5ECF6",
              "width": 0.5
             },
             "pattern": {
              "fillmode": "overlay",
              "size": 10,
              "solidity": 0.2
             }
            },
            "type": "barpolar"
           }
          ],
          "carpet": [
           {
            "aaxis": {
             "endlinecolor": "#2a3f5f",
             "gridcolor": "white",
             "linecolor": "white",
             "minorgridcolor": "white",
             "startlinecolor": "#2a3f5f"
            },
            "baxis": {
             "endlinecolor": "#2a3f5f",
             "gridcolor": "white",
             "linecolor": "white",
             "minorgridcolor": "white",
             "startlinecolor": "#2a3f5f"
            },
            "type": "carpet"
           }
          ],
          "choropleth": [
           {
            "colorbar": {
             "outlinewidth": 0,
             "ticks": ""
            },
            "type": "choropleth"
           }
          ],
          "contour": [
           {
            "colorbar": {
             "outlinewidth": 0,
             "ticks": ""
            },
            "colorscale": [
             [
              0,
              "#0d0887"
             ],
             [
              0.1111111111111111,
              "#46039f"
             ],
             [
              0.2222222222222222,
              "#7201a8"
             ],
             [
              0.3333333333333333,
              "#9c179e"
             ],
             [
              0.4444444444444444,
              "#bd3786"
             ],
             [
              0.5555555555555556,
              "#d8576b"
             ],
             [
              0.6666666666666666,
              "#ed7953"
             ],
             [
              0.7777777777777778,
              "#fb9f3a"
             ],
             [
              0.8888888888888888,
              "#fdca26"
             ],
             [
              1,
              "#f0f921"
             ]
            ],
            "type": "contour"
           }
          ],
          "contourcarpet": [
           {
            "colorbar": {
             "outlinewidth": 0,
             "ticks": ""
            },
            "type": "contourcarpet"
           }
          ],
          "heatmap": [
           {
            "colorbar": {
             "outlinewidth": 0,
             "ticks": ""
            },
            "colorscale": [
             [
              0,
              "#0d0887"
             ],
             [
              0.1111111111111111,
              "#46039f"
             ],
             [
              0.2222222222222222,
              "#7201a8"
             ],
             [
              0.3333333333333333,
              "#9c179e"
             ],
             [
              0.4444444444444444,
              "#bd3786"
             ],
             [
              0.5555555555555556,
              "#d8576b"
             ],
             [
              0.6666666666666666,
              "#ed7953"
             ],
             [
              0.7777777777777778,
              "#fb9f3a"
             ],
             [
              0.8888888888888888,
              "#fdca26"
             ],
             [
              1,
              "#f0f921"
             ]
            ],
            "type": "heatmap"
           }
          ],
          "heatmapgl": [
           {
            "colorbar": {
             "outlinewidth": 0,
             "ticks": ""
            },
            "colorscale": [
             [
              0,
              "#0d0887"
             ],
             [
              0.1111111111111111,
              "#46039f"
             ],
             [
              0.2222222222222222,
              "#7201a8"
             ],
             [
              0.3333333333333333,
              "#9c179e"
             ],
             [
              0.4444444444444444,
              "#bd3786"
             ],
             [
              0.5555555555555556,
              "#d8576b"
             ],
             [
              0.6666666666666666,
              "#ed7953"
             ],
             [
              0.7777777777777778,
              "#fb9f3a"
             ],
             [
              0.8888888888888888,
              "#fdca26"
             ],
             [
              1,
              "#f0f921"
             ]
            ],
            "type": "heatmapgl"
           }
          ],
          "histogram": [
           {
            "marker": {
             "pattern": {
              "fillmode": "overlay",
              "size": 10,
              "solidity": 0.2
             }
            },
            "type": "histogram"
           }
          ],
          "histogram2d": [
           {
            "colorbar": {
             "outlinewidth": 0,
             "ticks": ""
            },
            "colorscale": [
             [
              0,
              "#0d0887"
             ],
             [
              0.1111111111111111,
              "#46039f"
             ],
             [
              0.2222222222222222,
              "#7201a8"
             ],
             [
              0.3333333333333333,
              "#9c179e"
             ],
             [
              0.4444444444444444,
              "#bd3786"
             ],
             [
              0.5555555555555556,
              "#d8576b"
             ],
             [
              0.6666666666666666,
              "#ed7953"
             ],
             [
              0.7777777777777778,
              "#fb9f3a"
             ],
             [
              0.8888888888888888,
              "#fdca26"
             ],
             [
              1,
              "#f0f921"
             ]
            ],
            "type": "histogram2d"
           }
          ],
          "histogram2dcontour": [
           {
            "colorbar": {
             "outlinewidth": 0,
             "ticks": ""
            },
            "colorscale": [
             [
              0,
              "#0d0887"
             ],
             [
              0.1111111111111111,
              "#46039f"
             ],
             [
              0.2222222222222222,
              "#7201a8"
             ],
             [
              0.3333333333333333,
              "#9c179e"
             ],
             [
              0.4444444444444444,
              "#bd3786"
             ],
             [
              0.5555555555555556,
              "#d8576b"
             ],
             [
              0.6666666666666666,
              "#ed7953"
             ],
             [
              0.7777777777777778,
              "#fb9f3a"
             ],
             [
              0.8888888888888888,
              "#fdca26"
             ],
             [
              1,
              "#f0f921"
             ]
            ],
            "type": "histogram2dcontour"
           }
          ],
          "mesh3d": [
           {
            "colorbar": {
             "outlinewidth": 0,
             "ticks": ""
            },
            "type": "mesh3d"
           }
          ],
          "parcoords": [
           {
            "line": {
             "colorbar": {
              "outlinewidth": 0,
              "ticks": ""
             }
            },
            "type": "parcoords"
           }
          ],
          "pie": [
           {
            "automargin": true,
            "type": "pie"
           }
          ],
          "scatter": [
           {
            "fillpattern": {
             "fillmode": "overlay",
             "size": 10,
             "solidity": 0.2
            },
            "type": "scatter"
           }
          ],
          "scatter3d": [
           {
            "line": {
             "colorbar": {
              "outlinewidth": 0,
              "ticks": ""
             }
            },
            "marker": {
             "colorbar": {
              "outlinewidth": 0,
              "ticks": ""
             }
            },
            "type": "scatter3d"
           }
          ],
          "scattercarpet": [
           {
            "marker": {
             "colorbar": {
              "outlinewidth": 0,
              "ticks": ""
             }
            },
            "type": "scattercarpet"
           }
          ],
          "scattergeo": [
           {
            "marker": {
             "colorbar": {
              "outlinewidth": 0,
              "ticks": ""
             }
            },
            "type": "scattergeo"
           }
          ],
          "scattergl": [
           {
            "marker": {
             "colorbar": {
              "outlinewidth": 0,
              "ticks": ""
             }
            },
            "type": "scattergl"
           }
          ],
          "scattermapbox": [
           {
            "marker": {
             "colorbar": {
              "outlinewidth": 0,
              "ticks": ""
             }
            },
            "type": "scattermapbox"
           }
          ],
          "scatterpolar": [
           {
            "marker": {
             "colorbar": {
              "outlinewidth": 0,
              "ticks": ""
             }
            },
            "type": "scatterpolar"
           }
          ],
          "scatterpolargl": [
           {
            "marker": {
             "colorbar": {
              "outlinewidth": 0,
              "ticks": ""
             }
            },
            "type": "scatterpolargl"
           }
          ],
          "scatterternary": [
           {
            "marker": {
             "colorbar": {
              "outlinewidth": 0,
              "ticks": ""
             }
            },
            "type": "scatterternary"
           }
          ],
          "surface": [
           {
            "colorbar": {
             "outlinewidth": 0,
             "ticks": ""
            },
            "colorscale": [
             [
              0,
              "#0d0887"
             ],
             [
              0.1111111111111111,
              "#46039f"
             ],
             [
              0.2222222222222222,
              "#7201a8"
             ],
             [
              0.3333333333333333,
              "#9c179e"
             ],
             [
              0.4444444444444444,
              "#bd3786"
             ],
             [
              0.5555555555555556,
              "#d8576b"
             ],
             [
              0.6666666666666666,
              "#ed7953"
             ],
             [
              0.7777777777777778,
              "#fb9f3a"
             ],
             [
              0.8888888888888888,
              "#fdca26"
             ],
             [
              1,
              "#f0f921"
             ]
            ],
            "type": "surface"
           }
          ],
          "table": [
           {
            "cells": {
             "fill": {
              "color": "#EBF0F8"
             },
             "line": {
              "color": "white"
             }
            },
            "header": {
             "fill": {
              "color": "#C8D4E3"
             },
             "line": {
              "color": "white"
             }
            },
            "type": "table"
           }
          ]
         },
         "layout": {
          "annotationdefaults": {
           "arrowcolor": "#2a3f5f",
           "arrowhead": 0,
           "arrowwidth": 1
          },
          "autotypenumbers": "strict",
          "coloraxis": {
           "colorbar": {
            "outlinewidth": 0,
            "ticks": ""
           }
          },
          "colorscale": {
           "diverging": [
            [
             0,
             "#8e0152"
            ],
            [
             0.1,
             "#c51b7d"
            ],
            [
             0.2,
             "#de77ae"
            ],
            [
             0.3,
             "#f1b6da"
            ],
            [
             0.4,
             "#fde0ef"
            ],
            [
             0.5,
             "#f7f7f7"
            ],
            [
             0.6,
             "#e6f5d0"
            ],
            [
             0.7,
             "#b8e186"
            ],
            [
             0.8,
             "#7fbc41"
            ],
            [
             0.9,
             "#4d9221"
            ],
            [
             1,
             "#276419"
            ]
           ],
           "sequential": [
            [
             0,
             "#0d0887"
            ],
            [
             0.1111111111111111,
             "#46039f"
            ],
            [
             0.2222222222222222,
             "#7201a8"
            ],
            [
             0.3333333333333333,
             "#9c179e"
            ],
            [
             0.4444444444444444,
             "#bd3786"
            ],
            [
             0.5555555555555556,
             "#d8576b"
            ],
            [
             0.6666666666666666,
             "#ed7953"
            ],
            [
             0.7777777777777778,
             "#fb9f3a"
            ],
            [
             0.8888888888888888,
             "#fdca26"
            ],
            [
             1,
             "#f0f921"
            ]
           ],
           "sequentialminus": [
            [
             0,
             "#0d0887"
            ],
            [
             0.1111111111111111,
             "#46039f"
            ],
            [
             0.2222222222222222,
             "#7201a8"
            ],
            [
             0.3333333333333333,
             "#9c179e"
            ],
            [
             0.4444444444444444,
             "#bd3786"
            ],
            [
             0.5555555555555556,
             "#d8576b"
            ],
            [
             0.6666666666666666,
             "#ed7953"
            ],
            [
             0.7777777777777778,
             "#fb9f3a"
            ],
            [
             0.8888888888888888,
             "#fdca26"
            ],
            [
             1,
             "#f0f921"
            ]
           ]
          },
          "colorway": [
           "#636efa",
           "#EF553B",
           "#00cc96",
           "#ab63fa",
           "#FFA15A",
           "#19d3f3",
           "#FF6692",
           "#B6E880",
           "#FF97FF",
           "#FECB52"
          ],
          "font": {
           "color": "#2a3f5f"
          },
          "geo": {
           "bgcolor": "white",
           "lakecolor": "white",
           "landcolor": "#E5ECF6",
           "showlakes": true,
           "showland": true,
           "subunitcolor": "white"
          },
          "hoverlabel": {
           "align": "left"
          },
          "hovermode": "closest",
          "mapbox": {
           "style": "light"
          },
          "paper_bgcolor": "white",
          "plot_bgcolor": "#E5ECF6",
          "polar": {
           "angularaxis": {
            "gridcolor": "white",
            "linecolor": "white",
            "ticks": ""
           },
           "bgcolor": "#E5ECF6",
           "radialaxis": {
            "gridcolor": "white",
            "linecolor": "white",
            "ticks": ""
           }
          },
          "scene": {
           "xaxis": {
            "backgroundcolor": "#E5ECF6",
            "gridcolor": "white",
            "gridwidth": 2,
            "linecolor": "white",
            "showbackground": true,
            "ticks": "",
            "zerolinecolor": "white"
           },
           "yaxis": {
            "backgroundcolor": "#E5ECF6",
            "gridcolor": "white",
            "gridwidth": 2,
            "linecolor": "white",
            "showbackground": true,
            "ticks": "",
            "zerolinecolor": "white"
           },
           "zaxis": {
            "backgroundcolor": "#E5ECF6",
            "gridcolor": "white",
            "gridwidth": 2,
            "linecolor": "white",
            "showbackground": true,
            "ticks": "",
            "zerolinecolor": "white"
           }
          },
          "shapedefaults": {
           "line": {
            "color": "#2a3f5f"
           }
          },
          "ternary": {
           "aaxis": {
            "gridcolor": "white",
            "linecolor": "white",
            "ticks": ""
           },
           "baxis": {
            "gridcolor": "white",
            "linecolor": "white",
            "ticks": ""
           },
           "bgcolor": "#E5ECF6",
           "caxis": {
            "gridcolor": "white",
            "linecolor": "white",
            "ticks": ""
           }
          },
          "title": {
           "x": 0.05
          },
          "xaxis": {
           "automargin": true,
           "gridcolor": "white",
           "linecolor": "white",
           "ticks": "",
           "title": {
            "standoff": 15
           },
           "zerolinecolor": "white",
           "zerolinewidth": 2
          },
          "yaxis": {
           "automargin": true,
           "gridcolor": "white",
           "linecolor": "white",
           "ticks": "",
           "title": {
            "standoff": 15
           },
           "zerolinecolor": "white",
           "zerolinewidth": 2
          }
         }
        },
        "title": {
         "text": "اعلى خمس مصادر للتغريدة"
        }
       }
      },
      "text/html": [
       "<div>                            <div id=\"79a9d1f4-d88d-4a03-9bc0-e5e4a8d020cd\" class=\"plotly-graph-div\" style=\"height:525px; width:100%;\"></div>            <script type=\"text/javascript\">                require([\"plotly\"], function(Plotly) {                    window.PLOTLYENV=window.PLOTLYENV || {};                                    if (document.getElementById(\"79a9d1f4-d88d-4a03-9bc0-e5e4a8d020cd\")) {                    Plotly.newPlot(                        \"79a9d1f4-d88d-4a03-9bc0-e5e4a8d020cd\",                        [{\"domain\":{\"x\":[0.0,1.0],\"y\":[0.0,1.0]},\"hovertemplate\":\"index=%{label}<br>Source_of_Tweet=%{value}<extra></extra>\",\"labels\":[\"Twitter for iPhone\",\"Twitter for Android\",\"Twitter Web App\",\"Twitter for Advertisers\",\"Twitter for iPad\"],\"legendgroup\":\"\",\"name\":\"\",\"showlegend\":true,\"values\":[559,249,71,3,2],\"type\":\"pie\"}],                        {\"template\":{\"data\":{\"histogram2dcontour\":[{\"type\":\"histogram2dcontour\",\"colorbar\":{\"outlinewidth\":0,\"ticks\":\"\"},\"colorscale\":[[0.0,\"#0d0887\"],[0.1111111111111111,\"#46039f\"],[0.2222222222222222,\"#7201a8\"],[0.3333333333333333,\"#9c179e\"],[0.4444444444444444,\"#bd3786\"],[0.5555555555555556,\"#d8576b\"],[0.6666666666666666,\"#ed7953\"],[0.7777777777777778,\"#fb9f3a\"],[0.8888888888888888,\"#fdca26\"],[1.0,\"#f0f921\"]]}],\"choropleth\":[{\"type\":\"choropleth\",\"colorbar\":{\"outlinewidth\":0,\"ticks\":\"\"}}],\"histogram2d\":[{\"type\":\"histogram2d\",\"colorbar\":{\"outlinewidth\":0,\"ticks\":\"\"},\"colorscale\":[[0.0,\"#0d0887\"],[0.1111111111111111,\"#46039f\"],[0.2222222222222222,\"#7201a8\"],[0.3333333333333333,\"#9c179e\"],[0.4444444444444444,\"#bd3786\"],[0.5555555555555556,\"#d8576b\"],[0.6666666666666666,\"#ed7953\"],[0.7777777777777778,\"#fb9f3a\"],[0.8888888888888888,\"#fdca26\"],[1.0,\"#f0f921\"]]}],\"heatmap\":[{\"type\":\"heatmap\",\"colorbar\":{\"outlinewidth\":0,\"ticks\":\"\"},\"colorscale\":[[0.0,\"#0d0887\"],[0.1111111111111111,\"#46039f\"],[0.2222222222222222,\"#7201a8\"],[0.3333333333333333,\"#9c179e\"],[0.4444444444444444,\"#bd3786\"],[0.5555555555555556,\"#d8576b\"],[0.6666666666666666,\"#ed7953\"],[0.7777777777777778,\"#fb9f3a\"],[0.8888888888888888,\"#fdca26\"],[1.0,\"#f0f921\"]]}],\"heatmapgl\":[{\"type\":\"heatmapgl\",\"colorbar\":{\"outlinewidth\":0,\"ticks\":\"\"},\"colorscale\":[[0.0,\"#0d0887\"],[0.1111111111111111,\"#46039f\"],[0.2222222222222222,\"#7201a8\"],[0.3333333333333333,\"#9c179e\"],[0.4444444444444444,\"#bd3786\"],[0.5555555555555556,\"#d8576b\"],[0.6666666666666666,\"#ed7953\"],[0.7777777777777778,\"#fb9f3a\"],[0.8888888888888888,\"#fdca26\"],[1.0,\"#f0f921\"]]}],\"contourcarpet\":[{\"type\":\"contourcarpet\",\"colorbar\":{\"outlinewidth\":0,\"ticks\":\"\"}}],\"contour\":[{\"type\":\"contour\",\"colorbar\":{\"outlinewidth\":0,\"ticks\":\"\"},\"colorscale\":[[0.0,\"#0d0887\"],[0.1111111111111111,\"#46039f\"],[0.2222222222222222,\"#7201a8\"],[0.3333333333333333,\"#9c179e\"],[0.4444444444444444,\"#bd3786\"],[0.5555555555555556,\"#d8576b\"],[0.6666666666666666,\"#ed7953\"],[0.7777777777777778,\"#fb9f3a\"],[0.8888888888888888,\"#fdca26\"],[1.0,\"#f0f921\"]]}],\"surface\":[{\"type\":\"surface\",\"colorbar\":{\"outlinewidth\":0,\"ticks\":\"\"},\"colorscale\":[[0.0,\"#0d0887\"],[0.1111111111111111,\"#46039f\"],[0.2222222222222222,\"#7201a8\"],[0.3333333333333333,\"#9c179e\"],[0.4444444444444444,\"#bd3786\"],[0.5555555555555556,\"#d8576b\"],[0.6666666666666666,\"#ed7953\"],[0.7777777777777778,\"#fb9f3a\"],[0.8888888888888888,\"#fdca26\"],[1.0,\"#f0f921\"]]}],\"mesh3d\":[{\"type\":\"mesh3d\",\"colorbar\":{\"outlinewidth\":0,\"ticks\":\"\"}}],\"scatter\":[{\"fillpattern\":{\"fillmode\":\"overlay\",\"size\":10,\"solidity\":0.2},\"type\":\"scatter\"}],\"parcoords\":[{\"type\":\"parcoords\",\"line\":{\"colorbar\":{\"outlinewidth\":0,\"ticks\":\"\"}}}],\"scatterpolargl\":[{\"type\":\"scatterpolargl\",\"marker\":{\"colorbar\":{\"outlinewidth\":0,\"ticks\":\"\"}}}],\"bar\":[{\"error_x\":{\"color\":\"#2a3f5f\"},\"error_y\":{\"color\":\"#2a3f5f\"},\"marker\":{\"line\":{\"color\":\"#E5ECF6\",\"width\":0.5},\"pattern\":{\"fillmode\":\"overlay\",\"size\":10,\"solidity\":0.2}},\"type\":\"bar\"}],\"scattergeo\":[{\"type\":\"scattergeo\",\"marker\":{\"colorbar\":{\"outlinewidth\":0,\"ticks\":\"\"}}}],\"scatterpolar\":[{\"type\":\"scatterpolar\",\"marker\":{\"colorbar\":{\"outlinewidth\":0,\"ticks\":\"\"}}}],\"histogram\":[{\"marker\":{\"pattern\":{\"fillmode\":\"overlay\",\"size\":10,\"solidity\":0.2}},\"type\":\"histogram\"}],\"scattergl\":[{\"type\":\"scattergl\",\"marker\":{\"colorbar\":{\"outlinewidth\":0,\"ticks\":\"\"}}}],\"scatter3d\":[{\"type\":\"scatter3d\",\"line\":{\"colorbar\":{\"outlinewidth\":0,\"ticks\":\"\"}},\"marker\":{\"colorbar\":{\"outlinewidth\":0,\"ticks\":\"\"}}}],\"scattermapbox\":[{\"type\":\"scattermapbox\",\"marker\":{\"colorbar\":{\"outlinewidth\":0,\"ticks\":\"\"}}}],\"scatterternary\":[{\"type\":\"scatterternary\",\"marker\":{\"colorbar\":{\"outlinewidth\":0,\"ticks\":\"\"}}}],\"scattercarpet\":[{\"type\":\"scattercarpet\",\"marker\":{\"colorbar\":{\"outlinewidth\":0,\"ticks\":\"\"}}}],\"carpet\":[{\"aaxis\":{\"endlinecolor\":\"#2a3f5f\",\"gridcolor\":\"white\",\"linecolor\":\"white\",\"minorgridcolor\":\"white\",\"startlinecolor\":\"#2a3f5f\"},\"baxis\":{\"endlinecolor\":\"#2a3f5f\",\"gridcolor\":\"white\",\"linecolor\":\"white\",\"minorgridcolor\":\"white\",\"startlinecolor\":\"#2a3f5f\"},\"type\":\"carpet\"}],\"table\":[{\"cells\":{\"fill\":{\"color\":\"#EBF0F8\"},\"line\":{\"color\":\"white\"}},\"header\":{\"fill\":{\"color\":\"#C8D4E3\"},\"line\":{\"color\":\"white\"}},\"type\":\"table\"}],\"barpolar\":[{\"marker\":{\"line\":{\"color\":\"#E5ECF6\",\"width\":0.5},\"pattern\":{\"fillmode\":\"overlay\",\"size\":10,\"solidity\":0.2}},\"type\":\"barpolar\"}],\"pie\":[{\"automargin\":true,\"type\":\"pie\"}]},\"layout\":{\"autotypenumbers\":\"strict\",\"colorway\":[\"#636efa\",\"#EF553B\",\"#00cc96\",\"#ab63fa\",\"#FFA15A\",\"#19d3f3\",\"#FF6692\",\"#B6E880\",\"#FF97FF\",\"#FECB52\"],\"font\":{\"color\":\"#2a3f5f\"},\"hovermode\":\"closest\",\"hoverlabel\":{\"align\":\"left\"},\"paper_bgcolor\":\"white\",\"plot_bgcolor\":\"#E5ECF6\",\"polar\":{\"bgcolor\":\"#E5ECF6\",\"angularaxis\":{\"gridcolor\":\"white\",\"linecolor\":\"white\",\"ticks\":\"\"},\"radialaxis\":{\"gridcolor\":\"white\",\"linecolor\":\"white\",\"ticks\":\"\"}},\"ternary\":{\"bgcolor\":\"#E5ECF6\",\"aaxis\":{\"gridcolor\":\"white\",\"linecolor\":\"white\",\"ticks\":\"\"},\"baxis\":{\"gridcolor\":\"white\",\"linecolor\":\"white\",\"ticks\":\"\"},\"caxis\":{\"gridcolor\":\"white\",\"linecolor\":\"white\",\"ticks\":\"\"}},\"coloraxis\":{\"colorbar\":{\"outlinewidth\":0,\"ticks\":\"\"}},\"colorscale\":{\"sequential\":[[0.0,\"#0d0887\"],[0.1111111111111111,\"#46039f\"],[0.2222222222222222,\"#7201a8\"],[0.3333333333333333,\"#9c179e\"],[0.4444444444444444,\"#bd3786\"],[0.5555555555555556,\"#d8576b\"],[0.6666666666666666,\"#ed7953\"],[0.7777777777777778,\"#fb9f3a\"],[0.8888888888888888,\"#fdca26\"],[1.0,\"#f0f921\"]],\"sequentialminus\":[[0.0,\"#0d0887\"],[0.1111111111111111,\"#46039f\"],[0.2222222222222222,\"#7201a8\"],[0.3333333333333333,\"#9c179e\"],[0.4444444444444444,\"#bd3786\"],[0.5555555555555556,\"#d8576b\"],[0.6666666666666666,\"#ed7953\"],[0.7777777777777778,\"#fb9f3a\"],[0.8888888888888888,\"#fdca26\"],[1.0,\"#f0f921\"]],\"diverging\":[[0,\"#8e0152\"],[0.1,\"#c51b7d\"],[0.2,\"#de77ae\"],[0.3,\"#f1b6da\"],[0.4,\"#fde0ef\"],[0.5,\"#f7f7f7\"],[0.6,\"#e6f5d0\"],[0.7,\"#b8e186\"],[0.8,\"#7fbc41\"],[0.9,\"#4d9221\"],[1,\"#276419\"]]},\"xaxis\":{\"gridcolor\":\"white\",\"linecolor\":\"white\",\"ticks\":\"\",\"title\":{\"standoff\":15},\"zerolinecolor\":\"white\",\"automargin\":true,\"zerolinewidth\":2},\"yaxis\":{\"gridcolor\":\"white\",\"linecolor\":\"white\",\"ticks\":\"\",\"title\":{\"standoff\":15},\"zerolinecolor\":\"white\",\"automargin\":true,\"zerolinewidth\":2},\"scene\":{\"xaxis\":{\"backgroundcolor\":\"#E5ECF6\",\"gridcolor\":\"white\",\"linecolor\":\"white\",\"showbackground\":true,\"ticks\":\"\",\"zerolinecolor\":\"white\",\"gridwidth\":2},\"yaxis\":{\"backgroundcolor\":\"#E5ECF6\",\"gridcolor\":\"white\",\"linecolor\":\"white\",\"showbackground\":true,\"ticks\":\"\",\"zerolinecolor\":\"white\",\"gridwidth\":2},\"zaxis\":{\"backgroundcolor\":\"#E5ECF6\",\"gridcolor\":\"white\",\"linecolor\":\"white\",\"showbackground\":true,\"ticks\":\"\",\"zerolinecolor\":\"white\",\"gridwidth\":2}},\"shapedefaults\":{\"line\":{\"color\":\"#2a3f5f\"}},\"annotationdefaults\":{\"arrowcolor\":\"#2a3f5f\",\"arrowhead\":0,\"arrowwidth\":1},\"geo\":{\"bgcolor\":\"white\",\"landcolor\":\"#E5ECF6\",\"subunitcolor\":\"white\",\"showland\":true,\"showlakes\":true,\"lakecolor\":\"white\"},\"title\":{\"x\":0.05},\"mapbox\":{\"style\":\"light\"}}},\"legend\":{\"tracegroupgap\":0},\"title\":{\"text\":\"\\u0627\\u0639\\u0644\\u0649 \\u062e\\u0645\\u0633 \\u0645\\u0635\\u0627\\u062f\\u0631 \\u0644\\u0644\\u062a\\u063a\\u0631\\u064a\\u062f\\u0629\"}},                        {\"responsive\": true}                    ).then(function(){\n",
       "                            \n",
       "var gd = document.getElementById('79a9d1f4-d88d-4a03-9bc0-e5e4a8d020cd');\n",
       "var x = new MutationObserver(function (mutations, observer) {{\n",
       "        var display = window.getComputedStyle(gd).display;\n",
       "        if (!display || display === 'none') {{\n",
       "            console.log([gd, 'removed!']);\n",
       "            Plotly.purge(gd);\n",
       "            observer.disconnect();\n",
       "        }}\n",
       "}});\n",
       "\n",
       "// Listen for the removal of the full notebook cells\n",
       "var notebookContainer = gd.closest('#notebook-container');\n",
       "if (notebookContainer) {{\n",
       "    x.observe(notebookContainer, {childList: true});\n",
       "}}\n",
       "\n",
       "// Listen for the clearing of the current output cell\n",
       "var outputEl = gd.closest('.output');\n",
       "if (outputEl) {{\n",
       "    x.observe(outputEl, {childList: true});\n",
       "}}\n",
       "\n",
       "                        })                };                });            </script>        </div>"
      ]
     },
     "metadata": {},
     "output_type": "display_data"
    }
   ],
   "source": [
    "fig = px.pie(Data, values='Source_of_Tweet', names=Data.index, title='اعلى خمس مصادر للتغريدة')\n",
    "fig.show()"
   ]
  },
  {
   "cell_type": "code",
   "execution_count": 170,
   "id": "7ef4c45a",
   "metadata": {},
   "outputs": [],
   "source": [
    "df['Total_of_Likes'] = df.groupby(['User']).Number_of_Likes.transform('sum')"
   ]
  },
  {
   "cell_type": "code",
   "execution_count": 171,
   "id": "08ad9872",
   "metadata": {},
   "outputs": [
    {
     "data": {
      "text/html": [
       "<div>\n",
       "<style scoped>\n",
       "    .dataframe tbody tr th:only-of-type {\n",
       "        vertical-align: middle;\n",
       "    }\n",
       "\n",
       "    .dataframe tbody tr th {\n",
       "        vertical-align: top;\n",
       "    }\n",
       "\n",
       "    .dataframe thead th {\n",
       "        text-align: right;\n",
       "    }\n",
       "</style>\n",
       "<table border=\"1\" class=\"dataframe\">\n",
       "  <thead>\n",
       "    <tr style=\"text-align: right;\">\n",
       "      <th></th>\n",
       "      <th>User</th>\n",
       "      <th>Name</th>\n",
       "      <th>Total_of_Likes</th>\n",
       "    </tr>\n",
       "  </thead>\n",
       "  <tbody>\n",
       "    <tr>\n",
       "      <th>181</th>\n",
       "      <td>umwail99</td>\n",
       "      <td>umwael</td>\n",
       "      <td>189</td>\n",
       "    </tr>\n",
       "    <tr>\n",
       "      <th>791</th>\n",
       "      <td>Fksa40</td>\n",
       "      <td>░ځـٌٌـٌٌالُـِـِِـِِِـِِـِـڊ البل ░ k̯͡s̯͡a̯͡</td>\n",
       "      <td>161</td>\n",
       "    </tr>\n",
       "    <tr>\n",
       "      <th>395</th>\n",
       "      <td>Nawal_raiyes</td>\n",
       "      <td>نوال الريس🇸🇦👑👑١٧٢٧م🐪</td>\n",
       "      <td>48</td>\n",
       "    </tr>\n",
       "    <tr>\n",
       "      <th>642</th>\n",
       "      <td>Trend_ksu</td>\n",
       "      <td>online store</td>\n",
       "      <td>43</td>\n",
       "    </tr>\n",
       "    <tr>\n",
       "      <th>336</th>\n",
       "      <td>Culture821978</td>\n",
       "      <td>فرجت🌱</td>\n",
       "      <td>33</td>\n",
       "    </tr>\n",
       "    <tr>\n",
       "      <th>...</th>\n",
       "      <td>...</td>\n",
       "      <td>...</td>\n",
       "      <td>...</td>\n",
       "    </tr>\n",
       "    <tr>\n",
       "      <th>378</th>\n",
       "      <td>MOE_YNB_01_0008</td>\n",
       "      <td>مدرسة النجف للطفولة المبكرة</td>\n",
       "      <td>0</td>\n",
       "    </tr>\n",
       "    <tr>\n",
       "      <th>379</th>\n",
       "      <td>MOE_ARP_09_0017</td>\n",
       "      <td>الابتدائية الخامسةوالعشرون للطفولة المبكرة بال...</td>\n",
       "      <td>0</td>\n",
       "    </tr>\n",
       "    <tr>\n",
       "      <th>382</th>\n",
       "      <td>mojazalanbaa</td>\n",
       "      <td>موجز الأنباء</td>\n",
       "      <td>0</td>\n",
       "    </tr>\n",
       "    <tr>\n",
       "      <th>385</th>\n",
       "      <td>OVo0NCJ4tPquSR2</td>\n",
       "      <td>ياسر سعد</td>\n",
       "      <td>0</td>\n",
       "    </tr>\n",
       "    <tr>\n",
       "      <th>890</th>\n",
       "      <td>nenoneno112</td>\n",
       "      <td>متفـائلـة🕊️</td>\n",
       "      <td>0</td>\n",
       "    </tr>\n",
       "  </tbody>\n",
       "</table>\n",
       "<p>627 rows × 3 columns</p>\n",
       "</div>"
      ],
      "text/plain": [
       "                User                                               Name  \\\n",
       "181         umwail99                                             umwael   \n",
       "791           Fksa40       ░ځـٌٌـٌٌالُـِـِِـِِِـِِـِـڊ البل ░ k̯͡s̯͡a̯͡   \n",
       "395     Nawal_raiyes                               نوال الريس🇸🇦👑👑١٧٢٧م🐪   \n",
       "642        Trend_ksu                                       online store   \n",
       "336    Culture821978                                              فرجت🌱   \n",
       "..               ...                                                ...   \n",
       "378  MOE_YNB_01_0008                        مدرسة النجف للطفولة المبكرة   \n",
       "379  MOE_ARP_09_0017  الابتدائية الخامسةوالعشرون للطفولة المبكرة بال...   \n",
       "382     mojazalanbaa                                       موجز الأنباء   \n",
       "385  OVo0NCJ4tPquSR2                                           ياسر سعد   \n",
       "890      nenoneno112                                        متفـائلـة🕊️   \n",
       "\n",
       "     Total_of_Likes  \n",
       "181             189  \n",
       "791             161  \n",
       "395              48  \n",
       "642              43  \n",
       "336              33  \n",
       "..              ...  \n",
       "378               0  \n",
       "379               0  \n",
       "382               0  \n",
       "385               0  \n",
       "890               0  \n",
       "\n",
       "[627 rows x 3 columns]"
      ]
     },
     "execution_count": 171,
     "metadata": {},
     "output_type": "execute_result"
    }
   ],
   "source": [
    "df_sorted = df.sort_values(by='Total_of_Likes',ascending=False)\n",
    "df_sorted.drop(columns=['Date_Created', 'Number_of_Likes', 'Source_of_Tweet', 'Tweet',\n",
    "            'Language', 'Coordinates','place','cleanTweet'],inplace=True)\n",
    "df_sorted.drop_duplicates(inplace=True)\n",
    "df_sorted"
   ]
  },
  {
   "cell_type": "code",
   "execution_count": 173,
   "id": "0a9f3b78",
   "metadata": {},
   "outputs": [
    {
     "data": {
      "application/vnd.plotly.v1+json": {
       "config": {
        "plotlyServerURL": "https://plot.ly"
       },
       "data": [
        {
         "alignmentgroup": "True",
         "hovertemplate": "المستخدم=%{x}<br>عدد الاعجاب=%{y}<extra></extra>",
         "legendgroup": "umwail99",
         "marker": {
          "color": "#636efa",
          "pattern": {
           "shape": ""
          }
         },
         "name": "umwail99",
         "offsetgroup": "umwail99",
         "orientation": "v",
         "showlegend": true,
         "textposition": "auto",
         "type": "bar",
         "x": [
          "umwail99"
         ],
         "xaxis": "x",
         "y": [
          189
         ],
         "yaxis": "y"
        },
        {
         "alignmentgroup": "True",
         "hovertemplate": "المستخدم=%{x}<br>عدد الاعجاب=%{y}<extra></extra>",
         "legendgroup": "Fksa40",
         "marker": {
          "color": "#EF553B",
          "pattern": {
           "shape": ""
          }
         },
         "name": "Fksa40",
         "offsetgroup": "Fksa40",
         "orientation": "v",
         "showlegend": true,
         "textposition": "auto",
         "type": "bar",
         "x": [
          "Fksa40"
         ],
         "xaxis": "x",
         "y": [
          161
         ],
         "yaxis": "y"
        },
        {
         "alignmentgroup": "True",
         "hovertemplate": "المستخدم=%{x}<br>عدد الاعجاب=%{y}<extra></extra>",
         "legendgroup": "Nawal_raiyes",
         "marker": {
          "color": "#00cc96",
          "pattern": {
           "shape": ""
          }
         },
         "name": "Nawal_raiyes",
         "offsetgroup": "Nawal_raiyes",
         "orientation": "v",
         "showlegend": true,
         "textposition": "auto",
         "type": "bar",
         "x": [
          "Nawal_raiyes"
         ],
         "xaxis": "x",
         "y": [
          48
         ],
         "yaxis": "y"
        },
        {
         "alignmentgroup": "True",
         "hovertemplate": "المستخدم=%{x}<br>عدد الاعجاب=%{y}<extra></extra>",
         "legendgroup": "Trend_ksu",
         "marker": {
          "color": "#ab63fa",
          "pattern": {
           "shape": ""
          }
         },
         "name": "Trend_ksu",
         "offsetgroup": "Trend_ksu",
         "orientation": "v",
         "showlegend": true,
         "textposition": "auto",
         "type": "bar",
         "x": [
          "Trend_ksu"
         ],
         "xaxis": "x",
         "y": [
          43
         ],
         "yaxis": "y"
        },
        {
         "alignmentgroup": "True",
         "hovertemplate": "المستخدم=%{x}<br>عدد الاعجاب=%{y}<extra></extra>",
         "legendgroup": "Culture821978",
         "marker": {
          "color": "#FFA15A",
          "pattern": {
           "shape": ""
          }
         },
         "name": "Culture821978",
         "offsetgroup": "Culture821978",
         "orientation": "v",
         "showlegend": true,
         "textposition": "auto",
         "type": "bar",
         "x": [
          "Culture821978"
         ],
         "xaxis": "x",
         "y": [
          33
         ],
         "yaxis": "y"
        }
       ],
       "layout": {
        "barmode": "relative",
        "legend": {
         "title": {
          "text": "المستخدم"
         },
         "tracegroupgap": 0
        },
        "template": {
         "data": {
          "bar": [
           {
            "error_x": {
             "color": "#2a3f5f"
            },
            "error_y": {
             "color": "#2a3f5f"
            },
            "marker": {
             "line": {
              "color": "#E5ECF6",
              "width": 0.5
             },
             "pattern": {
              "fillmode": "overlay",
              "size": 10,
              "solidity": 0.2
             }
            },
            "type": "bar"
           }
          ],
          "barpolar": [
           {
            "marker": {
             "line": {
              "color": "#E5ECF6",
              "width": 0.5
             },
             "pattern": {
              "fillmode": "overlay",
              "size": 10,
              "solidity": 0.2
             }
            },
            "type": "barpolar"
           }
          ],
          "carpet": [
           {
            "aaxis": {
             "endlinecolor": "#2a3f5f",
             "gridcolor": "white",
             "linecolor": "white",
             "minorgridcolor": "white",
             "startlinecolor": "#2a3f5f"
            },
            "baxis": {
             "endlinecolor": "#2a3f5f",
             "gridcolor": "white",
             "linecolor": "white",
             "minorgridcolor": "white",
             "startlinecolor": "#2a3f5f"
            },
            "type": "carpet"
           }
          ],
          "choropleth": [
           {
            "colorbar": {
             "outlinewidth": 0,
             "ticks": ""
            },
            "type": "choropleth"
           }
          ],
          "contour": [
           {
            "colorbar": {
             "outlinewidth": 0,
             "ticks": ""
            },
            "colorscale": [
             [
              0,
              "#0d0887"
             ],
             [
              0.1111111111111111,
              "#46039f"
             ],
             [
              0.2222222222222222,
              "#7201a8"
             ],
             [
              0.3333333333333333,
              "#9c179e"
             ],
             [
              0.4444444444444444,
              "#bd3786"
             ],
             [
              0.5555555555555556,
              "#d8576b"
             ],
             [
              0.6666666666666666,
              "#ed7953"
             ],
             [
              0.7777777777777778,
              "#fb9f3a"
             ],
             [
              0.8888888888888888,
              "#fdca26"
             ],
             [
              1,
              "#f0f921"
             ]
            ],
            "type": "contour"
           }
          ],
          "contourcarpet": [
           {
            "colorbar": {
             "outlinewidth": 0,
             "ticks": ""
            },
            "type": "contourcarpet"
           }
          ],
          "heatmap": [
           {
            "colorbar": {
             "outlinewidth": 0,
             "ticks": ""
            },
            "colorscale": [
             [
              0,
              "#0d0887"
             ],
             [
              0.1111111111111111,
              "#46039f"
             ],
             [
              0.2222222222222222,
              "#7201a8"
             ],
             [
              0.3333333333333333,
              "#9c179e"
             ],
             [
              0.4444444444444444,
              "#bd3786"
             ],
             [
              0.5555555555555556,
              "#d8576b"
             ],
             [
              0.6666666666666666,
              "#ed7953"
             ],
             [
              0.7777777777777778,
              "#fb9f3a"
             ],
             [
              0.8888888888888888,
              "#fdca26"
             ],
             [
              1,
              "#f0f921"
             ]
            ],
            "type": "heatmap"
           }
          ],
          "heatmapgl": [
           {
            "colorbar": {
             "outlinewidth": 0,
             "ticks": ""
            },
            "colorscale": [
             [
              0,
              "#0d0887"
             ],
             [
              0.1111111111111111,
              "#46039f"
             ],
             [
              0.2222222222222222,
              "#7201a8"
             ],
             [
              0.3333333333333333,
              "#9c179e"
             ],
             [
              0.4444444444444444,
              "#bd3786"
             ],
             [
              0.5555555555555556,
              "#d8576b"
             ],
             [
              0.6666666666666666,
              "#ed7953"
             ],
             [
              0.7777777777777778,
              "#fb9f3a"
             ],
             [
              0.8888888888888888,
              "#fdca26"
             ],
             [
              1,
              "#f0f921"
             ]
            ],
            "type": "heatmapgl"
           }
          ],
          "histogram": [
           {
            "marker": {
             "pattern": {
              "fillmode": "overlay",
              "size": 10,
              "solidity": 0.2
             }
            },
            "type": "histogram"
           }
          ],
          "histogram2d": [
           {
            "colorbar": {
             "outlinewidth": 0,
             "ticks": ""
            },
            "colorscale": [
             [
              0,
              "#0d0887"
             ],
             [
              0.1111111111111111,
              "#46039f"
             ],
             [
              0.2222222222222222,
              "#7201a8"
             ],
             [
              0.3333333333333333,
              "#9c179e"
             ],
             [
              0.4444444444444444,
              "#bd3786"
             ],
             [
              0.5555555555555556,
              "#d8576b"
             ],
             [
              0.6666666666666666,
              "#ed7953"
             ],
             [
              0.7777777777777778,
              "#fb9f3a"
             ],
             [
              0.8888888888888888,
              "#fdca26"
             ],
             [
              1,
              "#f0f921"
             ]
            ],
            "type": "histogram2d"
           }
          ],
          "histogram2dcontour": [
           {
            "colorbar": {
             "outlinewidth": 0,
             "ticks": ""
            },
            "colorscale": [
             [
              0,
              "#0d0887"
             ],
             [
              0.1111111111111111,
              "#46039f"
             ],
             [
              0.2222222222222222,
              "#7201a8"
             ],
             [
              0.3333333333333333,
              "#9c179e"
             ],
             [
              0.4444444444444444,
              "#bd3786"
             ],
             [
              0.5555555555555556,
              "#d8576b"
             ],
             [
              0.6666666666666666,
              "#ed7953"
             ],
             [
              0.7777777777777778,
              "#fb9f3a"
             ],
             [
              0.8888888888888888,
              "#fdca26"
             ],
             [
              1,
              "#f0f921"
             ]
            ],
            "type": "histogram2dcontour"
           }
          ],
          "mesh3d": [
           {
            "colorbar": {
             "outlinewidth": 0,
             "ticks": ""
            },
            "type": "mesh3d"
           }
          ],
          "parcoords": [
           {
            "line": {
             "colorbar": {
              "outlinewidth": 0,
              "ticks": ""
             }
            },
            "type": "parcoords"
           }
          ],
          "pie": [
           {
            "automargin": true,
            "type": "pie"
           }
          ],
          "scatter": [
           {
            "fillpattern": {
             "fillmode": "overlay",
             "size": 10,
             "solidity": 0.2
            },
            "type": "scatter"
           }
          ],
          "scatter3d": [
           {
            "line": {
             "colorbar": {
              "outlinewidth": 0,
              "ticks": ""
             }
            },
            "marker": {
             "colorbar": {
              "outlinewidth": 0,
              "ticks": ""
             }
            },
            "type": "scatter3d"
           }
          ],
          "scattercarpet": [
           {
            "marker": {
             "colorbar": {
              "outlinewidth": 0,
              "ticks": ""
             }
            },
            "type": "scattercarpet"
           }
          ],
          "scattergeo": [
           {
            "marker": {
             "colorbar": {
              "outlinewidth": 0,
              "ticks": ""
             }
            },
            "type": "scattergeo"
           }
          ],
          "scattergl": [
           {
            "marker": {
             "colorbar": {
              "outlinewidth": 0,
              "ticks": ""
             }
            },
            "type": "scattergl"
           }
          ],
          "scattermapbox": [
           {
            "marker": {
             "colorbar": {
              "outlinewidth": 0,
              "ticks": ""
             }
            },
            "type": "scattermapbox"
           }
          ],
          "scatterpolar": [
           {
            "marker": {
             "colorbar": {
              "outlinewidth": 0,
              "ticks": ""
             }
            },
            "type": "scatterpolar"
           }
          ],
          "scatterpolargl": [
           {
            "marker": {
             "colorbar": {
              "outlinewidth": 0,
              "ticks": ""
             }
            },
            "type": "scatterpolargl"
           }
          ],
          "scatterternary": [
           {
            "marker": {
             "colorbar": {
              "outlinewidth": 0,
              "ticks": ""
             }
            },
            "type": "scatterternary"
           }
          ],
          "surface": [
           {
            "colorbar": {
             "outlinewidth": 0,
             "ticks": ""
            },
            "colorscale": [
             [
              0,
              "#0d0887"
             ],
             [
              0.1111111111111111,
              "#46039f"
             ],
             [
              0.2222222222222222,
              "#7201a8"
             ],
             [
              0.3333333333333333,
              "#9c179e"
             ],
             [
              0.4444444444444444,
              "#bd3786"
             ],
             [
              0.5555555555555556,
              "#d8576b"
             ],
             [
              0.6666666666666666,
              "#ed7953"
             ],
             [
              0.7777777777777778,
              "#fb9f3a"
             ],
             [
              0.8888888888888888,
              "#fdca26"
             ],
             [
              1,
              "#f0f921"
             ]
            ],
            "type": "surface"
           }
          ],
          "table": [
           {
            "cells": {
             "fill": {
              "color": "#EBF0F8"
             },
             "line": {
              "color": "white"
             }
            },
            "header": {
             "fill": {
              "color": "#C8D4E3"
             },
             "line": {
              "color": "white"
             }
            },
            "type": "table"
           }
          ]
         },
         "layout": {
          "annotationdefaults": {
           "arrowcolor": "#2a3f5f",
           "arrowhead": 0,
           "arrowwidth": 1
          },
          "autotypenumbers": "strict",
          "coloraxis": {
           "colorbar": {
            "outlinewidth": 0,
            "ticks": ""
           }
          },
          "colorscale": {
           "diverging": [
            [
             0,
             "#8e0152"
            ],
            [
             0.1,
             "#c51b7d"
            ],
            [
             0.2,
             "#de77ae"
            ],
            [
             0.3,
             "#f1b6da"
            ],
            [
             0.4,
             "#fde0ef"
            ],
            [
             0.5,
             "#f7f7f7"
            ],
            [
             0.6,
             "#e6f5d0"
            ],
            [
             0.7,
             "#b8e186"
            ],
            [
             0.8,
             "#7fbc41"
            ],
            [
             0.9,
             "#4d9221"
            ],
            [
             1,
             "#276419"
            ]
           ],
           "sequential": [
            [
             0,
             "#0d0887"
            ],
            [
             0.1111111111111111,
             "#46039f"
            ],
            [
             0.2222222222222222,
             "#7201a8"
            ],
            [
             0.3333333333333333,
             "#9c179e"
            ],
            [
             0.4444444444444444,
             "#bd3786"
            ],
            [
             0.5555555555555556,
             "#d8576b"
            ],
            [
             0.6666666666666666,
             "#ed7953"
            ],
            [
             0.7777777777777778,
             "#fb9f3a"
            ],
            [
             0.8888888888888888,
             "#fdca26"
            ],
            [
             1,
             "#f0f921"
            ]
           ],
           "sequentialminus": [
            [
             0,
             "#0d0887"
            ],
            [
             0.1111111111111111,
             "#46039f"
            ],
            [
             0.2222222222222222,
             "#7201a8"
            ],
            [
             0.3333333333333333,
             "#9c179e"
            ],
            [
             0.4444444444444444,
             "#bd3786"
            ],
            [
             0.5555555555555556,
             "#d8576b"
            ],
            [
             0.6666666666666666,
             "#ed7953"
            ],
            [
             0.7777777777777778,
             "#fb9f3a"
            ],
            [
             0.8888888888888888,
             "#fdca26"
            ],
            [
             1,
             "#f0f921"
            ]
           ]
          },
          "colorway": [
           "#636efa",
           "#EF553B",
           "#00cc96",
           "#ab63fa",
           "#FFA15A",
           "#19d3f3",
           "#FF6692",
           "#B6E880",
           "#FF97FF",
           "#FECB52"
          ],
          "font": {
           "color": "#2a3f5f"
          },
          "geo": {
           "bgcolor": "white",
           "lakecolor": "white",
           "landcolor": "#E5ECF6",
           "showlakes": true,
           "showland": true,
           "subunitcolor": "white"
          },
          "hoverlabel": {
           "align": "left"
          },
          "hovermode": "closest",
          "mapbox": {
           "style": "light"
          },
          "paper_bgcolor": "white",
          "plot_bgcolor": "#E5ECF6",
          "polar": {
           "angularaxis": {
            "gridcolor": "white",
            "linecolor": "white",
            "ticks": ""
           },
           "bgcolor": "#E5ECF6",
           "radialaxis": {
            "gridcolor": "white",
            "linecolor": "white",
            "ticks": ""
           }
          },
          "scene": {
           "xaxis": {
            "backgroundcolor": "#E5ECF6",
            "gridcolor": "white",
            "gridwidth": 2,
            "linecolor": "white",
            "showbackground": true,
            "ticks": "",
            "zerolinecolor": "white"
           },
           "yaxis": {
            "backgroundcolor": "#E5ECF6",
            "gridcolor": "white",
            "gridwidth": 2,
            "linecolor": "white",
            "showbackground": true,
            "ticks": "",
            "zerolinecolor": "white"
           },
           "zaxis": {
            "backgroundcolor": "#E5ECF6",
            "gridcolor": "white",
            "gridwidth": 2,
            "linecolor": "white",
            "showbackground": true,
            "ticks": "",
            "zerolinecolor": "white"
           }
          },
          "shapedefaults": {
           "line": {
            "color": "#2a3f5f"
           }
          },
          "ternary": {
           "aaxis": {
            "gridcolor": "white",
            "linecolor": "white",
            "ticks": ""
           },
           "baxis": {
            "gridcolor": "white",
            "linecolor": "white",
            "ticks": ""
           },
           "bgcolor": "#E5ECF6",
           "caxis": {
            "gridcolor": "white",
            "linecolor": "white",
            "ticks": ""
           }
          },
          "title": {
           "x": 0.05
          },
          "xaxis": {
           "automargin": true,
           "gridcolor": "white",
           "linecolor": "white",
           "ticks": "",
           "title": {
            "standoff": 15
           },
           "zerolinecolor": "white",
           "zerolinewidth": 2
          },
          "yaxis": {
           "automargin": true,
           "gridcolor": "white",
           "linecolor": "white",
           "ticks": "",
           "title": {
            "standoff": 15
           },
           "zerolinecolor": "white",
           "zerolinewidth": 2
          }
         }
        },
        "title": {
         "text": "اعلى خمس حسابات حازت على اعجاب الاخرين"
        },
        "xaxis": {
         "anchor": "y",
         "categoryarray": [
          "umwail99",
          "Fksa40",
          "Nawal_raiyes",
          "Trend_ksu",
          "Culture821978"
         ],
         "categoryorder": "array",
         "domain": [
          0,
          1
         ],
         "title": {
          "text": "المستخدم"
         }
        },
        "yaxis": {
         "anchor": "x",
         "domain": [
          0,
          1
         ],
         "title": {
          "text": "عدد الاعجاب"
         }
        }
       }
      },
      "text/html": [
       "<div>                            <div id=\"222e46a2-1a68-4b91-accd-0c997a9dde02\" class=\"plotly-graph-div\" style=\"height:525px; width:100%;\"></div>            <script type=\"text/javascript\">                require([\"plotly\"], function(Plotly) {                    window.PLOTLYENV=window.PLOTLYENV || {};                                    if (document.getElementById(\"222e46a2-1a68-4b91-accd-0c997a9dde02\")) {                    Plotly.newPlot(                        \"222e46a2-1a68-4b91-accd-0c997a9dde02\",                        [{\"alignmentgroup\":\"True\",\"hovertemplate\":\"\\u0627\\u0644\\u0645\\u0633\\u062a\\u062e\\u062f\\u0645=%{x}<br>\\u0639\\u062f\\u062f \\u0627\\u0644\\u0627\\u0639\\u062c\\u0627\\u0628=%{y}<extra></extra>\",\"legendgroup\":\"umwail99\",\"marker\":{\"color\":\"#636efa\",\"pattern\":{\"shape\":\"\"}},\"name\":\"umwail99\",\"offsetgroup\":\"umwail99\",\"orientation\":\"v\",\"showlegend\":true,\"textposition\":\"auto\",\"x\":[\"umwail99\"],\"xaxis\":\"x\",\"y\":[189],\"yaxis\":\"y\",\"type\":\"bar\"},{\"alignmentgroup\":\"True\",\"hovertemplate\":\"\\u0627\\u0644\\u0645\\u0633\\u062a\\u062e\\u062f\\u0645=%{x}<br>\\u0639\\u062f\\u062f \\u0627\\u0644\\u0627\\u0639\\u062c\\u0627\\u0628=%{y}<extra></extra>\",\"legendgroup\":\"Fksa40\",\"marker\":{\"color\":\"#EF553B\",\"pattern\":{\"shape\":\"\"}},\"name\":\"Fksa40\",\"offsetgroup\":\"Fksa40\",\"orientation\":\"v\",\"showlegend\":true,\"textposition\":\"auto\",\"x\":[\"Fksa40\"],\"xaxis\":\"x\",\"y\":[161],\"yaxis\":\"y\",\"type\":\"bar\"},{\"alignmentgroup\":\"True\",\"hovertemplate\":\"\\u0627\\u0644\\u0645\\u0633\\u062a\\u062e\\u062f\\u0645=%{x}<br>\\u0639\\u062f\\u062f \\u0627\\u0644\\u0627\\u0639\\u062c\\u0627\\u0628=%{y}<extra></extra>\",\"legendgroup\":\"Nawal_raiyes\",\"marker\":{\"color\":\"#00cc96\",\"pattern\":{\"shape\":\"\"}},\"name\":\"Nawal_raiyes\",\"offsetgroup\":\"Nawal_raiyes\",\"orientation\":\"v\",\"showlegend\":true,\"textposition\":\"auto\",\"x\":[\"Nawal_raiyes\"],\"xaxis\":\"x\",\"y\":[48],\"yaxis\":\"y\",\"type\":\"bar\"},{\"alignmentgroup\":\"True\",\"hovertemplate\":\"\\u0627\\u0644\\u0645\\u0633\\u062a\\u062e\\u062f\\u0645=%{x}<br>\\u0639\\u062f\\u062f \\u0627\\u0644\\u0627\\u0639\\u062c\\u0627\\u0628=%{y}<extra></extra>\",\"legendgroup\":\"Trend_ksu\",\"marker\":{\"color\":\"#ab63fa\",\"pattern\":{\"shape\":\"\"}},\"name\":\"Trend_ksu\",\"offsetgroup\":\"Trend_ksu\",\"orientation\":\"v\",\"showlegend\":true,\"textposition\":\"auto\",\"x\":[\"Trend_ksu\"],\"xaxis\":\"x\",\"y\":[43],\"yaxis\":\"y\",\"type\":\"bar\"},{\"alignmentgroup\":\"True\",\"hovertemplate\":\"\\u0627\\u0644\\u0645\\u0633\\u062a\\u062e\\u062f\\u0645=%{x}<br>\\u0639\\u062f\\u062f \\u0627\\u0644\\u0627\\u0639\\u062c\\u0627\\u0628=%{y}<extra></extra>\",\"legendgroup\":\"Culture821978\",\"marker\":{\"color\":\"#FFA15A\",\"pattern\":{\"shape\":\"\"}},\"name\":\"Culture821978\",\"offsetgroup\":\"Culture821978\",\"orientation\":\"v\",\"showlegend\":true,\"textposition\":\"auto\",\"x\":[\"Culture821978\"],\"xaxis\":\"x\",\"y\":[33],\"yaxis\":\"y\",\"type\":\"bar\"}],                        {\"template\":{\"data\":{\"histogram2dcontour\":[{\"type\":\"histogram2dcontour\",\"colorbar\":{\"outlinewidth\":0,\"ticks\":\"\"},\"colorscale\":[[0.0,\"#0d0887\"],[0.1111111111111111,\"#46039f\"],[0.2222222222222222,\"#7201a8\"],[0.3333333333333333,\"#9c179e\"],[0.4444444444444444,\"#bd3786\"],[0.5555555555555556,\"#d8576b\"],[0.6666666666666666,\"#ed7953\"],[0.7777777777777778,\"#fb9f3a\"],[0.8888888888888888,\"#fdca26\"],[1.0,\"#f0f921\"]]}],\"choropleth\":[{\"type\":\"choropleth\",\"colorbar\":{\"outlinewidth\":0,\"ticks\":\"\"}}],\"histogram2d\":[{\"type\":\"histogram2d\",\"colorbar\":{\"outlinewidth\":0,\"ticks\":\"\"},\"colorscale\":[[0.0,\"#0d0887\"],[0.1111111111111111,\"#46039f\"],[0.2222222222222222,\"#7201a8\"],[0.3333333333333333,\"#9c179e\"],[0.4444444444444444,\"#bd3786\"],[0.5555555555555556,\"#d8576b\"],[0.6666666666666666,\"#ed7953\"],[0.7777777777777778,\"#fb9f3a\"],[0.8888888888888888,\"#fdca26\"],[1.0,\"#f0f921\"]]}],\"heatmap\":[{\"type\":\"heatmap\",\"colorbar\":{\"outlinewidth\":0,\"ticks\":\"\"},\"colorscale\":[[0.0,\"#0d0887\"],[0.1111111111111111,\"#46039f\"],[0.2222222222222222,\"#7201a8\"],[0.3333333333333333,\"#9c179e\"],[0.4444444444444444,\"#bd3786\"],[0.5555555555555556,\"#d8576b\"],[0.6666666666666666,\"#ed7953\"],[0.7777777777777778,\"#fb9f3a\"],[0.8888888888888888,\"#fdca26\"],[1.0,\"#f0f921\"]]}],\"heatmapgl\":[{\"type\":\"heatmapgl\",\"colorbar\":{\"outlinewidth\":0,\"ticks\":\"\"},\"colorscale\":[[0.0,\"#0d0887\"],[0.1111111111111111,\"#46039f\"],[0.2222222222222222,\"#7201a8\"],[0.3333333333333333,\"#9c179e\"],[0.4444444444444444,\"#bd3786\"],[0.5555555555555556,\"#d8576b\"],[0.6666666666666666,\"#ed7953\"],[0.7777777777777778,\"#fb9f3a\"],[0.8888888888888888,\"#fdca26\"],[1.0,\"#f0f921\"]]}],\"contourcarpet\":[{\"type\":\"contourcarpet\",\"colorbar\":{\"outlinewidth\":0,\"ticks\":\"\"}}],\"contour\":[{\"type\":\"contour\",\"colorbar\":{\"outlinewidth\":0,\"ticks\":\"\"},\"colorscale\":[[0.0,\"#0d0887\"],[0.1111111111111111,\"#46039f\"],[0.2222222222222222,\"#7201a8\"],[0.3333333333333333,\"#9c179e\"],[0.4444444444444444,\"#bd3786\"],[0.5555555555555556,\"#d8576b\"],[0.6666666666666666,\"#ed7953\"],[0.7777777777777778,\"#fb9f3a\"],[0.8888888888888888,\"#fdca26\"],[1.0,\"#f0f921\"]]}],\"surface\":[{\"type\":\"surface\",\"colorbar\":{\"outlinewidth\":0,\"ticks\":\"\"},\"colorscale\":[[0.0,\"#0d0887\"],[0.1111111111111111,\"#46039f\"],[0.2222222222222222,\"#7201a8\"],[0.3333333333333333,\"#9c179e\"],[0.4444444444444444,\"#bd3786\"],[0.5555555555555556,\"#d8576b\"],[0.6666666666666666,\"#ed7953\"],[0.7777777777777778,\"#fb9f3a\"],[0.8888888888888888,\"#fdca26\"],[1.0,\"#f0f921\"]]}],\"mesh3d\":[{\"type\":\"mesh3d\",\"colorbar\":{\"outlinewidth\":0,\"ticks\":\"\"}}],\"scatter\":[{\"fillpattern\":{\"fillmode\":\"overlay\",\"size\":10,\"solidity\":0.2},\"type\":\"scatter\"}],\"parcoords\":[{\"type\":\"parcoords\",\"line\":{\"colorbar\":{\"outlinewidth\":0,\"ticks\":\"\"}}}],\"scatterpolargl\":[{\"type\":\"scatterpolargl\",\"marker\":{\"colorbar\":{\"outlinewidth\":0,\"ticks\":\"\"}}}],\"bar\":[{\"error_x\":{\"color\":\"#2a3f5f\"},\"error_y\":{\"color\":\"#2a3f5f\"},\"marker\":{\"line\":{\"color\":\"#E5ECF6\",\"width\":0.5},\"pattern\":{\"fillmode\":\"overlay\",\"size\":10,\"solidity\":0.2}},\"type\":\"bar\"}],\"scattergeo\":[{\"type\":\"scattergeo\",\"marker\":{\"colorbar\":{\"outlinewidth\":0,\"ticks\":\"\"}}}],\"scatterpolar\":[{\"type\":\"scatterpolar\",\"marker\":{\"colorbar\":{\"outlinewidth\":0,\"ticks\":\"\"}}}],\"histogram\":[{\"marker\":{\"pattern\":{\"fillmode\":\"overlay\",\"size\":10,\"solidity\":0.2}},\"type\":\"histogram\"}],\"scattergl\":[{\"type\":\"scattergl\",\"marker\":{\"colorbar\":{\"outlinewidth\":0,\"ticks\":\"\"}}}],\"scatter3d\":[{\"type\":\"scatter3d\",\"line\":{\"colorbar\":{\"outlinewidth\":0,\"ticks\":\"\"}},\"marker\":{\"colorbar\":{\"outlinewidth\":0,\"ticks\":\"\"}}}],\"scattermapbox\":[{\"type\":\"scattermapbox\",\"marker\":{\"colorbar\":{\"outlinewidth\":0,\"ticks\":\"\"}}}],\"scatterternary\":[{\"type\":\"scatterternary\",\"marker\":{\"colorbar\":{\"outlinewidth\":0,\"ticks\":\"\"}}}],\"scattercarpet\":[{\"type\":\"scattercarpet\",\"marker\":{\"colorbar\":{\"outlinewidth\":0,\"ticks\":\"\"}}}],\"carpet\":[{\"aaxis\":{\"endlinecolor\":\"#2a3f5f\",\"gridcolor\":\"white\",\"linecolor\":\"white\",\"minorgridcolor\":\"white\",\"startlinecolor\":\"#2a3f5f\"},\"baxis\":{\"endlinecolor\":\"#2a3f5f\",\"gridcolor\":\"white\",\"linecolor\":\"white\",\"minorgridcolor\":\"white\",\"startlinecolor\":\"#2a3f5f\"},\"type\":\"carpet\"}],\"table\":[{\"cells\":{\"fill\":{\"color\":\"#EBF0F8\"},\"line\":{\"color\":\"white\"}},\"header\":{\"fill\":{\"color\":\"#C8D4E3\"},\"line\":{\"color\":\"white\"}},\"type\":\"table\"}],\"barpolar\":[{\"marker\":{\"line\":{\"color\":\"#E5ECF6\",\"width\":0.5},\"pattern\":{\"fillmode\":\"overlay\",\"size\":10,\"solidity\":0.2}},\"type\":\"barpolar\"}],\"pie\":[{\"automargin\":true,\"type\":\"pie\"}]},\"layout\":{\"autotypenumbers\":\"strict\",\"colorway\":[\"#636efa\",\"#EF553B\",\"#00cc96\",\"#ab63fa\",\"#FFA15A\",\"#19d3f3\",\"#FF6692\",\"#B6E880\",\"#FF97FF\",\"#FECB52\"],\"font\":{\"color\":\"#2a3f5f\"},\"hovermode\":\"closest\",\"hoverlabel\":{\"align\":\"left\"},\"paper_bgcolor\":\"white\",\"plot_bgcolor\":\"#E5ECF6\",\"polar\":{\"bgcolor\":\"#E5ECF6\",\"angularaxis\":{\"gridcolor\":\"white\",\"linecolor\":\"white\",\"ticks\":\"\"},\"radialaxis\":{\"gridcolor\":\"white\",\"linecolor\":\"white\",\"ticks\":\"\"}},\"ternary\":{\"bgcolor\":\"#E5ECF6\",\"aaxis\":{\"gridcolor\":\"white\",\"linecolor\":\"white\",\"ticks\":\"\"},\"baxis\":{\"gridcolor\":\"white\",\"linecolor\":\"white\",\"ticks\":\"\"},\"caxis\":{\"gridcolor\":\"white\",\"linecolor\":\"white\",\"ticks\":\"\"}},\"coloraxis\":{\"colorbar\":{\"outlinewidth\":0,\"ticks\":\"\"}},\"colorscale\":{\"sequential\":[[0.0,\"#0d0887\"],[0.1111111111111111,\"#46039f\"],[0.2222222222222222,\"#7201a8\"],[0.3333333333333333,\"#9c179e\"],[0.4444444444444444,\"#bd3786\"],[0.5555555555555556,\"#d8576b\"],[0.6666666666666666,\"#ed7953\"],[0.7777777777777778,\"#fb9f3a\"],[0.8888888888888888,\"#fdca26\"],[1.0,\"#f0f921\"]],\"sequentialminus\":[[0.0,\"#0d0887\"],[0.1111111111111111,\"#46039f\"],[0.2222222222222222,\"#7201a8\"],[0.3333333333333333,\"#9c179e\"],[0.4444444444444444,\"#bd3786\"],[0.5555555555555556,\"#d8576b\"],[0.6666666666666666,\"#ed7953\"],[0.7777777777777778,\"#fb9f3a\"],[0.8888888888888888,\"#fdca26\"],[1.0,\"#f0f921\"]],\"diverging\":[[0,\"#8e0152\"],[0.1,\"#c51b7d\"],[0.2,\"#de77ae\"],[0.3,\"#f1b6da\"],[0.4,\"#fde0ef\"],[0.5,\"#f7f7f7\"],[0.6,\"#e6f5d0\"],[0.7,\"#b8e186\"],[0.8,\"#7fbc41\"],[0.9,\"#4d9221\"],[1,\"#276419\"]]},\"xaxis\":{\"gridcolor\":\"white\",\"linecolor\":\"white\",\"ticks\":\"\",\"title\":{\"standoff\":15},\"zerolinecolor\":\"white\",\"automargin\":true,\"zerolinewidth\":2},\"yaxis\":{\"gridcolor\":\"white\",\"linecolor\":\"white\",\"ticks\":\"\",\"title\":{\"standoff\":15},\"zerolinecolor\":\"white\",\"automargin\":true,\"zerolinewidth\":2},\"scene\":{\"xaxis\":{\"backgroundcolor\":\"#E5ECF6\",\"gridcolor\":\"white\",\"linecolor\":\"white\",\"showbackground\":true,\"ticks\":\"\",\"zerolinecolor\":\"white\",\"gridwidth\":2},\"yaxis\":{\"backgroundcolor\":\"#E5ECF6\",\"gridcolor\":\"white\",\"linecolor\":\"white\",\"showbackground\":true,\"ticks\":\"\",\"zerolinecolor\":\"white\",\"gridwidth\":2},\"zaxis\":{\"backgroundcolor\":\"#E5ECF6\",\"gridcolor\":\"white\",\"linecolor\":\"white\",\"showbackground\":true,\"ticks\":\"\",\"zerolinecolor\":\"white\",\"gridwidth\":2}},\"shapedefaults\":{\"line\":{\"color\":\"#2a3f5f\"}},\"annotationdefaults\":{\"arrowcolor\":\"#2a3f5f\",\"arrowhead\":0,\"arrowwidth\":1},\"geo\":{\"bgcolor\":\"white\",\"landcolor\":\"#E5ECF6\",\"subunitcolor\":\"white\",\"showland\":true,\"showlakes\":true,\"lakecolor\":\"white\"},\"title\":{\"x\":0.05},\"mapbox\":{\"style\":\"light\"}}},\"xaxis\":{\"anchor\":\"y\",\"domain\":[0.0,1.0],\"title\":{\"text\":\"\\u0627\\u0644\\u0645\\u0633\\u062a\\u062e\\u062f\\u0645\"},\"categoryorder\":\"array\",\"categoryarray\":[\"umwail99\",\"Fksa40\",\"Nawal_raiyes\",\"Trend_ksu\",\"Culture821978\"]},\"yaxis\":{\"anchor\":\"x\",\"domain\":[0.0,1.0],\"title\":{\"text\":\"\\u0639\\u062f\\u062f \\u0627\\u0644\\u0627\\u0639\\u062c\\u0627\\u0628\"}},\"legend\":{\"title\":{\"text\":\"\\u0627\\u0644\\u0645\\u0633\\u062a\\u062e\\u062f\\u0645\"},\"tracegroupgap\":0},\"title\":{\"text\":\"\\u0627\\u0639\\u0644\\u0649 \\u062e\\u0645\\u0633 \\u062d\\u0633\\u0627\\u0628\\u0627\\u062a \\u062d\\u0627\\u0632\\u062a \\u0639\\u0644\\u0649 \\u0627\\u0639\\u062c\\u0627\\u0628 \\u0627\\u0644\\u0627\\u062e\\u0631\\u064a\\u0646\"},\"barmode\":\"relative\"},                        {\"responsive\": true}                    ).then(function(){\n",
       "                            \n",
       "var gd = document.getElementById('222e46a2-1a68-4b91-accd-0c997a9dde02');\n",
       "var x = new MutationObserver(function (mutations, observer) {{\n",
       "        var display = window.getComputedStyle(gd).display;\n",
       "        if (!display || display === 'none') {{\n",
       "            console.log([gd, 'removed!']);\n",
       "            Plotly.purge(gd);\n",
       "            observer.disconnect();\n",
       "        }}\n",
       "}});\n",
       "\n",
       "// Listen for the removal of the full notebook cells\n",
       "var notebookContainer = gd.closest('#notebook-container');\n",
       "if (notebookContainer) {{\n",
       "    x.observe(notebookContainer, {childList: true});\n",
       "}}\n",
       "\n",
       "// Listen for the clearing of the current output cell\n",
       "var outputEl = gd.closest('.output');\n",
       "if (outputEl) {{\n",
       "    x.observe(outputEl, {childList: true});\n",
       "}}\n",
       "\n",
       "                        })                };                });            </script>        </div>"
      ]
     },
     "metadata": {},
     "output_type": "display_data"
    }
   ],
   "source": [
    "fig =px.bar(df_sorted.head(),x='User',y='Total_of_Likes',color='User',\n",
    "           labels={'User':'المستخدم', 'Total_of_Likes':'عدد الاعجاب'},\n",
    "           title='اعلى خمس حسابات حازت على اعجاب الاخرين')\n",
    "fig.show()"
   ]
  },
  {
   "cell_type": "code",
   "execution_count": null,
   "id": "5e118d5a",
   "metadata": {},
   "outputs": [],
   "source": []
  },
  {
   "cell_type": "code",
   "execution_count": null,
   "id": "cf207318",
   "metadata": {},
   "outputs": [],
   "source": []
  }
 ],
 "metadata": {
  "kernelspec": {
   "display_name": "Python 3 (ipykernel)",
   "language": "python",
   "name": "python3"
  },
  "language_info": {
   "codemirror_mode": {
    "name": "ipython",
    "version": 3
   },
   "file_extension": ".py",
   "mimetype": "text/x-python",
   "name": "python",
   "nbconvert_exporter": "python",
   "pygments_lexer": "ipython3",
   "version": "3.9.13"
  }
 },
 "nbformat": 4,
 "nbformat_minor": 5
}
