{
 "cells": [
  {
   "cell_type": "code",
   "execution_count": 24,
   "id": "efd02202",
   "metadata": {},
   "outputs": [],
   "source": [
    "import requests\n",
    "from bs4 import BeautifulSoup\n",
    "import pandas as pd\n",
    "import numpy as np\n",
    "import seaborn as sns\n",
    "import matplotlib.pyplot as plt"
   ]
  },
  {
   "cell_type": "code",
   "execution_count": 25,
   "id": "333f4c4a",
   "metadata": {},
   "outputs": [],
   "source": [
    "urls = ['https://foursquare.com/explore?cat=food&mode=url&near=Hitteen%2C%20Riyadh%2C%20Saudi%20Arabia&nearGeoId=10009304' ,\n",
    "        'https://foursquare.com/explore?cat=food&mode=url&near=Al-Muhammadiyah%2C%20Riyadh%2C%20Saudi%20Arabia&nearGeoId=10009345'\n",
    "       ,'https://foursquare.com/explore?cat=food&mode=url&near=As-Sahafa%2C%20Riyadh%2C%20Saudi%20Arabia&nearGeoId=10009299',\n",
    "        'https://foursquare.com/explore?cat=food&mode=url&near=Al-Maseef%2C%20Riyadh%2C%20Saudi%20Arabia&nearGeoId=10009263' , \n",
    "        'https://foursquare.com/explore?cat=food&mode=url&near=Al-Olaya%2C%20Riyadh%2C%20Saudi%20Arabia&nearGeoId=10009301',\n",
    "        'https://foursquare.com/explore?cat=food&mode=url&near=Al-Olaya%2C%20Riyadh%2C%20Saudi%20Arabia&nearGeoId=10009301',\n",
    "        'https://foursquare.com/explore?cat=food&mode=url&near=Qurtubah%2C%20Riyadh%2C%20Saudi%20Arabia&nearGeoId=10009380',\n",
    "       'https://foursquare.com/explore?cat=food&mode=url&near=An-Narjis%2C%20Riyadh%2C%20Saudi%20Arabia&nearGeoId=10009363',\n",
    "       'https://foursquare.com/explore?cat=food&mode=url&near=Al-Nakheel%2C%20Riyadh%2C%20Saudi%20Arabia&nearGeoId=10009289'\n",
    "       ,'https://foursquare.com/explore?cat=food&mode=url&near=Al-Nuzha%2C%20Riyadh%2C%20Saudi%20Arabia&nearGeoId=10009378'       \n",
    "       ]\n",
    "locations = ['Hitteen' , 'Al-Muhammadiyah' , 'As-Sahafa' ,'Al-Maseef' , \n",
    "             'Al-Malqa' ,'Al-Olaya' , 'Qurtubah' ,'An-Narjis' , 'Al-Nakheel' , 'Al-Nuzha' ]\n"
   ]
  },
  {
   "cell_type": "code",
   "execution_count": 26,
   "id": "e12fb2d9",
   "metadata": {},
   "outputs": [],
   "source": [
    "df = pd.DataFrame()\n",
    "for i in range(len(locations)):\n",
    "    response = requests.get(urls[i])\n",
    "    soup = BeautifulSoup(response.content, 'lxml')\n",
    "    divs = soup.find_all('div', {'class':'infoCol'})\n",
    "    headings = [div.find('h2')for div in divs]\n",
    "    resturant_names = [heading.find('a').string for heading in headings] \n",
    "    scores = [div.find('div' , class_ = 'venueScore positive')for div in divs]\n",
    "    scores_num = [float(score.get('title')[0:3]) for score in scores]\n",
    "    prices = [div.find('div' , class_ = 'venueData') for div in divs]\n",
    "    priceOutOf5 = []\n",
    "    for price in prices:\n",
    "        tmp = price.find('span' , class_='darken')\n",
    "        if tmp != None:\n",
    "            tmp = price.find('span' , class_='darken').string\n",
    "            priceOutOf5.append(len(tmp))\n",
    "        else:\n",
    "            priceOutOf5.append(-1)\n",
    "    location = [locations[i]]*30\n",
    "    if i == 0:\n",
    "        df['Name'] = resturant_names\n",
    "        df['Rating'] = scores_num\n",
    "        df['price'] = priceOutOf5\n",
    "        df['Neighbourhood'] = location\n",
    "    else :\n",
    "        tmpDf = pd.DataFrame()\n",
    "        tmpDf['Name'] = resturant_names\n",
    "        tmpDf['Rating'] = scores_num\n",
    "        tmpDf['price'] = priceOutOf5\n",
    "        tmpDf['Neighbourhood'] = location\n",
    "        df = pd.concat([df , tmpDf])\n",
    "df.reset_index()\n",
    "df2 = df.copy()"
   ]
  },
  {
   "cell_type": "code",
   "execution_count": 27,
   "id": "b3f83bf2",
   "metadata": {
    "scrolled": true
   },
   "outputs": [
    {
     "data": {
      "text/html": [
       "<div>\n",
       "<style scoped>\n",
       "    .dataframe tbody tr th:only-of-type {\n",
       "        vertical-align: middle;\n",
       "    }\n",
       "\n",
       "    .dataframe tbody tr th {\n",
       "        vertical-align: top;\n",
       "    }\n",
       "\n",
       "    .dataframe thead th {\n",
       "        text-align: right;\n",
       "    }\n",
       "</style>\n",
       "<table border=\"1\" class=\"dataframe\">\n",
       "  <thead>\n",
       "    <tr style=\"text-align: right;\">\n",
       "      <th></th>\n",
       "      <th>Name</th>\n",
       "      <th>Rating</th>\n",
       "      <th>price</th>\n",
       "      <th>Neighbourhood</th>\n",
       "    </tr>\n",
       "  </thead>\n",
       "  <tbody>\n",
       "    <tr>\n",
       "      <th>0</th>\n",
       "      <td>Dunkin’</td>\n",
       "      <td>9.6</td>\n",
       "      <td>1</td>\n",
       "      <td>Hitteen</td>\n",
       "    </tr>\n",
       "    <tr>\n",
       "      <th>1</th>\n",
       "      <td>SORS</td>\n",
       "      <td>9.3</td>\n",
       "      <td>1</td>\n",
       "      <td>Hitteen</td>\n",
       "    </tr>\n",
       "    <tr>\n",
       "      <th>2</th>\n",
       "      <td>Just Chill</td>\n",
       "      <td>9.3</td>\n",
       "      <td>1</td>\n",
       "      <td>Hitteen</td>\n",
       "    </tr>\n",
       "    <tr>\n",
       "      <th>3</th>\n",
       "      <td>Entrecôte Café de Paris</td>\n",
       "      <td>9.2</td>\n",
       "      <td>3</td>\n",
       "      <td>Hitteen</td>\n",
       "    </tr>\n",
       "    <tr>\n",
       "      <th>4</th>\n",
       "      <td>McDonald's</td>\n",
       "      <td>9.2</td>\n",
       "      <td>1</td>\n",
       "      <td>Hitteen</td>\n",
       "    </tr>\n",
       "  </tbody>\n",
       "</table>\n",
       "</div>"
      ],
      "text/plain": [
       "                      Name  Rating  price Neighbourhood\n",
       "0                  Dunkin’     9.6      1       Hitteen\n",
       "1                     SORS     9.3      1       Hitteen\n",
       "2               Just Chill     9.3      1       Hitteen\n",
       "3  Entrecôte Café de Paris     9.2      3       Hitteen\n",
       "4               McDonald's     9.2      1       Hitteen"
      ]
     },
     "execution_count": 27,
     "metadata": {},
     "output_type": "execute_result"
    }
   ],
   "source": [
    "df.head()"
   ]
  },
  {
   "cell_type": "code",
   "execution_count": 28,
   "id": "b0cc6175",
   "metadata": {},
   "outputs": [
    {
     "name": "stdout",
     "output_type": "stream",
     "text": [
      "<class 'pandas.core.frame.DataFrame'>\n",
      "Int64Index: 300 entries, 0 to 29\n",
      "Data columns (total 4 columns):\n",
      " #   Column         Non-Null Count  Dtype  \n",
      "---  ------         --------------  -----  \n",
      " 0   Name           300 non-null    object \n",
      " 1   Rating         300 non-null    float64\n",
      " 2   price          300 non-null    int64  \n",
      " 3   Neighbourhood  300 non-null    object \n",
      "dtypes: float64(1), int64(1), object(2)\n",
      "memory usage: 11.7+ KB\n"
     ]
    }
   ],
   "source": [
    "df.info()"
   ]
  },
  {
   "cell_type": "code",
   "execution_count": 29,
   "id": "af97f001",
   "metadata": {
    "scrolled": false
   },
   "outputs": [
    {
     "data": {
      "text/html": [
       "<div>\n",
       "<style scoped>\n",
       "    .dataframe tbody tr th:only-of-type {\n",
       "        vertical-align: middle;\n",
       "    }\n",
       "\n",
       "    .dataframe tbody tr th {\n",
       "        vertical-align: top;\n",
       "    }\n",
       "\n",
       "    .dataframe thead th {\n",
       "        text-align: right;\n",
       "    }\n",
       "</style>\n",
       "<table border=\"1\" class=\"dataframe\">\n",
       "  <thead>\n",
       "    <tr style=\"text-align: right;\">\n",
       "      <th></th>\n",
       "      <th>Rating</th>\n",
       "      <th>price</th>\n",
       "    </tr>\n",
       "  </thead>\n",
       "  <tbody>\n",
       "    <tr>\n",
       "      <th>count</th>\n",
       "      <td>300.000000</td>\n",
       "      <td>300.00000</td>\n",
       "    </tr>\n",
       "    <tr>\n",
       "      <th>mean</th>\n",
       "      <td>8.664000</td>\n",
       "      <td>1.28000</td>\n",
       "    </tr>\n",
       "    <tr>\n",
       "      <th>std</th>\n",
       "      <td>0.368088</td>\n",
       "      <td>0.89308</td>\n",
       "    </tr>\n",
       "    <tr>\n",
       "      <th>min</th>\n",
       "      <td>7.800000</td>\n",
       "      <td>-1.00000</td>\n",
       "    </tr>\n",
       "    <tr>\n",
       "      <th>25%</th>\n",
       "      <td>8.400000</td>\n",
       "      <td>1.00000</td>\n",
       "    </tr>\n",
       "    <tr>\n",
       "      <th>50%</th>\n",
       "      <td>8.700000</td>\n",
       "      <td>1.00000</td>\n",
       "    </tr>\n",
       "    <tr>\n",
       "      <th>75%</th>\n",
       "      <td>8.900000</td>\n",
       "      <td>2.00000</td>\n",
       "    </tr>\n",
       "    <tr>\n",
       "      <th>max</th>\n",
       "      <td>9.600000</td>\n",
       "      <td>4.00000</td>\n",
       "    </tr>\n",
       "  </tbody>\n",
       "</table>\n",
       "</div>"
      ],
      "text/plain": [
       "           Rating      price\n",
       "count  300.000000  300.00000\n",
       "mean     8.664000    1.28000\n",
       "std      0.368088    0.89308\n",
       "min      7.800000   -1.00000\n",
       "25%      8.400000    1.00000\n",
       "50%      8.700000    1.00000\n",
       "75%      8.900000    2.00000\n",
       "max      9.600000    4.00000"
      ]
     },
     "execution_count": 29,
     "metadata": {},
     "output_type": "execute_result"
    }
   ],
   "source": [
    "df.describe()"
   ]
  },
  {
   "cell_type": "code",
   "execution_count": 30,
   "id": "d073c0d4",
   "metadata": {},
   "outputs": [
    {
     "data": {
      "text/html": [
       "<div>\n",
       "<style scoped>\n",
       "    .dataframe tbody tr th:only-of-type {\n",
       "        vertical-align: middle;\n",
       "    }\n",
       "\n",
       "    .dataframe tbody tr th {\n",
       "        vertical-align: top;\n",
       "    }\n",
       "\n",
       "    .dataframe thead th {\n",
       "        text-align: right;\n",
       "    }\n",
       "</style>\n",
       "<table border=\"1\" class=\"dataframe\">\n",
       "  <thead>\n",
       "    <tr style=\"text-align: right;\">\n",
       "      <th></th>\n",
       "      <th>Name</th>\n",
       "      <th>Neighbourhood</th>\n",
       "    </tr>\n",
       "  </thead>\n",
       "  <tbody>\n",
       "    <tr>\n",
       "      <th>count</th>\n",
       "      <td>300</td>\n",
       "      <td>300</td>\n",
       "    </tr>\n",
       "    <tr>\n",
       "      <th>unique</th>\n",
       "      <td>231</td>\n",
       "      <td>10</td>\n",
       "    </tr>\n",
       "    <tr>\n",
       "      <th>top</th>\n",
       "      <td>Dunkin' Donuts</td>\n",
       "      <td>Al-Muhammadiyah</td>\n",
       "    </tr>\n",
       "    <tr>\n",
       "      <th>freq</th>\n",
       "      <td>15</td>\n",
       "      <td>30</td>\n",
       "    </tr>\n",
       "  </tbody>\n",
       "</table>\n",
       "</div>"
      ],
      "text/plain": [
       "                  Name    Neighbourhood\n",
       "count              300              300\n",
       "unique             231               10\n",
       "top     Dunkin' Donuts  Al-Muhammadiyah\n",
       "freq                15               30"
      ]
     },
     "execution_count": 30,
     "metadata": {},
     "output_type": "execute_result"
    }
   ],
   "source": [
    "df.describe(include = object)"
   ]
  },
  {
   "cell_type": "code",
   "execution_count": 31,
   "id": "f739681a",
   "metadata": {},
   "outputs": [
    {
     "data": {
      "text/plain": [
       "array(['Dunkin’', 'SORS', 'Just Chill', 'Entrecôte Café de Paris',\n",
       "       \"McDonald's\", 'Lavash', 'شاهي وچباتي ابو فهد', 'Urth Caffé', 'Key',\n",
       "       'LOFT - Concept Store', 'Section-B', \"Dunkin' Donuts\",\n",
       "       'McDonald - The Boulevard Riyadh', 'Lèlè Lounge', 'Falafel Dam',\n",
       "       'Leliano bakery', 'BLANCA', 'The Coffeeholics Boulevard',\n",
       "       'Tropika Cafe', 'Folds', 'OREGANO PIZZERIA', 'Smokey Beards Q',\n",
       "       'Kabana', 'فلقة وحدة', 'Japan Village', 'Beirut Khanum', 'Seray',\n",
       "       'L’Eclair De Génie', 'Dyar Bakery', 'Plenty Sld’s', 'Lunch Room',\n",
       "       'Ôplaisir', 'Birdlot', 'نفر كبده', 'Em Sherif Café', 'One O One',\n",
       "       'Ovvi Lounge & Restaurant', 'PAUL', 'Adore X Perfectdose',\n",
       "       'Masami Sushi', 'Legend Burger', 'Lahamim', 'Pastel', 'Frmt 36Shk',\n",
       "       \"Domino's Pizza\", 'شاورما حواري', 'DARK TRUCK', 'LA GITA',\n",
       "       'AHOY BURGER', 'ALmutaka المتكا', 'PATTIS', 'Le Chateau',\n",
       "       'Poke Six', \"Fat Sal's\", 'Chef’s', 'Lily Restaurant', 'Hamburgini',\n",
       "       'RUHI Indian Restaurant', 'Pan Bakery', 'TACOSON',\n",
       "       'Ghemar Cafe | غمار كافيه', 'Sign Burger',\n",
       "       'ALHatab Bakery | أفران الحطب', 'فوال الافراح', 'Meatz',\n",
       "       'Al Hatab Bakery', 'Oaza', 'ULB', 'genneh', 'Jabourih Alaryaf',\n",
       "       \"Dunkin'\", 'مطاعم أنوار اللؤلؤة', 'JEERH', 'OG Restaurant',\n",
       "       'Khalia Aziz', 'La Mollica', 'مطعم جنينة', 'MP Sandwich',\n",
       "       'Capri Cafe', '3T.', 'فرن وصاج', 'بوفية الموائد فرع الصحافة',\n",
       "       'Shrimplus', 'Health Oasis', 'LAMY FOOD', 'فطور الحارة',\n",
       "       'Sastoria', 'دوار السعادة', 'Moroccan Taste', 'Piatto',\n",
       "       'J.co Donuts', 'ورق التوت', 'Dunkin’ Donuts', 'Falafel Pie',\n",
       "       'Kactus كاكتس', 'Grilled Burger 777', 'Chabo', 'The Guys',\n",
       "       'Azhar Almursalat', 'la casa pasta', 'shiro',\n",
       "       'بوفيه سلسلة الموائد', 'Flafel Abu Adnan', 'محصول البن',\n",
       "       'Tasali Sahooh', 'Steak House', 'Saldwich', 'بليلة السعودية',\n",
       "       'مطعم وادي الزمرد البخاري', 'Dar Rumman دار رمان', 'Annabella',\n",
       "       'بوفيه الكبدة', 'Alromansiah Restaurants', 'شعبيات الرياض',\n",
       "       'Farroug Al Shifa Resturant', 'LPM', 'LA RUSTICA Pizzeria',\n",
       "       'TRIESTE', 'PORTERHOUSE', 'Burger Boutique', 'Key Cafe Kingdom',\n",
       "       'Lusin', 'Le Bagel', 'Roma Restaurant', 'Café Bateel',\n",
       "       'Tutti Cafè', 'Paskalia', 'Luloua Restaurant', 'Elements',\n",
       "       'Falafel DAM', 'Paros', 'Mamo Michelangelo', 'Beit Omar',\n",
       "       'Hamam abdoh', 'Pizza Roma', 'مطعم بخاري', 'dr.CAFE COFFEE',\n",
       "       'Diamond', 'Cokolado Cafe', 'ALBAIK', 'Cacti Cafè', 'Boga',\n",
       "       'Nakha Tahameiah', 'Legit Cafe لجت كافيه', 'LAOF Sandwich',\n",
       "       'Arabat Alfool', 'Veloce', 'مطعم سمرقندي', \"Dunkin' Dounts\",\n",
       "       'Draft Cafe', 'Zaatar w Zeit', 'Flourish Bakery', 'Kabsat',\n",
       "       'Bab Bu Khokha', 'Babybuns', 'ON CAFE', 'Lavenda Cafe',\n",
       "       'Bancam بَنكام', 'Fire Grill', 'Lanoche', \"Sicilia's Pizza Cuts\",\n",
       "       'شاهي وجباتي عويس', 'THIRD', 'شاهي ابو وليد', 'Mamola',\n",
       "       'Raising Cane’s', 'Doka Bakery', 'OYW Roastery', 'Dunkin',\n",
       "       'Terrazzo | Specialty Coffee', 'Khader', 'Tikkaway',\n",
       "       'فوال خيرات الطايف', 'NOVELS BAKERY', 'Shawarma Murcia',\n",
       "       'McDonald’s', 'Kik Burger', 'شاهي وچباتي عويس', 'Burgerizzer',\n",
       "       'Dunkin Donuts', 'Pizza Hut', 'BISTECCA', 'Dutch StroopWafels',\n",
       "       'بليلة ولد الديرة', 'كعك وجبن', 'FISHFACE', 'Toastable Restaurant',\n",
       "       'ELBA BAKERY', 'مزاج مغربي', 'Seventies Coffee', 'Gemini Cafe',\n",
       "       'Mirzam', 'Century Burger', '| Maqloba', 'Mareez Express',\n",
       "       'OPAQ Eatery', 'Eggsactly', 'Tikka Way', 'HABRA',\n",
       "       'Cereal Protocol', 'Le Grenier à Pain', 'مطعم العندليب الاسمر',\n",
       "       'Bagel-o-Bagel', 'Just Right', 'Ronaldo’s Pizzeria', 'جافا كافيه',\n",
       "       'Lean Meals', 'Abu Najm', 'Kraz Speciality coffee', 'Oiso',\n",
       "       'SubWay', 'باب مشوي', 'Yubah Bread', 'تسالي صحوح',\n",
       "       'Operation Falafel', 'لقيمات بقشتي', \"Ronaldo's Pizzeria\",\n",
       "       'La Casa De Karma', 'Al Ennabi Grill', 'Burgerizzr', 'Epoch',\n",
       "       \"L'art Bakery\", 'Burger & Potato', 'كوخ الكشري', 'Flafel pie',\n",
       "       'Haseel For BBQ', 'Mouthful', 'Shawarma Classic',\n",
       "       'مخبز تميس شركة وارب', 'Crepe Car', 'Qurrah'], dtype=object)"
      ]
     },
     "execution_count": 31,
     "metadata": {},
     "output_type": "execute_result"
    }
   ],
   "source": [
    "df['Name'].unique()"
   ]
  },
  {
   "cell_type": "code",
   "execution_count": 32,
   "id": "e045e1f2",
   "metadata": {},
   "outputs": [
    {
     "data": {
      "text/plain": [
       "231"
      ]
     },
     "execution_count": 32,
     "metadata": {},
     "output_type": "execute_result"
    }
   ],
   "source": [
    "len(df['Name'].unique())"
   ]
  },
  {
   "cell_type": "code",
   "execution_count": 33,
   "id": "2b255764",
   "metadata": {
    "scrolled": false
   },
   "outputs": [],
   "source": [
    "df['Name'] = df['Name'].apply(lambda x : 'Dunkin Donuts' if (x.startswith('Dunk') or x.startswith('dunk')) else x )\n",
    "df['Name'] = df['Name'].apply(lambda x : 'McDonald’s' if (x.startswith('McD') or x.startswith('mc')) else x )"
   ]
  },
  {
   "cell_type": "code",
   "execution_count": 34,
   "id": "9c97dddd",
   "metadata": {
    "scrolled": true
   },
   "outputs": [
    {
     "data": {
      "text/plain": [
       "223"
      ]
     },
     "execution_count": 34,
     "metadata": {},
     "output_type": "execute_result"
    }
   ],
   "source": [
    "len(df['Name'].unique())"
   ]
  },
  {
   "cell_type": "code",
   "execution_count": 35,
   "id": "a684a3d9",
   "metadata": {},
   "outputs": [],
   "source": [
    "df['price'] = df['price'].apply(lambda x : np.nan if x == -1 else x)"
   ]
  },
  {
   "cell_type": "code",
   "execution_count": 36,
   "id": "3a669548",
   "metadata": {},
   "outputs": [],
   "source": [
    "df.reset_index(inplace=True)"
   ]
  },
  {
   "cell_type": "code",
   "execution_count": 37,
   "id": "ae1be428",
   "metadata": {},
   "outputs": [],
   "source": [
    "df.drop('index' , inplace=True , axis=1)"
   ]
  },
  {
   "cell_type": "code",
   "execution_count": 38,
   "id": "793e153e",
   "metadata": {},
   "outputs": [
    {
     "data": {
      "text/plain": [
       "Name              0\n",
       "Rating            0\n",
       "price            17\n",
       "Neighbourhood     0\n",
       "dtype: int64"
      ]
     },
     "execution_count": 38,
     "metadata": {},
     "output_type": "execute_result"
    }
   ],
   "source": [
    "df.isna().sum()"
   ]
  },
  {
   "cell_type": "code",
   "execution_count": 39,
   "id": "80b1a9d8",
   "metadata": {},
   "outputs": [],
   "source": [
    "bar = df.groupby('Neighbourhood' ,as_index=False).mean()"
   ]
  },
  {
   "cell_type": "code",
   "execution_count": 40,
   "id": "ac3953be",
   "metadata": {},
   "outputs": [
    {
     "data": {
      "image/png": "[encoded data removed]",
      "text/plain": [
       "<Figure size 1080x720 with 1 Axes>"
      ]
     },
     "metadata": {
      "needs_background": "light"
     },
     "output_type": "display_data"
    }
   ],
   "source": [
    "plt.figure(figsize=(15 , 10))\n",
    "sns.barplot(data = bar , x = 'price' , y = 'Neighbourhood', palette=\"rocket\" )\n",
    "plt.title('Neighbourhood and Average Prices Rate' , size = 20)\n",
    "plt.ylabel('Neighbourhood' , size = 15)\n",
    "plt.xlabel('Price ( /4)' , size = 15)\n",
    "plt.show()"
   ]
  },
  {
   "cell_type": "markdown",
   "id": "b6b14d04",
   "metadata": {},
   "source": [
    "## AL Malqa and Al Olaya prices is high comparing to other Neighbourhoods"
   ]
  },
  {
   "cell_type": "code",
   "execution_count": 41,
   "id": "744881b1",
   "metadata": {
    "scrolled": false
   },
   "outputs": [
    {
     "data": {
      "text/plain": [
       "Text(0, 0.5, 'Count')"
      ]
     },
     "execution_count": 41,
     "metadata": {},
     "output_type": "execute_result"
    },
    {
     "data": {
      "image/png": "[encoded data removed]",
      "text/plain": [
       "<Figure size 1080x720 with 1 Axes>"
      ]
     },
     "metadata": {
      "needs_background": "light"
     },
     "output_type": "display_data"
    }
   ],
   "source": [
    "plt.figure(figsize=(15 , 10))\n",
    "sns.histplot(data = df , x = 'Rating' , bins =18)\n",
    "plt.title('Rating Count' , size = 20)\n",
    "plt.xlabel('Rating' , size = 15)\n",
    "plt.ylabel('Count' , size = 15)"
   ]
  },
  {
   "cell_type": "markdown",
   "id": "d9217592",
   "metadata": {},
   "source": [
    "## Most of Restaurants rating is between 8.5 - 9\n",
    "## Rating has a normal distribution "
   ]
  },
  {
   "cell_type": "code",
   "execution_count": 42,
   "id": "ad9733d2",
   "metadata": {},
   "outputs": [
    {
     "data": {
      "text/html": [
       "<div>\n",
       "<style scoped>\n",
       "    .dataframe tbody tr th:only-of-type {\n",
       "        vertical-align: middle;\n",
       "    }\n",
       "\n",
       "    .dataframe tbody tr th {\n",
       "        vertical-align: top;\n",
       "    }\n",
       "\n",
       "    .dataframe thead th {\n",
       "        text-align: right;\n",
       "    }\n",
       "</style>\n",
       "<table border=\"1\" class=\"dataframe\">\n",
       "  <thead>\n",
       "    <tr style=\"text-align: right;\">\n",
       "      <th></th>\n",
       "      <th>Name</th>\n",
       "      <th>Rating</th>\n",
       "      <th>price</th>\n",
       "      <th>Neighbourhood</th>\n",
       "    </tr>\n",
       "  </thead>\n",
       "  <tbody>\n",
       "    <tr>\n",
       "      <th>299</th>\n",
       "      <td>Qurrah</td>\n",
       "      <td>7.8</td>\n",
       "      <td>1.0</td>\n",
       "      <td>Al-Nuzha</td>\n",
       "    </tr>\n",
       "    <tr>\n",
       "      <th>298</th>\n",
       "      <td>Crepe Car</td>\n",
       "      <td>7.8</td>\n",
       "      <td>1.0</td>\n",
       "      <td>Al-Nuzha</td>\n",
       "    </tr>\n",
       "    <tr>\n",
       "      <th>297</th>\n",
       "      <td>مخبز تميس شركة وارب</td>\n",
       "      <td>7.8</td>\n",
       "      <td>1.0</td>\n",
       "      <td>Al-Nuzha</td>\n",
       "    </tr>\n",
       "    <tr>\n",
       "      <th>296</th>\n",
       "      <td>Shawarma Classic</td>\n",
       "      <td>7.9</td>\n",
       "      <td>2.0</td>\n",
       "      <td>Al-Nuzha</td>\n",
       "    </tr>\n",
       "    <tr>\n",
       "      <th>295</th>\n",
       "      <td>Mouthful</td>\n",
       "      <td>7.9</td>\n",
       "      <td>1.0</td>\n",
       "      <td>Al-Nuzha</td>\n",
       "    </tr>\n",
       "    <tr>\n",
       "      <th>294</th>\n",
       "      <td>Beit Omar</td>\n",
       "      <td>7.9</td>\n",
       "      <td>2.0</td>\n",
       "      <td>Al-Nuzha</td>\n",
       "    </tr>\n",
       "    <tr>\n",
       "      <th>293</th>\n",
       "      <td>Haseel For BBQ</td>\n",
       "      <td>7.9</td>\n",
       "      <td>2.0</td>\n",
       "      <td>Al-Nuzha</td>\n",
       "    </tr>\n",
       "    <tr>\n",
       "      <th>238</th>\n",
       "      <td>بليلة ولد الديرة</td>\n",
       "      <td>7.9</td>\n",
       "      <td>1.0</td>\n",
       "      <td>An-Narjis</td>\n",
       "    </tr>\n",
       "    <tr>\n",
       "      <th>239</th>\n",
       "      <td>كعك وجبن</td>\n",
       "      <td>7.9</td>\n",
       "      <td>1.0</td>\n",
       "      <td>An-Narjis</td>\n",
       "    </tr>\n",
       "    <tr>\n",
       "      <th>236</th>\n",
       "      <td>BISTECCA</td>\n",
       "      <td>8.0</td>\n",
       "      <td>4.0</td>\n",
       "      <td>An-Narjis</td>\n",
       "    </tr>\n",
       "  </tbody>\n",
       "</table>\n",
       "</div>"
      ],
      "text/plain": [
       "                    Name  Rating  price Neighbourhood\n",
       "299               Qurrah     7.8    1.0      Al-Nuzha\n",
       "298            Crepe Car     7.8    1.0      Al-Nuzha\n",
       "297  مخبز تميس شركة وارب     7.8    1.0      Al-Nuzha\n",
       "296     Shawarma Classic     7.9    2.0      Al-Nuzha\n",
       "295             Mouthful     7.9    1.0      Al-Nuzha\n",
       "294            Beit Omar     7.9    2.0      Al-Nuzha\n",
       "293       Haseel For BBQ     7.9    2.0      Al-Nuzha\n",
       "238     بليلة ولد الديرة     7.9    1.0     An-Narjis\n",
       "239             كعك وجبن     7.9    1.0     An-Narjis\n",
       "236             BISTECCA     8.0    4.0     An-Narjis"
      ]
     },
     "execution_count": 42,
     "metadata": {},
     "output_type": "execute_result"
    }
   ],
   "source": [
    "tmp = df.sort_values('Rating').head(10)\n",
    "tmp"
   ]
  },
  {
   "cell_type": "code",
   "execution_count": 43,
   "id": "96441c91",
   "metadata": {},
   "outputs": [
    {
     "data": {
      "image/png": "[encoded data removed]",
      "text/plain": [
       "<Figure size 504x504 with 1 Axes>"
      ]
     },
     "metadata": {},
     "output_type": "display_data"
    }
   ],
   "source": [
    "plt.figure(figsize=(7 , 7))\n",
    "sns.set_palette(\"Spectral\")\n",
    "plt.pie(tmp['Neighbourhood'].value_counts() ,labels=tmp['Neighbourhood'].value_counts().keys() , autopct='%.0f%%' ,  )\n",
    "plt.title('The Location of Top 10 Lowest Rating Restaurants' , size = 20)\n",
    "plt.show()"
   ]
  },
  {
   "cell_type": "markdown",
   "id": "e8925ea3",
   "metadata": {},
   "source": [
    "## اذا كنت جوعان لا تروح النزهة "
   ]
  },
  {
   "cell_type": "code",
   "execution_count": 44,
   "id": "c5e8c97f",
   "metadata": {},
   "outputs": [],
   "source": [
    "tmp = df.groupby('Name' , as_index=False).count().sort_values(by='price' , ascending=False).head(5)\n"
   ]
  },
  {
   "cell_type": "code",
   "execution_count": 45,
   "id": "dfb5d926",
   "metadata": {},
   "outputs": [
    {
     "data": {
      "text/html": [
       "<div>\n",
       "<style scoped>\n",
       "    .dataframe tbody tr th:only-of-type {\n",
       "        vertical-align: middle;\n",
       "    }\n",
       "\n",
       "    .dataframe tbody tr th {\n",
       "        vertical-align: top;\n",
       "    }\n",
       "\n",
       "    .dataframe thead th {\n",
       "        text-align: right;\n",
       "    }\n",
       "</style>\n",
       "<table border=\"1\" class=\"dataframe\">\n",
       "  <thead>\n",
       "    <tr style=\"text-align: right;\">\n",
       "      <th></th>\n",
       "      <th>Name</th>\n",
       "      <th>Rating</th>\n",
       "      <th>price</th>\n",
       "      <th>Neighbourhood</th>\n",
       "    </tr>\n",
       "  </thead>\n",
       "  <tbody>\n",
       "    <tr>\n",
       "      <th>42</th>\n",
       "      <td>Dunkin Donuts</td>\n",
       "      <td>27</td>\n",
       "      <td>27</td>\n",
       "      <td>27</td>\n",
       "    </tr>\n",
       "    <tr>\n",
       "      <th>117</th>\n",
       "      <td>McDonald’s</td>\n",
       "      <td>10</td>\n",
       "      <td>10</td>\n",
       "      <td>10</td>\n",
       "    </tr>\n",
       "    <tr>\n",
       "      <th>40</th>\n",
       "      <td>Domino's Pizza</td>\n",
       "      <td>4</td>\n",
       "      <td>4</td>\n",
       "      <td>4</td>\n",
       "    </tr>\n",
       "    <tr>\n",
       "      <th>177</th>\n",
       "      <td>Tutti Cafè</td>\n",
       "      <td>4</td>\n",
       "      <td>4</td>\n",
       "      <td>4</td>\n",
       "    </tr>\n",
       "    <tr>\n",
       "      <th>8</th>\n",
       "      <td>Al Hatab Bakery</td>\n",
       "      <td>3</td>\n",
       "      <td>3</td>\n",
       "      <td>3</td>\n",
       "    </tr>\n",
       "  </tbody>\n",
       "</table>\n",
       "</div>"
      ],
      "text/plain": [
       "                Name  Rating  price  Neighbourhood\n",
       "42     Dunkin Donuts      27     27             27\n",
       "117       McDonald’s      10     10             10\n",
       "40    Domino's Pizza       4      4              4\n",
       "177       Tutti Cafè       4      4              4\n",
       "8    Al Hatab Bakery       3      3              3"
      ]
     },
     "execution_count": 45,
     "metadata": {},
     "output_type": "execute_result"
    }
   ],
   "source": [
    "tmp"
   ]
  },
  {
   "cell_type": "code",
   "execution_count": 46,
   "id": "26056121",
   "metadata": {},
   "outputs": [
    {
     "data": {
      "image/png": "[encoded data removed]",
      "text/plain": [
       "<Figure size 720x720 with 1 Axes>"
      ]
     },
     "metadata": {
      "needs_background": "light"
     },
     "output_type": "display_data"
    }
   ],
   "source": [
    "plt.figure(figsize=(10 , 10))\n",
    "sns.barplot(data = tmp , x = 'Name' , y= 'Rating' ,palette=\"rocket\")\n",
    "plt.xlabel('Name' , size = 15)\n",
    "plt.ylabel('Count' , size = 15)\n",
    "plt.title('Count of Branches' , size = 20)\n",
    "plt.show()"
   ]
  },
  {
   "cell_type": "markdown",
   "id": "63caa854",
   "metadata": {},
   "source": [
    "## دانكن اكثر مقهى او مطعم عنده فروع "
   ]
  },
  {
   "cell_type": "code",
   "execution_count": null,
   "id": "3e112ddc",
   "metadata": {},
   "outputs": [],
   "source": []
  },
  {
   "cell_type": "code",
   "execution_count": null,
   "id": "bf69af91",
   "metadata": {},
   "outputs": [],
   "source": []
  }
 ],
 "metadata": {
  "kernelspec": {
   "display_name": "Python 3",
   "language": "python",
   "name": "python3"
  },
  "language_info": {
   "codemirror_mode": {
    "name": "ipython",
    "version": 3
   },
   "file_extension": ".py",
   "mimetype": "text/x-python",
   "name": "python",
   "nbconvert_exporter": "python",
   "pygments_lexer": "ipython3",
   "version": "3.8.8"
  }
 },
 "nbformat": 4,
 "nbformat_minor": 5
}
